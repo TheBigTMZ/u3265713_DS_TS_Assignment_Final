{
 "cells": [
  {
   "cell_type": "markdown",
   "id": "fa269d88-216f-4bfb-8f1e-ce3d92873035",
   "metadata": {},
   "source": [
    "# Linear Model for csv_v1"
   ]
  },
  {
   "cell_type": "markdown",
   "id": "c278f63c-2cb4-4c17-867f-83d961e0144c",
   "metadata": {},
   "source": [
    "## This markdown file deals with the creation of Logistic Regression combined_csv_v1"
   ]
  },
  {
   "cell_type": "code",
   "execution_count": 1,
   "id": "56d67b49-2f7d-4822-a929-241c29f6e125",
   "metadata": {
    "tags": []
   },
   "outputs": [
    {
     "name": "stdout",
     "output_type": "stream",
     "text": [
      "sagemaker.config INFO - Not applying SDK defaults from location: /etc/xdg/sagemaker/config.yaml\n",
      "sagemaker.config INFO - Not applying SDK defaults from location: /home/ec2-user/.config/sagemaker/config.yaml\n"
     ]
    }
   ],
   "source": [
    "# importing the required libraries libraries\n",
    "import warnings, requests, zipfile, io\n",
    "\n",
    "warnings.simplefilter(\"ignore\")\n",
    "import pandas as pd\n",
    "from scipy.io import arff\n",
    "\n",
    "import os\n",
    "import boto3\n",
    "import sagemaker\n",
    "from sagemaker.image_uris import retrieve\n",
    "from sklearn.model_selection import train_test_split"
   ]
  },
  {
   "cell_type": "markdown",
   "id": "354386df-5680-41a6-8440-a052fe7d55f1",
   "metadata": {},
   "source": [
    "# Function: initialize_s3_container\n",
    "\n",
    "This function initializes an S3 bucket in a specified AWS region, creating a new storage container if it does not already exist. The function includes logic to handle both default and custom AWS regions."
   ]
  },
  {
   "cell_type": "code",
   "execution_count": 2,
   "id": "f668fc0d-9aa9-4a0d-9dfd-88a8abd646e0",
   "metadata": {
    "tags": []
   },
   "outputs": [],
   "source": [
    "import logging\n",
    "# import boto3\n",
    "from botocore.exceptions import ClientError\n",
    "def initialize_s3_container(storage_name, locality=None):\n",
    "    \"\"\"\n",
    "    Initialize an S3 storage bucket in a specified AWS region.\n",
    "    If no region is specified, the bucket will default to 'us-east-1'.\n",
    "    \n",
    "    :param storage_name: Name of the bucket to create\n",
    "    :param locality: AWS region for bucket creation, e.g., 'us-west-2'\n",
    "    :return: True if bucket creation succeeds, otherwise False\n",
    "    \"\"\"\n",
    "    try:\n",
    "        if locality is None:\n",
    "            s3_service = boto3.client(\"s3\")\n",
    "            s3_service.create_bucket(Bucket=storage_name)\n",
    "        else:\n",
    "            s3_service = boto3.client(\"s3\", region_name=locality)\n",
    "            config_location = {\"LocationConstraint\": locality}\n",
    "            s3_service.create_bucket(\n",
    "                Bucket=storage_name, CreateBucketConfiguration=config_location\n",
    "            )\n",
    "    except ClientError as error_log:\n",
    "        logging.error(error_log)\n",
    "        return False\n",
    "    print(f\"S3 Bucket: {storage_name} has been successfully created.\")\n",
    "    return True\n"
   ]
  },
  {
   "cell_type": "code",
   "execution_count": 3,
   "id": "bfe95a01-edab-48d9-81a6-1a172744e052",
   "metadata": {
    "tags": []
   },
   "outputs": [],
   "source": [
    "# Function to verify if the bucket exists\n",
    "def verify_bucket_presence(storage_identifier):\n",
    "    s3_resource = boto3.client(\"s3\")\n",
    "    try:\n",
    "        s3_resource.head_bucket(Bucket=storage_identifier)\n",
    "        print(f\"Bucket '{storage_identifier}' is already available.\")\n",
    "        return True\n",
    "    except ClientError as error_detected:\n",
    "        # If a 404 error is encountered, the bucket does not exist\n",
    "        if error_detected.response[\"Error\"][\"Code\"] == \"404\":\n",
    "            print(f\"Bucket '{storage_identifier}' is not found.\")\n",
    "            return False\n",
    "        else:\n",
    "            # Raise any other error encountered\n",
    "            raise"
   ]
  },
  {
   "cell_type": "markdown",
   "id": "b6eb7c1b-ca7b-44f7-b376-7a8a05bafe54",
   "metadata": {},
   "source": [
    "# S3 Bucket Setup and Validation\n",
    "\n",
    "In this section, we set up the S3 bucket and check if it already exists. If the bucket does not exist, we create it to ensure that all necessary storage resources are available for our project."
   ]
  },
  {
   "cell_type": "code",
   "execution_count": 5,
   "id": "bc79457f-beef-4555-b45c-4dc18adf9f7d",
   "metadata": {
    "tags": []
   },
   "outputs": [
    {
     "name": "stdout",
     "output_type": "stream",
     "text": [
      "Bucket 'u3265713-uni-can-dsts-assn1-ensembel-1' is not found.\n",
      "S3 Bucket: u3265713-uni-can-dsts-assn1-ensembel-1 has been successfully created.\n"
     ]
    }
   ],
   "source": [
    "# Set the S3 bucket name with valid characters\n",
    "s3_container_name = \"u3265713-uni-can-dsts-assn1-ensembel-1\"\n",
    "# Fetch the S3 resource\n",
    "s3_instance = boto3.Session().resource(\"s3\")\n",
    "# Check if the bucket exists\n",
    "container_exists = verify_bucket_presence(s3_container_name)\n",
    "# Create the bucket if it doesn't exist\n",
    "if not container_exists:\n",
    "    initialize_s3_container(s3_container_name)\n"
   ]
  },
  {
   "cell_type": "markdown",
   "id": "3bd60f35-575a-41ab-b7d9-85d90ba8d3d2",
   "metadata": {},
   "source": [
    "# Setting S3 Path Prefix and Uploading CSV Data to S3\n",
    "\n",
    "In this section, we define a prefix for the S3 path and create a function to upload a DataFrame as a CSV file to an S3 bucket. This setup is essential for organizing and storing data in a structured manner within AWS S3."
   ]
  },
  {
   "cell_type": "code",
   "execution_count": 9,
   "id": "8dde65fc-0e9d-4755-82b8-12c9ecedd9f3",
   "metadata": {
    "tags": []
   },
   "outputs": [],
   "source": [
    "# Setting the prefix for the S3 path\n",
    "s3_prefix = \"oncloud\"\n",
    "\n",
    "# Function to upload CSV data to AWS S3\n",
    "def upload_csv_to_s3(file_name, subfolder, data_frame):\n",
    "    csv_memory_buffer = io.StringIO()\n",
    "    data_frame.to_csv(csv_memory_buffer, header=False, index=False)\n",
    "    print(s3_instance.Bucket(s3_container_name))\n",
    "    s3_instance.Bucket(s3_container_name).Object(os.path.join(s3_prefix, subfolder, file_name)).put(\n",
    "        Body=csv_memory_buffer.getvalue()\n",
    "    )\n"
   ]
  },
  {
   "cell_type": "markdown",
   "id": "1bfa9f64-42d6-4c9b-9e4e-e04b134707e2",
   "metadata": {},
   "source": [
    "# Loading the Dataset"
   ]
  },
  {
   "cell_type": "code",
   "execution_count": 10,
   "id": "c8845520-1fc6-4ab7-804a-c5f274ff2203",
   "metadata": {
    "tags": []
   },
   "outputs": [
    {
     "name": "stdout",
     "output_type": "stream",
     "text": [
      "   target  Distance  Quarter_2  Quarter_3  Quarter_4  Month_2  Month_3  \\\n",
      "0     0.0     689.0      False      False      False    False    False   \n",
      "1     0.0     731.0      False      False      False    False    False   \n",
      "2     0.0    1199.0      False      False      False    False    False   \n",
      "3     0.0    1587.0      False      False      False    False    False   \n",
      "4     0.0    1587.0      False      False      False    False    False   \n",
      "\n",
      "   Month_4  Month_5  Month_6  ...  Dest_DEN  Dest_DFW  Dest_IAH  Dest_LAX  \\\n",
      "0    False    False    False  ...     False     False      True     False   \n",
      "1    False    False    False  ...     False     False     False     False   \n",
      "2    False    False    False  ...      True     False     False     False   \n",
      "3    False    False    False  ...     False     False     False     False   \n",
      "4    False    False    False  ...     False     False     False     False   \n",
      "\n",
      "   Dest_ORD  Dest_PHX  Dest_SFO  DepHourofDay_7-12  DepHourofDay_13-18  \\\n",
      "0     False     False     False              False               False   \n",
      "1     False     False     False               True               False   \n",
      "2     False     False     False              False               False   \n",
      "3     False      True     False              False                True   \n",
      "4     False     False     False               True               False   \n",
      "\n",
      "   DepHourofDay_19-23  \n",
      "0                True  \n",
      "1               False  \n",
      "2                True  \n",
      "3               False  \n",
      "4               False  \n",
      "\n",
      "[5 rows x 75 columns]\n",
      "(1635590, 75)\n"
     ]
    }
   ],
   "source": [
    "# Load the data\n",
    "dataset_v1 = pd.read_csv(\"./combined_csv_v1.csv\")\n",
    "\n",
    "print(dataset_v1.head())\n",
    "print(dataset_v1.shape)\n"
   ]
  },
  {
   "cell_type": "markdown",
   "id": "f065aad9-d9d7-431f-9ad5-a50f5dbe37af",
   "metadata": {},
   "source": [
    "# Creating a Copy of the Dataset"
   ]
  },
  {
   "cell_type": "code",
   "execution_count": 11,
   "id": "10929313-4379-4525-a4f8-23cac3a93520",
   "metadata": {
    "tags": []
   },
   "outputs": [],
   "source": [
    "# Copying the data \n",
    "df = dataset_v1.copy()"
   ]
  },
  {
   "cell_type": "markdown",
   "id": "f97639f3-fe38-4010-afd8-43cb66c603e4",
   "metadata": {},
   "source": [
    "# Data Transformation: Converting Boolean Values"
   ]
  },
  {
   "cell_type": "code",
   "execution_count": 12,
   "id": "e5445a66-ce0d-44b3-9d63-ea7cb5071261",
   "metadata": {
    "tags": []
   },
   "outputs": [
    {
     "data": {
      "text/html": [
       "<div>\n",
       "<style scoped>\n",
       "    .dataframe tbody tr th:only-of-type {\n",
       "        vertical-align: middle;\n",
       "    }\n",
       "\n",
       "    .dataframe tbody tr th {\n",
       "        vertical-align: top;\n",
       "    }\n",
       "\n",
       "    .dataframe thead th {\n",
       "        text-align: right;\n",
       "    }\n",
       "</style>\n",
       "<table border=\"1\" class=\"dataframe\">\n",
       "  <thead>\n",
       "    <tr style=\"text-align: right;\">\n",
       "      <th></th>\n",
       "      <th>target</th>\n",
       "      <th>Distance</th>\n",
       "      <th>Quarter_2</th>\n",
       "      <th>Quarter_3</th>\n",
       "      <th>Quarter_4</th>\n",
       "      <th>Month_2</th>\n",
       "      <th>Month_3</th>\n",
       "      <th>Month_4</th>\n",
       "      <th>Month_5</th>\n",
       "      <th>Month_6</th>\n",
       "      <th>...</th>\n",
       "      <th>Dest_DEN</th>\n",
       "      <th>Dest_DFW</th>\n",
       "      <th>Dest_IAH</th>\n",
       "      <th>Dest_LAX</th>\n",
       "      <th>Dest_ORD</th>\n",
       "      <th>Dest_PHX</th>\n",
       "      <th>Dest_SFO</th>\n",
       "      <th>DepHourofDay_7-12</th>\n",
       "      <th>DepHourofDay_13-18</th>\n",
       "      <th>DepHourofDay_19-23</th>\n",
       "    </tr>\n",
       "  </thead>\n",
       "  <tbody>\n",
       "    <tr>\n",
       "      <th>0</th>\n",
       "      <td>0.0</td>\n",
       "      <td>689.0</td>\n",
       "      <td>0</td>\n",
       "      <td>0</td>\n",
       "      <td>0</td>\n",
       "      <td>0</td>\n",
       "      <td>0</td>\n",
       "      <td>0</td>\n",
       "      <td>0</td>\n",
       "      <td>0</td>\n",
       "      <td>...</td>\n",
       "      <td>0</td>\n",
       "      <td>0</td>\n",
       "      <td>1</td>\n",
       "      <td>0</td>\n",
       "      <td>0</td>\n",
       "      <td>0</td>\n",
       "      <td>0</td>\n",
       "      <td>0</td>\n",
       "      <td>0</td>\n",
       "      <td>1</td>\n",
       "    </tr>\n",
       "    <tr>\n",
       "      <th>1</th>\n",
       "      <td>0.0</td>\n",
       "      <td>731.0</td>\n",
       "      <td>0</td>\n",
       "      <td>0</td>\n",
       "      <td>0</td>\n",
       "      <td>0</td>\n",
       "      <td>0</td>\n",
       "      <td>0</td>\n",
       "      <td>0</td>\n",
       "      <td>0</td>\n",
       "      <td>...</td>\n",
       "      <td>0</td>\n",
       "      <td>0</td>\n",
       "      <td>0</td>\n",
       "      <td>0</td>\n",
       "      <td>0</td>\n",
       "      <td>0</td>\n",
       "      <td>0</td>\n",
       "      <td>1</td>\n",
       "      <td>0</td>\n",
       "      <td>0</td>\n",
       "    </tr>\n",
       "    <tr>\n",
       "      <th>2</th>\n",
       "      <td>0.0</td>\n",
       "      <td>1199.0</td>\n",
       "      <td>0</td>\n",
       "      <td>0</td>\n",
       "      <td>0</td>\n",
       "      <td>0</td>\n",
       "      <td>0</td>\n",
       "      <td>0</td>\n",
       "      <td>0</td>\n",
       "      <td>0</td>\n",
       "      <td>...</td>\n",
       "      <td>1</td>\n",
       "      <td>0</td>\n",
       "      <td>0</td>\n",
       "      <td>0</td>\n",
       "      <td>0</td>\n",
       "      <td>0</td>\n",
       "      <td>0</td>\n",
       "      <td>0</td>\n",
       "      <td>0</td>\n",
       "      <td>1</td>\n",
       "    </tr>\n",
       "    <tr>\n",
       "      <th>3</th>\n",
       "      <td>0.0</td>\n",
       "      <td>1587.0</td>\n",
       "      <td>0</td>\n",
       "      <td>0</td>\n",
       "      <td>0</td>\n",
       "      <td>0</td>\n",
       "      <td>0</td>\n",
       "      <td>0</td>\n",
       "      <td>0</td>\n",
       "      <td>0</td>\n",
       "      <td>...</td>\n",
       "      <td>0</td>\n",
       "      <td>0</td>\n",
       "      <td>0</td>\n",
       "      <td>0</td>\n",
       "      <td>0</td>\n",
       "      <td>1</td>\n",
       "      <td>0</td>\n",
       "      <td>0</td>\n",
       "      <td>1</td>\n",
       "      <td>0</td>\n",
       "    </tr>\n",
       "    <tr>\n",
       "      <th>4</th>\n",
       "      <td>0.0</td>\n",
       "      <td>1587.0</td>\n",
       "      <td>0</td>\n",
       "      <td>0</td>\n",
       "      <td>0</td>\n",
       "      <td>0</td>\n",
       "      <td>0</td>\n",
       "      <td>0</td>\n",
       "      <td>0</td>\n",
       "      <td>0</td>\n",
       "      <td>...</td>\n",
       "      <td>0</td>\n",
       "      <td>0</td>\n",
       "      <td>0</td>\n",
       "      <td>0</td>\n",
       "      <td>0</td>\n",
       "      <td>0</td>\n",
       "      <td>0</td>\n",
       "      <td>1</td>\n",
       "      <td>0</td>\n",
       "      <td>0</td>\n",
       "    </tr>\n",
       "  </tbody>\n",
       "</table>\n",
       "<p>5 rows × 75 columns</p>\n",
       "</div>"
      ],
      "text/plain": [
       "   target  Distance  Quarter_2  Quarter_3  Quarter_4  Month_2  Month_3  \\\n",
       "0     0.0     689.0          0          0          0        0        0   \n",
       "1     0.0     731.0          0          0          0        0        0   \n",
       "2     0.0    1199.0          0          0          0        0        0   \n",
       "3     0.0    1587.0          0          0          0        0        0   \n",
       "4     0.0    1587.0          0          0          0        0        0   \n",
       "\n",
       "   Month_4  Month_5  Month_6  ...  Dest_DEN  Dest_DFW  Dest_IAH  Dest_LAX  \\\n",
       "0        0        0        0  ...         0         0         1         0   \n",
       "1        0        0        0  ...         0         0         0         0   \n",
       "2        0        0        0  ...         1         0         0         0   \n",
       "3        0        0        0  ...         0         0         0         0   \n",
       "4        0        0        0  ...         0         0         0         0   \n",
       "\n",
       "   Dest_ORD  Dest_PHX  Dest_SFO  DepHourofDay_7-12  DepHourofDay_13-18  \\\n",
       "0         0         0         0                  0                   0   \n",
       "1         0         0         0                  1                   0   \n",
       "2         0         0         0                  0                   0   \n",
       "3         0         1         0                  0                   1   \n",
       "4         0         0         0                  1                   0   \n",
       "\n",
       "   DepHourofDay_19-23  \n",
       "0                   1  \n",
       "1                   0  \n",
       "2                   1  \n",
       "3                   0  \n",
       "4                   0  \n",
       "\n",
       "[5 rows x 75 columns]"
      ]
     },
     "execution_count": 12,
     "metadata": {},
     "output_type": "execute_result"
    }
   ],
   "source": [
    "# Replacing True/False with 1/0 directly in df\n",
    "df = df.replace({True: 1, False: 0})\n",
    "df.head(5)\n"
   ]
  },
  {
   "cell_type": "markdown",
   "id": "b1b94f4b-fc07-45f4-a81a-9301a534c114",
   "metadata": {},
   "source": [
    "# Splitting the dataset"
   ]
  },
  {
   "cell_type": "code",
   "execution_count": 13,
   "id": "9682ce75-ea66-4b5a-809b-9f02fc6e333b",
   "metadata": {
    "tags": []
   },
   "outputs": [],
   "source": [
    "# Split the data into training and a combined testing/validation set (70% train, 30% test/validate)\n",
    "training_data, testing_validation_data = train_test_split(\n",
    "    df, test_size=0.3, random_state=42, stratify=df[\"target\"]\n",
    ")\n",
    "\n",
    "# Further split the testing_validation_data set into separate testing and validation sets (15% each of the original data)\n",
    "testing_data, validation_data = train_test_split(\n",
    "    testing_validation_data,\n",
    "    test_size=0.5,\n",
    "    random_state=42,\n",
    "    stratify=testing_validation_data[\"target\"],\n",
    ")"
   ]
  },
  {
   "cell_type": "code",
   "execution_count": 14,
   "id": "136c55b8-8989-4987-9b59-959c27b47a2e",
   "metadata": {
    "tags": []
   },
   "outputs": [
    {
     "name": "stdout",
     "output_type": "stream",
     "text": [
      "(1144913, 75)\n",
      "(245338, 75)\n",
      "(245339, 75)\n"
     ]
    }
   ],
   "source": [
    "# Printing the shapes of each set \n",
    "print(training_data.shape)\n",
    "print(testing_data.shape)\n",
    "print(validation_data.shape)"
   ]
  },
  {
   "cell_type": "markdown",
   "id": "56650d10-e5a4-48d2-bced-27fbecd47d1f",
   "metadata": {},
   "source": [
    "# Defining File Names for Data Subsets"
   ]
  },
  {
   "cell_type": "code",
   "execution_count": 15,
   "id": "4235af55-d179-4a64-8c3f-ba4d603ca85a",
   "metadata": {
    "tags": []
   },
   "outputs": [],
   "source": [
    "# Set the names of the CSV files for each data subset\n",
    "# These file names will be used to save the training, testing, and validation datasets \n",
    "# as CSV files, allowing for easy upload to S3 and subsequent use in modeling.\n",
    "training_file_name = \"data_v1_train.csv\"      # Filename for the training dataset\n",
    "testing_file_name = \"data_v1_test.csv\"        # Filename for the testing dataset\n",
    "validation_file_name = \"data_v1_validate.csv\" # Filename for the validation dataset\n"
   ]
  },
  {
   "cell_type": "code",
   "execution_count": 16,
   "id": "ff2df4ea-3f84-46c9-9711-9eb42651afbc",
   "metadata": {
    "tags": []
   },
   "outputs": [
    {
     "name": "stdout",
     "output_type": "stream",
     "text": [
      "s3.Bucket(name='u3265713-uni-can-dsts-assn1-ensembel-1')\n",
      "s3.Bucket(name='u3265713-uni-can-dsts-assn1-ensembel-1')\n",
      "s3.Bucket(name='u3265713-uni-can-dsts-assn1-ensembel-1')\n"
     ]
    }
   ],
   "source": [
    "# Upload each dataset subset to the specified S3 locations using the `upload_csv_to_s3` function\n",
    "# This will ensure that the data is accessible for model training in SageMaker\n",
    "upload_csv_to_s3(training_file_name, \"train\", training_data)      # Upload training data to 'train' subfolder\n",
    "upload_csv_to_s3(testing_file_name, \"test\", testing_data)         # Upload testing data to 'test' subfolder\n",
    "upload_csv_to_s3(validation_file_name, \"validate\", validation_data) # Upload validation data to 'validate' subfolder\n"
   ]
  },
  {
   "cell_type": "markdown",
   "id": "725881f0-4b71-47a1-a225-a06b673d7e4f",
   "metadata": {},
   "source": [
    "# Setting Up SageMaker Training Environment\n",
    "\n",
    "This section sets up the SageMaker environment for training an XGBoost model. First, it defines input channels to specify the S3 locations for the training and validation datasets, ensuring the data is accessible during model training. Next, it initializes the SageMaker session, retrieves the XGBoost container image, and configures hyperparameters for training. Finally, the XGBoost estimator is set up, specifying model configurations and training parameters required to run the job on SageMaker."
   ]
  },
  {
   "cell_type": "code",
   "execution_count": 17,
   "id": "64da5175-8c04-4723-91ee-b32b2b992e05",
   "metadata": {
    "tags": []
   },
   "outputs": [],
   "source": [
    "# Import required libraries for setting up the XGBoost container and S3 session\n",
    "import boto3\n",
    "from sagemaker.image_uris import retrieve\n",
    "\n",
    "# Retrieve the XGBoost container image URI for the specified AWS region\n",
    "xgb_container_uri = retrieve(\"xgboost\", \"us-east-1\", version=\"1.0-1\")\n",
    "\n",
    "# Define hyperparameters for the XGBoost model\n",
    "# - num_round: Number of training rounds\n",
    "# - eval_metric: Evaluation metric to optimize\n",
    "# - objective: Learning task and corresponding objective\n",
    "model_hyperparameters = {\n",
    "    \"num_round\": \"42\",\n",
    "    \"eval_metric\": \"auc\",\n",
    "    \"objective\": \"binary:logistic\"\n",
    "}\n",
    "\n",
    "# Import the SageMaker library for model deployment\n",
    "import sagemaker\n",
    "\n",
    "# Set up the SageMaker session to ensure it's aligned with the S3 bucket region\n",
    "# Specifying 'us-east-1' as the region in the session\n",
    "sagemaker_session_instance = sagemaker.Session(boto3.session.Session(region_name=\"us-east-1\"))\n",
    "\n",
    "# Define the S3 output location where model artifacts will be stored after training\n",
    "# Formatting the S3 path using the predefined S3 bucket name and a custom prefix\n",
    "s3_model_output_path = \"s3://{}/{}/output/\".format(s3_container_name, s3_prefix)\n",
    "\n",
    "# Initialize the XGBoost estimator for SageMaker\n",
    "# - container: Specifies the XGBoost container URI\n",
    "# - role: SageMaker execution role for accessing AWS resources\n",
    "# - instance_count: Number of instances for model training\n",
    "# - instance_type: Type of instance to use (ml.c5.4xlarge)\n",
    "# - output_path: S3 path to store the model output\n",
    "# - hyperparameters: Training configuration for the model\n",
    "# - sagemaker_session: Session that ties to the same AWS region as the bucket\n",
    "xgboost_estimator = sagemaker.estimator.Estimator(\n",
    "    xgb_container_uri,\n",
    "    sagemaker.get_execution_role(),\n",
    "    instance_count=1,\n",
    "    instance_type=\"ml.c5.4xlarge\",\n",
    "    output_path=s3_model_output_path,\n",
    "    hyperparameters=model_hyperparameters,\n",
    "    sagemaker_session=sagemaker_session_instance,\n",
    ")\n"
   ]
  },
  {
   "cell_type": "code",
   "execution_count": 18,
   "id": "d7df567f-ec33-4eb1-b783-c7bcef7b33ab",
   "metadata": {
    "tags": []
   },
   "outputs": [
    {
     "name": "stdout",
     "output_type": "stream",
     "text": [
      "Data channels setup:\n",
      " Validation Channel: <sagemaker.inputs.TrainingInput object at 0x7f4a507c7070> \n",
      " Training Channel: <sagemaker.inputs.TrainingInput object at 0x7f4a507c6d10>\n"
     ]
    }
   ],
   "source": [
    "# Define the input channels for training and validation data for SageMaker\n",
    "# Using formatted S3 paths to specify the location of training and validation CSV files\n",
    "\n",
    "# Set up the training data channel\n",
    "# This channel points to the S3 location where the training CSV file is stored\n",
    "training_data_channel = sagemaker.inputs.TrainingInput(\n",
    "    \"s3://{}/{}/train/{}\".format(s3_container_name, s3_prefix, training_file_name), content_type=\"text/csv\"\n",
    ")\n",
    "\n",
    "# Set up the validation data channel\n",
    "# This channel points to the S3 location where the validation CSV file is stored\n",
    "validation_data_channel = sagemaker.inputs.TrainingInput(\n",
    "    \"s3://{}/{}/validate/{}\".format(s3_container_name, s3_prefix, validation_file_name),\n",
    "    content_type=\"text/csv\",\n",
    ")\n",
    "\n",
    "# Print confirmation of the data channels for verification\n",
    "print(f\"Data channels setup:\\n Validation Channel: {validation_data_channel} \\n Training Channel: {training_data_channel}\")\n",
    "\n",
    "# Combine both training and validation channels into a dictionary for easy reference\n",
    "data_input_channels = {\"train\": training_data_channel, \"validation\": validation_data_channel}\n"
   ]
  },
  {
   "cell_type": "markdown",
   "id": "3a9e3083-e6f3-47f1-b3d5-302d96668874",
   "metadata": {},
   "source": [
    "# Initiating Model Training and deployment for predictions"
   ]
  },
  {
   "cell_type": "code",
   "execution_count": 19,
   "id": "9de0bccb-728f-4af6-8fd4-7ca02442cc7c",
   "metadata": {
    "tags": []
   },
   "outputs": [
    {
     "name": "stderr",
     "output_type": "stream",
     "text": [
      "INFO:sagemaker:Creating training-job with name: sagemaker-xgboost-2024-11-03-11-17-28-525\n"
     ]
    },
    {
     "name": "stdout",
     "output_type": "stream",
     "text": [
      "\n",
      "2024-11-03 11:17:29 Starting - Starting the training job.\n",
      "2024-11-03 11:17:43 Starting - Preparing the instances for training....\n",
      "2024-11-03 11:18:06 Downloading - Downloading input data..\n",
      "2024-11-03 11:18:21 Downloading - Downloading the training image....\n",
      "2024-11-03 11:18:47 Training - Training image download completed. Training in progress.........\n",
      "2024-11-03 11:19:30 Uploading - Uploading generated training model.\n",
      "2024-11-03 11:19:43 Completed - Training job completed\n"
     ]
    }
   ],
   "source": [
    "# Start training the XGBoost model using the specified input channels\n",
    "# - inputs: Passes in the dictionary of data channels with 'train' and 'validation' paths\n",
    "# - logs=False: Disables the logging output during training\n",
    "xgboost_estimator.fit(inputs=data_input_channels, logs=False)\n"
   ]
  },
  {
   "cell_type": "code",
   "execution_count": 20,
   "id": "faf89d40-2507-465d-8e3e-6bd3e774508f",
   "metadata": {
    "tags": []
   },
   "outputs": [
    {
     "name": "stderr",
     "output_type": "stream",
     "text": [
      "INFO:sagemaker:Creating model with name: sagemaker-xgboost-2024-11-03-11-19-45-159\n",
      "INFO:sagemaker:Creating endpoint-config with name sagemaker-xgboost-2024-11-03-11-19-45-159\n",
      "INFO:sagemaker:Creating endpoint with name sagemaker-xgboost-2024-11-03-11-19-45-159\n"
     ]
    },
    {
     "name": "stdout",
     "output_type": "stream",
     "text": [
      "-----!"
     ]
    }
   ],
   "source": [
    "# Deploy the trained XGBoost model for real-time predictions\n",
    "# - initial_instance_count: Specifies the number of instances to launch\n",
    "# - serializer: Converts input data to CSV format for compatibility with the model\n",
    "# - instance_type: Defines the instance type to use for deployment\n",
    "xgboost_predictor = xgboost_estimator.deploy(\n",
    "    initial_instance_count=1,\n",
    "    serializer=sagemaker.serializers.CSVSerializer(),\n",
    "    instance_type=\"ml.c5.4xlarge\",\n",
    ")\n"
   ]
  },
  {
   "cell_type": "markdown",
   "id": "91b5d0a5-01c1-4010-a424-15e57d2c296a",
   "metadata": {},
   "source": [
    "# Preparing Batch Data for Predictions"
   ]
  },
  {
   "cell_type": "code",
   "execution_count": 21,
   "id": "1bb83b41-f90a-429b-824e-ab9db8b2f18c",
   "metadata": {
    "tags": []
   },
   "outputs": [
    {
     "name": "stdout",
     "output_type": "stream",
     "text": [
      "s3.Bucket(name='u3265713-uni-can-dsts-assn1-ensembel-1')\n"
     ]
    }
   ],
   "source": [
    "# Extract features from the testing dataset by selecting all columns except the target column\n",
    "# This dataset (batch_X_data) will be used for batch prediction\n",
    "batch_X_data = testing_data.iloc[:, 1:]\n",
    "# Replace boolean values with numeric values\n",
    "# - True values are replaced with 1, False values with 0 for compatibility with model input\n",
    "# Uncomment if needed\n",
    "# batch_X_data = batch_X_data.replace({True: 1, False: 0})\n",
    "# Specify the filename for the batch input file for uploading to S3\n",
    "# This file will contain the input features for batch predictions\n",
    "batch_input_filename = \"batch_input_data.csv\"\n",
    "# Save and upload the batch input file to S3 for batch processing\n",
    "# This function will place the file in the specified S3 folder\n",
    "upload_csv_to_s3(batch_input_filename, \"batch-in\", batch_X_data)\n"
   ]
  },
  {
   "cell_type": "code",
   "execution_count": 22,
   "id": "e2a6d1c3-5c18-401b-b76d-296dff17001a",
   "metadata": {
    "tags": []
   },
   "outputs": [
    {
     "name": "stdout",
     "output_type": "stream",
     "text": [
      "Total missing values in batch input data: 0\n",
      "Batch input data shape: (245338, 74)\n"
     ]
    }
   ],
   "source": [
    "# Check for any missing values in the batch input data\n",
    "# - .isnull().sum().sum() will return the total count of missing values across all columns\n",
    "missing_values_count = batch_X_data.isnull().sum().sum()\n",
    "print(f\"Total missing values in batch input data: {missing_values_count}\")\n",
    "\n",
    "# Display the shape of the batch input data\n",
    "# - This provides the number of rows (data points) and columns (features) in the batch dataset\n",
    "batch_data_shape = batch_X_data.shape\n",
    "print(f\"Batch input data shape: {batch_data_shape}\")"
   ]
  },
  {
   "cell_type": "markdown",
   "id": "0542be81-2367-4f7c-9cf7-7fd569650c74",
   "metadata": {},
   "source": [
    "# Batch Transformation for Large-Scale Predictions\n"
   ]
  },
  {
   "cell_type": "code",
   "execution_count": 24,
   "id": "3454ad14-8acb-464e-a23c-73e24127b153",
   "metadata": {
    "tags": []
   },
   "outputs": [
    {
     "name": "stderr",
     "output_type": "stream",
     "text": [
      "INFO:sagemaker:Creating model with name: sagemaker-xgboost-2024-11-03-11-24-31-322\n"
     ]
    }
   ],
   "source": [
    "# Set the output location for the batch transformation results in S3\n",
    "# This will store the model's batch prediction results in the specified S3 folder\n",
    "batch_output_location = \"s3://{}/{}/batch-out/\".format(s3_container_name, s3_prefix)\n",
    "\n",
    "# Set the input location for the batch transformation\n",
    "# This points to the S3 folder where the batch input data file is stored\n",
    "batch_input_location = \"s3://{}/{}/batch-in/{}\".format(s3_container_name, s3_prefix, batch_input_filename)\n",
    "\n",
    "# Create a transformer object from the trained XGBoost model for batch transformation\n",
    "# - instance_count: Number of instances to use for the batch transformation\n",
    "# - instance_type: Type of instance (ml.c5.2xlarge) for running the batch transform job\n",
    "# - strategy: Specifies the data processing strategy ('MultiRecord' processes multiple records per batch)\n",
    "# - assemble_with: Defines how to combine records in the output ('Line' combines records line by line)\n",
    "# - output_path: Specifies the S3 path where the batch output will be stored\n",
    "xgboost_transformer = xgboost_estimator.transformer(\n",
    "    instance_count=1,\n",
    "    instance_type=\"ml.c5.2xlarge\",\n",
    "    strategy=\"MultiRecord\",\n",
    "    assemble_with=\"Line\",\n",
    "    output_path=batch_output_location,\n",
    ")\n"
   ]
  },
  {
   "cell_type": "code",
   "execution_count": 25,
   "id": "84adc8b0-a73a-42d6-8bec-39ebc1048fc7",
   "metadata": {
    "tags": []
   },
   "outputs": [
    {
     "name": "stderr",
     "output_type": "stream",
     "text": [
      "INFO:sagemaker:Creating transform job with name: sagemaker-xgboost-2024-11-03-11-24-36-336\n"
     ]
    },
    {
     "name": "stdout",
     "output_type": "stream",
     "text": [
      "...............................\u001b[34m[2024-11-03:11:29:40:INFO] No GPUs detected (normal if no gpus installed)\u001b[0m\n",
      "\u001b[34m[2024-11-03:11:29:40:INFO] No GPUs detected (normal if no gpus installed)\u001b[0m\n",
      "\u001b[34m[2024-11-03:11:29:40:INFO] nginx config: \u001b[0m\n",
      "\u001b[34mworker_processes auto;\u001b[0m\n",
      "\u001b[34mdaemon off;\u001b[0m\n",
      "\u001b[34mpid /tmp/nginx.pid;\u001b[0m\n",
      "\u001b[34merror_log  /dev/stderr;\u001b[0m\n",
      "\u001b[34mworker_rlimit_nofile 4096;\u001b[0m\n",
      "\u001b[34mevents {\n",
      "  worker_connections 2048;\u001b[0m\n",
      "\u001b[34m}\u001b[0m\n",
      "\u001b[34mhttp {\n",
      "  include /etc/nginx/mime.types;\n",
      "  default_type application/octet-stream;\n",
      "  access_log /dev/stdout combined;\n",
      "  upstream gunicorn {\n",
      "    server unix:/tmp/gunicorn.sock;\n",
      "  }\n",
      "  server {\n",
      "    listen 8080 deferred;\n",
      "    client_max_body_size 0;\n",
      "    keepalive_timeout 3;\n",
      "    location ~ ^/(ping|invocations|execution-parameters) {\n",
      "      proxy_set_header X-Forwarded-For $proxy_add_x_forwarded_for;\n",
      "      proxy_set_header Host $http_host;\n",
      "      proxy_redirect off;\n",
      "      proxy_read_timeout 60s;\n",
      "      proxy_pass http://gunicorn;\n",
      "    }\n",
      "    location / {\n",
      "      return 404 \"{}\";\n",
      "    }\n",
      "  }\u001b[0m\n",
      "\u001b[34m}\u001b[0m\n",
      "\u001b[34m[2024-11-03 11:29:41 +0000] [27] [INFO] Starting gunicorn 19.10.0\u001b[0m\n",
      "\u001b[34m[2024-11-03 11:29:41 +0000] [27] [INFO] Listening at: unix:/tmp/gunicorn.sock (27)\u001b[0m\n",
      "\u001b[34m[2024-11-03 11:29:41 +0000] [27] [INFO] Using worker: gevent\u001b[0m\n",
      "\u001b[34m[2024-11-03 11:29:41 +0000] [38] [INFO] Booting worker with pid: 38\u001b[0m\n",
      "\u001b[34m[2024-11-03 11:29:41 +0000] [39] [INFO] Booting worker with pid: 39\u001b[0m\n",
      "\u001b[34m[2024-11-03 11:29:41 +0000] [47] [INFO] Booting worker with pid: 47\u001b[0m\n",
      "\u001b[34m[2024-11-03 11:29:41 +0000] [55] [INFO] Booting worker with pid: 55\u001b[0m\n",
      "\u001b[35m[2024-11-03:11:29:40:INFO] No GPUs detected (normal if no gpus installed)\u001b[0m\n",
      "\u001b[35m[2024-11-03:11:29:40:INFO] No GPUs detected (normal if no gpus installed)\u001b[0m\n",
      "\u001b[35m[2024-11-03:11:29:40:INFO] nginx config: \u001b[0m\n",
      "\u001b[35mworker_processes auto;\u001b[0m\n",
      "\u001b[35mdaemon off;\u001b[0m\n",
      "\u001b[35mpid /tmp/nginx.pid;\u001b[0m\n",
      "\u001b[35merror_log  /dev/stderr;\u001b[0m\n",
      "\u001b[35mworker_rlimit_nofile 4096;\u001b[0m\n",
      "\u001b[35mevents {\n",
      "  worker_connections 2048;\u001b[0m\n",
      "\u001b[35m}\u001b[0m\n",
      "\u001b[35mhttp {\n",
      "  include /etc/nginx/mime.types;\n",
      "  default_type application/octet-stream;\n",
      "  access_log /dev/stdout combined;\n",
      "  upstream gunicorn {\n",
      "    server unix:/tmp/gunicorn.sock;\n",
      "  }\n",
      "  server {\n",
      "    listen 8080 deferred;\n",
      "    client_max_body_size 0;\n",
      "    keepalive_timeout 3;\n",
      "    location ~ ^/(ping|invocations|execution-parameters) {\n",
      "      proxy_set_header X-Forwarded-For $proxy_add_x_forwarded_for;\n",
      "      proxy_set_header Host $http_host;\n",
      "      proxy_redirect off;\n",
      "      proxy_read_timeout 60s;\n",
      "      proxy_pass http://gunicorn;\n",
      "    }\n",
      "    location / {\n",
      "      return 404 \"{}\";\n",
      "    }\n",
      "  }\u001b[0m\n",
      "\u001b[35m}\u001b[0m\n",
      "\u001b[35m[2024-11-03 11:29:41 +0000] [27] [INFO] Starting gunicorn 19.10.0\u001b[0m\n",
      "\u001b[35m[2024-11-03 11:29:41 +0000] [27] [INFO] Listening at: unix:/tmp/gunicorn.sock (27)\u001b[0m\n",
      "\u001b[35m[2024-11-03 11:29:41 +0000] [27] [INFO] Using worker: gevent\u001b[0m\n",
      "\u001b[35m[2024-11-03 11:29:41 +0000] [38] [INFO] Booting worker with pid: 38\u001b[0m\n",
      "\u001b[35m[2024-11-03 11:29:41 +0000] [39] [INFO] Booting worker with pid: 39\u001b[0m\n",
      "\u001b[35m[2024-11-03 11:29:41 +0000] [47] [INFO] Booting worker with pid: 47\u001b[0m\n",
      "\u001b[35m[2024-11-03 11:29:41 +0000] [55] [INFO] Booting worker with pid: 55\u001b[0m\n",
      "\u001b[34m[2024-11-03 11:29:41 +0000] [56] [INFO] Booting worker with pid: 56\u001b[0m\n",
      "\u001b[34m[2024-11-03 11:29:41 +0000] [57] [INFO] Booting worker with pid: 57\u001b[0m\n",
      "\u001b[34m[2024-11-03 11:29:41 +0000] [58] [INFO] Booting worker with pid: 58\u001b[0m\n",
      "\u001b[34m[2024-11-03 11:29:41 +0000] [66] [INFO] Booting worker with pid: 66\u001b[0m\n",
      "\u001b[35m[2024-11-03 11:29:41 +0000] [56] [INFO] Booting worker with pid: 56\u001b[0m\n",
      "\u001b[35m[2024-11-03 11:29:41 +0000] [57] [INFO] Booting worker with pid: 57\u001b[0m\n",
      "\u001b[35m[2024-11-03 11:29:41 +0000] [58] [INFO] Booting worker with pid: 58\u001b[0m\n",
      "\u001b[35m[2024-11-03 11:29:41 +0000] [66] [INFO] Booting worker with pid: 66\u001b[0m\n",
      "\u001b[34m[2024-11-03:11:29:45:INFO] No GPUs detected (normal if no gpus installed)\u001b[0m\n",
      "\u001b[34m169.254.255.130 - - [03/Nov/2024:11:29:45 +0000] \"GET /ping HTTP/1.1\" 200 0 \"-\" \"Go-http-client/1.1\"\u001b[0m\n",
      "\u001b[34m169.254.255.130 - - [03/Nov/2024:11:29:45 +0000] \"GET /execution-parameters HTTP/1.1\" 200 84 \"-\" \"Go-http-client/1.1\"\u001b[0m\n",
      "\u001b[34m[2024-11-03:11:29:45:INFO] No GPUs detected (normal if no gpus installed)\u001b[0m\n",
      "\u001b[34m[2024-11-03:11:29:45:INFO] No GPUs detected (normal if no gpus installed)\u001b[0m\n",
      "\u001b[34m[2024-11-03:11:29:45:INFO] Determined delimiter of CSV input is ','\u001b[0m\n",
      "\u001b[34m[2024-11-03:11:29:45:INFO] No GPUs detected (normal if no gpus installed)\u001b[0m\n",
      "\u001b[35m[2024-11-03:11:29:45:INFO] No GPUs detected (normal if no gpus installed)\u001b[0m\n",
      "\u001b[35m169.254.255.130 - - [03/Nov/2024:11:29:45 +0000] \"GET /ping HTTP/1.1\" 200 0 \"-\" \"Go-http-client/1.1\"\u001b[0m\n",
      "\u001b[35m169.254.255.130 - - [03/Nov/2024:11:29:45 +0000] \"GET /execution-parameters HTTP/1.1\" 200 84 \"-\" \"Go-http-client/1.1\"\u001b[0m\n",
      "\u001b[35m[2024-11-03:11:29:45:INFO] No GPUs detected (normal if no gpus installed)\u001b[0m\n",
      "\u001b[35m[2024-11-03:11:29:45:INFO] No GPUs detected (normal if no gpus installed)\u001b[0m\n",
      "\u001b[35m[2024-11-03:11:29:45:INFO] Determined delimiter of CSV input is ','\u001b[0m\n",
      "\u001b[35m[2024-11-03:11:29:45:INFO] No GPUs detected (normal if no gpus installed)\u001b[0m\n",
      "\u001b[34m[2024-11-03:11:29:45:INFO] Determined delimiter of CSV input is ','\u001b[0m\n",
      "\u001b[34m[2024-11-03:11:29:45:INFO] No GPUs detected (normal if no gpus installed)\u001b[0m\n",
      "\u001b[34m[2024-11-03:11:29:45:INFO] Determined delimiter of CSV input is ','\u001b[0m\n",
      "\u001b[34m[2024-11-03:11:29:45:INFO] No GPUs detected (normal if no gpus installed)\u001b[0m\n",
      "\u001b[34m[2024-11-03:11:29:45:INFO] Determined delimiter of CSV input is ','\u001b[0m\n",
      "\u001b[34m[2024-11-03:11:29:45:INFO] Determined delimiter of CSV input is ','\u001b[0m\n",
      "\u001b[34m[2024-11-03:11:29:45:INFO] Determined delimiter of CSV input is ','\u001b[0m\n",
      "\u001b[35m[2024-11-03:11:29:45:INFO] Determined delimiter of CSV input is ','\u001b[0m\n",
      "\u001b[35m[2024-11-03:11:29:45:INFO] No GPUs detected (normal if no gpus installed)\u001b[0m\n",
      "\u001b[35m[2024-11-03:11:29:45:INFO] Determined delimiter of CSV input is ','\u001b[0m\n",
      "\u001b[35m[2024-11-03:11:29:45:INFO] No GPUs detected (normal if no gpus installed)\u001b[0m\n",
      "\u001b[35m[2024-11-03:11:29:45:INFO] Determined delimiter of CSV input is ','\u001b[0m\n",
      "\u001b[35m[2024-11-03:11:29:45:INFO] Determined delimiter of CSV input is ','\u001b[0m\n",
      "\u001b[35m[2024-11-03:11:29:45:INFO] Determined delimiter of CSV input is ','\u001b[0m\n",
      "\u001b[32m2024-11-03T11:29:45.176:[sagemaker logs]: MaxConcurrentTransforms=8, MaxPayloadInMB=6, BatchStrategy=MULTI_RECORD\u001b[0m\n",
      "\u001b[34m169.254.255.130 - - [03/Nov/2024:11:29:48 +0000] \"POST /invocations HTTP/1.1\" 200 810585 \"-\" \"Go-http-client/1.1\"\u001b[0m\n",
      "\u001b[34m169.254.255.130 - - [03/Nov/2024:11:29:48 +0000] \"POST /invocations HTTP/1.1\" 200 810248 \"-\" \"Go-http-client/1.1\"\u001b[0m\n",
      "\u001b[34m169.254.255.130 - - [03/Nov/2024:11:29:48 +0000] \"POST /invocations HTTP/1.1\" 200 763589 \"-\" \"Go-http-client/1.1\"\u001b[0m\n",
      "\u001b[35m169.254.255.130 - - [03/Nov/2024:11:29:48 +0000] \"POST /invocations HTTP/1.1\" 200 810585 \"-\" \"Go-http-client/1.1\"\u001b[0m\n",
      "\u001b[35m169.254.255.130 - - [03/Nov/2024:11:29:48 +0000] \"POST /invocations HTTP/1.1\" 200 810248 \"-\" \"Go-http-client/1.1\"\u001b[0m\n",
      "\u001b[35m169.254.255.130 - - [03/Nov/2024:11:29:48 +0000] \"POST /invocations HTTP/1.1\" 200 763589 \"-\" \"Go-http-client/1.1\"\u001b[0m\n",
      "\u001b[34m169.254.255.130 - - [03/Nov/2024:11:29:48 +0000] \"POST /invocations HTTP/1.1\" 200 810334 \"-\" \"Go-http-client/1.1\"\u001b[0m\n",
      "\u001b[34m169.254.255.130 - - [03/Nov/2024:11:29:48 +0000] \"POST /invocations HTTP/1.1\" 200 810410 \"-\" \"Go-http-client/1.1\"\u001b[0m\n",
      "\u001b[34m169.254.255.130 - - [03/Nov/2024:11:29:48 +0000] \"POST /invocations HTTP/1.1\" 200 810277 \"-\" \"Go-http-client/1.1\"\u001b[0m\n",
      "\u001b[35m169.254.255.130 - - [03/Nov/2024:11:29:48 +0000] \"POST /invocations HTTP/1.1\" 200 810334 \"-\" \"Go-http-client/1.1\"\u001b[0m\n",
      "\u001b[35m169.254.255.130 - - [03/Nov/2024:11:29:48 +0000] \"POST /invocations HTTP/1.1\" 200 810410 \"-\" \"Go-http-client/1.1\"\u001b[0m\n",
      "\u001b[35m169.254.255.130 - - [03/Nov/2024:11:29:48 +0000] \"POST /invocations HTTP/1.1\" 200 810277 \"-\" \"Go-http-client/1.1\"\u001b[0m\n",
      "\n",
      "\u001b[34m[2024-11-03:11:29:40:INFO] No GPUs detected (normal if no gpus installed)\u001b[0m\n",
      "\u001b[34m[2024-11-03:11:29:40:INFO] No GPUs detected (normal if no gpus installed)\u001b[0m\n",
      "\u001b[34m[2024-11-03:11:29:40:INFO] nginx config: \u001b[0m\n",
      "\u001b[34mworker_processes auto;\u001b[0m\n",
      "\u001b[34mdaemon off;\u001b[0m\n",
      "\u001b[34mpid /tmp/nginx.pid;\u001b[0m\n",
      "\u001b[34merror_log  /dev/stderr;\u001b[0m\n",
      "\u001b[34mworker_rlimit_nofile 4096;\u001b[0m\n",
      "\u001b[34mevents {\n",
      "  worker_connections 2048;\u001b[0m\n",
      "\u001b[34m}\u001b[0m\n",
      "\u001b[34mhttp {\n",
      "  include /etc/nginx/mime.types;\n",
      "  default_type application/octet-stream;\n",
      "  access_log /dev/stdout combined;\n",
      "  upstream gunicorn {\n",
      "    server unix:/tmp/gunicorn.sock;\n",
      "  }\n",
      "  server {\n",
      "    listen 8080 deferred;\n",
      "    client_max_body_size 0;\n",
      "    keepalive_timeout 3;\n",
      "    location ~ ^/(ping|invocations|execution-parameters) {\n",
      "      proxy_set_header X-Forwarded-For $proxy_add_x_forwarded_for;\n",
      "      proxy_set_header Host $http_host;\n",
      "      proxy_redirect off;\n",
      "      proxy_read_timeout 60s;\n",
      "      proxy_pass http://gunicorn;\n",
      "    }\n",
      "    location / {\n",
      "      return 404 \"{}\";\n",
      "    }\n",
      "  }\u001b[0m\n",
      "\u001b[34m}\u001b[0m\n",
      "\u001b[34m[2024-11-03 11:29:41 +0000] [27] [INFO] Starting gunicorn 19.10.0\u001b[0m\n",
      "\u001b[34m[2024-11-03 11:29:41 +0000] [27] [INFO] Listening at: unix:/tmp/gunicorn.sock (27)\u001b[0m\n",
      "\u001b[34m[2024-11-03 11:29:41 +0000] [27] [INFO] Using worker: gevent\u001b[0m\n",
      "\u001b[34m[2024-11-03 11:29:41 +0000] [38] [INFO] Booting worker with pid: 38\u001b[0m\n",
      "\u001b[34m[2024-11-03 11:29:41 +0000] [39] [INFO] Booting worker with pid: 39\u001b[0m\n",
      "\u001b[34m[2024-11-03 11:29:41 +0000] [47] [INFO] Booting worker with pid: 47\u001b[0m\n",
      "\u001b[34m[2024-11-03 11:29:41 +0000] [55] [INFO] Booting worker with pid: 55\u001b[0m\n",
      "\u001b[35m[2024-11-03:11:29:40:INFO] No GPUs detected (normal if no gpus installed)\u001b[0m\n",
      "\u001b[35m[2024-11-03:11:29:40:INFO] No GPUs detected (normal if no gpus installed)\u001b[0m\n",
      "\u001b[35m[2024-11-03:11:29:40:INFO] nginx config: \u001b[0m\n",
      "\u001b[35mworker_processes auto;\u001b[0m\n",
      "\u001b[35mdaemon off;\u001b[0m\n",
      "\u001b[35mpid /tmp/nginx.pid;\u001b[0m\n",
      "\u001b[35merror_log  /dev/stderr;\u001b[0m\n",
      "\u001b[35mworker_rlimit_nofile 4096;\u001b[0m\n",
      "\u001b[35mevents {\n",
      "  worker_connections 2048;\u001b[0m\n",
      "\u001b[35m}\u001b[0m\n",
      "\u001b[35mhttp {\n",
      "  include /etc/nginx/mime.types;\n",
      "  default_type application/octet-stream;\n",
      "  access_log /dev/stdout combined;\n",
      "  upstream gunicorn {\n",
      "    server unix:/tmp/gunicorn.sock;\n",
      "  }\n",
      "  server {\n",
      "    listen 8080 deferred;\n",
      "    client_max_body_size 0;\n",
      "    keepalive_timeout 3;\n",
      "    location ~ ^/(ping|invocations|execution-parameters) {\n",
      "      proxy_set_header X-Forwarded-For $proxy_add_x_forwarded_for;\n",
      "      proxy_set_header Host $http_host;\n",
      "      proxy_redirect off;\n",
      "      proxy_read_timeout 60s;\n",
      "      proxy_pass http://gunicorn;\n",
      "    }\n",
      "    location / {\n",
      "      return 404 \"{}\";\n",
      "    }\n",
      "  }\u001b[0m\n",
      "\u001b[35m}\u001b[0m\n",
      "\u001b[35m[2024-11-03 11:29:41 +0000] [27] [INFO] Starting gunicorn 19.10.0\u001b[0m\n",
      "\u001b[35m[2024-11-03 11:29:41 +0000] [27] [INFO] Listening at: unix:/tmp/gunicorn.sock (27)\u001b[0m\n",
      "\u001b[35m[2024-11-03 11:29:41 +0000] [27] [INFO] Using worker: gevent\u001b[0m\n",
      "\u001b[35m[2024-11-03 11:29:41 +0000] [38] [INFO] Booting worker with pid: 38\u001b[0m\n",
      "\u001b[35m[2024-11-03 11:29:41 +0000] [39] [INFO] Booting worker with pid: 39\u001b[0m\n",
      "\u001b[35m[2024-11-03 11:29:41 +0000] [47] [INFO] Booting worker with pid: 47\u001b[0m\n",
      "\u001b[35m[2024-11-03 11:29:41 +0000] [55] [INFO] Booting worker with pid: 55\u001b[0m\n",
      "\u001b[34m[2024-11-03 11:29:41 +0000] [56] [INFO] Booting worker with pid: 56\u001b[0m\n",
      "\u001b[34m[2024-11-03 11:29:41 +0000] [57] [INFO] Booting worker with pid: 57\u001b[0m\n",
      "\u001b[34m[2024-11-03 11:29:41 +0000] [58] [INFO] Booting worker with pid: 58\u001b[0m\n",
      "\u001b[34m[2024-11-03 11:29:41 +0000] [66] [INFO] Booting worker with pid: 66\u001b[0m\n",
      "\u001b[35m[2024-11-03 11:29:41 +0000] [56] [INFO] Booting worker with pid: 56\u001b[0m\n",
      "\u001b[35m[2024-11-03 11:29:41 +0000] [57] [INFO] Booting worker with pid: 57\u001b[0m\n",
      "\u001b[35m[2024-11-03 11:29:41 +0000] [58] [INFO] Booting worker with pid: 58\u001b[0m\n",
      "\u001b[35m[2024-11-03 11:29:41 +0000] [66] [INFO] Booting worker with pid: 66\u001b[0m\n",
      "\u001b[34m[2024-11-03:11:29:45:INFO] No GPUs detected (normal if no gpus installed)\u001b[0m\n",
      "\u001b[34m169.254.255.130 - - [03/Nov/2024:11:29:45 +0000] \"GET /ping HTTP/1.1\" 200 0 \"-\" \"Go-http-client/1.1\"\u001b[0m\n",
      "\u001b[34m169.254.255.130 - - [03/Nov/2024:11:29:45 +0000] \"GET /execution-parameters HTTP/1.1\" 200 84 \"-\" \"Go-http-client/1.1\"\u001b[0m\n",
      "\u001b[34m[2024-11-03:11:29:45:INFO] No GPUs detected (normal if no gpus installed)\u001b[0m\n",
      "\u001b[34m[2024-11-03:11:29:45:INFO] No GPUs detected (normal if no gpus installed)\u001b[0m\n",
      "\u001b[34m[2024-11-03:11:29:45:INFO] Determined delimiter of CSV input is ','\u001b[0m\n",
      "\u001b[34m[2024-11-03:11:29:45:INFO] No GPUs detected (normal if no gpus installed)\u001b[0m\n",
      "\u001b[35m[2024-11-03:11:29:45:INFO] No GPUs detected (normal if no gpus installed)\u001b[0m\n",
      "\u001b[35m169.254.255.130 - - [03/Nov/2024:11:29:45 +0000] \"GET /ping HTTP/1.1\" 200 0 \"-\" \"Go-http-client/1.1\"\u001b[0m\n",
      "\u001b[35m169.254.255.130 - - [03/Nov/2024:11:29:45 +0000] \"GET /execution-parameters HTTP/1.1\" 200 84 \"-\" \"Go-http-client/1.1\"\u001b[0m\n",
      "\u001b[35m[2024-11-03:11:29:45:INFO] No GPUs detected (normal if no gpus installed)\u001b[0m\n",
      "\u001b[35m[2024-11-03:11:29:45:INFO] No GPUs detected (normal if no gpus installed)\u001b[0m\n",
      "\u001b[35m[2024-11-03:11:29:45:INFO] Determined delimiter of CSV input is ','\u001b[0m\n",
      "\u001b[35m[2024-11-03:11:29:45:INFO] No GPUs detected (normal if no gpus installed)\u001b[0m\n",
      "\u001b[34m[2024-11-03:11:29:45:INFO] Determined delimiter of CSV input is ','\u001b[0m\n",
      "\u001b[34m[2024-11-03:11:29:45:INFO] No GPUs detected (normal if no gpus installed)\u001b[0m\n",
      "\u001b[34m[2024-11-03:11:29:45:INFO] Determined delimiter of CSV input is ','\u001b[0m\n",
      "\u001b[34m[2024-11-03:11:29:45:INFO] No GPUs detected (normal if no gpus installed)\u001b[0m\n",
      "\u001b[34m[2024-11-03:11:29:45:INFO] Determined delimiter of CSV input is ','\u001b[0m\n",
      "\u001b[34m[2024-11-03:11:29:45:INFO] Determined delimiter of CSV input is ','\u001b[0m\n",
      "\u001b[34m[2024-11-03:11:29:45:INFO] Determined delimiter of CSV input is ','\u001b[0m\n",
      "\u001b[35m[2024-11-03:11:29:45:INFO] Determined delimiter of CSV input is ','\u001b[0m\n",
      "\u001b[35m[2024-11-03:11:29:45:INFO] No GPUs detected (normal if no gpus installed)\u001b[0m\n",
      "\u001b[35m[2024-11-03:11:29:45:INFO] Determined delimiter of CSV input is ','\u001b[0m\n",
      "\u001b[35m[2024-11-03:11:29:45:INFO] No GPUs detected (normal if no gpus installed)\u001b[0m\n",
      "\u001b[35m[2024-11-03:11:29:45:INFO] Determined delimiter of CSV input is ','\u001b[0m\n",
      "\u001b[35m[2024-11-03:11:29:45:INFO] Determined delimiter of CSV input is ','\u001b[0m\n",
      "\u001b[35m[2024-11-03:11:29:45:INFO] Determined delimiter of CSV input is ','\u001b[0m\n",
      "\u001b[32m2024-11-03T11:29:45.176:[sagemaker logs]: MaxConcurrentTransforms=8, MaxPayloadInMB=6, BatchStrategy=MULTI_RECORD\u001b[0m\n",
      "\u001b[34m169.254.255.130 - - [03/Nov/2024:11:29:48 +0000] \"POST /invocations HTTP/1.1\" 200 810585 \"-\" \"Go-http-client/1.1\"\u001b[0m\n",
      "\u001b[34m169.254.255.130 - - [03/Nov/2024:11:29:48 +0000] \"POST /invocations HTTP/1.1\" 200 810248 \"-\" \"Go-http-client/1.1\"\u001b[0m\n",
      "\u001b[34m169.254.255.130 - - [03/Nov/2024:11:29:48 +0000] \"POST /invocations HTTP/1.1\" 200 763589 \"-\" \"Go-http-client/1.1\"\u001b[0m\n",
      "\u001b[35m169.254.255.130 - - [03/Nov/2024:11:29:48 +0000] \"POST /invocations HTTP/1.1\" 200 810585 \"-\" \"Go-http-client/1.1\"\u001b[0m\n",
      "\u001b[35m169.254.255.130 - - [03/Nov/2024:11:29:48 +0000] \"POST /invocations HTTP/1.1\" 200 810248 \"-\" \"Go-http-client/1.1\"\u001b[0m\n",
      "\u001b[35m169.254.255.130 - - [03/Nov/2024:11:29:48 +0000] \"POST /invocations HTTP/1.1\" 200 763589 \"-\" \"Go-http-client/1.1\"\u001b[0m\n",
      "\u001b[34m169.254.255.130 - - [03/Nov/2024:11:29:48 +0000] \"POST /invocations HTTP/1.1\" 200 810334 \"-\" \"Go-http-client/1.1\"\u001b[0m\n",
      "\u001b[34m169.254.255.130 - - [03/Nov/2024:11:29:48 +0000] \"POST /invocations HTTP/1.1\" 200 810410 \"-\" \"Go-http-client/1.1\"\u001b[0m\n",
      "\u001b[34m169.254.255.130 - - [03/Nov/2024:11:29:48 +0000] \"POST /invocations HTTP/1.1\" 200 810277 \"-\" \"Go-http-client/1.1\"\u001b[0m\n",
      "\u001b[35m169.254.255.130 - - [03/Nov/2024:11:29:48 +0000] \"POST /invocations HTTP/1.1\" 200 810334 \"-\" \"Go-http-client/1.1\"\u001b[0m\n",
      "\u001b[35m169.254.255.130 - - [03/Nov/2024:11:29:48 +0000] \"POST /invocations HTTP/1.1\" 200 810410 \"-\" \"Go-http-client/1.1\"\u001b[0m\n",
      "\u001b[35m169.254.255.130 - - [03/Nov/2024:11:29:48 +0000] \"POST /invocations HTTP/1.1\" 200 810277 \"-\" \"Go-http-client/1.1\"\u001b[0m\n"
     ]
    }
   ],
   "source": [
    "# Start the batch transform job for generating predictions on the batch input data\n",
    "# - data: Specifies the S3 location of the batch input file\n",
    "# - data_type: Defines the data source type; \"S3Prefix\" indicates data is stored in S3\n",
    "# - content_type: Specifies the format of the input data (\"text/csv\" for CSV files)\n",
    "# - split_type: Determines how to split the input data; \"Line\" treats each line as a separate record\n",
    "xgboost_transformer.transform(\n",
    "    data=batch_input_location, data_type=\"S3Prefix\", content_type=\"text/csv\", split_type=\"Line\"\n",
    ")\n",
    "\n",
    "# Wait for the batch transform job to complete\n",
    "# This ensures that subsequent steps don’t proceed until batch processing is finished\n",
    "xgboost_transformer.wait()"
   ]
  },
  {
   "cell_type": "markdown",
   "id": "5f202aac-a93a-4da7-9662-36e9506058e6",
   "metadata": {},
   "source": [
    "# Retrieving and Processing Batch Prediction Results"
   ]
  },
  {
   "cell_type": "code",
   "execution_count": 26,
   "id": "97c4614b-d51f-44b1-a2be-2e92c27e584f",
   "metadata": {
    "tags": []
   },
   "outputs": [],
   "source": [
    "# Initialize the S3 client to interact with S3 resources\n",
    "s3_client = boto3.client(\"s3\")\n",
    "\n",
    "# Retrieve the batch output file generated by the batch transform job\n",
    "# - Bucket: Specifies the S3 bucket name\n",
    "# - Key: Specifies the path to the output file generated by the batch transform job\n",
    "batch_output_object = s3_client.get_object(\n",
    "    Bucket=s3_container_name, Key=\"{}/batch-out/{}\".format(s3_prefix, \"batch_input_data.csv.out\")\n",
    ")\n",
    "\n",
    "# Read the batch output file into a DataFrame\n",
    "# - Converts the binary content of the S3 object to a CSV format with \"class\" as the column name\n",
    "predicted_target = pd.read_csv(io.BytesIO(batch_output_object[\"Body\"].read()), names=[\"class\"])\n"
   ]
  },
  {
   "cell_type": "code",
   "execution_count": 27,
   "id": "0be6ea7e-7c2a-43db-a017-3d32f4055ef0",
   "metadata": {
    "tags": []
   },
   "outputs": [
    {
     "name": "stdout",
     "output_type": "stream",
     "text": [
      "0    0\n",
      "1    0\n",
      "2    0\n",
      "3    0\n",
      "4    0\n",
      "Name: class, dtype: int64\n",
      "         target  Distance  Quarter_2  Quarter_3  Quarter_4  Month_2  Month_3  \\\n",
      "470151      0.0    1947.0          1          0          0        0        0   \n",
      "985696      0.0     925.0          0          0          1        0        0   \n",
      "394886      0.0     862.0          0          0          0        1        0   \n",
      "924542      0.0    1744.0          0          1          0        0        0   \n",
      "1533313     0.0     936.0          1          0          0        0        0   \n",
      "\n",
      "         Month_4  Month_5  Month_6  ...  Dest_DEN  Dest_DFW  Dest_IAH  \\\n",
      "470151         0        1        0  ...         0         0         0   \n",
      "985696         0        0        0  ...         0         0         0   \n",
      "394886         0        0        0  ...         1         0         0   \n",
      "924542         0        0        0  ...         0         0         0   \n",
      "1533313        0        0        1  ...         0         1         0   \n",
      "\n",
      "         Dest_LAX  Dest_ORD  Dest_PHX  Dest_SFO  DepHourofDay_7-12  \\\n",
      "470151          0         0         0         0                  0   \n",
      "985696          0         1         0         0                  0   \n",
      "394886          0         0         0         0                  1   \n",
      "924542          1         0         0         0                  1   \n",
      "1533313         0         0         0         0                  1   \n",
      "\n",
      "         DepHourofDay_13-18  DepHourofDay_19-23  \n",
      "470151                    1                   0  \n",
      "985696                    1                   0  \n",
      "394886                    0                   0  \n",
      "924542                    0                   0  \n",
      "1533313                   0                   0  \n",
      "\n",
      "[5 rows x 75 columns]\n",
      "470151     0.0\n",
      "985696     0.0\n",
      "394886     0.0\n",
      "924542     0.0\n",
      "1533313    0.0\n",
      "Name: target, dtype: float64\n"
     ]
    }
   ],
   "source": [
    "# Function to convert predicted probability values to binary labels (0 or 1)\n",
    "# - Values above the threshold (0.3) are classified as 1 (positive class)\n",
    "# - Values at or below the threshold are classified as 0 (negative class)\n",
    "def convert_to_binary(value):\n",
    "    threshold_value = 0.3  # Set threshold for classification\n",
    "    if value > threshold_value:\n",
    "        return 1\n",
    "    else:\n",
    "        return 0\n",
    "\n",
    "# Apply the binary conversion function to the predicted target values\n",
    "# - This converts the \"class\" column in predicted_target to binary values based on the threshold\n",
    "predicted_target_binary = predicted_target[\"class\"].apply(convert_to_binary)\n",
    "\n",
    "# Print the first five binary-converted predictions for verification\n",
    "print(predicted_target_binary.head(5))\n",
    "\n",
    "# Display the first five rows of the test dataset for comparison\n",
    "print(testing_data.head(5))\n",
    "\n",
    "# Extract the true labels from the testing dataset\n",
    "# - Selects the first column, which contains the actual target labels\n",
    "actual_test_labels = testing_data.iloc[:, 0]\n",
    "\n",
    "# Display the first five labels for verification\n",
    "print(actual_test_labels.head(5))\n"
   ]
  },
  {
   "cell_type": "markdown",
   "id": "b4addd29-4c3e-45c2-ac5c-394304d75935",
   "metadata": {},
   "source": [
    "# Prediction Results of model"
   ]
  },
  {
   "cell_type": "code",
   "execution_count": 28,
   "id": "1e1d81b0-e135-490c-a85a-5d45a623132b",
   "metadata": {
    "tags": []
   },
   "outputs": [
    {
     "name": "stdout",
     "output_type": "stream",
     "text": [
      "Classification Report on Test Data\n",
      "              precision    recall  f1-score   support\n",
      "\n",
      "         0.0       0.83      0.88      0.85    193838\n",
      "         1.0       0.40      0.30      0.34     51500\n",
      "\n",
      "    accuracy                           0.76    245338\n",
      "   macro avg       0.61      0.59      0.60    245338\n",
      "weighted avg       0.74      0.76      0.75    245338\n",
      "\n"
     ]
    }
   ],
   "source": [
    "# Import classification_report from sklearn to evaluate model performance\n",
    "from sklearn.metrics import classification_report\n",
    "\n",
    "# Generate and display the classification report for the test data\n",
    "# - Compares the actual test labels with the binary-converted predicted labels\n",
    "print(\"Classification Report on Test Data\")\n",
    "print(classification_report(actual_test_labels, predicted_target_binary))"
   ]
  },
  {
   "cell_type": "code",
   "execution_count": 29,
   "id": "0a8f6685-d84b-4602-87a2-91336baae1b0",
   "metadata": {
    "tags": []
   },
   "outputs": [],
   "source": [
    "from sklearn.metrics import confusion_matrix\n",
    "import matplotlib.pyplot as plt\n",
    "import seaborn as sns\n",
    "# Function to plot a confusion matrix\n",
    "# This function generates a heatmap to visualize the confusion matrix,\n",
    "# which helps assess the accuracy of classification by comparing actual and predicted labels.\n",
    "def display_confusion_matrix(actual_labels, predicted_labels):\n",
    "    # Generate the confusion matrix\n",
    "    # The matrix compares actual labels with predicted labels to show true positives, false positives, etc.\n",
    "    confusion_mat = confusion_matrix(actual_labels, predicted_labels)\n",
    "    # Create a heatmap for the confusion matrix\n",
    "    # This provides a visual representation of the matrix for easy interpretation.\n",
    "    sns.heatmap(\n",
    "        confusion_mat,\n",
    "        annot=True,               # Display numerical values within each cell\n",
    "        fmt=\"d\",                  # Format as integer values\n",
    "        cmap=\"Blues\",             # Color scheme for the heatmap\n",
    "        xticklabels=[\"On-Time\", \"Delayed\"],  # Labels for the x-axis (predicted outcomes)\n",
    "        yticklabels=[\"On-Time\", \"Delayed\"],  # Labels for the y-axis (actual outcomes)\n",
    "    )\n",
    "    # Label the plot axes and title\n",
    "    plt.xlabel(\"Predicted Labels\")  # Label for the x-axis\n",
    "    plt.ylabel(\"Actual Labels\")     # Label for the y-axis\n",
    "    plt.title(\"Confusion Matrix\")   # Title of the plot\n",
    "    plt.show()                      # Display the plot"
   ]
  },
  {
   "cell_type": "code",
   "execution_count": 30,
   "id": "e8d0a9dc-ce3f-4abf-9c46-2a4a01f9db72",
   "metadata": {
    "tags": []
   },
   "outputs": [
    {
     "data": {
      "image/png": "[encoded data removed]",
      "text/plain": [
       "<Figure size 640x480 with 2 Axes>"
      ]
     },
     "metadata": {},
     "output_type": "display_data"
    }
   ],
   "source": [
    "# Plot the confusion matrix to visualize model performance on the test data\n",
    "# - Compares the true test labels with the predicted binary labels\n",
    "display_confusion_matrix(actual_test_labels, predicted_target_binary)"
   ]
  }
 ],
 "metadata": {
  "kernelspec": {
   "display_name": "conda_python3",
   "language": "python",
   "name": "conda_python3"
  },
  "language_info": {
   "codemirror_mode": {
    "name": "ipython",
    "version": 3
   },
   "file_extension": ".py",
   "mimetype": "text/x-python",
   "name": "python",
   "nbconvert_exporter": "python",
   "pygments_lexer": "ipython3",
   "version": "3.10.15"
  }
 },
 "nbformat": 4,
 "nbformat_minor": 5
}
