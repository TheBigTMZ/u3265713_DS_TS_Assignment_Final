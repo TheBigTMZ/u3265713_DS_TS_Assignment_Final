{
 "cells": [
  {
   "cell_type": "markdown",
   "metadata": {},
   "source": [
    "# Problem: Predicting Airplane Delays\n",
    "\n",
    "The goals of this notebook are:\n",
    "- Process and create a dataset from downloaded ZIP files\n",
    "- Exploratory data analysis (EDA)\n",
    "- Establish a baseline model and improve it\n",
    "\n",
    "## Introduction to business scenario\n",
    "You work for a travel booking website that is working to improve the customer experience for flights that were delayed. The company wants to create a feature to let customers know if the flight will be delayed due to weather when the customers are booking the flight to or from the busiest airports for domestic travel in the US. \n",
    "\n",
    "You are tasked with solving part of this problem by leveraging machine learning to identify whether the flight will be delayed due to weather. You have been given access to the a dataset of on-time performance of domestic flights operated by large air carriers. You can use this data to train a machine learning model to predict if the flight is going to be delayed for the busiest airports.\n",
    "\n",
    "### Dataset\n",
    "The provided dataset contains scheduled and actual departure and arrival times reported by certified US air carriers that account for at least 1 percent of domestic scheduled passenger revenues. The data was collected by the Office of Airline Information, Bureau of Transportation Statistics (BTS). The dataset contains date, time, origin, destination, airline, distance, and delay status of flights for flights between 2014 and 2018.\n",
    "The data are in 60 compressed files, where each file contains a CSV for the flight details in a month for the five years (from 2014 - 2018). The data can be downloaded from this link: [https://ucstaff-my.sharepoint.com/:f:/g/personal/ibrahim_radwan_canberra_edu_au/Er0nVreXmihEmtMz5qC5kVIB81-ugSusExPYdcyQTglfLg?e=bNO312]. Please download the data files and place them on a relative path. Dataset(s) used in this assignment were compiled by the Office of Airline Information, Bureau of Transportation Statistics (BTS), Airline On-Time Performance Data, available with the following link: [https://www.transtats.bts.gov/Fields.asp?gnoyr_VQ=FGJ]. "
   ]
  },
  {
   "cell_type": "markdown",
   "metadata": {},
   "source": [
    "# Step 1: Problem formulation and data collection\n",
    "\n",
    "Start this project off by writing a few sentences below that summarize the business problem and the business goal you're trying to achieve in this scenario. Include a business metric you would like your team to aspire toward. With that information defined, clearly write out the machine learning problem statement. Finally, add a comment or two about the type of machine learning this represents. \n",
    "\n",
    "\n",
    "### 1. Determine if and why ML is an appropriate solution to deploy."
   ]
  },
  {
   "cell_type": "markdown",
   "metadata": {},
   "source": [
    "**The Business Problem and Goal** \n",
    "\n",
    "For the travel and booking industry, delays in flights can significantly impact customer satisfaction, specifically for delays in flights which are note expected by the consumers. The company discussed in the question is a travel booking website which is aiming to improve thier customer experience by predicting potential flight delays due to weather conditions. The business wants to proactively inform customers whether a flight may be delayed or not, to empower them to make more informed decision so that they can can plan their journey. \n",
    "\n",
    "**The Primary Business Problem which is being solved:** \n",
    "\n",
    "Consumers don't have prior knowledge whether their flights will be delayed or not due to weather and other reasons, this delay in flights can cause consumer dissatisfaction, this issue can be solved is a solution is created which can predict whether a flight will be delayed or not based on certain factors. \n",
    "\n",
    "**Machine Learning Problem Statement**\n",
    "\n",
    "Using historical flight data that includes flight times, weather conditions, and delay status, this project aims to develop a binary classification model that can predict whether a flight will be delayed due to weather conditions. The model will classify flights as either \"Delayed\" or \"Not Delayed.\"\n",
    "\n",
    "\n",
    "This is a Supervised Learning problem, specifically a binary classification task, as there are labeled data indicating the delay status (delay vs. no delay) for each flight. This project will use historical flight data from 2014 to 2018 with weather features to train the model and make predictions on future flights.\n"
   ]
  },
  {
   "cell_type": "markdown",
   "metadata": {},
   "source": [
    "### 2. Formulate the business problem, success metrics, and desired ML output."
   ]
  },
  {
   "cell_type": "markdown",
   "metadata": {},
   "source": [
    "**The Business Problem**\n",
    "\n",
    "The goal is to improve customer experience for travelers booking flights on the said platform by providing timely alerts for potential delays due to weather. By accurately predicting if a flight is likely to be delayed, this can give customers actionable information during the booking process, allowing them to make adjustments to their travel plans and reduce frustration associated with unexpected delays.\n",
    "\n",
    "\n",
    "**The Sucess Metrics of the Problem**\n",
    "\n",
    "To evaluate the success of the specific machine learning model, the following metrics will be considered:\n",
    "\n",
    "- Recall (Sensitivity) for the \"Delay\" class: Ensuring high recall is crucial, as we want to capture as many potential delays as possible to reduce the risk of undetected delays affecting customers.\n",
    "- Precision for the \"Delay\" class: A reasonable precision score is essential to avoid over-alerting customers with false positives, which could lead to frustration if many predicted delays don’t occur.\n",
    "- Area Under the ROC Curve (AUC-ROC): This metric will help evaluate the model's overall performance and its ability to discriminate between delayed and non-delayed flights across different thresholds.\n",
    "- Accuracy: While less critical given the class imbalance, accuracy can still provide insight into overall model correctness.\n",
    "\n",
    "**Desired ML Output**\n",
    "\n",
    "The desired output of the machine learning model is a binary classification of each flight:\n",
    "\n",
    "0: No Delay\n",
    "    \n",
    "1: Delay\n",
    "\n",
    "Additionally, the model should produce probability scores that indicate the likelihood of a delay, enabling the company to set different thresholds for delay notifications based on operational needs or confidence levels.\n",
    "\n",
    "In summary, the goal is to create a predictive model that:\n",
    "\n",
    "- Alerts customers effectively when there’s a high probability of a flight delay.\n",
    "    \n",
    "- Minimizes false alerts by balancing precision and recall.\n",
    "\n",
    "- Adds tangible value to the customer experience by reducing the impact of unexpected delays on travel plans.\n",
    "\n",
    "A model that achieves these outcomes will enhance customer satisfaction, making the platform more appealing to travelers seeking reliable and proactive booking information."
   ]
  },
  {
   "cell_type": "markdown",
   "metadata": {},
   "source": [
    "### 3. Identify the type of ML problem you’re dealing with."
   ]
  },
  {
   "cell_type": "markdown",
   "metadata": {},
   "source": [
    "**Type of Machine Learning Problem**\n",
    "\n",
    "This project is a supervised binary classification problem. The model is tasked with predicting whether a flight will be delayed (label = 1) or not delayed (label = 0) based on historical data that includes flight details, weather conditions, and other factors.\n",
    "\n",
    "Key characteristics that make this a classification problem:\n",
    "\n",
    "- Labeled Data: Each flight record in the dataset has a known outcome (delayed or not delayed), allowing the model to learn from past examples with labeled outcomes.\n",
    "\n",
    "- Binary Output: The model’s objective is to classify each flight into one of two categories, \"Delay\" or \"No Delay,\" based on the input features.\n",
    "\n",
    "**Additionally, this classification problem is influenced by:**\n",
    "\n",
    "Imbalanced Classes: The \"No Delay\" instances are much more common than \"Delay\" instances, which requires careful handling to improve recall for the minority \"Delay\" class without sacrificing overall precision.\n",
    "\n",
    "In terms of machine learning paradigms, this problem fits into classification within supervised learning, as the goal is to assign a categorical label (delay or no delay) based on historical data."
   ]
  },
  {
   "cell_type": "markdown",
   "metadata": {},
   "source": [
    "### Setup\n",
    "\n",
    "Now that we have decided where to focus our energy, let's set things up so you can start working on solving the problem."
   ]
  },
  {
   "cell_type": "code",
   "execution_count": 1,
   "metadata": {},
   "outputs": [],
   "source": [
    "import os\n",
    "from pathlib2 import Path\n",
    "from zipfile import ZipFile\n",
    "import time\n",
    "\n",
    "import pandas as pd\n",
    "import numpy as np\n",
    "import subprocess\n",
    "\n",
    "import matplotlib.pyplot as plt\n",
    "import seaborn as sns\n",
    "\n",
    "sns.set()\n",
    "\n",
    "import warnings\n",
    "warnings.filterwarnings('ignore')\n",
    "\n",
    "%matplotlib inline\n",
    "\n",
    "# <please add any other library or function you are aiming to import here>\n",
    "from sklearn.model_selection import train_test_split\n"
   ]
  },
  {
   "cell_type": "markdown",
   "metadata": {},
   "source": [
    "# Step 2: Data preprocessing and visualization  \n",
    "In this data preprocessing phase, you should take the opportunity to explore and visualize your data to better understand it. First, import the necessary libraries and read the data into a Pandas dataframe. After that, explore your data. Look for the shape of the dataset and explore your columns and the types of columns you're working with (numerical, categorical). Consider performing basic statistics on the features to get a sense of feature means and ranges. Take a close look at your target column and determine its distribution.\n",
    "\n",
    "### Specific questions to consider\n",
    "1. What can you deduce from the basic statistics you ran on the features? \n",
    "\n",
    "2. What can you deduce from the distributions of the target classes?\n",
    "\n",
    "3. Is there anything else you deduced from exploring the data?"
   ]
  },
  {
   "cell_type": "markdown",
   "metadata": {},
   "source": [
    "Start by bringing in the dataset from an Amazon S3 public bucket to this notebook environment."
   ]
  },
  {
   "cell_type": "code",
   "execution_count": 2,
   "metadata": {},
   "outputs": [
    {
     "name": "stdout",
     "output_type": "stream",
     "text": [
      "Files will be extracted to the directory: f:\\Jeem Poralekha\\u3265713_DSTS_Assignment_2\\Final Assignment Folder\\data\\extracted_files\n"
     ]
    }
   ],
   "source": [
    "# download the files \n",
    "\n",
    "# All the zipfiles are stored in the data_compressed folder inside the data folder\n",
    "zip_path = './data/data_compressed'\n",
    "# The os.getcwd() returns the path to the directory where the script is running\n",
    "# The working directory is saved as base_path \n",
    "base_path = os.getcwd()\n",
    "# This line of code combines the base path with additional folders \n",
    "# This code creates the path for the folder where the csv files will be extracted \n",
    "csv_base_path = os.path.join(base_path, 'data', 'extracted_files')\n",
    "# This code takes the \"csv_base_path\" path and creates the new folder extracted_files \n",
    "# All the extracted data will be stored in this file  \n",
    "os.makedirs(csv_base_path, exist_ok=True)\n",
    "# Printing where the csv files will be extracted to \n",
    "print(\"Files will be extracted to the directory:\", csv_base_path)"
   ]
  },
  {
   "cell_type": "code",
   "execution_count": 3,
   "metadata": {},
   "outputs": [
    {
     "name": "stdout",
     "output_type": "stream",
     "text": [
      "Total number of zip files: 60\n"
     ]
    }
   ],
   "source": [
    "# How many zip files do we have? write a code to answer it.\n",
    "\n",
    "# This code creates a list of all the files and directories stored in zip_path folder which ends with .zip\n",
    "# Here list comprehension has been used to filter on the zip files by combining with the endswith() method\n",
    "zip_files_list = [file for file in os.listdir(zip_path) if file.endswith('.zip')]\n",
    "# By using f string the lenth of the zip_file_count has been printed out. \n",
    "print(f\"Total number of zip files: {len(zip_files_list)}\")\n"
   ]
  },
  {
   "cell_type": "markdown",
   "metadata": {},
   "source": [
    "#### Extract CSV files from ZIP files"
   ]
  },
  {
   "cell_type": "code",
   "execution_count": 4,
   "metadata": {
    "scrolled": true
   },
   "outputs": [
    {
     "name": "stdout",
     "output_type": "stream",
     "text": [
      "Extracting ./data/data_compressed\\On_Time_Reporting_Carrier_On_Time_Performance_1987_present_2014_1.zip\n",
      "Extracting ./data/data_compressed\\On_Time_Reporting_Carrier_On_Time_Performance_1987_present_2014_10.zip\n",
      "Extracting ./data/data_compressed\\On_Time_Reporting_Carrier_On_Time_Performance_1987_present_2014_11.zip\n",
      "Extracting ./data/data_compressed\\On_Time_Reporting_Carrier_On_Time_Performance_1987_present_2014_12.zip\n",
      "Extracting ./data/data_compressed\\On_Time_Reporting_Carrier_On_Time_Performance_1987_present_2014_2.zip\n",
      "Extracting ./data/data_compressed\\On_Time_Reporting_Carrier_On_Time_Performance_1987_present_2014_3.zip\n",
      "Extracting ./data/data_compressed\\On_Time_Reporting_Carrier_On_Time_Performance_1987_present_2014_4.zip\n",
      "Extracting ./data/data_compressed\\On_Time_Reporting_Carrier_On_Time_Performance_1987_present_2014_5.zip\n",
      "Extracting ./data/data_compressed\\On_Time_Reporting_Carrier_On_Time_Performance_1987_present_2014_6.zip\n",
      "Extracting ./data/data_compressed\\On_Time_Reporting_Carrier_On_Time_Performance_1987_present_2014_7.zip\n",
      "Extracting ./data/data_compressed\\On_Time_Reporting_Carrier_On_Time_Performance_1987_present_2014_8.zip\n",
      "Extracting ./data/data_compressed\\On_Time_Reporting_Carrier_On_Time_Performance_1987_present_2014_9.zip\n",
      "Extracting ./data/data_compressed\\On_Time_Reporting_Carrier_On_Time_Performance_1987_present_2015_1.zip\n",
      "Extracting ./data/data_compressed\\On_Time_Reporting_Carrier_On_Time_Performance_1987_present_2015_10.zip\n",
      "Extracting ./data/data_compressed\\On_Time_Reporting_Carrier_On_Time_Performance_1987_present_2015_11.zip\n",
      "Extracting ./data/data_compressed\\On_Time_Reporting_Carrier_On_Time_Performance_1987_present_2015_12.zip\n",
      "Extracting ./data/data_compressed\\On_Time_Reporting_Carrier_On_Time_Performance_1987_present_2015_2.zip\n",
      "Extracting ./data/data_compressed\\On_Time_Reporting_Carrier_On_Time_Performance_1987_present_2015_3.zip\n",
      "Extracting ./data/data_compressed\\On_Time_Reporting_Carrier_On_Time_Performance_1987_present_2015_4.zip\n",
      "Extracting ./data/data_compressed\\On_Time_Reporting_Carrier_On_Time_Performance_1987_present_2015_5.zip\n",
      "Extracting ./data/data_compressed\\On_Time_Reporting_Carrier_On_Time_Performance_1987_present_2015_6.zip\n",
      "Extracting ./data/data_compressed\\On_Time_Reporting_Carrier_On_Time_Performance_1987_present_2015_7.zip\n",
      "Extracting ./data/data_compressed\\On_Time_Reporting_Carrier_On_Time_Performance_1987_present_2015_8.zip\n",
      "Extracting ./data/data_compressed\\On_Time_Reporting_Carrier_On_Time_Performance_1987_present_2015_9.zip\n",
      "Extracting ./data/data_compressed\\On_Time_Reporting_Carrier_On_Time_Performance_1987_present_2016_1.zip\n",
      "Extracting ./data/data_compressed\\On_Time_Reporting_Carrier_On_Time_Performance_1987_present_2016_10.zip\n",
      "Extracting ./data/data_compressed\\On_Time_Reporting_Carrier_On_Time_Performance_1987_present_2016_11.zip\n",
      "Extracting ./data/data_compressed\\On_Time_Reporting_Carrier_On_Time_Performance_1987_present_2016_12.zip\n",
      "Extracting ./data/data_compressed\\On_Time_Reporting_Carrier_On_Time_Performance_1987_present_2016_2.zip\n",
      "Extracting ./data/data_compressed\\On_Time_Reporting_Carrier_On_Time_Performance_1987_present_2016_3.zip\n",
      "Extracting ./data/data_compressed\\On_Time_Reporting_Carrier_On_Time_Performance_1987_present_2016_4.zip\n",
      "Extracting ./data/data_compressed\\On_Time_Reporting_Carrier_On_Time_Performance_1987_present_2016_5.zip\n",
      "Extracting ./data/data_compressed\\On_Time_Reporting_Carrier_On_Time_Performance_1987_present_2016_6.zip\n",
      "Extracting ./data/data_compressed\\On_Time_Reporting_Carrier_On_Time_Performance_1987_present_2016_7.zip\n",
      "Extracting ./data/data_compressed\\On_Time_Reporting_Carrier_On_Time_Performance_1987_present_2016_8.zip\n",
      "Extracting ./data/data_compressed\\On_Time_Reporting_Carrier_On_Time_Performance_1987_present_2016_9.zip\n",
      "Extracting ./data/data_compressed\\On_Time_Reporting_Carrier_On_Time_Performance_1987_present_2017_1.zip\n",
      "Extracting ./data/data_compressed\\On_Time_Reporting_Carrier_On_Time_Performance_1987_present_2017_10.zip\n",
      "Extracting ./data/data_compressed\\On_Time_Reporting_Carrier_On_Time_Performance_1987_present_2017_11.zip\n",
      "Extracting ./data/data_compressed\\On_Time_Reporting_Carrier_On_Time_Performance_1987_present_2017_12.zip\n",
      "Extracting ./data/data_compressed\\On_Time_Reporting_Carrier_On_Time_Performance_1987_present_2017_2.zip\n",
      "Extracting ./data/data_compressed\\On_Time_Reporting_Carrier_On_Time_Performance_1987_present_2017_3.zip\n",
      "Extracting ./data/data_compressed\\On_Time_Reporting_Carrier_On_Time_Performance_1987_present_2017_4.zip\n",
      "Extracting ./data/data_compressed\\On_Time_Reporting_Carrier_On_Time_Performance_1987_present_2017_5.zip\n",
      "Extracting ./data/data_compressed\\On_Time_Reporting_Carrier_On_Time_Performance_1987_present_2017_6.zip\n",
      "Extracting ./data/data_compressed\\On_Time_Reporting_Carrier_On_Time_Performance_1987_present_2017_7.zip\n",
      "Extracting ./data/data_compressed\\On_Time_Reporting_Carrier_On_Time_Performance_1987_present_2017_8.zip\n",
      "Extracting ./data/data_compressed\\On_Time_Reporting_Carrier_On_Time_Performance_1987_present_2017_9.zip\n",
      "Extracting ./data/data_compressed\\On_Time_Reporting_Carrier_On_Time_Performance_1987_present_2018_1.zip\n",
      "Extracting ./data/data_compressed\\On_Time_Reporting_Carrier_On_Time_Performance_1987_present_2018_10.zip\n",
      "Extracting ./data/data_compressed\\On_Time_Reporting_Carrier_On_Time_Performance_1987_present_2018_11.zip\n",
      "Extracting ./data/data_compressed\\On_Time_Reporting_Carrier_On_Time_Performance_1987_present_2018_12.zip\n",
      "Extracting ./data/data_compressed\\On_Time_Reporting_Carrier_On_Time_Performance_1987_present_2018_2.zip\n",
      "Extracting ./data/data_compressed\\On_Time_Reporting_Carrier_On_Time_Performance_1987_present_2018_3.zip\n",
      "Extracting ./data/data_compressed\\On_Time_Reporting_Carrier_On_Time_Performance_1987_present_2018_4.zip\n",
      "Extracting ./data/data_compressed\\On_Time_Reporting_Carrier_On_Time_Performance_1987_present_2018_5.zip\n",
      "Extracting ./data/data_compressed\\On_Time_Reporting_Carrier_On_Time_Performance_1987_present_2018_6.zip\n",
      "Extracting ./data/data_compressed\\On_Time_Reporting_Carrier_On_Time_Performance_1987_present_2018_7.zip\n",
      "Extracting ./data/data_compressed\\On_Time_Reporting_Carrier_On_Time_Performance_1987_present_2018_8.zip\n",
      "Extracting ./data/data_compressed\\On_Time_Reporting_Carrier_On_Time_Performance_1987_present_2018_9.zip\n",
      "Files Extracted\n"
     ]
    }
   ],
   "source": [
    "def zip2csv(zipFile_name, file_path):\n",
    "    \"\"\"\n",
    "    Extract csv from zip files\n",
    "    zipFile_name: name of the zip file\n",
    "    file_path : name of the folder to store csv\n",
    "    \"\"\"\n",
    "    \"\"\"\n",
    "    This function takes the name of the Zip file and a target folder path as inputs \n",
    "    It uses a try-except block to handle errors during extraction\n",
    "    \"\"\"\n",
    "\n",
    "    try:\n",
    "        # The code will atttmpt to open the Zip file in read-only mode ('r)\n",
    "        with ZipFile(zipFile_name, 'r') as z: \n",
    "            # This print message will notify the user about the extractio of the current zip file \n",
    "            print(f'Extracting {zipFile_name}') \n",
    "            # This extracts the zip file z in the file_path \n",
    "            z.extractall(path=file_path) \n",
    "    # If there is an error during extraction, this will block the execution        \n",
    "    except:\n",
    "        # This will print the failed or the error message for the specified zip file \n",
    "        print(f'zip2csv failed for {zipFile_name}')\n",
    "\n",
    "# Listing all files in the zip_path directory and filter for files that end with '.zip'\n",
    "# os.path.join(zip_path, file): Joins the directory path and filename to form the full path for each ZIP file.\n",
    "zip_files = [os.path.join(zip_path, file) for file in os.listdir(zip_path) if file.endswith('.zip')]\n",
    "# Looping through each file in the zip_files folder and finally using the zip2csv to extract \n",
    "for file in zip_files:\n",
    "    zip2csv(file, csv_base_path)\n",
    "# After the loop is done the message \"Files Extracted\" will be printed \n",
    "print(\"Files Extracted\")"
   ]
  },
  {
   "cell_type": "code",
   "execution_count": 5,
   "metadata": {},
   "outputs": [
    {
     "name": "stdout",
     "output_type": "stream",
     "text": [
      "Number of CSV files extracted: 60\n"
     ]
    }
   ],
   "source": [
    "# How many csv files have we extracted? write a code to answer it.\n",
    "\n",
    "# Creating a list of the csv files which are stored in the csv_base_path \n",
    "csv_files_list = [file for file in os.listdir(csv_base_path) if file.endswith('.csv')]\n",
    "# Using f string and the len function printing the total number of csv files which were extracted. \n",
    "print(f\"Number of CSV files extracted: {len(csv_files_list)}\")"
   ]
  },
  {
   "cell_type": "markdown",
   "metadata": {},
   "source": [
    "Before loading the CSV file, read the HTML file from the extracted folder. This HTML file includes the background and more information on the features included in the dataset."
   ]
  },
  {
   "cell_type": "code",
   "execution_count": 6,
   "metadata": {},
   "outputs": [],
   "source": [
    "# from IPython.display import IFrame\n",
    "\n",
    "# IFrame(src=os.path.relpath(f\"{csv_base_path}readme.html\"), width=1000, height=600)"
   ]
  },
  {
   "cell_type": "code",
   "execution_count": 7,
   "metadata": {},
   "outputs": [
    {
     "data": {
      "text/html": [
       "<HTML>\n",
       "<HEAD>\n",
       "\t<TITLE> readme.html </TITLE>\n",
       "</HEAD>\n",
       "<BODY>\n",
       "\t<TABLE><TR><TD COLSPAN=2><H4>BACKGROUND</H4></TD></TR>\n",
       "\t<TR><TD COLSPAN=2>The data contained in the compressed file has been extracted from the \n",
       "\tReporting Carrier On-Time Performance (1987-present) data table of the \"On-Time\" database from the TranStats data library. \n",
       "\tThe time period is indicated in the name of the compressed file; \n",
       "\tfor example, XXX_XXXXX_2001_1 contains data of the first month of the year 2001. </TD></TR>\n",
       "\t<TR><TD COLSPAN=2>&nbsp;</TD></TR>\n",
       "\t<TR><TD COLSPAN=2><H4>RECORD LAYOUT</H4></TD></TR>\n",
       "\t<TR><TD COLSPAN=2>Below are fields in the order that they appear on the records:</TD></TR>\n",
       "\t<TR><TD>Year</TD><TD>Year</TD></TR>\n",
       "\t<TR><TD>Quarter</TD><TD>Quarter (1-4)</TD></TR>\n",
       "\t<TR><TD>Month</TD><TD>Month</TD></TR>\n",
       "\t<TR><TD>DayofMonth</TD><TD>Day of Month</TD></TR>\n",
       "\t<TR><TD>DayOfWeek</TD><TD>Day of Week</TD></TR>\n",
       "\t<TR><TD>FlightDate</TD><TD>Flight Date (yyyymmdd)</TD></TR>\n",
       "\t<TR><TD>Reporting_Airline</TD><TD>Unique Carrier Code. When the same code has been used by multiple carriers, a numeric suffix is used for earlier users, for example, PA, PA(1), PA(2). Use this field for analysis across a range of years.</TD></TR>\n",
       "\t<TR><TD>DOT_ID_Reporting_Airline</TD><TD>An identification number assigned by US DOT to identify a unique airline (carrier). A unique airline (carrier) is defined as one holding and reporting under the same DOT certificate regardless of its Code, Name, or holding company/corporation.</TD></TR>\n",
       "\t<TR><TD>IATA_CODE_Reporting_Airline</TD><TD>Code assigned by IATA and commonly used to identify a carrier. As the same code may have been assigned to different carriers over time, the code is not always unique. For analysis, use the Unique Carrier Code.</TD></TR>\n",
       "\t<TR><TD>Tail_Number</TD><TD>Tail Number</TD></TR>\n",
       "\t<TR><TD>Flight_Number_Reporting_Airline</TD><TD>Flight Number</TD></TR>\n",
       "\t<TR><TD>OriginAirportID</TD><TD>Origin Airport, Airport ID. An identification number assigned by US DOT to identify a unique airport.  Use this field for airport analysis across a range of years because an airport can change its airport code and airport codes can be reused.</TD></TR>\n",
       "\t<TR><TD>OriginAirportSeqID</TD><TD>Origin Airport, Airport Sequence ID. An identification number assigned by US DOT to identify a unique airport at a given point of time.  Airport attributes, such as airport name or coordinates, may change over time.</TD></TR>\n",
       "\t<TR><TD>OriginCityMarketID</TD><TD>Origin Airport, City Market ID. City Market ID is an identification number assigned by US DOT to identify a city market.  Use this field to consolidate airports serving the same city market.</TD></TR>\n",
       "\t<TR><TD>Origin</TD><TD>Origin Airport</TD></TR>\n",
       "\t<TR><TD>OriginCityName</TD><TD>Origin Airport, City Name</TD></TR>\n",
       "\t<TR><TD>OriginState</TD><TD>Origin Airport, State Code</TD></TR>\n",
       "\t<TR><TD>OriginStateFips</TD><TD>Origin Airport, State Fips</TD></TR>\n",
       "\t<TR><TD>OriginStateName</TD><TD>Origin Airport, State Name</TD></TR>\n",
       "\t<TR><TD>OriginWac</TD><TD>Origin Airport, World Area Code</TD></TR>\n",
       "\t<TR><TD>DestAirportID</TD><TD>Destination Airport, Airport ID. An identification number assigned by US DOT to identify a unique airport.  Use this field for airport analysis across a range of years because an airport can change its airport code and airport codes can be reused.</TD></TR>\n",
       "\t<TR><TD>DestAirportSeqID</TD><TD>Destination Airport, Airport Sequence ID. An identification number assigned by US DOT to identify a unique airport at a given point of time.  Airport attributes, such as airport name or coordinates, may change over time.</TD></TR>\n",
       "\t<TR><TD>DestCityMarketID</TD><TD>Destination Airport, City Market ID. City Market ID is an identification number assigned by US DOT to identify a city market.  Use this field to consolidate airports serving the same city market.</TD></TR>\n",
       "\t<TR><TD>Dest</TD><TD>Destination Airport</TD></TR>\n",
       "\t<TR><TD>DestCityName</TD><TD>Destination Airport, City Name</TD></TR>\n",
       "\t<TR><TD>DestState</TD><TD>Destination Airport, State Code</TD></TR>\n",
       "\t<TR><TD>DestStateFips</TD><TD>Destination Airport, State Fips</TD></TR>\n",
       "\t<TR><TD>DestStateName</TD><TD>Destination Airport, State Name</TD></TR>\n",
       "\t<TR><TD>DestWac</TD><TD>Destination Airport, World Area Code</TD></TR>\n",
       "\t<TR><TD>CRSDepTime</TD><TD>CRS Departure Time (local time: hhmm)</TD></TR>\n",
       "\t<TR><TD>DepTime</TD><TD>Actual Departure Time (local time: hhmm)</TD></TR>\n",
       "\t<TR><TD>DepDelay</TD><TD>Difference in minutes between scheduled and actual departure time. Early departures show negative numbers.</TD></TR>\n",
       "\t<TR><TD>DepDelayMinutes</TD><TD>Difference in minutes between scheduled and actual departure time. Early departures set to 0.</TD></TR>\n",
       "\t<TR><TD>DepDel15</TD><TD>Departure Delay Indicator, 15 Minutes or More (1=Yes)</TD></TR>\n",
       "\t<TR><TD>DepartureDelayGroups</TD><TD>Departure Delay intervals, every (15 minutes from <-15 to >180)</TD></TR>\n",
       "\t<TR><TD>DepTimeBlk</TD><TD>CRS Departure Time Block, Hourly Intervals</TD></TR>\n",
       "\t<TR><TD>TaxiOut</TD><TD>Taxi Out Time, in Minutes</TD></TR>\n",
       "\t<TR><TD>WheelsOff</TD><TD>Wheels Off Time (local time: hhmm)</TD></TR>\n",
       "\t<TR><TD>WheelsOn</TD><TD>Wheels On Time (local time: hhmm)</TD></TR>\n",
       "\t<TR><TD>TaxiIn</TD><TD>Taxi In Time, in Minutes</TD></TR>\n",
       "\t<TR><TD>CRSArrTime</TD><TD>CRS Arrival Time (local time: hhmm)</TD></TR>\n",
       "\t<TR><TD>ArrTime</TD><TD>Actual Arrival Time (local time: hhmm)</TD></TR>\n",
       "\t<TR><TD>ArrDelay</TD><TD>Difference in minutes between scheduled and actual arrival time. Early arrivals show negative numbers.</TD></TR>\n",
       "\t<TR><TD>ArrDelayMinutes</TD><TD>Difference in minutes between scheduled and actual arrival time. Early arrivals set to 0.</TD></TR>\n",
       "\t<TR><TD>ArrDel15</TD><TD>Arrival Delay Indicator, 15 Minutes or More (1=Yes)</TD></TR>\n",
       "\t<TR><TD>ArrivalDelayGroups</TD><TD>Arrival Delay intervals, every (15-minutes from <-15 to >180)</TD></TR>\n",
       "\t<TR><TD>ArrTimeBlk</TD><TD>CRS Arrival Time Block, Hourly Intervals</TD></TR>\n",
       "\t<TR><TD>Cancelled</TD><TD>Cancelled Flight Indicator (1=Yes)</TD></TR>\n",
       "\t<TR><TD>CancellationCode</TD><TD>Specifies The Reason For Cancellation</TD></TR>\n",
       "\t<TR><TD>Diverted</TD><TD>Diverted Flight Indicator (1=Yes)</TD></TR>\n",
       "\t<TR><TD>CRSElapsedTime</TD><TD>CRS Elapsed Time of Flight, in Minutes</TD></TR>\n",
       "\t<TR><TD>ActualElapsedTime</TD><TD>Elapsed Time of Flight, in Minutes</TD></TR>\n",
       "\t<TR><TD>AirTime</TD><TD>Flight Time, in Minutes</TD></TR>\n",
       "\t<TR><TD>Flights</TD><TD>Number of Flights</TD></TR>\n",
       "\t<TR><TD>Distance</TD><TD>Distance between airports (miles)</TD></TR>\n",
       "\t<TR><TD>DistanceGroup</TD><TD>Distance Intervals, every 250 Miles, for Flight Segment</TD></TR>\n",
       "\t<TR><TD>CarrierDelay</TD><TD>Carrier Delay, in Minutes</TD></TR>\n",
       "\t<TR><TD>WeatherDelay</TD><TD>Weather Delay, in Minutes</TD></TR>\n",
       "\t<TR><TD>NASDelay</TD><TD>National Air System Delay, in Minutes</TD></TR>\n",
       "\t<TR><TD>SecurityDelay</TD><TD>Security Delay, in Minutes</TD></TR>\n",
       "\t<TR><TD>LateAircraftDelay</TD><TD>Late Aircraft Delay, in Minutes</TD></TR>\n",
       "\t<TR><TD>FirstDepTime</TD><TD>First Gate Departure Time at Origin Airport</TD></TR>\n",
       "\t<TR><TD>TotalAddGTime</TD><TD>Total Ground Time Away from Gate for Gate Return or Cancelled Flight</TD></TR>\n",
       "\t<TR><TD>LongestAddGTime</TD><TD>Longest Time Away from Gate for Gate Return or Cancelled Flight</TD></TR>\n",
       "\t<TR><TD>DivAirportLandings</TD><TD>Number of Diverted Airport Landings</TD></TR>\n",
       "\t<TR><TD>DivReachedDest</TD><TD>Diverted Flight Reaching Scheduled Destination Indicator (1=Yes)</TD></TR>\n",
       "\t<TR><TD>DivActualElapsedTime</TD><TD>Elapsed Time of Diverted Flight Reaching Scheduled Destination, in Minutes.  The ActualElapsedTime column remains NULL for all diverted flights.</TD></TR>\n",
       "\t<TR><TD>DivArrDelay</TD><TD>Difference in minutes between scheduled and actual arrival time for a diverted flight reaching scheduled destination.  The ArrDelay column remains NULL for all diverted flights.</TD></TR>\n",
       "\t<TR><TD>DivDistance</TD><TD>Distance between scheduled destination and final diverted airport (miles).  Value will be 0 for diverted flight reaching scheduled destination.</TD></TR>\n",
       "\t<TR><TD>Div1Airport</TD><TD>Diverted Airport Code1</TD></TR>\n",
       "\t<TR><TD>Div1AirportID</TD><TD>Airport ID of Diverted Airport 1. Airport ID is a Unique Key for an Airport</TD></TR>\n",
       "\t<TR><TD>Div1AirportSeqID</TD><TD>Airport Sequence ID of Diverted Airport 1. Unique Key for Time Specific Information for an Airport</TD></TR>\n",
       "\t<TR><TD>Div1WheelsOn</TD><TD>Wheels On Time (local time: hhmm) at Diverted Airport Code1</TD></TR>\n",
       "\t<TR><TD>Div1TotalGTime</TD><TD>Total Ground Time Away from Gate at Diverted Airport Code1</TD></TR>\n",
       "\t<TR><TD>Div1LongestGTime</TD><TD>Longest Ground Time Away from Gate at Diverted Airport Code1</TD></TR>\n",
       "\t<TR><TD>Div1WheelsOff</TD><TD>Wheels Off Time (local time: hhmm) at Diverted Airport Code1</TD></TR>\n",
       "\t<TR><TD>Div1TailNum</TD><TD>Aircraft Tail Number for Diverted Airport Code1</TD></TR>\n",
       "\t<TR><TD>Div2Airport</TD><TD>Diverted Airport Code2</TD></TR>\n",
       "\t<TR><TD>Div2AirportID</TD><TD>Airport ID of Diverted Airport 2. Airport ID is a Unique Key for an Airport</TD></TR>\n",
       "\t<TR><TD>Div2AirportSeqID</TD><TD>Airport Sequence ID of Diverted Airport 2. Unique Key for Time Specific Information for an Airport</TD></TR>\n",
       "\t<TR><TD>Div2WheelsOn</TD><TD>Wheels On Time (local time: hhmm) at Diverted Airport Code2</TD></TR>\n",
       "\t<TR><TD>Div2TotalGTime</TD><TD>Total Ground Time Away from Gate at Diverted Airport Code2</TD></TR>\n",
       "\t<TR><TD>Div2LongestGTime</TD><TD>Longest Ground Time Away from Gate at Diverted Airport Code2</TD></TR>\n",
       "\t<TR><TD>Div2WheelsOff</TD><TD>Wheels Off Time (local time: hhmm) at Diverted Airport Code2</TD></TR>\n",
       "\t<TR><TD>Div2TailNum</TD><TD>Aircraft Tail Number for Diverted Airport Code2</TD></TR>\n",
       "\t<TR><TD>Div3Airport</TD><TD>Diverted Airport Code3</TD></TR>\n",
       "\t<TR><TD>Div3AirportID</TD><TD>Airport ID of Diverted Airport 3. Airport ID is a Unique Key for an Airport</TD></TR>\n",
       "\t<TR><TD>Div3AirportSeqID</TD><TD>Airport Sequence ID of Diverted Airport 3. Unique Key for Time Specific Information for an Airport</TD></TR>\n",
       "\t<TR><TD>Div3WheelsOn</TD><TD>Wheels On Time (local time: hhmm) at Diverted Airport Code3</TD></TR>\n",
       "\t<TR><TD>Div3TotalGTime</TD><TD>Total Ground Time Away from Gate at Diverted Airport Code3</TD></TR>\n",
       "\t<TR><TD>Div3LongestGTime</TD><TD>Longest Ground Time Away from Gate at Diverted Airport Code3</TD></TR>\n",
       "\t<TR><TD>Div3WheelsOff</TD><TD>Wheels Off Time (local time: hhmm) at Diverted Airport Code3</TD></TR>\n",
       "\t<TR><TD>Div3TailNum</TD><TD>Aircraft Tail Number for Diverted Airport Code3</TD></TR>\n",
       "\t<TR><TD>Div4Airport</TD><TD>Diverted Airport Code4</TD></TR>\n",
       "\t<TR><TD>Div4AirportID</TD><TD>Airport ID of Diverted Airport 4. Airport ID is a Unique Key for an Airport</TD></TR>\n",
       "\t<TR><TD>Div4AirportSeqID</TD><TD>Airport Sequence ID of Diverted Airport 4. Unique Key for Time Specific Information for an Airport</TD></TR>\n",
       "\t<TR><TD>Div4WheelsOn</TD><TD>Wheels On Time (local time: hhmm) at Diverted Airport Code4</TD></TR>\n",
       "\t<TR><TD>Div4TotalGTime</TD><TD>Total Ground Time Away from Gate at Diverted Airport Code4</TD></TR>\n",
       "\t<TR><TD>Div4LongestGTime</TD><TD>Longest Ground Time Away from Gate at Diverted Airport Code4</TD></TR>\n",
       "\t<TR><TD>Div4WheelsOff</TD><TD>Wheels Off Time (local time: hhmm) at Diverted Airport Code4</TD></TR>\n",
       "\t<TR><TD>Div4TailNum</TD><TD>Aircraft Tail Number for Diverted Airport Code4</TD></TR>\n",
       "\t<TR><TD>Div5Airport</TD><TD>Diverted Airport Code5</TD></TR>\n",
       "\t<TR><TD>Div5AirportID</TD><TD>Airport ID of Diverted Airport 5. Airport ID is a Unique Key for an Airport</TD></TR>\n",
       "\t<TR><TD>Div5AirportSeqID</TD><TD>Airport Sequence ID of Diverted Airport 5. Unique Key for Time Specific Information for an Airport</TD></TR>\n",
       "\t<TR><TD>Div5WheelsOn</TD><TD>Wheels On Time (local time: hhmm) at Diverted Airport Code5</TD></TR>\n",
       "\t<TR><TD>Div5TotalGTime</TD><TD>Total Ground Time Away from Gate at Diverted Airport Code5</TD></TR>\n",
       "\t<TR><TD>Div5LongestGTime</TD><TD>Longest Ground Time Away from Gate at Diverted Airport Code5</TD></TR>\n",
       "\t<TR><TD>Div5WheelsOff</TD><TD>Wheels Off Time (local time: hhmm) at Diverted Airport Code5</TD></TR>\n",
       "\t<TR><TD>Div5TailNum</TD><TD>Aircraft Tail Number for Diverted Airport Code5</TD></TR>\n",
       "\t</TABLE>\n",
       "</BODY>\n",
       "</HTML>\n"
      ],
      "text/plain": [
       "<IPython.core.display.HTML object>"
      ]
     },
     "metadata": {},
     "output_type": "display_data"
    }
   ],
   "source": [
    "# Importing the HTML display function from IPython to show the HTML here\n",
    "from IPython.display import HTML\n",
    "# Opening and displaying the HTML content directly\n",
    "# Opening the HTML file in read mode ('r') as a file object \n",
    "with open(f\"{csv_base_path}/readme.html\", \"r\") as file:\n",
    "    # Reading the entire content of the HTML file into a string variable\n",
    "    html_content = file.read()\n",
    "    #By using the display(HTML(..)) the entire HTML content has been rendered within the notebook \n",
    "    display(HTML(html_content))"
   ]
  },
  {
   "cell_type": "markdown",
   "metadata": {},
   "source": [
    "#### Load sample CSV\n",
    "\n",
    "Before combining all the CSV files, get a sense of the data from a single CSV file. Using Pandas, read the `On_Time_Reporting_Carrier_On_Time_Performance_(1987_present)_2018_9.csv` file first. You can use the Python built-in `read_csv` function ([documentation](https://pandas.pydata.org/pandas-docs/stable/reference/api/pandas.read_csv.html))."
   ]
  },
  {
   "cell_type": "code",
   "execution_count": 8,
   "metadata": {},
   "outputs": [
    {
     "data": {
      "text/html": [
       "<div>\n",
       "<style scoped>\n",
       "    .dataframe tbody tr th:only-of-type {\n",
       "        vertical-align: middle;\n",
       "    }\n",
       "\n",
       "    .dataframe tbody tr th {\n",
       "        vertical-align: top;\n",
       "    }\n",
       "\n",
       "    .dataframe thead th {\n",
       "        text-align: right;\n",
       "    }\n",
       "</style>\n",
       "<table border=\"1\" class=\"dataframe\">\n",
       "  <thead>\n",
       "    <tr style=\"text-align: right;\">\n",
       "      <th></th>\n",
       "      <th>Year</th>\n",
       "      <th>Quarter</th>\n",
       "      <th>Month</th>\n",
       "      <th>DayofMonth</th>\n",
       "      <th>DayOfWeek</th>\n",
       "      <th>FlightDate</th>\n",
       "      <th>Reporting_Airline</th>\n",
       "      <th>DOT_ID_Reporting_Airline</th>\n",
       "      <th>IATA_CODE_Reporting_Airline</th>\n",
       "      <th>Tail_Number</th>\n",
       "      <th>...</th>\n",
       "      <th>Div4TailNum</th>\n",
       "      <th>Div5Airport</th>\n",
       "      <th>Div5AirportID</th>\n",
       "      <th>Div5AirportSeqID</th>\n",
       "      <th>Div5WheelsOn</th>\n",
       "      <th>Div5TotalGTime</th>\n",
       "      <th>Div5LongestGTime</th>\n",
       "      <th>Div5WheelsOff</th>\n",
       "      <th>Div5TailNum</th>\n",
       "      <th>Unnamed: 109</th>\n",
       "    </tr>\n",
       "  </thead>\n",
       "  <tbody>\n",
       "    <tr>\n",
       "      <th>0</th>\n",
       "      <td>2018</td>\n",
       "      <td>3</td>\n",
       "      <td>9</td>\n",
       "      <td>3</td>\n",
       "      <td>1</td>\n",
       "      <td>2018-09-03</td>\n",
       "      <td>9E</td>\n",
       "      <td>20363</td>\n",
       "      <td>9E</td>\n",
       "      <td>N908XJ</td>\n",
       "      <td>...</td>\n",
       "      <td>NaN</td>\n",
       "      <td>NaN</td>\n",
       "      <td>NaN</td>\n",
       "      <td>NaN</td>\n",
       "      <td>NaN</td>\n",
       "      <td>NaN</td>\n",
       "      <td>NaN</td>\n",
       "      <td>NaN</td>\n",
       "      <td>NaN</td>\n",
       "      <td>NaN</td>\n",
       "    </tr>\n",
       "    <tr>\n",
       "      <th>1</th>\n",
       "      <td>2018</td>\n",
       "      <td>3</td>\n",
       "      <td>9</td>\n",
       "      <td>9</td>\n",
       "      <td>7</td>\n",
       "      <td>2018-09-09</td>\n",
       "      <td>9E</td>\n",
       "      <td>20363</td>\n",
       "      <td>9E</td>\n",
       "      <td>N315PQ</td>\n",
       "      <td>...</td>\n",
       "      <td>NaN</td>\n",
       "      <td>NaN</td>\n",
       "      <td>NaN</td>\n",
       "      <td>NaN</td>\n",
       "      <td>NaN</td>\n",
       "      <td>NaN</td>\n",
       "      <td>NaN</td>\n",
       "      <td>NaN</td>\n",
       "      <td>NaN</td>\n",
       "      <td>NaN</td>\n",
       "    </tr>\n",
       "    <tr>\n",
       "      <th>2</th>\n",
       "      <td>2018</td>\n",
       "      <td>3</td>\n",
       "      <td>9</td>\n",
       "      <td>10</td>\n",
       "      <td>1</td>\n",
       "      <td>2018-09-10</td>\n",
       "      <td>9E</td>\n",
       "      <td>20363</td>\n",
       "      <td>9E</td>\n",
       "      <td>N582CA</td>\n",
       "      <td>...</td>\n",
       "      <td>NaN</td>\n",
       "      <td>NaN</td>\n",
       "      <td>NaN</td>\n",
       "      <td>NaN</td>\n",
       "      <td>NaN</td>\n",
       "      <td>NaN</td>\n",
       "      <td>NaN</td>\n",
       "      <td>NaN</td>\n",
       "      <td>NaN</td>\n",
       "      <td>NaN</td>\n",
       "    </tr>\n",
       "    <tr>\n",
       "      <th>3</th>\n",
       "      <td>2018</td>\n",
       "      <td>3</td>\n",
       "      <td>9</td>\n",
       "      <td>13</td>\n",
       "      <td>4</td>\n",
       "      <td>2018-09-13</td>\n",
       "      <td>9E</td>\n",
       "      <td>20363</td>\n",
       "      <td>9E</td>\n",
       "      <td>N292PQ</td>\n",
       "      <td>...</td>\n",
       "      <td>NaN</td>\n",
       "      <td>NaN</td>\n",
       "      <td>NaN</td>\n",
       "      <td>NaN</td>\n",
       "      <td>NaN</td>\n",
       "      <td>NaN</td>\n",
       "      <td>NaN</td>\n",
       "      <td>NaN</td>\n",
       "      <td>NaN</td>\n",
       "      <td>NaN</td>\n",
       "    </tr>\n",
       "    <tr>\n",
       "      <th>4</th>\n",
       "      <td>2018</td>\n",
       "      <td>3</td>\n",
       "      <td>9</td>\n",
       "      <td>14</td>\n",
       "      <td>5</td>\n",
       "      <td>2018-09-14</td>\n",
       "      <td>9E</td>\n",
       "      <td>20363</td>\n",
       "      <td>9E</td>\n",
       "      <td>N600LR</td>\n",
       "      <td>...</td>\n",
       "      <td>NaN</td>\n",
       "      <td>NaN</td>\n",
       "      <td>NaN</td>\n",
       "      <td>NaN</td>\n",
       "      <td>NaN</td>\n",
       "      <td>NaN</td>\n",
       "      <td>NaN</td>\n",
       "      <td>NaN</td>\n",
       "      <td>NaN</td>\n",
       "      <td>NaN</td>\n",
       "    </tr>\n",
       "  </tbody>\n",
       "</table>\n",
       "<p>5 rows × 110 columns</p>\n",
       "</div>"
      ],
      "text/plain": [
       "   Year  Quarter  Month  DayofMonth  DayOfWeek  FlightDate Reporting_Airline  \\\n",
       "0  2018        3      9           3          1  2018-09-03                9E   \n",
       "1  2018        3      9           9          7  2018-09-09                9E   \n",
       "2  2018        3      9          10          1  2018-09-10                9E   \n",
       "3  2018        3      9          13          4  2018-09-13                9E   \n",
       "4  2018        3      9          14          5  2018-09-14                9E   \n",
       "\n",
       "   DOT_ID_Reporting_Airline IATA_CODE_Reporting_Airline Tail_Number  ...  \\\n",
       "0                     20363                          9E      N908XJ  ...   \n",
       "1                     20363                          9E      N315PQ  ...   \n",
       "2                     20363                          9E      N582CA  ...   \n",
       "3                     20363                          9E      N292PQ  ...   \n",
       "4                     20363                          9E      N600LR  ...   \n",
       "\n",
       "   Div4TailNum  Div5Airport  Div5AirportID  Div5AirportSeqID Div5WheelsOn  \\\n",
       "0          NaN          NaN            NaN               NaN          NaN   \n",
       "1          NaN          NaN            NaN               NaN          NaN   \n",
       "2          NaN          NaN            NaN               NaN          NaN   \n",
       "3          NaN          NaN            NaN               NaN          NaN   \n",
       "4          NaN          NaN            NaN               NaN          NaN   \n",
       "\n",
       "  Div5TotalGTime Div5LongestGTime  Div5WheelsOff Div5TailNum  Unnamed: 109  \n",
       "0            NaN              NaN            NaN         NaN           NaN  \n",
       "1            NaN              NaN            NaN         NaN           NaN  \n",
       "2            NaN              NaN            NaN         NaN           NaN  \n",
       "3            NaN              NaN            NaN         NaN           NaN  \n",
       "4            NaN              NaN            NaN         NaN           NaN  \n",
       "\n",
       "[5 rows x 110 columns]"
      ]
     },
     "execution_count": 8,
     "metadata": {},
     "output_type": "execute_result"
    }
   ],
   "source": [
    "# Defining the path to the sample csv file located in the extracted directory (csv_base_path)\n",
    "# I just copied the name of the file from the question\n",
    "csv_file_path = os.path.join(csv_base_path, 'On_Time_Reporting_Carrier_On_Time_Performance_(1987_present)_2018_9.csv')\n",
    "# Loading the the sample csv by using the file path created above \n",
    "df_temp = pd.read_csv(csv_file_path)\n",
    "# Displaying the first few rows of the DataFrame\n",
    "df_temp.head()"
   ]
  },
  {
   "cell_type": "markdown",
   "metadata": {},
   "source": [
    "**Question**: Print the row and column length in the dataset, and print the column names."
   ]
  },
  {
   "cell_type": "code",
   "execution_count": 9,
   "metadata": {},
   "outputs": [
    {
     "name": "stdout",
     "output_type": "stream",
     "text": [
      "Rows and columns in one csv file is (585749, 110)\n"
     ]
    }
   ],
   "source": [
    "# Printing the row and column length of the dataset\n",
    "\n",
    "# Using the .shape attribute, to print the rows and columns  \n",
    "df_shape = df_temp.shape\n",
    "print(f'Rows and columns in one csv file is {df_shape}')"
   ]
  },
  {
   "cell_type": "markdown",
   "metadata": {},
   "source": [
    "**Question**: Print the first 10 rows of the dataset.  "
   ]
  },
  {
   "cell_type": "code",
   "execution_count": 10,
   "metadata": {},
   "outputs": [
    {
     "name": "stdout",
     "output_type": "stream",
     "text": [
      "   Year  Quarter  Month  DayofMonth  DayOfWeek  FlightDate Reporting_Airline  \\\n",
      "0  2018        3      9           3          1  2018-09-03                9E   \n",
      "1  2018        3      9           9          7  2018-09-09                9E   \n",
      "2  2018        3      9          10          1  2018-09-10                9E   \n",
      "3  2018        3      9          13          4  2018-09-13                9E   \n",
      "4  2018        3      9          14          5  2018-09-14                9E   \n",
      "5  2018        3      9          16          7  2018-09-16                9E   \n",
      "6  2018        3      9          17          1  2018-09-17                9E   \n",
      "7  2018        3      9          20          4  2018-09-20                9E   \n",
      "8  2018        3      9          21          5  2018-09-21                9E   \n",
      "9  2018        3      9          23          7  2018-09-23                9E   \n",
      "\n",
      "   DOT_ID_Reporting_Airline IATA_CODE_Reporting_Airline Tail_Number  ...  \\\n",
      "0                     20363                          9E      N908XJ  ...   \n",
      "1                     20363                          9E      N315PQ  ...   \n",
      "2                     20363                          9E      N582CA  ...   \n",
      "3                     20363                          9E      N292PQ  ...   \n",
      "4                     20363                          9E      N600LR  ...   \n",
      "5                     20363                          9E      N316PQ  ...   \n",
      "6                     20363                          9E      N916XJ  ...   \n",
      "7                     20363                          9E      N371CA  ...   \n",
      "8                     20363                          9E      N601LR  ...   \n",
      "9                     20363                          9E      N906XJ  ...   \n",
      "\n",
      "   Div4TailNum  Div5Airport  Div5AirportID  Div5AirportSeqID Div5WheelsOn  \\\n",
      "0          NaN          NaN            NaN               NaN          NaN   \n",
      "1          NaN          NaN            NaN               NaN          NaN   \n",
      "2          NaN          NaN            NaN               NaN          NaN   \n",
      "3          NaN          NaN            NaN               NaN          NaN   \n",
      "4          NaN          NaN            NaN               NaN          NaN   \n",
      "5          NaN          NaN            NaN               NaN          NaN   \n",
      "6          NaN          NaN            NaN               NaN          NaN   \n",
      "7          NaN          NaN            NaN               NaN          NaN   \n",
      "8          NaN          NaN            NaN               NaN          NaN   \n",
      "9          NaN          NaN            NaN               NaN          NaN   \n",
      "\n",
      "  Div5TotalGTime Div5LongestGTime  Div5WheelsOff Div5TailNum  Unnamed: 109  \n",
      "0            NaN              NaN            NaN         NaN           NaN  \n",
      "1            NaN              NaN            NaN         NaN           NaN  \n",
      "2            NaN              NaN            NaN         NaN           NaN  \n",
      "3            NaN              NaN            NaN         NaN           NaN  \n",
      "4            NaN              NaN            NaN         NaN           NaN  \n",
      "5            NaN              NaN            NaN         NaN           NaN  \n",
      "6            NaN              NaN            NaN         NaN           NaN  \n",
      "7            NaN              NaN            NaN         NaN           NaN  \n",
      "8            NaN              NaN            NaN         NaN           NaN  \n",
      "9            NaN              NaN            NaN         NaN           NaN  \n",
      "\n",
      "[10 rows x 110 columns]\n"
     ]
    }
   ],
   "source": [
    "# Printing the first ten rows of the dataset\n",
    "\n",
    "# By using the head method the first ten rows were printed\n",
    "print(df_temp.head(10))"
   ]
  },
  {
   "cell_type": "markdown",
   "metadata": {},
   "source": [
    "**Question**: Print all the columns in the dataset. Use `<dataframe>.columns` to view the column names."
   ]
  },
  {
   "cell_type": "code",
   "execution_count": 11,
   "metadata": {},
   "outputs": [
    {
     "name": "stdout",
     "output_type": "stream",
     "text": [
      "The column names are :\n",
      "\n",
      "#########\n",
      "\n",
      "Year\n",
      "Quarter\n",
      "Month\n",
      "DayofMonth\n",
      "DayOfWeek\n",
      "FlightDate\n",
      "Reporting_Airline\n",
      "DOT_ID_Reporting_Airline\n",
      "IATA_CODE_Reporting_Airline\n",
      "Tail_Number\n",
      "Flight_Number_Reporting_Airline\n",
      "OriginAirportID\n",
      "OriginAirportSeqID\n",
      "OriginCityMarketID\n",
      "Origin\n",
      "OriginCityName\n",
      "OriginState\n",
      "OriginStateFips\n",
      "OriginStateName\n",
      "OriginWac\n",
      "DestAirportID\n",
      "DestAirportSeqID\n",
      "DestCityMarketID\n",
      "Dest\n",
      "DestCityName\n",
      "DestState\n",
      "DestStateFips\n",
      "DestStateName\n",
      "DestWac\n",
      "CRSDepTime\n",
      "DepTime\n",
      "DepDelay\n",
      "DepDelayMinutes\n",
      "DepDel15\n",
      "DepartureDelayGroups\n",
      "DepTimeBlk\n",
      "TaxiOut\n",
      "WheelsOff\n",
      "WheelsOn\n",
      "TaxiIn\n",
      "CRSArrTime\n",
      "ArrTime\n",
      "ArrDelay\n",
      "ArrDelayMinutes\n",
      "ArrDel15\n",
      "ArrivalDelayGroups\n",
      "ArrTimeBlk\n",
      "Cancelled\n",
      "CancellationCode\n",
      "Diverted\n",
      "CRSElapsedTime\n",
      "ActualElapsedTime\n",
      "AirTime\n",
      "Flights\n",
      "Distance\n",
      "DistanceGroup\n",
      "CarrierDelay\n",
      "WeatherDelay\n",
      "NASDelay\n",
      "SecurityDelay\n",
      "LateAircraftDelay\n",
      "FirstDepTime\n",
      "TotalAddGTime\n",
      "LongestAddGTime\n",
      "DivAirportLandings\n",
      "DivReachedDest\n",
      "DivActualElapsedTime\n",
      "DivArrDelay\n",
      "DivDistance\n",
      "Div1Airport\n",
      "Div1AirportID\n",
      "Div1AirportSeqID\n",
      "Div1WheelsOn\n",
      "Div1TotalGTime\n",
      "Div1LongestGTime\n",
      "Div1WheelsOff\n",
      "Div1TailNum\n",
      "Div2Airport\n",
      "Div2AirportID\n",
      "Div2AirportSeqID\n",
      "Div2WheelsOn\n",
      "Div2TotalGTime\n",
      "Div2LongestGTime\n",
      "Div2WheelsOff\n",
      "Div2TailNum\n",
      "Div3Airport\n",
      "Div3AirportID\n",
      "Div3AirportSeqID\n",
      "Div3WheelsOn\n",
      "Div3TotalGTime\n",
      "Div3LongestGTime\n",
      "Div3WheelsOff\n",
      "Div3TailNum\n",
      "Div4Airport\n",
      "Div4AirportID\n",
      "Div4AirportSeqID\n",
      "Div4WheelsOn\n",
      "Div4TotalGTime\n",
      "Div4LongestGTime\n",
      "Div4WheelsOff\n",
      "Div4TailNum\n",
      "Div5Airport\n",
      "Div5AirportID\n",
      "Div5AirportSeqID\n",
      "Div5WheelsOn\n",
      "Div5TotalGTime\n",
      "Div5LongestGTime\n",
      "Div5WheelsOff\n",
      "Div5TailNum\n",
      "Unnamed: 109\n"
     ]
    }
   ],
   "source": [
    "# Printing the column names of the dataframe \n",
    "\n",
    "# Printing a message to indicate the output of the column names \n",
    "print(f'The column names are :\\n')\n",
    "# Adding a seperator line for better readability in the output \n",
    "print('#########\\n')\n",
    "# Iterating over each column name which can be accessed by using .column attribute of pandas \n",
    "for col in df_temp.columns:\n",
    "    print(col)"
   ]
  },
  {
   "cell_type": "markdown",
   "metadata": {},
   "source": [
    "**Question**: Print all the columns in the dataset that contain the word 'Del'. This will help you see how many columns have delay data in them.\n",
    "\n",
    "**Hint**: You can use a Python list comprehension to include values that pass certain `if` statement criteria.\n",
    "\n",
    "For example: `[x for x in [1,2,3,4,5] if x > 2]`  \n",
    "\n",
    "**Hint**: You can use the `in` keyword ([documentation](https://www.w3schools.com/python/ref_keyword_in.asp)) to check if the value is in a list or not. \n",
    "\n",
    "For example: `5 in [1,2,3,4,5]`"
   ]
  },
  {
   "cell_type": "code",
   "execution_count": 12,
   "metadata": {},
   "outputs": [
    {
     "name": "stdout",
     "output_type": "stream",
     "text": [
      "Columns containing 'Del': ['DepDelay', 'DepDelayMinutes', 'DepDel15', 'DepartureDelayGroups', 'ArrDelay', 'ArrDelayMinutes', 'ArrDel15', 'ArrivalDelayGroups', 'CarrierDelay', 'WeatherDelay', 'NASDelay', 'SecurityDelay', 'LateAircraftDelay', 'DivArrDelay']\n"
     ]
    }
   ],
   "source": [
    "# Printing all the clumns in the dataset which contain the word \"Del\"\n",
    "\n",
    "# Creating a list of the columns which contain the substring 'Del' in the names \n",
    "del_columns = [col for col in df_temp.columns if 'Del' in col]\n",
    "# Printing the names of the columns that contain 'Del' \n",
    "print(f\"Columns containing 'Del': {del_columns}\")"
   ]
  },
  {
   "cell_type": "markdown",
   "metadata": {},
   "source": [
    "Here are some more questions to help you find out more about your dataset.\n",
    "\n",
    "**Questions**   \n",
    "1. How many rows and columns does the dataset have?   \n",
    "2. How many years are included in the dataset?   \n",
    "3. What is the date range for the dataset?   \n",
    "4. Which airlines are included in the dataset?   \n",
    "5. Which origin and destination airports are covered?"
   ]
  },
  {
   "cell_type": "code",
   "execution_count": 13,
   "metadata": {},
   "outputs": [
    {
     "name": "stdout",
     "output_type": "stream",
     "text": [
      "The #rows and #columns are  585749  and  110\n",
      "The years in this dataset are:  [2018]\n",
      "The months covered in this dataset are:  [9]\n",
      "The date range for data is: 2018-09-01  to  2018-09-30\n",
      "The airlines covered in this dataset are:  ['9E', 'B6', 'WN', 'YV', 'YX', 'EV', 'AA', 'AS', 'DL', 'HA', 'UA', 'F9', 'G4', 'MQ', 'NK', 'OH', 'OO']\n",
      "The Origin airports covered are:  ['DFW', 'LGA', 'MSN', 'MSP', 'ATL', 'BDL', 'VLD', 'JFK', 'RDU', 'CHS', 'DTW', 'GRB', 'PVD', 'SHV', 'FNT', 'PIT', 'RIC', 'RST', 'RSW', 'CVG', 'LIT', 'ORD', 'JAX', 'TRI', 'BOS', 'CWA', 'DCA', 'CHO', 'AVP', 'IND', 'GRR', 'BTR', 'MEM', 'TUL', 'CLE', 'STL', 'BTV', 'OMA', 'MGM', 'TVC', 'SAV', 'GSP', 'EWR', 'OAJ', 'BNA', 'MCI', 'TLH', 'ROC', 'LEX', 'PWM', 'BUF', 'AGS', 'CLT', 'GSO', 'BWI', 'SAT', 'PHL', 'TYS', 'ACK', 'DSM', 'GNV', 'AVL', 'BGR', 'MHT', 'ILM', 'MOT', 'IAH', 'SBN', 'SYR', 'ORF', 'MKE', 'XNA', 'MSY', 'PBI', 'ABE', 'HPN', 'EVV', 'ALB', 'LNK', 'AUS', 'PHF', 'CHA', 'GTR', 'BMI', 'BQK', 'CID', 'CAK', 'ATW', 'ABY', 'CAE', 'SRQ', 'MLI', 'BHM', 'IAD', 'CSG', 'CMH', 'MCO', 'MBS', 'FLL', 'SDF', 'TPA', 'MVY', 'LAS', 'LGB', 'SFO', 'SAN', 'LAX', 'RNO', 'PDX', 'ANC', 'ABQ', 'SLC', 'DEN', 'PHX', 'OAK', 'SMF', 'SJU', 'SEA', 'HOU', 'STX', 'BUR', 'SWF', 'SJC', 'DAB', 'BQN', 'PSE', 'ORH', 'HYA', 'STT', 'ONT', 'HRL', 'ICT', 'ISP', 'LBB', 'MAF', 'MDW', 'OKC', 'PNS', 'SNA', 'TUS', 'AMA', 'BOI', 'CRP', 'DAL', 'ECP', 'ELP', 'GEG', 'LFT', 'MFE', 'MDT', 'JAN', 'COS', 'MOB', 'VPS', 'MTJ', 'DRO', 'GPT', 'BFL', 'MRY', 'SBA', 'PSP', 'FSD', 'BRO', 'RAP', 'COU', 'STS', 'PIA', 'FAT', 'SBP', 'FSM', 'HSV', 'BIS', 'DAY', 'BZN', 'MIA', 'EYW', 'MYR', 'HHH', 'GJT', 'FAR', 'SGF', 'HOB', 'CLL', 'LRD', 'AEX', 'ERI', 'MLU', 'LCH', 'ROA', 'LAW', 'MHK', 'GRK', 'SAF', 'GRI', 'JLN', 'ROW', 'FWA', 'CRW', 'LAN', 'OGG', 'HNL', 'KOA', 'EGE', 'LIH', 'MLB', 'JAC', 'FAI', 'RDM', 'ADQ', 'BET', 'BRW', 'SCC', 'KTN', 'YAK', 'CDV', 'JNU', 'SIT', 'PSG', 'WRG', 'OME', 'OTZ', 'ADK', 'FCA', 'FAY', 'PSC', 'BIL', 'MSO', 'ITO', 'PPG', 'MFR', 'EUG', 'GUM', 'SPN', 'DLH', 'TTN', 'BKG', 'SFB', 'PIE', 'PGD', 'AZA', 'SMX', 'RFD', 'SCK', 'OWB', 'HTS', 'BLV', 'IAG', 'USA', 'GFK', 'BLI', 'ELM', 'PBG', 'LCK', 'GTF', 'OGD', 'IDA', 'PVU', 'TOL', 'PSM', 'CKB', 'HGR', 'SPI', 'STC', 'ACT', 'TYR', 'ABI', 'AZO', 'CMI', 'BPT', 'GCK', 'MQT', 'ALO', 'TXK', 'SPS', 'SWO', 'DBQ', 'SUX', 'SJT', 'GGG', 'LSE', 'LBE', 'ACY', 'LYH', 'PGV', 'HVN', 'EWN', 'DHN', 'PIH', 'IMT', 'WYS', 'CPR', 'SCE', 'HLN', 'SUN', 'ISN', 'CMX', 'EAU', 'LWB', 'SHD', 'LBF', 'HYS', 'SLN', 'EAR', 'VEL', 'CNY', 'GCC', 'RKS', 'PUB', 'LBL', 'MKG', 'PAH', 'CGI', 'UIN', 'BFF', 'DVL', 'JMS', 'LAR', 'SGU', 'PRC', 'ASE', 'RDD', 'ACV', 'OTH', 'COD', 'LWS', 'ABR', 'APN', 'ESC', 'PLN', 'BJI', 'BRD', 'BTM', 'CDC', 'CIU', 'EKO', 'TWF', 'HIB', 'BGM', 'RHI', 'ITH', 'INL', 'FLG', 'YUM', 'MEI', 'PIB', 'HDN']\n",
      "The Destination airports covered are:  ['CVG', 'PWM', 'RDU', 'MSP', 'MSN', 'SHV', 'CLT', 'PIT', 'RIC', 'IAH', 'ATL', 'JFK', 'DCA', 'DTW', 'LGA', 'TYS', 'PVD', 'FNT', 'LIT', 'BUF', 'ORD', 'TRI', 'IND', 'BGR', 'AVP', 'BWI', 'LEX', 'BDL', 'GRR', 'CWA', 'TUL', 'MEM', 'AGS', 'EWR', 'MGM', 'PHL', 'SYR', 'OMA', 'STL', 'TVC', 'ORF', 'CLE', 'ABY', 'BOS', 'OAJ', 'TLH', 'BTR', 'SAT', 'JAX', 'BNA', 'CHO', 'VLD', 'ROC', 'DFW', 'GNV', 'ACK', 'PBI', 'CHS', 'GRB', 'MOT', 'MKE', 'DSM', 'ILM', 'GSO', 'MCI', 'SBN', 'BTV', 'MVY', 'XNA', 'RST', 'EVV', 'HPN', 'RSW', 'MDT', 'ROA', 'GSP', 'MCO', 'CSG', 'SAV', 'PHF', 'ALB', 'CHA', 'ABE', 'BMI', 'MSY', 'IAD', 'GTR', 'CID', 'CAK', 'ATW', 'AUS', 'BQK', 'MLI', 'CAE', 'CMH', 'AVL', 'MBS', 'FLL', 'SDF', 'TPA', 'LNK', 'SRQ', 'MHT', 'BHM', 'LAS', 'SFO', 'SAN', 'RNO', 'LGB', 'ANC', 'PDX', 'SJU', 'ABQ', 'SLC', 'DEN', 'LAX', 'PHX', 'OAK', 'SMF', 'SEA', 'STX', 'BUR', 'DAB', 'SJC', 'SWF', 'HOU', 'BQN', 'PSE', 'ORH', 'HYA', 'STT', 'ONT', 'DAL', 'ECP', 'ELP', 'HRL', 'MAF', 'MDW', 'OKC', 'PNS', 'SNA', 'AMA', 'BOI', 'GEG', 'ICT', 'LBB', 'TUS', 'ISP', 'CRP', 'MFE', 'LFT', 'VPS', 'JAN', 'COS', 'MOB', 'DRO', 'GPT', 'BFL', 'COU', 'SBP', 'MTJ', 'SBA', 'PSP', 'FSD', 'FSM', 'BRO', 'PIA', 'STS', 'FAT', 'RAP', 'MRY', 'HSV', 'BIS', 'DAY', 'BZN', 'MIA', 'EYW', 'MYR', 'HHH', 'GJT', 'FAR', 'MLU', 'LRD', 'CLL', 'LCH', 'FWA', 'GRK', 'SGF', 'HOB', 'LAW', 'MHK', 'SAF', 'JLN', 'ROW', 'GRI', 'AEX', 'CRW', 'LAN', 'ERI', 'HNL', 'KOA', 'OGG', 'EGE', 'LIH', 'JAC', 'MLB', 'RDM', 'BET', 'ADQ', 'BRW', 'SCC', 'FAI', 'JNU', 'CDV', 'YAK', 'SIT', 'KTN', 'WRG', 'PSG', 'OME', 'OTZ', 'ADK', 'FCA', 'BIL', 'PSC', 'FAY', 'MSO', 'ITO', 'PPG', 'MFR', 'DLH', 'EUG', 'GUM', 'SPN', 'TTN', 'BKG', 'AZA', 'SFB', 'LCK', 'BLI', 'SCK', 'PIE', 'RFD', 'PVU', 'PBG', 'BLV', 'PGD', 'SPI', 'USA', 'TOL', 'IDA', 'ELM', 'HTS', 'HGR', 'SMX', 'OGD', 'GFK', 'STC', 'GTF', 'IAG', 'CKB', 'OWB', 'PSM', 'ABI', 'TYR', 'ALO', 'SUX', 'AZO', 'ACT', 'CMI', 'BPT', 'TXK', 'SWO', 'SPS', 'DBQ', 'SJT', 'GGG', 'LSE', 'MQT', 'GCK', 'LBE', 'ACY', 'LYH', 'PGV', 'HVN', 'EWN', 'DHN', 'PIH', 'WYS', 'SCE', 'IMT', 'HLN', 'ASE', 'SUN', 'ISN', 'EAR', 'SGU', 'VEL', 'SHD', 'LWB', 'MKG', 'SLN', 'HYS', 'BFF', 'PUB', 'LBL', 'CMX', 'EAU', 'PAH', 'UIN', 'RKS', 'CGI', 'CNY', 'JMS', 'DVL', 'LAR', 'GCC', 'LBF', 'PRC', 'RDD', 'ACV', 'OTH', 'COD', 'LWS', 'ABR', 'APN', 'PLN', 'BJI', 'CPR', 'BRD', 'BTM', 'CDC', 'CIU', 'ESC', 'EKO', 'ITH', 'HIB', 'BGM', 'TWF', 'RHI', 'INL', 'FLG', 'YUM', 'MEI', 'PIB', 'HDN']\n"
     ]
    }
   ],
   "source": [
    "# to answer above questions, the codes have been completed\n",
    "\n",
    "# Printing Number of rows and columns in the temporary dataframe \n",
    "# .shape[0] gives the number of rows, .shape[1] gives the number of columns\n",
    "print(\"The #rows and #columns are \", df_temp.shape[0], \" and \", df_temp.shape[1])\n",
    "# Printing the unique years in the 'Year' column to see the range of years in the dataset\n",
    "# .unique() is used to list unique values present in the column\n",
    "print(\"The years in this dataset are: \", df_temp['Year'].unique())\n",
    "# Printing the unique months in the 'Month' column to identify which months are covered\n",
    "# Using .unique() to get distinct month values in the dataset\n",
    "print(\"The months covered in this dataset are: \", df_temp['Month'].unique())\n",
    "# Printing the date range by finding the earliest and latest dates in 'FlightDate' column\n",
    "# min() finds the earliest date, max() finds the latest date\n",
    "print(\"The date range for data is:\", min(df_temp['FlightDate']), \" to \", max(df_temp['FlightDate']))\n",
    "# Getting the list of airlines by getting the unique values in 'Reporting_Airline'\n",
    "# Using .unique() to find all distinct airline codes\n",
    "print(\"The airlines covered in this dataset are: \", list(df_temp['Reporting_Airline'].unique()))\n",
    "# Identifying the unique origin airports by finding the distinct values in 'Origin'\n",
    "# .unique() provides a list of all unique origin airport codes\n",
    "print(\"The Origin airports covered are: \", list(df_temp['Origin'].unique()))\n",
    "# Identifying the unique destination airports by getting the distinct values in 'Dest' column\n",
    "# .unique() is used to list all unique destination airport codes in the dataset\n",
    "print(\"The Destination airports covered are: \", list(df_temp['Dest'].unique()))"
   ]
  },
  {
   "cell_type": "markdown",
   "metadata": {},
   "source": [
    "**Question**: What is the count of all the origin and destination airports?\n",
    "\n",
    "**Hint**: You can use the Pandas `values_count` function ([documentation](https://pandas.pydata.org/pandas-docs/stable/reference/api/pandas.Series.value_counts.html)) to find out the values for each airport using the columns `Origin` and `Dest`."
   ]
  },
  {
   "cell_type": "code",
   "execution_count": 14,
   "metadata": {},
   "outputs": [
    {
     "data": {
      "text/html": [
       "<div>\n",
       "<style scoped>\n",
       "    .dataframe tbody tr th:only-of-type {\n",
       "        vertical-align: middle;\n",
       "    }\n",
       "\n",
       "    .dataframe tbody tr th {\n",
       "        vertical-align: top;\n",
       "    }\n",
       "\n",
       "    .dataframe thead th {\n",
       "        text-align: right;\n",
       "    }\n",
       "</style>\n",
       "<table border=\"1\" class=\"dataframe\">\n",
       "  <thead>\n",
       "    <tr style=\"text-align: right;\">\n",
       "      <th></th>\n",
       "      <th>Origin</th>\n",
       "      <th>Destination</th>\n",
       "    </tr>\n",
       "  </thead>\n",
       "  <tbody>\n",
       "    <tr>\n",
       "      <th>ABE</th>\n",
       "      <td>303</td>\n",
       "      <td>303</td>\n",
       "    </tr>\n",
       "    <tr>\n",
       "      <th>ABI</th>\n",
       "      <td>169</td>\n",
       "      <td>169</td>\n",
       "    </tr>\n",
       "    <tr>\n",
       "      <th>ABQ</th>\n",
       "      <td>2077</td>\n",
       "      <td>2076</td>\n",
       "    </tr>\n",
       "    <tr>\n",
       "      <th>ABR</th>\n",
       "      <td>60</td>\n",
       "      <td>60</td>\n",
       "    </tr>\n",
       "    <tr>\n",
       "      <th>ABY</th>\n",
       "      <td>79</td>\n",
       "      <td>79</td>\n",
       "    </tr>\n",
       "    <tr>\n",
       "      <th>...</th>\n",
       "      <td>...</td>\n",
       "      <td>...</td>\n",
       "    </tr>\n",
       "    <tr>\n",
       "      <th>WRG</th>\n",
       "      <td>60</td>\n",
       "      <td>60</td>\n",
       "    </tr>\n",
       "    <tr>\n",
       "      <th>WYS</th>\n",
       "      <td>52</td>\n",
       "      <td>52</td>\n",
       "    </tr>\n",
       "    <tr>\n",
       "      <th>XNA</th>\n",
       "      <td>1004</td>\n",
       "      <td>1004</td>\n",
       "    </tr>\n",
       "    <tr>\n",
       "      <th>YAK</th>\n",
       "      <td>60</td>\n",
       "      <td>60</td>\n",
       "    </tr>\n",
       "    <tr>\n",
       "      <th>YUM</th>\n",
       "      <td>96</td>\n",
       "      <td>96</td>\n",
       "    </tr>\n",
       "  </tbody>\n",
       "</table>\n",
       "<p>346 rows × 2 columns</p>\n",
       "</div>"
      ],
      "text/plain": [
       "     Origin  Destination\n",
       "ABE     303          303\n",
       "ABI     169          169\n",
       "ABQ    2077         2076\n",
       "ABR      60           60\n",
       "ABY      79           79\n",
       "..      ...          ...\n",
       "WRG      60           60\n",
       "WYS      52           52\n",
       "XNA    1004         1004\n",
       "YAK      60           60\n",
       "YUM      96           96\n",
       "\n",
       "[346 rows x 2 columns]"
      ]
     },
     "execution_count": 14,
     "metadata": {},
     "output_type": "execute_result"
    }
   ],
   "source": [
    "# Creating a DataFrame that includes the counts of each airport in the 'Origin' and 'Dest' columns\n",
    "# Using .value_counts() to get the count of occurrences for each unique value in the 'Origin' column\n",
    "# Using .value_counts() to get the count of occurrences for each unique value in the 'Dest' column\n",
    "counts = pd.DataFrame({\n",
    "    'Origin': df_temp['Origin'].value_counts(), \n",
    "    'Destination': df_temp['Dest'].value_counts()\n",
    "})\n",
    "\n",
    "counts\n"
   ]
  },
  {
   "cell_type": "markdown",
   "metadata": {},
   "source": [
    "**Question**: Print the top 15 origin and destination airports based on number of flights in the dataset.\n",
    "\n",
    "**Hint**: You can use the Pandas `sort_values` function ([documentation](https://pandas.pydata.org/pandas-docs/stable/reference/api/pandas.DataFrame.sort_values.html))."
   ]
  },
  {
   "cell_type": "code",
   "execution_count": 15,
   "metadata": {},
   "outputs": [
    {
     "data": {
      "text/html": [
       "<div>\n",
       "<style scoped>\n",
       "    .dataframe tbody tr th:only-of-type {\n",
       "        vertical-align: middle;\n",
       "    }\n",
       "\n",
       "    .dataframe tbody tr th {\n",
       "        vertical-align: top;\n",
       "    }\n",
       "\n",
       "    .dataframe thead th {\n",
       "        text-align: right;\n",
       "    }\n",
       "</style>\n",
       "<table border=\"1\" class=\"dataframe\">\n",
       "  <thead>\n",
       "    <tr style=\"text-align: right;\">\n",
       "      <th></th>\n",
       "      <th>Origin</th>\n",
       "      <th>Destination</th>\n",
       "    </tr>\n",
       "  </thead>\n",
       "  <tbody>\n",
       "    <tr>\n",
       "      <th>ATL</th>\n",
       "      <td>31525</td>\n",
       "      <td>31521</td>\n",
       "    </tr>\n",
       "    <tr>\n",
       "      <th>ORD</th>\n",
       "      <td>28257</td>\n",
       "      <td>28250</td>\n",
       "    </tr>\n",
       "    <tr>\n",
       "      <th>DFW</th>\n",
       "      <td>22802</td>\n",
       "      <td>22795</td>\n",
       "    </tr>\n",
       "    <tr>\n",
       "      <th>DEN</th>\n",
       "      <td>19807</td>\n",
       "      <td>19807</td>\n",
       "    </tr>\n",
       "    <tr>\n",
       "      <th>CLT</th>\n",
       "      <td>19655</td>\n",
       "      <td>19654</td>\n",
       "    </tr>\n",
       "    <tr>\n",
       "      <th>LAX</th>\n",
       "      <td>17875</td>\n",
       "      <td>17873</td>\n",
       "    </tr>\n",
       "    <tr>\n",
       "      <th>SFO</th>\n",
       "      <td>14332</td>\n",
       "      <td>14348</td>\n",
       "    </tr>\n",
       "    <tr>\n",
       "      <th>IAH</th>\n",
       "      <td>14210</td>\n",
       "      <td>14203</td>\n",
       "    </tr>\n",
       "    <tr>\n",
       "      <th>LGA</th>\n",
       "      <td>13850</td>\n",
       "      <td>13850</td>\n",
       "    </tr>\n",
       "    <tr>\n",
       "      <th>MSP</th>\n",
       "      <td>13349</td>\n",
       "      <td>13347</td>\n",
       "    </tr>\n",
       "    <tr>\n",
       "      <th>LAS</th>\n",
       "      <td>13318</td>\n",
       "      <td>13322</td>\n",
       "    </tr>\n",
       "    <tr>\n",
       "      <th>PHX</th>\n",
       "      <td>13126</td>\n",
       "      <td>13128</td>\n",
       "    </tr>\n",
       "    <tr>\n",
       "      <th>DTW</th>\n",
       "      <td>12725</td>\n",
       "      <td>12724</td>\n",
       "    </tr>\n",
       "    <tr>\n",
       "      <th>BOS</th>\n",
       "      <td>12223</td>\n",
       "      <td>12227</td>\n",
       "    </tr>\n",
       "    <tr>\n",
       "      <th>SEA</th>\n",
       "      <td>11872</td>\n",
       "      <td>11877</td>\n",
       "    </tr>\n",
       "  </tbody>\n",
       "</table>\n",
       "</div>"
      ],
      "text/plain": [
       "     Origin  Destination\n",
       "ATL   31525        31521\n",
       "ORD   28257        28250\n",
       "DFW   22802        22795\n",
       "DEN   19807        19807\n",
       "CLT   19655        19654\n",
       "LAX   17875        17873\n",
       "SFO   14332        14348\n",
       "IAH   14210        14203\n",
       "LGA   13850        13850\n",
       "MSP   13349        13347\n",
       "LAS   13318        13322\n",
       "PHX   13126        13128\n",
       "DTW   12725        12724\n",
       "BOS   12223        12227\n",
       "SEA   11872        11877"
      ]
     },
     "execution_count": 15,
     "metadata": {},
     "output_type": "execute_result"
    }
   ],
   "source": [
    "# Sorting the 'counts' DataFrame first by the 'Origin' column in descending order\n",
    "# If there are ties in the 'Origin' counts, it then sorts by the 'Destination' column, also in descending order\n",
    "# This combined sorting allows us to see airports ranked by origin first, then destination counts in case of a tie\n",
    "# Displaying the top 15 rows after sorting to get the highest-ranking origin and destination airports\n",
    "counts.sort_values(by=['Origin', 'Destination'], ascending=False).head(15)"
   ]
  },
  {
   "cell_type": "markdown",
   "metadata": {},
   "source": [
    "**Question**: Given all the information about a flight trip, can you predict if it would be delayed?"
   ]
  },
  {
   "cell_type": "markdown",
   "metadata": {},
   "source": [
    "Given all the information about a flight trip, including details about origin and destination airports, airlines, flight schedules, and weather conditions, we can use machine learning to predict whether a flight would be delayed. The dataset we’ve examined includes crucial features related to delays, such as departure and arrival times, delay minutes, and various types of delays (e.g., carrier delay, weather delay, etc.), along with other characteristics of each flight.\n",
    "\n",
    "With this comprehensive dataset, we could build a predictive model. Key features that may influence flight delays include:\n",
    "\n",
    "Scheduled departure and arrival times: Certain times of day or seasons may have higher delays.\n",
    "\n",
    "Origin and destination airports: High-traffic airports may have a higher probability of delays.\n",
    "\n",
    "Weather conditions: Weather delay information and location-specific weather can impact delays.\n",
    "\n",
    "Airline: Different airlines may have varying performance and on-time rates.\n",
    "\n",
    "Using this information, a classification model can be trained to predict whether a flight is likely to be delayed. By analyzing past data and identifying patterns, such a model can provide an estimated probability of delay, helping improve customer experience by offering insights during booking.\n",
    "\n",
    "**-End of answer-**"
   ]
  },
  {
   "cell_type": "markdown",
   "metadata": {},
   "source": [
    "Now, assume you are traveling from San Francisco to Los Angeles on a work trip. You want to have an ideas if your flight will be delayed, given a set of features, so that you can manage your reservations in Los Angeles better. How many features from this dataset would you know before your flight?\n",
    "\n",
    "Columns such as `DepDelay`, `ArrDelay`, `CarrierDelay`, `WeatherDelay`, `NASDelay`, `SecurityDelay`, `LateAircraftDelay`, and `DivArrDelay` contain information about a delay. But this delay could have occured at the origin or destination. If there were a sudden weather delay 10 minutes before landing, this data would not be helpful in managing your Los Angeles reservations.\n",
    "\n",
    "So to simplify the problem statement, consider the following columns to predict an arrival delay:<br>\n",
    "\n",
    "`Year`, `Quarter`, `Month`, `DayofMonth`, `DayOfWeek`, `FlightDate`, `Reporting_Airline`, `Origin`, `OriginState`, `Dest`, `DestState`, `CRSDepTime`, `DepDelayMinutes`, `DepartureDelayGroups`, `Cancelled`, `Diverted`, `Distance`, `DistanceGroup`, `ArrDelay`, `ArrDelayMinutes`, `ArrDel15`, `AirTime`\n",
    "\n",
    "You will also filter the source and destination airports to be:\n",
    "- Top airports: ATL, ORD, DFW, DEN, CLT, LAX, IAH, PHX, SFO\n",
    "- Top 5 airlines: UA, OO, WN, AA, DL\n",
    "\n",
    "This should help in reducing the size of data across the CSV files to be combined."
   ]
  },
  {
   "cell_type": "markdown",
   "metadata": {},
   "source": [
    "#### Combine all CSV files\n",
    "\n",
    "**Hint**:  \n",
    "First, create an empy dataframe that you will use to copy your individual dataframes from each file. Then, for each file in the `csv_files` list:\n",
    "\n",
    "1. Read the CSV file into a dataframe  \n",
    "2. Filter the columns based on the `filter_cols` variable\n",
    "\n",
    "```\n",
    "        columns = ['col1', 'col2']\n",
    "        df_filter = df[columns]\n",
    "```\n",
    "\n",
    "3. Keep only the subset_vals in each of the subset_cols. Use the `isin` Pandas function ([documentation](https://pandas.pydata.org/pandas-docs/stable/reference/api/pandas.DataFrame.isin.html)) to check if the `val` is in the dataframe column and then choose the rows that include it.\n",
    "\n",
    "```\n",
    "        df_eg[df_eg['col1'].isin('5')]\n",
    "```\n",
    "\n",
    "4. Concatenate the dataframe with the empty dataframe "
   ]
  },
  {
   "cell_type": "code",
   "execution_count": 16,
   "metadata": {},
   "outputs": [],
   "source": [
    "def combine_csv(csv_files, filter_cols, subset_cols, subset_vals, file_name):\n",
    "    \"\"\"\n",
    "    Combine csv files into one DataFrame.\n",
    "    csv_files: list of csv file paths\n",
    "    filter_cols: list of columns to filter\n",
    "    subset_cols: list of columns to subset rows\n",
    "    subset_vals: list of list of values to subset rows\n",
    "    file_name: name of the file to save the combined DataFrame\n",
    "    \"\"\"\n",
    "    # Creating an empty DataFrame to store the combined data from all CSV files \n",
    "    df = pd.DataFrame()\n",
    "    # Looping through each CSV file in the provided list of files\n",
    "    for file in csv_files:\n",
    "        # Reading the current CSV file into a dataframe\n",
    "        temp_df = pd.read_csv(file)\n",
    "        # Filter the columns based on filter_cols variable which has been created above \n",
    "        # This filtering is being done on the temporary dataframe \n",
    "        temp_df_filtered = temp_df[filter_cols]\n",
    "        # Applying row filtering for each subset column and subset values\n",
    "        # Each col and vals pair is used to filter specific values in the DataFrame\n",
    "        for col, vals in zip(subset_cols, subset_vals):\n",
    "            temp_df_filtered = temp_df_filtered[temp_df_filtered[col].isin(vals)]\n",
    "        # Concatenate the filtered temporary dataframe with the main dataframe\n",
    "        # ignore_index=True reindexes the combined DataFrame to ensure continuity\n",
    "        df = pd.concat([df, temp_df_filtered], ignore_index=True)\n",
    "    # Save the final combined DataFrame to a CSV file with the given file name  \n",
    "    df.to_csv(file_name, index=False)\n",
    "    \n",
    "    return df"
   ]
  },
  {
   "cell_type": "code",
   "execution_count": 17,
   "metadata": {},
   "outputs": [],
   "source": [
    "#cols is the list of columns to predict Arrival Delay \n",
    "cols = ['Year','Quarter','Month','DayofMonth','DayOfWeek','FlightDate',\n",
    "        'Reporting_Airline','Origin','OriginState','Dest','DestState',\n",
    "        'CRSDepTime','Cancelled','Diverted','Distance','DistanceGroup',\n",
    "        'ArrDelay','ArrDelayMinutes','ArrDel15','AirTime']\n",
    "\n",
    "subset_cols = ['Origin', 'Dest', 'Reporting_Airline']\n",
    "\n",
    "# subset_vals is a list collection of the top origin and destination airports and top 5 airlines\n",
    "subset_vals = [['ATL', 'ORD', 'DFW', 'DEN', 'CLT', 'LAX', 'IAH', 'PHX', 'SFO'], \n",
    "               ['ATL', 'ORD', 'DFW', 'DEN', 'CLT', 'LAX', 'IAH', 'PHX', 'SFO'], \n",
    "               ['UA', 'OO', 'WN', 'AA', 'DL']]\n",
    "\n",
    "# Creating a list of file paths for all CSV files in the 'csv_base_path' directory\n",
    "csv_files = [os.path.join(csv_base_path, file) for file in os.listdir(csv_base_path) if file.endswith('.csv')]"
   ]
  },
  {
   "cell_type": "markdown",
   "metadata": {},
   "source": [
    "Use the function above to merge all the different files into a single file that you can read easily. \n",
    "\n",
    "**Note**: This will take 5-7 minutes to complete."
   ]
  },
  {
   "cell_type": "code",
   "execution_count": 18,
   "metadata": {},
   "outputs": [
    {
     "name": "stdout",
     "output_type": "stream",
     "text": [
      "CSV files merged in 3.38 minutes\n"
     ]
    }
   ],
   "source": [
    "# Starting the timer\n",
    "start = time.time()\n",
    "# Defining the filename for the combined CSV\n",
    "combined_csv_filename = f\"{base_path}/combined_files.csv\"\n",
    "# Using the combine_csv function to merge all CSV files\n",
    "combine_csv(csv_files, cols, subset_cols, subset_vals, combined_csv_filename)\n",
    "# Printing the time taken to complete the merge\n",
    "print(f'CSV files merged in {round((time.time() - start) / 60, 2)} minutes')"
   ]
  },
  {
   "cell_type": "markdown",
   "metadata": {},
   "source": [
    "#### Load dataset\n",
    "\n",
    "Load the combined dataset."
   ]
  },
  {
   "cell_type": "code",
   "execution_count": 19,
   "metadata": {},
   "outputs": [],
   "source": [
    "# Reading the new combined_files.csv \n",
    "data = pd.read_csv('combined_files.csv')"
   ]
  },
  {
   "cell_type": "markdown",
   "metadata": {},
   "source": [
    "Print the first 5 records."
   ]
  },
  {
   "cell_type": "code",
   "execution_count": 20,
   "metadata": {},
   "outputs": [
    {
     "data": {
      "text/html": [
       "<div>\n",
       "<style scoped>\n",
       "    .dataframe tbody tr th:only-of-type {\n",
       "        vertical-align: middle;\n",
       "    }\n",
       "\n",
       "    .dataframe tbody tr th {\n",
       "        vertical-align: top;\n",
       "    }\n",
       "\n",
       "    .dataframe thead th {\n",
       "        text-align: right;\n",
       "    }\n",
       "</style>\n",
       "<table border=\"1\" class=\"dataframe\">\n",
       "  <thead>\n",
       "    <tr style=\"text-align: right;\">\n",
       "      <th></th>\n",
       "      <th>Year</th>\n",
       "      <th>Quarter</th>\n",
       "      <th>Month</th>\n",
       "      <th>DayofMonth</th>\n",
       "      <th>DayOfWeek</th>\n",
       "      <th>FlightDate</th>\n",
       "      <th>Reporting_Airline</th>\n",
       "      <th>Origin</th>\n",
       "      <th>OriginState</th>\n",
       "      <th>Dest</th>\n",
       "      <th>DestState</th>\n",
       "      <th>CRSDepTime</th>\n",
       "      <th>Cancelled</th>\n",
       "      <th>Diverted</th>\n",
       "      <th>Distance</th>\n",
       "      <th>DistanceGroup</th>\n",
       "      <th>ArrDelay</th>\n",
       "      <th>ArrDelayMinutes</th>\n",
       "      <th>ArrDel15</th>\n",
       "      <th>AirTime</th>\n",
       "    </tr>\n",
       "  </thead>\n",
       "  <tbody>\n",
       "    <tr>\n",
       "      <th>0</th>\n",
       "      <td>2014</td>\n",
       "      <td>1</td>\n",
       "      <td>1</td>\n",
       "      <td>26</td>\n",
       "      <td>7</td>\n",
       "      <td>2014-01-26</td>\n",
       "      <td>DL</td>\n",
       "      <td>ATL</td>\n",
       "      <td>GA</td>\n",
       "      <td>IAH</td>\n",
       "      <td>TX</td>\n",
       "      <td>2145</td>\n",
       "      <td>0.0</td>\n",
       "      <td>0.0</td>\n",
       "      <td>689.0</td>\n",
       "      <td>3</td>\n",
       "      <td>-20.0</td>\n",
       "      <td>0.0</td>\n",
       "      <td>0.0</td>\n",
       "      <td>99.0</td>\n",
       "    </tr>\n",
       "    <tr>\n",
       "      <th>1</th>\n",
       "      <td>2014</td>\n",
       "      <td>1</td>\n",
       "      <td>1</td>\n",
       "      <td>26</td>\n",
       "      <td>7</td>\n",
       "      <td>2014-01-26</td>\n",
       "      <td>DL</td>\n",
       "      <td>DFW</td>\n",
       "      <td>TX</td>\n",
       "      <td>ATL</td>\n",
       "      <td>GA</td>\n",
       "      <td>945</td>\n",
       "      <td>0.0</td>\n",
       "      <td>0.0</td>\n",
       "      <td>731.0</td>\n",
       "      <td>3</td>\n",
       "      <td>-3.0</td>\n",
       "      <td>0.0</td>\n",
       "      <td>0.0</td>\n",
       "      <td>98.0</td>\n",
       "    </tr>\n",
       "    <tr>\n",
       "      <th>2</th>\n",
       "      <td>2014</td>\n",
       "      <td>1</td>\n",
       "      <td>1</td>\n",
       "      <td>26</td>\n",
       "      <td>7</td>\n",
       "      <td>2014-01-26</td>\n",
       "      <td>DL</td>\n",
       "      <td>ATL</td>\n",
       "      <td>GA</td>\n",
       "      <td>DEN</td>\n",
       "      <td>CO</td>\n",
       "      <td>1855</td>\n",
       "      <td>0.0</td>\n",
       "      <td>0.0</td>\n",
       "      <td>1199.0</td>\n",
       "      <td>5</td>\n",
       "      <td>-7.0</td>\n",
       "      <td>0.0</td>\n",
       "      <td>0.0</td>\n",
       "      <td>174.0</td>\n",
       "    </tr>\n",
       "    <tr>\n",
       "      <th>3</th>\n",
       "      <td>2014</td>\n",
       "      <td>1</td>\n",
       "      <td>1</td>\n",
       "      <td>26</td>\n",
       "      <td>7</td>\n",
       "      <td>2014-01-26</td>\n",
       "      <td>DL</td>\n",
       "      <td>ATL</td>\n",
       "      <td>GA</td>\n",
       "      <td>PHX</td>\n",
       "      <td>AZ</td>\n",
       "      <td>1634</td>\n",
       "      <td>0.0</td>\n",
       "      <td>0.0</td>\n",
       "      <td>1587.0</td>\n",
       "      <td>7</td>\n",
       "      <td>-4.0</td>\n",
       "      <td>0.0</td>\n",
       "      <td>0.0</td>\n",
       "      <td>233.0</td>\n",
       "    </tr>\n",
       "    <tr>\n",
       "      <th>4</th>\n",
       "      <td>2014</td>\n",
       "      <td>1</td>\n",
       "      <td>1</td>\n",
       "      <td>26</td>\n",
       "      <td>7</td>\n",
       "      <td>2014-01-26</td>\n",
       "      <td>DL</td>\n",
       "      <td>PHX</td>\n",
       "      <td>AZ</td>\n",
       "      <td>ATL</td>\n",
       "      <td>GA</td>\n",
       "      <td>700</td>\n",
       "      <td>0.0</td>\n",
       "      <td>0.0</td>\n",
       "      <td>1587.0</td>\n",
       "      <td>7</td>\n",
       "      <td>-13.0</td>\n",
       "      <td>0.0</td>\n",
       "      <td>0.0</td>\n",
       "      <td>179.0</td>\n",
       "    </tr>\n",
       "  </tbody>\n",
       "</table>\n",
       "</div>"
      ],
      "text/plain": [
       "   Year  Quarter  Month  DayofMonth  DayOfWeek  FlightDate Reporting_Airline  \\\n",
       "0  2014        1      1          26          7  2014-01-26                DL   \n",
       "1  2014        1      1          26          7  2014-01-26                DL   \n",
       "2  2014        1      1          26          7  2014-01-26                DL   \n",
       "3  2014        1      1          26          7  2014-01-26                DL   \n",
       "4  2014        1      1          26          7  2014-01-26                DL   \n",
       "\n",
       "  Origin OriginState Dest DestState  CRSDepTime  Cancelled  Diverted  \\\n",
       "0    ATL          GA  IAH        TX        2145        0.0       0.0   \n",
       "1    DFW          TX  ATL        GA         945        0.0       0.0   \n",
       "2    ATL          GA  DEN        CO        1855        0.0       0.0   \n",
       "3    ATL          GA  PHX        AZ        1634        0.0       0.0   \n",
       "4    PHX          AZ  ATL        GA         700        0.0       0.0   \n",
       "\n",
       "   Distance  DistanceGroup  ArrDelay  ArrDelayMinutes  ArrDel15  AirTime  \n",
       "0     689.0              3     -20.0              0.0       0.0     99.0  \n",
       "1     731.0              3      -3.0              0.0       0.0     98.0  \n",
       "2    1199.0              5      -7.0              0.0       0.0    174.0  \n",
       "3    1587.0              7      -4.0              0.0       0.0    233.0  \n",
       "4    1587.0              7     -13.0              0.0       0.0    179.0  "
      ]
     },
     "execution_count": 20,
     "metadata": {},
     "output_type": "execute_result"
    }
   ],
   "source": [
    "# Printing the first 5 records\n",
    "# Using the head method  \n",
    "data.head(5)\n"
   ]
  },
  {
   "cell_type": "markdown",
   "metadata": {},
   "source": [
    "Here are some more questions to help you find out more about your dataset.\n",
    "\n",
    "**Questions**   \n",
    "1. How many rows and columns does the dataset have?   \n",
    "2. How many years are included in the dataset?   \n",
    "3. What is the date range for the dataset?   \n",
    "4. Which airlines are included in the dataset?   \n",
    "5. Which origin and destination airports are covered?"
   ]
  },
  {
   "cell_type": "code",
   "execution_count": 21,
   "metadata": {},
   "outputs": [
    {
     "name": "stdout",
     "output_type": "stream",
     "text": [
      "The #rows and #columns are  1658130  and  20\n",
      "The years in this dataset are:  [2014, 2015, 2016, 2017, 2018]\n",
      "The months covered in this dataset are:  [1, 2, 3, 4, 5, 6, 7, 8, 9, 10, 11, 12]\n",
      "The date range for data is:  2014-01-01  to  2018-12-31\n",
      "The airlines covered in this dataset are:  ['DL', 'OO', 'WN', 'UA', 'AA']\n",
      "The Origin airports covered are:  ['ATL', 'DFW', 'PHX', 'DEN', 'IAH', 'CLT', 'SFO', 'LAX', 'ORD']\n",
      "The Destination airports covered are:  ['IAH', 'ATL', 'DEN', 'PHX', 'CLT', 'LAX', 'DFW', 'SFO', 'ORD']\n"
     ]
    }
   ],
   "source": [
    "# to answer above questions, the following codes have been completed\n",
    "\n",
    "# Printing the number of rows and columns in the dataset\n",
    "# data.shape[0] provides the row count, and data.shape[1] gives the column count\n",
    "print(\"The #rows and #columns are \", data.shape[0], \" and \", data.shape[1])\n",
    "# Getting the unique years included in the dataset from the 'Year' column\n",
    "# .unique() is used to get all distinct years, and list() converts the output to a list format\n",
    "print(\"The years in this dataset are: \", list(data['Year'].unique()))\n",
    "# Fetching the unique months covered in the dataset from the 'Month' column\n",
    "# .unique() gets all distinct months, sorted() arranges them in ascending order, and list() formats the output as a list\n",
    "print(\"The months covered in this dataset are: \", sorted(list(data['Month'].unique())))\n",
    "# Finding the date range in the dataset by looking at the earliest and latest dates in the 'FlightDate' column\n",
    "# min() finds the earliest date, max() finds the latest date, providing the range\n",
    "print(\"The date range for data is: \", min(data['FlightDate']), \" to \", max(data['FlightDate']))\n",
    "# Getting the unique airlines included in the dataset from the 'Reporting_Airline' column\n",
    "# .unique() is used to get all distinct airline codes, and list() formats it as a list\n",
    "print(\"The airlines covered in this dataset are: \", list(data['Reporting_Airline'].unique()))\n",
    "# Fetching the unique origin airports from the 'Origin' column\n",
    "# .unique() finds all unique origin airport codes, and list() converts the result to a list format\n",
    "print(\"The Origin airports covered are: \", list(data['Origin'].unique()))\n",
    "# Getting the unique destination airports from the 'Dest' column\n",
    "# .unique() gets all unique destination airport codes, and list() formats the output as a list\n",
    "print(\"The Destination airports covered are: \", list(data['Dest'].unique()))"
   ]
  },
  {
   "cell_type": "markdown",
   "metadata": {},
   "source": [
    "Let's define our **target column : is_delay** (1 - if arrival time delayed more than 15 minutes, 0 - otherwise). Use the `rename` method to rename the column from `ArrDel15` to `is_delay`.\n",
    "\n",
    "**Hint**: You can use the Pandas `rename` function ([documentation](https://pandas.pydata.org/pandas-docs/stable/reference/api/pandas.DataFrame.rename.html)).\n",
    "\n",
    "For example:\n",
    "```\n",
    "df.rename(columns={'col1':'column1'}, inplace=True)\n",
    "```"
   ]
  },
  {
   "cell_type": "code",
   "execution_count": 22,
   "metadata": {},
   "outputs": [
    {
     "name": "stdout",
     "output_type": "stream",
     "text": [
      "   Year  Quarter  Month  DayofMonth  DayOfWeek  FlightDate Reporting_Airline  \\\n",
      "0  2014        1      1          26          7  2014-01-26                DL   \n",
      "1  2014        1      1          26          7  2014-01-26                DL   \n",
      "2  2014        1      1          26          7  2014-01-26                DL   \n",
      "3  2014        1      1          26          7  2014-01-26                DL   \n",
      "4  2014        1      1          26          7  2014-01-26                DL   \n",
      "\n",
      "  Origin OriginState Dest DestState  CRSDepTime  Cancelled  Diverted  \\\n",
      "0    ATL          GA  IAH        TX        2145        0.0       0.0   \n",
      "1    DFW          TX  ATL        GA         945        0.0       0.0   \n",
      "2    ATL          GA  DEN        CO        1855        0.0       0.0   \n",
      "3    ATL          GA  PHX        AZ        1634        0.0       0.0   \n",
      "4    PHX          AZ  ATL        GA         700        0.0       0.0   \n",
      "\n",
      "   Distance  DistanceGroup  ArrDelay  ArrDelayMinutes  is_delay  AirTime  \n",
      "0     689.0              3     -20.0              0.0       0.0     99.0  \n",
      "1     731.0              3      -3.0              0.0       0.0     98.0  \n",
      "2    1199.0              5      -7.0              0.0       0.0    174.0  \n",
      "3    1587.0              7      -4.0              0.0       0.0    233.0  \n",
      "4    1587.0              7     -13.0              0.0       0.0    179.0  \n"
     ]
    }
   ],
   "source": [
    "# Rename the 'ArrDel15' column to 'is_delay'\n",
    "data.rename(columns={'ArrDel15': 'is_delay'}, inplace=True)\n",
    "\n",
    "# Check if the renaming is done\n",
    "# This will show the first few rows of the dataset with the updated column name\n",
    "print(data.head())  "
   ]
  },
  {
   "cell_type": "markdown",
   "metadata": {},
   "source": [
    "Look for nulls across columns. You can use the `isnull()` function ([documentation](https://pandas.pydata.org/pandas-docs/version/0.17.0/generated/pandas.isnull.html)).\n",
    "\n",
    "**Hint**: `isnull()` detects whether the particular value is null or not and gives you a boolean (True or False) in its place. Use the `sum(axis=0)` function to sum up the number of columns."
   ]
  },
  {
   "cell_type": "code",
   "execution_count": 23,
   "metadata": {},
   "outputs": [
    {
     "name": "stdout",
     "output_type": "stream",
     "text": [
      "Year                     0\n",
      "Quarter                  0\n",
      "Month                    0\n",
      "DayofMonth               0\n",
      "DayOfWeek                0\n",
      "FlightDate               0\n",
      "Reporting_Airline        0\n",
      "Origin                   0\n",
      "OriginState              0\n",
      "Dest                     0\n",
      "DestState                0\n",
      "CRSDepTime               0\n",
      "Cancelled                0\n",
      "Diverted                 0\n",
      "Distance                 0\n",
      "DistanceGroup            0\n",
      "ArrDelay             22540\n",
      "ArrDelayMinutes      22540\n",
      "is_delay             22540\n",
      "AirTime              22540\n",
      "dtype: int64\n"
     ]
    }
   ],
   "source": [
    "# Check for null values across columns\n",
    "null_counts = data.isnull().sum(axis=0)\n",
    "\n",
    "# Print the count of nulls for each column\n",
    "print(null_counts)"
   ]
  },
  {
   "cell_type": "markdown",
   "metadata": {},
   "source": [
    "The arrival delay details and airtime are missing for 22540 out of 1658130 rows, which is 1.3%. You can either remove or impute these rows. The documentation does not mention anything about missing rows.\n",
    "\n",
    "**Hint**: Use the `~` operator to choose the values that aren't null from the `isnull()` output.\n",
    "\n",
    "For example:\n",
    "```\n",
    "null_eg = df_eg[~df_eg['column_name'].isnull()]\n",
    "```"
   ]
  },
  {
   "cell_type": "code",
   "execution_count": 24,
   "metadata": {},
   "outputs": [
    {
     "name": "stdout",
     "output_type": "stream",
     "text": [
      "Year                 0\n",
      "Quarter              0\n",
      "Month                0\n",
      "DayofMonth           0\n",
      "DayOfWeek            0\n",
      "FlightDate           0\n",
      "Reporting_Airline    0\n",
      "Origin               0\n",
      "OriginState          0\n",
      "Dest                 0\n",
      "DestState            0\n",
      "CRSDepTime           0\n",
      "Cancelled            0\n",
      "Diverted             0\n",
      "Distance             0\n",
      "DistanceGroup        0\n",
      "ArrDelay             0\n",
      "ArrDelayMinutes      0\n",
      "is_delay             0\n",
      "AirTime              0\n",
      "dtype: int64\n"
     ]
    }
   ],
   "source": [
    "# Remove rows where 'ArrDelay' or 'AirTime' are null\n",
    "data = data[~data['ArrDelay'].isnull() & ~data['AirTime'].isnull()]\n",
    "\n",
    "# Checking the null values agian in the dataset after removing null rows\n",
    "print(data.isnull().sum(axis=0))"
   ]
  },
  {
   "cell_type": "markdown",
   "metadata": {},
   "source": [
    "Get the hour of the day in 24-hour time format from CRSDepTime."
   ]
  },
  {
   "cell_type": "code",
   "execution_count": 25,
   "metadata": {},
   "outputs": [
    {
     "name": "stdout",
     "output_type": "stream",
     "text": [
      "   CRSDepTime  DepHourofDay\n",
      "0        2145            21\n",
      "1         945             9\n",
      "2        1855            18\n",
      "3        1634            16\n",
      "4         700             7\n"
     ]
    }
   ],
   "source": [
    "# Extracting the hour of the day from CRSDepTime (assuming the format is HHMM)\n",
    "data['DepHourofDay'] = data['CRSDepTime'] // 100\n",
    "\n",
    "# Check the first few rows to confirm\n",
    "print(data[['CRSDepTime', 'DepHourofDay']].head())"
   ]
  },
  {
   "cell_type": "markdown",
   "metadata": {},
   "source": [
    "## **The ML problem statement**\n",
    "- Given a set of features, can you predict if a flight is going to be delayed more than 15 minutes?\n",
    "- Because the target variable takes only 0/1 value, you could use a classification algorithm. "
   ]
  },
  {
   "cell_type": "markdown",
   "metadata": {},
   "source": [
    "### Data exploration\n",
    "\n",
    "#### Check class delay vs. no delay\n",
    "\n",
    "**Hint**: Use a `groupby` plot ([documentation](https://pandas.pydata.org/pandas-docs/stable/reference/api/pandas.DataFrame.groupby.html)) with a `bar` plot ([documentation](https://matplotlib.org/tutorials/introductory/pyplot.html)) to plot the frequency vs. distribution of the class."
   ]
  },
  {
   "cell_type": "code",
   "execution_count": 26,
   "metadata": {},
   "outputs": [
    {
     "data": {
      "image/png": "[encoded data removed]",
      "text/plain": [
       "<Figure size 640x480 with 1 Axes>"
      ]
     },
     "metadata": {},
     "output_type": "display_data"
    }
   ],
   "source": [
    "# Plot the distribution of the target variable 'is_delay'\n",
    "(data.groupby('is_delay').size() / len(data)).plot(kind='bar')\n",
    "# Set plot labels and title\n",
    "plt.ylabel('Frequency')\n",
    "plt.title('Distribution of classes')\n",
    "plt.show()"
   ]
  },
  {
   "cell_type": "markdown",
   "metadata": {},
   "source": [
    "**Question**: What can you deduce from the bar plot about the ratio of delay vs. no delay?"
   ]
  },
  {
   "cell_type": "markdown",
   "metadata": {},
   "source": [
    "From the plot, it can be ascertained that the frequency of class 0 (no delay) is higher than that of class 1 (delay). Class 0, representing flights without delays, has a frequency close to 0.8, while class 1, representing flights experiencing delays of more than 15 minutes, has a frequency around 0.2.\n",
    "\n",
    "It implies that there are no delays in close to 77-80% of the flights while a little more than 20% of the flights experience of delays more than that of 15 minutes.  \n",
    "\n",
    "Because the \"No Delay\" class is significantly more prevalent than the \"Delay\" class. \n",
    "\n",
    "Hence, there is a noticeable class imbalance present in the dataset. "
   ]
  },
  {
   "cell_type": "markdown",
   "metadata": {},
   "source": [
    "**Questions**: \n",
    "\n",
    "- Which months have the most delays?\n",
    "- What time of the day has the most delays?\n",
    "- What day of the week has the most delays?\n",
    "- Which airline has the most delays?\n",
    "- Which origin and destination airports have the most delays?\n",
    "- Is flight distance a factor in the delays?"
   ]
  },
  {
   "cell_type": "code",
   "execution_count": 27,
   "metadata": {},
   "outputs": [
    {
     "data": {
      "image/png": "[encoded data removed]",
      "text/plain": [
       "<Figure size 2000x2000 with 6 Axes>"
      ]
     },
     "metadata": {},
     "output_type": "display_data"
    }
   ],
   "source": [
    "viz_columns = ['Month', 'DepHourofDay', 'DayOfWeek', 'Reporting_Airline', 'Origin', 'Dest']\n",
    "fig, axes = plt.subplots(3, 2, figsize=(20,20), squeeze=False)\n",
    "# fig.autofmt_xdate(rotation=90)\n",
    "\n",
    "for idx, column in enumerate(viz_columns):\n",
    "    ax = axes[idx//2, idx%2]\n",
    "    temp = data.groupby(column)['is_delay'].value_counts(normalize=True).rename('percentage').\\\n",
    "    mul(100).reset_index().sort_values(column)\n",
    "    sns.barplot(x=column, y=\"percentage\", hue=\"is_delay\", data=temp, ax=ax)\n",
    "    plt.ylabel('% delay/no-delay')\n",
    "    \n",
    "\n",
    "plt.show()"
   ]
  },
  {
   "cell_type": "code",
   "execution_count": 28,
   "metadata": {},
   "outputs": [
    {
     "data": {
      "image/png": "[encoded data removed]",
      "text/plain": [
       "<Figure size 500x500 with 1 Axes>"
      ]
     },
     "metadata": {},
     "output_type": "display_data"
    }
   ],
   "source": [
    "sns.lmplot( x=\"is_delay\", y=\"Distance\", data=data, fit_reg=False, hue='is_delay', legend=False)\n",
    "plt.legend(loc='center')\n",
    "plt.xlabel('is_delay')\n",
    "plt.ylabel('Distance')\n",
    "plt.show()"
   ]
  },
  {
   "cell_type": "markdown",
   "metadata": {},
   "source": [
    "**Which months have the most Delays?**\n",
    "\n",
    "From the first plot it can be deduced that, the delays (represented by is_delay = 1 in orange) is relatively consistant across all the months, but there is a slight increase in delays during the summer months in the USA namely (June to August), this due to the peak travel season during those months, from the plot it is evident that June experienced the highest number of delays compared to all other months in that time frame. Still now in the USA airlines experience more delays during the summer months. \n",
    "\n",
    "Source: https://www.cnbc.com/2024/08/05/summer-is-high-season-for-flight-delays-what-travelers-need-to-know.html#:~:text=Summer%20is%20generally%20peak%20season,make%20different%20obligations%20to%20travelers.\n",
    "\n",
    "\n",
    "**What time of the day has most delays?**\n",
    "\n",
    "The sub plot for DepHourOfDay in the first plot shows that delays of flights tend to increase as the day progresses furhter, peaking in the late afternoon and evening hours (from 15:00 to 20:00), where 20 (8pm to 9 pm) experiences the most delays (More than 30%) but the delays start dying down after 21 (9pm).\n",
    "\n",
    "**What day of the week has the most delays?**\n",
    "Delays appear to be fairly consistent across the days of the week, though there is a slight increment in the days 1, 4 and 5. If we consider 1 = Monday then 4 and 5 is Thursday and Friday respectively. Visually, the delays in these three days appear to be the same (A little more than 20% for all three days). Monday is the starting of the week, so it might mean more people flying thus there might be more flights which might cause a delay in that day. Similarly friday is the starting of weekends which means more people taking flights to go on a weekend break or going to meet their families which might lead to delays as well. \n",
    "\n",
    "**Which airline has the most delays?**\n",
    "For the reporting airlines subplot it can be observed that WN and OO airlines seem to have a slightly higher proportion of delays compared to other airlines (More than 20%). But visually it can be seen that the bar chart for for WN is slightly taller than OO. So, we can conclude that in the data the flights form WN experienced the most delays. \n",
    "\n",
    "**Which origin and destination airports have the most delays?**\n",
    "Origin Airport with Most Delays: From the plot, it is observed that ORD (Chicago O'Hare International Airport) has the highest proportion of delayed flights among the origin airports in the dataset.\n",
    "\n",
    "Destination Airport with Most Delays: The plot also shows that SFO (San Francisco International Airport) experiences the highest proportion of delays among destination airports in the dataset.\n",
    "\n",
    "Source: ORD and SFO are the airport codes of Chicago O'Hare International Airport & San Francisco International Airport, this information has been taken from google. \n",
    "\n",
    "**Is flight distance a factor in the delays?** \n",
    "The scatter plot for Distance vs. is_delay shows no clear pattern indicating that distance is a significant factor in delays. Both short and long-distance flights experience delays, suggesting that factors other than distance are more influential in determining delays."
   ]
  },
  {
   "cell_type": "markdown",
   "metadata": {},
   "source": [
    "### Features\n",
    "\n",
    "Look at all the columns and what their specific types are."
   ]
  },
  {
   "cell_type": "code",
   "execution_count": 29,
   "metadata": {},
   "outputs": [
    {
     "data": {
      "text/plain": [
       "Index(['Year', 'Quarter', 'Month', 'DayofMonth', 'DayOfWeek', 'FlightDate',\n",
       "       'Reporting_Airline', 'Origin', 'OriginState', 'Dest', 'DestState',\n",
       "       'CRSDepTime', 'Cancelled', 'Diverted', 'Distance', 'DistanceGroup',\n",
       "       'ArrDelay', 'ArrDelayMinutes', 'is_delay', 'AirTime', 'DepHourofDay'],\n",
       "      dtype='object')"
      ]
     },
     "execution_count": 29,
     "metadata": {},
     "output_type": "execute_result"
    }
   ],
   "source": [
    "data.columns"
   ]
  },
  {
   "cell_type": "code",
   "execution_count": 30,
   "metadata": {},
   "outputs": [
    {
     "data": {
      "text/plain": [
       "Year                   int64\n",
       "Quarter                int64\n",
       "Month                  int64\n",
       "DayofMonth             int64\n",
       "DayOfWeek              int64\n",
       "FlightDate            object\n",
       "Reporting_Airline     object\n",
       "Origin                object\n",
       "OriginState           object\n",
       "Dest                  object\n",
       "DestState             object\n",
       "CRSDepTime             int64\n",
       "Cancelled            float64\n",
       "Diverted             float64\n",
       "Distance             float64\n",
       "DistanceGroup          int64\n",
       "ArrDelay             float64\n",
       "ArrDelayMinutes      float64\n",
       "is_delay             float64\n",
       "AirTime              float64\n",
       "DepHourofDay           int64\n",
       "dtype: object"
      ]
     },
     "execution_count": 30,
     "metadata": {},
     "output_type": "execute_result"
    }
   ],
   "source": [
    "data.dtypes"
   ]
  },
  {
   "cell_type": "markdown",
   "metadata": {},
   "source": [
    "Filtering the required columns:\n",
    "- Date is redundant, because you have Year, Quarter, Month, DayofMonth, and DayOfWeek to describe the date.\n",
    "- Use Origin and Dest codes instead of OriginState and DestState.\n",
    "- Because you are just classifying whether the flight is delayed or not, you don't need TotalDelayMinutes, DepDelayMinutes, and ArrDelayMinutes.\n",
    "\n",
    "Treat DepHourofDay as a categorical variable because it doesn't have any quantitative relation with the target.\n",
    "- If you had to do a one-hot encoding of it, it would result in 23 more columns.\n",
    "- Other alternatives to handling categorical variables include hash encoding, regularized mean encoding, and bucketizing the values, among others.\n",
    "- Just split into buckets here.\n",
    "\n",
    "**Hint**: To change a column type to category, use the `astype` function ([documentation](https://pandas.pydata.org/pandas-docs/stable/reference/api/pandas.DataFrame.astype.html))."
   ]
  },
  {
   "cell_type": "code",
   "execution_count": 31,
   "metadata": {},
   "outputs": [
    {
     "name": "stdout",
     "output_type": "stream",
     "text": [
      "   is_delay Quarter Month DayofMonth DayOfWeek Reporting_Airline Origin Dest  \\\n",
      "0       0.0       1     1         26         7                DL    ATL  IAH   \n",
      "1       0.0       1     1         26         7                DL    DFW  ATL   \n",
      "2       0.0       1     1         26         7                DL    ATL  DEN   \n",
      "3       0.0       1     1         26         7                DL    ATL  PHX   \n",
      "4       0.0       1     1         26         7                DL    PHX  ATL   \n",
      "\n",
      "   Distance DepHourofDay  \n",
      "0     689.0        19-23  \n",
      "1     731.0         7-12  \n",
      "2    1199.0        19-23  \n",
      "3    1587.0        13-18  \n",
      "4    1587.0         7-12  \n"
     ]
    }
   ],
   "source": [
    "# Creating a backup copy of the original data to keep it unchanged for future reference\n",
    "data_orig = data.copy()\n",
    "# Selecting only the columns needed for analysis and storing them in 'data'\n",
    "data = data[['is_delay', 'Quarter', 'Month', 'DayofMonth', 'DayOfWeek', \n",
    "             'Reporting_Airline', 'Origin', 'Dest', 'Distance', 'DepHourofDay']]\n",
    "# Defining a list of columns that should be treated as categorical data types\n",
    "categorical_columns = ['Quarter', 'Month', 'DayofMonth', 'DayOfWeek', \n",
    "                       'Reporting_Airline', 'Origin', 'Dest', 'DepHourofDay']\n",
    "# Looping over each column in 'categorical_columns' to convert them to a categorical data type\n",
    "for c in categorical_columns:\n",
    "    data[c] = data[c].astype('category')  # Changing column 'c' to categorical type for optimized storage and processing\n",
    "# Defining the time ranges (in hours) to categorize 'DepHourofDay' into buckets\n",
    "bins = [0, 6, 12, 18, 24]  # Hour intervals for bucketing: 0-6, 7-12, 13-18, 19-23\n",
    "labels = ['0-6', '7-12', '13-18', '19-23']  # Labels corresponding to each time range\n",
    "# Bucketizing 'DepHourofDay' using defined bins and labels, making it a categorical variable\n",
    "# 'right=False' ensures that each bin includes the lower bound but excludes the upper bound, e.g., 0-6 includes 0 but excludes 6\n",
    "data['DepHourofDay'] = pd.cut(data['DepHourofDay'], bins=bins, labels=labels, right=False)\n",
    "# Displaying the first few rows of the modified dataset to verify that the changes have been applied correctly\n",
    "print(data.head())"
   ]
  },
  {
   "cell_type": "code",
   "execution_count": 32,
   "metadata": {},
   "outputs": [
    {
     "data": {
      "text/plain": [
       "['19-23', '7-12', '13-18', '0-6']\n",
       "Categories (4, object): ['0-6' < '7-12' < '13-18' < '19-23']"
      ]
     },
     "execution_count": 32,
     "metadata": {},
     "output_type": "execute_result"
    }
   ],
   "source": [
    "# Showing the each unique categories created for \"DepHourofDay\"\n",
    "data['DepHourofDay'].unique()"
   ]
  },
  {
   "cell_type": "markdown",
   "metadata": {},
   "source": [
    "To use one-hot encoding, use the Pandas `get_dummies` function for the categorical columns that you selected above. Then, you can concatenate those generated features to your original dataset using the Pandas `concat` function. For encoding categorical variables, you can also use *dummy encoding* by using a keyword `drop_first=True`. For more information on dummy encoding, see https://en.wikiversity.org/wiki/Dummy_variable_(statistics).\n",
    "\n",
    "For example:\n",
    "```\n",
    "pd.get_dummies(df[['column1','columns2']], drop_first=True)\n",
    "```"
   ]
  },
  {
   "cell_type": "code",
   "execution_count": 33,
   "metadata": {},
   "outputs": [],
   "source": [
    "# Performing one-hot encoding on the categorical columns \n",
    "data_dummies = pd.get_dummies(data[categorical_columns], drop_first=True) \n",
    "# Concatenate the encoded categorical columns back with the main dataset\n",
    "data = pd.concat([data, data_dummies], axis=1)\n",
    "# Drop the original categorical columns as they are now represented in the encoded form\n",
    "data.drop(categorical_columns, axis=1, inplace=True)\n"
   ]
  },
  {
   "cell_type": "markdown",
   "metadata": {},
   "source": [
    "Check the length of the dataset and the new columnms."
   ]
  },
  {
   "cell_type": "code",
   "execution_count": 34,
   "metadata": {},
   "outputs": [
    {
     "data": {
      "text/plain": [
       "(1635590, 75)"
      ]
     },
     "execution_count": 34,
     "metadata": {},
     "output_type": "execute_result"
    }
   ],
   "source": [
    "data.shape"
   ]
  },
  {
   "cell_type": "code",
   "execution_count": 35,
   "metadata": {},
   "outputs": [
    {
     "data": {
      "text/plain": [
       "Index(['is_delay', 'Distance', 'Quarter_2', 'Quarter_3', 'Quarter_4',\n",
       "       'Month_2', 'Month_3', 'Month_4', 'Month_5', 'Month_6', 'Month_7',\n",
       "       'Month_8', 'Month_9', 'Month_10', 'Month_11', 'Month_12',\n",
       "       'DayofMonth_2', 'DayofMonth_3', 'DayofMonth_4', 'DayofMonth_5',\n",
       "       'DayofMonth_6', 'DayofMonth_7', 'DayofMonth_8', 'DayofMonth_9',\n",
       "       'DayofMonth_10', 'DayofMonth_11', 'DayofMonth_12', 'DayofMonth_13',\n",
       "       'DayofMonth_14', 'DayofMonth_15', 'DayofMonth_16', 'DayofMonth_17',\n",
       "       'DayofMonth_18', 'DayofMonth_19', 'DayofMonth_20', 'DayofMonth_21',\n",
       "       'DayofMonth_22', 'DayofMonth_23', 'DayofMonth_24', 'DayofMonth_25',\n",
       "       'DayofMonth_26', 'DayofMonth_27', 'DayofMonth_28', 'DayofMonth_29',\n",
       "       'DayofMonth_30', 'DayofMonth_31', 'DayOfWeek_2', 'DayOfWeek_3',\n",
       "       'DayOfWeek_4', 'DayOfWeek_5', 'DayOfWeek_6', 'DayOfWeek_7',\n",
       "       'Reporting_Airline_DL', 'Reporting_Airline_OO', 'Reporting_Airline_UA',\n",
       "       'Reporting_Airline_WN', 'Origin_CLT', 'Origin_DEN', 'Origin_DFW',\n",
       "       'Origin_IAH', 'Origin_LAX', 'Origin_ORD', 'Origin_PHX', 'Origin_SFO',\n",
       "       'Dest_CLT', 'Dest_DEN', 'Dest_DFW', 'Dest_IAH', 'Dest_LAX', 'Dest_ORD',\n",
       "       'Dest_PHX', 'Dest_SFO', 'DepHourofDay_7-12', 'DepHourofDay_13-18',\n",
       "       'DepHourofDay_19-23'],\n",
       "      dtype='object')"
      ]
     },
     "execution_count": 35,
     "metadata": {},
     "output_type": "execute_result"
    }
   ],
   "source": [
    "data.columns"
   ]
  },
  {
   "cell_type": "markdown",
   "metadata": {},
   "source": [
    "**Sample Answer:** \n",
    "```\n",
    "Index(['Distance', 'is_delay', 'Quarter_2', 'Quarter_3', 'Quarter_4',\n",
    "       'Month_2', 'Month_3', 'Month_4', 'Month_5', 'Month_6', 'Month_7',\n",
    "       'Month_8', 'Month_9', 'Month_10', 'Month_11', 'Month_12',\n",
    "       'DayofMonth_2', 'DayofMonth_3', 'DayofMonth_4', 'DayofMonth_5',\n",
    "       'DayofMonth_6', 'DayofMonth_7', 'DayofMonth_8', 'DayofMonth_9',\n",
    "       'DayofMonth_10', 'DayofMonth_11', 'DayofMonth_12', 'DayofMonth_13',\n",
    "       'DayofMonth_14', 'DayofMonth_15', 'DayofMonth_16', 'DayofMonth_17',\n",
    "       'DayofMonth_18', 'DayofMonth_19', 'DayofMonth_20', 'DayofMonth_21',\n",
    "       'DayofMonth_22', 'DayofMonth_23', 'DayofMonth_24', 'DayofMonth_25',\n",
    "       'DayofMonth_26', 'DayofMonth_27', 'DayofMonth_28', 'DayofMonth_29',\n",
    "       'DayofMonth_30', 'DayofMonth_31', 'DayOfWeek_2', 'DayOfWeek_3',\n",
    "       'DayOfWeek_4', 'DayOfWeek_5', 'DayOfWeek_6', 'DayOfWeek_7',\n",
    "       'Reporting_Airline_DL', 'Reporting_Airline_OO', 'Reporting_Airline_UA',\n",
    "       'Reporting_Airline_WN', 'Origin_CLT', 'Origin_DEN', 'Origin_DFW',\n",
    "       'Origin_IAH', 'Origin_LAX', 'Origin_ORD', 'Origin_PHX', 'Origin_SFO',\n",
    "       'Dest_CLT', 'Dest_DEN', 'Dest_DFW', 'Dest_IAH', 'Dest_LAX', 'Dest_ORD',\n",
    "       'Dest_PHX', 'Dest_SFO'],\n",
    "      dtype='object')\n",
    "```"
   ]
  },
  {
   "cell_type": "markdown",
   "metadata": {},
   "source": [
    "Now you are ready to do model training. Before splitting the data, rename the column `is_delay` to `target`.\n",
    "\n",
    "**Hint**: You can use the Pandas `rename` function ([documentation](https://pandas.pydata.org/pandas-docs/stable/reference/api/pandas.DataFrame.rename.html))."
   ]
  },
  {
   "cell_type": "code",
   "execution_count": 36,
   "metadata": {},
   "outputs": [
    {
     "data": {
      "text/plain": [
       "0          0.0\n",
       "1          0.0\n",
       "2          0.0\n",
       "3          0.0\n",
       "4          0.0\n",
       "          ... \n",
       "1658125    0.0\n",
       "1658126    0.0\n",
       "1658127    1.0\n",
       "1658128    0.0\n",
       "1658129    0.0\n",
       "Name: target, Length: 1635590, dtype: float64"
      ]
     },
     "execution_count": 36,
     "metadata": {},
     "output_type": "execute_result"
    }
   ],
   "source": [
    "# By using the .rename() function of Pandas the 'is_delay' column is renamed to 'target' for modeling purposes\n",
    "data.rename(columns={'is_delay': 'target'}, inplace=True)\n",
    "# Showing that the target column has been created\n",
    "data['target']"
   ]
  },
  {
   "cell_type": "code",
   "execution_count": 37,
   "metadata": {},
   "outputs": [
    {
     "name": "stdout",
     "output_type": "stream",
     "text": [
      "Combined CSV file saved to f:\\Jeem Poralekha\\u3265713_DSTS_Assignment_2\\Final Assignment Folder\\combined_csv_v1.csv\n"
     ]
    }
   ],
   "source": [
    "# write code to Save the combined csv file (combined_csv_v1.csv) to your local computer\n",
    "# note this combined file will be used in part B\n",
    "\n",
    "# Defining the filename for the combined CSV file which will be saved in base path\n",
    "combined_csv_filename_v1 = os.path.join(base_path, \"combined_csv_v1.csv\")\n",
    "# Save the DataFrame as a CSV file to the specified location\n",
    "data.to_csv(combined_csv_filename_v1, index=False)\n",
    "# Printing the path where the file has been saved \n",
    "print(f\"Combined CSV file saved to {combined_csv_filename_v1}\")"
   ]
  },
  {
   "cell_type": "markdown",
   "metadata": {},
   "source": [
    "# Step 3: Model training and evaluation\n",
    "\n",
    "1. Split the data into `train_data`, and `test_data` using `sklearn.model_selection.train_test_split`.  \n",
    "2. Build a logistic regression model for the data, where training data is 80%, and test data is 20%.\n",
    "\n",
    "Use the following cells to complete these steps. Insert and delete cells where needed.\n"
   ]
  },
  {
   "cell_type": "markdown",
   "metadata": {},
   "source": [
    "### Train test split"
   ]
  },
  {
   "cell_type": "code",
   "execution_count": 38,
   "metadata": {},
   "outputs": [
    {
     "name": "stdout",
     "output_type": "stream",
     "text": [
      "X_train shape: (1308472, 74)\n",
      "X_test shape: (327118, 74)\n",
      "y_train shape: (1308472,)\n",
      "y_test shape: (327118,)\n"
     ]
    }
   ],
   "source": [
    "# Splitting the target variables and the independent variables\n",
    "X = data.drop(columns=['target'])  # Features/Target variables stored as X\n",
    "y = data['target']  # Target Variables stored as y\n",
    "# Splitting into training and testing sets (80% train, 20% test) using the train_test_split function from sikitlearn \n",
    "# Here the stratify=y parameter has been used because y is imbalanced, this ensures that train and test sets have the same proportion of each class as in the original dataset\n",
    "X_train, X_test, y_train, y_test = train_test_split(X, y, test_size=0.2, random_state=42, stratify=y)\n",
    "# Print the shapes of resulting datasets to confirm whether the split has been done properly or not\n",
    "print(f\"X_train shape: {X_train.shape}\")\n",
    "print(f\"X_test shape: {X_test.shape}\")\n",
    "print(f\"y_train shape: {y_train.shape}\")\n",
    "print(f\"y_test shape: {y_test.shape}\")"
   ]
  },
  {
   "cell_type": "markdown",
   "metadata": {},
   "source": [
    "### Baseline classification model"
   ]
  },
  {
   "cell_type": "code",
   "execution_count": 39,
   "metadata": {},
   "outputs": [],
   "source": [
    "from sklearn.linear_model import LogisticRegression\n",
    "# Initializng the basic logistic regression model with a fixed random state for reproducibility\n",
    "log_reg = LogisticRegression(random_state=42)\n",
    "# Fitting the logistic regression model on the training data (X_train, y_train)\n",
    "log_reg.fit(X_train, y_train)\n",
    "# Generate predictions for the test set using the trained model \n",
    "y_pred = log_reg.predict(X_test)\n",
    "# Generating predictions on the training set to asses the model's fit on the training data\n",
    "# This will be used to validate later\n",
    "y_train_pred = log_reg.predict(X_train)"
   ]
  },
  {
   "cell_type": "markdown",
   "metadata": {},
   "source": [
    "## Model evaluation\n",
    "In this section, you'll evaluate your trained model on test data and report on the following metrics:\n",
    "* Confusion Matrix plot\n",
    "* Plot the ROC\n",
    "* Report statistics such as Accuracy, Percision, Recall, Sensitivity and Specificity"
   ]
  },
  {
   "cell_type": "markdown",
   "metadata": {},
   "source": [
    "To view a plot of the confusion matrix, and various scoring metrics, create a couple of functions:"
   ]
  },
  {
   "cell_type": "markdown",
   "metadata": {},
   "source": [
    "A function for plotting Confusion Matrix is created below:"
   ]
  },
  {
   "cell_type": "code",
   "execution_count": 40,
   "metadata": {},
   "outputs": [],
   "source": [
    "from sklearn.metrics import confusion_matrix\n",
    "\n",
    "def plot_confusion_matrix(test_labels, target_predicted):\n",
    "    \"\"\" \n",
    "    This function will compute the confusion matrix and plot it as a heatmap to visualize\n",
    "    the number of true positive, true negative, false positive, and false negative predictions.\n",
    "    \"\"\"\n",
    "    # Generating the confusion matrix by using sklearns confusion matrix function\n",
    "    cm = confusion_matrix(test_labels, target_predicted)\n",
    "    \n",
    "    # Plotting the confusion matrix as a heatmap\n",
    "    # Setting the figure size\n",
    "    plt.figure(figsize=(8, 6))\n",
    "    # 'annot=True' adds counts to each cell, 'fmt' specifies integer format\n",
    "    sns.heatmap(cm, annot=True, fmt='d', cmap='Blues', cbar=False,\n",
    "                # Setting the labels for x-axis and y-axis\n",
    "                xticklabels=['No Delay', 'Delay'], yticklabels=['No Delay', 'Delay'])\n",
    "    # Labeling the x-axis as \"predicted\" to indicate predicted classes \n",
    "    plt.xlabel('Predicted')\n",
    "    # Labeling the y axis as actual\n",
    "    plt.ylabel('Actual')\n",
    "    # Showing the title\n",
    "    plt.title('Confusion Matrix')\n",
    "    plt.show()"
   ]
  },
  {
   "cell_type": "markdown",
   "metadata": {},
   "source": [
    "A function for plotting ROC curve is given below:"
   ]
  },
  {
   "cell_type": "code",
   "execution_count": 41,
   "metadata": {},
   "outputs": [],
   "source": [
    "from sklearn import metrics\n",
    "from sklearn.metrics import roc_curve, auc\n",
    "\n",
    "def plot_roc(test_labels, target_probabilities):\n",
    "    \"\"\"\n",
    "    Function to calculate and plot the ROC (Receiver Operating Characteristic) curve.\n",
    "    This function calculates the False Positive Rate (FPR) and True Positive Rate (TPR) \n",
    "    to plot the ROC curve, which provides insight into the model's performance across \n",
    "    different classification thresholds. Additionally, it computes the AUC (Area Under \n",
    "    the Curve) to summarize the overall performance.\n",
    "    \"\"\"\n",
    "    # Calculating False Positive Rate (FPR) and True Positive Rate (TPR)\n",
    "    # Computing FPR and TPR at various threshold levels\n",
    "    fpr, tpr, _ = roc_curve(test_labels, target_probabilities)  \n",
    "    # Calculating the Area Under the Curve (AUC) as a single performance metric\n",
    "    roc_auc = auc(fpr, tpr)  # AUC quantifies the overall ability to distinguish between classes\n",
    "    # Plotting the ROC curve\n",
    "    plt.plot(fpr, tpr, label=f'ROC curve (AUC = {roc_auc:.2f})')  # Plots FPR vs TPR with AUC as label\n",
    "    plt.plot([0, 1], [0, 1], linestyle='--')  # Adds a diagonal line for reference (random guess line)\n",
    "    # Setting the x and y axis labels for clarity\n",
    "    plt.xlabel('False Positive Rate')\n",
    "    plt.ylabel('True Positive Rate')\n",
    "    # Adding a title to the plot\n",
    "    plt.title('ROC Curve')\n",
    "    # Adding a legend to display the AUC score on the plot\n",
    "    plt.legend()\n",
    "    # Display the ROC curve plot\n",
    "    plt.show()"
   ]
  },
  {
   "cell_type": "markdown",
   "metadata": {},
   "source": [
    "Creating a function to Generate Key performance metrics (Accuracy, precision and recall): "
   ]
  },
  {
   "cell_type": "code",
   "execution_count": 42,
   "metadata": {},
   "outputs": [],
   "source": [
    "from sklearn.metrics import accuracy_score, precision_score, recall_score, confusion_matrix\n",
    "def report_statistics(test_labels, target_predicted):\n",
    "    \"\"\"\n",
    "    Function to calculate and report key performance metrics for a classification model.\n",
    "    This function computes accuracy, precision, recall (sensitivity), and specificity \n",
    "    based on the true and predicted labels, providing a comprehensive view of the model's \n",
    "    performance across various metrics.\n",
    "    \"\"\"\n",
    "    # Calculate Accuracy, Precision, and Recall\n",
    "    accuracy = accuracy_score(test_labels, target_predicted)  # Overall accuracy of the model\n",
    "    precision = precision_score(test_labels, target_predicted)  # Precision: proportion of true positives among predicted positives\n",
    "    recall = recall_score(test_labels, target_predicted)  # Recall: proportion of true positives among actual positives (sensitivity)\n",
    "    # Calculating Specificity\n",
    "    # The .ravel() method extracts true negatives (tn), false positives (fp), false negatives (fn), and true positives (tp) from the confusion matrix\n",
    "    tn, fp, fn, tp = confusion_matrix(test_labels, target_predicted).ravel() \n",
    "    specificity = tn / (tn + fp)  # Specificity: proportion of true negatives among actual negatives\n",
    "    # Print the calculated metrics in a formatted manner\n",
    "    print(f\"Accuracy: {accuracy:.4f}\")\n",
    "    print(f\"Precision: {precision:.4f}\")\n",
    "    print(f\"Recall (Sensitivity): {recall:.4f}\")\n",
    "    print(f\"Specificity: {specificity:.4f}\")"
   ]
  },
  {
   "cell_type": "markdown",
   "metadata": {},
   "source": [
    "To plot the confusion matrix, call the `plot_confusion_matrix` function on the `test_labels` and `target_predicted` data from your batch job:"
   ]
  },
  {
   "cell_type": "code",
   "execution_count": 43,
   "metadata": {},
   "outputs": [
    {
     "data": {
      "image/png": "[encoded data removed]",
      "text/plain": [
       "<Figure size 800x600 with 1 Axes>"
      ]
     },
     "metadata": {},
     "output_type": "display_data"
    }
   ],
   "source": [
    "plot_confusion_matrix(y_test, y_pred)"
   ]
  },
  {
   "cell_type": "markdown",
   "metadata": {},
   "source": [
    "To print statistics and plot an ROC curve, call the `plot_roc` function on the `test_labels` and `target_predicted` data from your batch job:"
   ]
  },
  {
   "cell_type": "code",
   "execution_count": 44,
   "metadata": {},
   "outputs": [
    {
     "data": {
      "image/png": "[encoded data removed]",
      "text/plain": [
       "<Figure size 640x480 with 1 Axes>"
      ]
     },
     "metadata": {},
     "output_type": "display_data"
    }
   ],
   "source": [
    "y_prob = log_reg.predict_proba(X_test)[:, 1] \n",
    "plot_roc(y_test, y_prob)"
   ]
  },
  {
   "cell_type": "markdown",
   "metadata": {},
   "source": [
    "To print the performance metrics of the testing labels and the predicted labels "
   ]
  },
  {
   "cell_type": "code",
   "execution_count": 45,
   "metadata": {},
   "outputs": [
    {
     "name": "stdout",
     "output_type": "stream",
     "text": [
      "Accuracy: 0.7901\n",
      "Precision: 0.5351\n",
      "Recall (Sensitivity): 0.0021\n",
      "Specificity: 0.9995\n"
     ]
    }
   ],
   "source": [
    "report_statistics(y_test, y_pred)"
   ]
  },
  {
   "cell_type": "markdown",
   "metadata": {},
   "source": [
    "Here the confusion matrix and key statistics have been generated by using the training data and the predictions made using the training data this is done to check whether the model has over fit or not. "
   ]
  },
  {
   "cell_type": "code",
   "execution_count": 46,
   "metadata": {},
   "outputs": [
    {
     "data": {
      "image/png": "[encoded data removed]",
      "text/plain": [
       "<Figure size 800x600 with 1 Axes>"
      ]
     },
     "metadata": {},
     "output_type": "display_data"
    },
    {
     "name": "stdout",
     "output_type": "stream",
     "text": [
      "Accuracy: 0.7902\n",
      "Precision: 0.5386\n",
      "Recall (Sensitivity): 0.0022\n",
      "Specificity: 0.9995\n"
     ]
    }
   ],
   "source": [
    "\n",
    "plot_confusion_matrix(y_train, y_train_pred)\n",
    "report_statistics(y_train, y_train_pred)"
   ]
  },
  {
   "cell_type": "markdown",
   "metadata": {},
   "source": [
    "### Key questions to consider:\n",
    "1. How does your model's performance on the test set compare to the training set? What can you deduce from this comparison? \n",
    "\n",
    "2. Are there obvious differences between the outcomes of metrics like accuracy, precision, and recall? If so, why might you be seeing those differences? \n",
    "\n",
    "3. Is the outcome for the metric(s) you consider most important sufficient for what you need from a business standpoint? If not, what are some things you might change in your next iteration (in the feature engineering section, which is coming up next)? \n",
    "\n",
    "Use the cells below to answer these and other questions. Insert and delete cells where needed."
   ]
  },
  {
   "cell_type": "markdown",
   "metadata": {},
   "source": [
    "#### Answer to Question 1: How does your model's performance on the test set compare to the training set? What can you deduce from this comparison?\n",
    "\n",
    "Comparison: The performance metrics for the prediction on training and prediction on test sets are very similar:\n",
    "\n",
    "- **Accuracy:** Accuracy measures the overall correctness of the model, calculated as the proportion of correctly predicted instances out of all instances. The accuracy for prediction on both the training and testing sets are approximately 79% for both the cases. This is high accuracy, however, this is primarily due to the class imbalance in the dataset. Since the majority of flights experience \"No Delay,\" the model achieves high accuracy simply by correctly predicting the \"No Delay\" cases most of the time. This can be misleading because accuracy alone does not account for how well the model detects the minority class (\"Delay\" in this case).\n",
    "\n",
    "The high accuracy here largely reflects the model’s ability to identify \"No Delay\" flights, not necessarily its effectiveness in predicting delays, which is the primary interest of this project. Therefore, focusing on additional metrics like precision, recall, and specificity is essential for evaluating the model's true effectiveness.\n",
    "\n",
    "By Examining other metrics it can be observed that, \n",
    "\n",
    "- **Precision:** Precision is the proportion of true positive predictions (actual delays that were correctly predicted) out of all positive predictions made by the model (both true and false delays). The metric indicates that when the model predicts \"Delay,\" it is correct about 53-54% of the time across both training and test sets. This shows that while the model is conservative in predicting delays, its predictions in this category are reasonably accurate.\n",
    "\n",
    "- **Recall (Sensitivity):** Recall, or sensitivity, is the proportion of true positives (actual delays that were correctly predicted) out of all actual positive instances (all delays). Sensitivity is very low at around 0.0022% for both sets, meaning the model captures only a tiny fraction of actual delays. This low recall highlights that the model struggles significantly with the \"Delay\" class due to the imbalance, frequently failing to identify flights that actually experience delays.\n",
    "\n",
    "- **Specificity:** Specificity measures the proportion of true negatives (actual non-delays that were correctly predicted) out of all actual negative instances (all non-delays). Specificity is nearly perfect at about 99.95% for both training and test sets, indicating that the model is highly effective at correctly predicting \"No Delay\" flights with very few false positives. This is because there is a very high number of non-delays and the model is trained well to determine no delays \n",
    "\n",
    "**Conclusion:**\n",
    "\n",
    "The metrics indicate that the model is highly effective at identifying the \"No Delay\" class due to the dataset’s imbalance, where \"No Delay\" cases dominate. This is evident in the model’s high specificity (99.95%) and low recall (0.2%) for the \"Delay\" class. The high accuracy (~79%) and specificity suggest that the model reliably identifies \"No Delay\" flights, but the extremely low recall indicates that it frequently fails to detect actual delays.\n",
    "\n",
    "The consistency between training and test set metrics (both showing high accuracy and specificity, but low recall) suggests that the model is not overfitting. Instead, it reflects the impact of the class imbalance, where the model prioritizes \"No Delay\" predictions due to the prevalence of that class in the data. This results in a model that performs well on \"No Delay\" cases but has limited effectiveness for predicting delays, which is likely our main area of interest.\n",
    "\n",
    "To address this issue, techniques for handling class imbalance (such as resampling methods, class-weight adjustments, or alternative algorithms) could help improve the model’s ability to identify delays. Such adjustments would make the model more balanced, better suited to applications where accurately predicting delays is crucial from a business standpoint, as it would consider both classes more equitably.\n",
    "\n",
    "**Sources:** \n",
    "\n",
    "James, G., Witten, D., Hastie, T., & Tibshirani, R. (2023). An introduction to statistical learning (2nd ed.). Springer.\n",
    "\n",
    "Müller, A. C., & Guido, S. (2016). Introduction to machine learning with Python: A guide for data scientists. O'Reilly Media."
   ]
  },
  {
   "cell_type": "markdown",
   "metadata": {},
   "source": [
    "#### Answer to Question 2: Are there obvious differences between the outcomes of metrics like accuracy, precision, and recall? If so, why might you be seeing those differences?\n",
    "\n",
    "Yes, there are clear differences between the outcomes of metrics like accuracy, precision, and recall, which are influenced primarily by the class imbalance in the dataset.\n",
    "\n",
    "- The accuracy is relatively high at 79%, which may suggest the model performs well at first glance. However, this high accuracy is largely due to the model's effectiveness in identifying \"No Delay\" instances, which dominate the dataset.\n",
    "\n",
    "- Precision (53.51%) indicates that when the model does predict a delay, it is correct slightly more than half the time. However, the precision alone doesn’t fully capture the model's limitations, as it rarely predicts \"Delay\" due to the class imbalance.\n",
    "\n",
    "- The recall is extremely low (0.21%), highlighting that the model fails to capture most actual delays. This low recall is a major limitation, as it suggests the model is missing almost all delayed flights.\n",
    "\n",
    "The differences among these metrics—especially between high accuracy and low recall—highlight the model's bias towards the \"No Delay\" class due to class imbalance. This bias results in high accuracy and specificity but comes at the cost of extremely low recall, making the model unreliable for detecting actual delays.\n",
    "\n",
    "In a business context where identifying delays is important, these metric differences suggest that the model needs improvement to better capture the minority \"Delay\" class. Handling the class imbalance through resampling methods, adjusting class weights, or exploring alternative models could help balance these metrics, particularly to improve recall without sacrificing too much precision.\n",
    "\n"
   ]
  },
  {
   "cell_type": "markdown",
   "metadata": {},
   "source": [
    "#### Answer to Question 3: Is the outcome for the metric(s) you consider most important sufficient for what you need from a business standpoint? If not, what are some things you might change in your next iteration (in the feature engineering section, which is coming up next)? \n",
    "\n",
    "By looking at a business perspective, the key metric for this specific business problem (accurately predicting flight delay) would be recall. The outcome for the key metric—recall, which is critical for identifying delays—is not sufficient from a business standpoint. Given the model's low recall, it would struggle to accurately predict delays, which could lead to missed opportunities for proactive customer communication or operational adjustments.\n",
    "\n",
    "**Importance of recall in this specific business problem:**\n",
    "\n",
    "Accurately identifying delayed flights (high recall) is crucial specifically for an online booking website. A model with high recall would help in taking timely actions, such as notifying passengers, rebooking, and managing resources more effectively to minimize inconvenience.\n",
    "\n",
    "Addressing Class Imbalance:\n",
    "\n",
    "- Resampling Techniques: Try oversampling the minority class (delayed flights) or undersampling the majority class (non-delayed flights) to create a more balanced training set.\n",
    "- Synthetic Data Generation: Use methods such as SMOTE (Synthetic Minority Over-sampling Technique) to create synthetic examples of delayed flights.\n",
    "\n",
    "Feature Engineering:\n",
    "\n",
    "- Additional Weather Features: Adding specific weather data (such as storm forecasts, precipitation, or visibility) for origin and destination airports could improve delay predictions.\n",
    "- Time-Based Features: Incorporate features that capture time trends, such as peak travel hours or seasonal delays, to provide context around busier periods with a higher likelihood of delays.\n",
    "\n",
    "Model Tuning and Alternative Algorithms:\n",
    "\n",
    "- Hyperparameter Tuning: Experiment with different hyperparameters in logistic regression to see if model performance can be improved.\n",
    "- Alternative Models: Explore more advanced models like decision trees, random forests, or gradient boosting, which might capture complex relationships in the data better than logistic regression.\n",
    "\n",
    "Improving recall while maintaining reasonable precision and specificity is critical for the model’s success. Making these adjustments would increase the model’s reliability, ensuring that delay notifications are as accurate and helpful as possible for customers\n",
    "\n",
    "**Sources**\n",
    "\n",
    "Resampling: https://www.kdnuggets.com/2023/02/role-resampling-techniques-data-science.html#:~:text=Resampling%20is%20a%20method%20that,accuracy%20and%20estimate%20the%20uncertainty.\n",
    "\n",
    "SMOTE: https://www.geeksforgeeks.org/ml-handling-imbalanced-data-with-smote-and-near-miss-algorithm-in-python/\n",
    "\n",
    "Feature Engineering: https://github.com/tomeryosef/Data-Science-FLIGHT-DELAY-PREDICTION-HIT\n",
    "\n",
    "Tuning of Models and other algorithms: https://github.com/pranaykmr/FlightDelayPrediction\n"
   ]
  },
  {
   "cell_type": "markdown",
   "metadata": {},
   "source": [
    "\n",
    "#### **Question**: What can you summarize from the confusion matrix?\n"
   ]
  },
  {
   "cell_type": "markdown",
   "metadata": {},
   "source": [
    "From the confusion matrix, we can make the following observations:\n",
    "\n",
    "- True Positives (Delay Correctly Predicted): There are 145 true positive cases, where the model correctly predicted \"Delay.\" This is a very small number compared to the total number of delays, indicating that the model struggles to identify delays accurately.\n",
    "\n",
    "- True Negatives (No Delay Correctly Predicted): There are 258,326 true negatives, where the model correctly predicted \"No Delay.\" This high number shows that the model is very good at identifying flights with \"No Delay.\"\n",
    "\n",
    "- False Positives (No Delay Incorrectly Predicted as Delay): There are 126 false positives, meaning the model predicted \"Delay\" for flights that were actually \"No Delay.\" This number is very low, which indicates that the model rarely raises false alarms for delays.\n",
    "\n",
    "- False Negatives (Delay Incorrectly Predicted as No Delay): There are 68,521 false negatives, where the model predicted \"No Delay\" for flights that were actually \"Delay.\" This large number highlights the model's significant issue with missing actual delay cases, which leads to a low recall.\n",
    "\n",
    "**Summary**\n",
    "\n",
    "The confusion matrix reveals that the model heavily favors predicting \"No Delay\" due to the imbalanced nature of the data. While it achieves high accuracy in predicting \"No Delay,\" it performs poorly in detecting actual delays, as evidenced by the high false negatives. This imbalance indicates that the model is likely biased towards the majority class (\"No Delay\") and lacks sensitivity for detecting the minority class (\"Delay\"), which is crucial for improving delay prediction reliability."
   ]
  },
  {
   "cell_type": "markdown",
   "metadata": {},
   "source": [
    "# Step 4: Deployment\n",
    "\n",
    "1. In this step you are required to push your source code and requirements file to a GitLab repository without the data files. Please use the Git commands to complete this task\n",
    "2- Create a “readme.md” markdown file that describes the code of this repository and how to run it and what the user would expect if got the code running.\n",
    "\n",
    "In the cell below provide the link of the pushed repository on your GitLab account.\n"
   ]
  },
  {
   "cell_type": "markdown",
   "metadata": {},
   "source": [
    "### Provide a link for your Gitlab repository here:\n",
    "\n"
   ]
  },
  {
   "cell_type": "markdown",
   "metadata": {},
   "source": [
    "# Iteration II"
   ]
  },
  {
   "cell_type": "markdown",
   "metadata": {},
   "source": [
    "# Step 5: Feature engineering\n",
    "\n",
    "You've now gone through one iteration of training and evaluating your model. Given that the outcome you reached for your model the first time probably wasn't sufficient for solving your business problem, what are some things you could change about your data to possibly improve model performance?\n",
    "\n",
    "### Key questions to consider:\n",
    "1. How might the balance of your two main classes (delay and no delay) impact model performance?\n",
    "2. Do you have any features that are correlated?\n",
    "3. Are there feature reduction techniques you could perform at this stage that might have a positive impact on model performance? \n",
    "4. Can you think of adding some more data/datasets?\n",
    "4. After performing some feature engineering, how does your model performance compare to the first iteration?\n",
    "\n",
    "Use the cells below to perform specific feature engineering techniques (per the questions above) that you think could improve your model performance. Insert and delete cells where needed.\n",
    "\n",
    "\n",
    "Before you start, think about why the precision and recall are around 80% while the accuracy is 99%."
   ]
  },
  {
   "cell_type": "markdown",
   "metadata": {},
   "source": [
    "#### Add more features\n",
    "\n",
    "1. Holidays\n",
    "2. Weather"
   ]
  },
  {
   "cell_type": "markdown",
   "metadata": {},
   "source": [
    "Because the list of holidays from 2014 to 2018 is known, you can create an indicator variable **is_holiday** to mark these.\n",
    "The hypothesis is that airplane delays could be higher during holidays compared to the rest of the days. Add a boolean variable `is_holiday` that includes the holidays for the years 2014-2018."
   ]
  },
  {
   "cell_type": "code",
   "execution_count": 47,
   "metadata": {},
   "outputs": [],
   "source": [
    "# Source: http://www.calendarpedia.com/holidays/federal-holidays-2014.html\n",
    "\n",
    "holidays_14 = ['2014-01-01',  '2014-01-20', '2014-02-17', '2014-05-26', '2014-07-04', '2014-09-01', '2014-10-13', '2014-11-11', '2014-11-27', '2014-12-25' ] \n",
    "holidays_15 = ['2015-01-01',  '2015-01-19', '2015-02-16', '2015-05-25', '2015-06-03', '2015-07-04', '2015-09-07', '2015-10-12', '2015-11-11', '2015-11-26', '2015-12-25'] \n",
    "holidays_16 = ['2016-01-01',  '2016-01-18', '2016-02-15', '2016-05-30', '2016-07-04', '2016-09-05', '2016-10-10', '2016-11-11', '2016-11-24', '2016-12-25', '2016-12-26']\n",
    "holidays_17 = ['2017-01-02', '2017-01-16', '2017-02-20', '2017-05-29' , '2017-07-04', '2017-09-04' ,'2017-10-09', '2017-11-10', '2017-11-23', '2017-12-25']\n",
    "holidays_18 = ['2018-01-01', '2018-01-15', '2018-02-19', '2018-05-28' , '2018-07-04', '2018-09-03' ,'2018-10-08', '2018-11-12','2018-11-22', '2018-12-25']\n",
    "holidays = holidays_14+ holidays_15+ holidays_16 + holidays_17+ holidays_18\n",
    "\n",
    "### Add indicator variable for holidays\n",
    "data_orig[\"is_holiday\"] = data_orig[\"FlightDate\"].isin(holidays)"
   ]
  },
  {
   "cell_type": "markdown",
   "metadata": {},
   "source": [
    "Weather data was fetched from https://www.ncei.noaa.gov/access/services/data/v1?dataset=daily-summaries&stations=USW00023174,USW00012960,USW00003017,USW00094846,USW00013874,USW00023234,USW00003927,USW00023183,USW00013881&dataTypes=AWND,PRCP,SNOW,SNWD,TAVG,TMIN,TMAX&startDate=2014-01-01&endDate=2018-12-31.\n",
    "<br>\n",
    "\n",
    "This dataset has information on wind speed, precipitation, snow, and temperature for cities by their airport codes.\n",
    "\n",
    "**Question**: Could bad weather due to rains, heavy winds, or snow lead to airplane delay? Let's check!"
   ]
  },
  {
   "cell_type": "code",
   "execution_count": 48,
   "metadata": {
    "scrolled": true
   },
   "outputs": [],
   "source": [
    "# download data from the link above and place it into the data folder"
   ]
  },
  {
   "cell_type": "markdown",
   "metadata": {},
   "source": [
    "Import weather data prepared for the airport codes in our dataset. Use the stations and airports below for the analysis, and create a new column called `airport` that maps the weather station to the airport name."
   ]
  },
  {
   "cell_type": "code",
   "execution_count": 49,
   "metadata": {},
   "outputs": [],
   "source": [
    "weather = pd.read_csv(\"data/daily-summaries-2024-10-30T08-47-08.csv\") # Enter your code here to read 'daily-summaries.csv' file\n",
    "station = ['USW00023174','USW00012960','USW00003017','USW00094846',\n",
    "           'USW00013874','USW00023234','USW00003927','USW00023183','USW00013881'] \n",
    "airports = ['LAX', 'IAH', 'DEN', 'ORD', 'ATL', 'SFO', 'DFW', 'PHX', 'CLT']\n",
    "\n",
    "### Map weather stations to airport code\n",
    "# Creating a dictionary to map the weather station codes to airport codes\n",
    "station_map = dict(zip(station, airports))\n",
    "# Map the 'station' column in the weather DataFrame to airport codes using the station_map\n",
    "weather['airport'] = weather['STATION'].map(station_map)"
   ]
  },
  {
   "cell_type": "markdown",
   "metadata": {},
   "source": [
    "Create another column called `MONTH` from the `DATE` column."
   ]
  },
  {
   "cell_type": "code",
   "execution_count": 50,
   "metadata": {
    "scrolled": true
   },
   "outputs": [
    {
     "data": {
      "text/html": [
       "<div>\n",
       "<style scoped>\n",
       "    .dataframe tbody tr th:only-of-type {\n",
       "        vertical-align: middle;\n",
       "    }\n",
       "\n",
       "    .dataframe tbody tr th {\n",
       "        vertical-align: top;\n",
       "    }\n",
       "\n",
       "    .dataframe thead th {\n",
       "        text-align: right;\n",
       "    }\n",
       "</style>\n",
       "<table border=\"1\" class=\"dataframe\">\n",
       "  <thead>\n",
       "    <tr style=\"text-align: right;\">\n",
       "      <th></th>\n",
       "      <th>STATION</th>\n",
       "      <th>DATE</th>\n",
       "      <th>AWND</th>\n",
       "      <th>PRCP</th>\n",
       "      <th>SNOW</th>\n",
       "      <th>SNWD</th>\n",
       "      <th>TAVG</th>\n",
       "      <th>TMAX</th>\n",
       "      <th>TMIN</th>\n",
       "      <th>airport</th>\n",
       "      <th>MONTH</th>\n",
       "    </tr>\n",
       "  </thead>\n",
       "  <tbody>\n",
       "    <tr>\n",
       "      <th>0</th>\n",
       "      <td>USW00023174</td>\n",
       "      <td>2014-01-01</td>\n",
       "      <td>16</td>\n",
       "      <td>0</td>\n",
       "      <td>NaN</td>\n",
       "      <td>NaN</td>\n",
       "      <td>131.0</td>\n",
       "      <td>178.0</td>\n",
       "      <td>78.0</td>\n",
       "      <td>LAX</td>\n",
       "      <td>01</td>\n",
       "    </tr>\n",
       "    <tr>\n",
       "      <th>1</th>\n",
       "      <td>USW00023174</td>\n",
       "      <td>2014-01-02</td>\n",
       "      <td>22</td>\n",
       "      <td>0</td>\n",
       "      <td>NaN</td>\n",
       "      <td>NaN</td>\n",
       "      <td>159.0</td>\n",
       "      <td>256.0</td>\n",
       "      <td>100.0</td>\n",
       "      <td>LAX</td>\n",
       "      <td>01</td>\n",
       "    </tr>\n",
       "    <tr>\n",
       "      <th>2</th>\n",
       "      <td>USW00023174</td>\n",
       "      <td>2014-01-03</td>\n",
       "      <td>17</td>\n",
       "      <td>0</td>\n",
       "      <td>NaN</td>\n",
       "      <td>NaN</td>\n",
       "      <td>140.0</td>\n",
       "      <td>178.0</td>\n",
       "      <td>83.0</td>\n",
       "      <td>LAX</td>\n",
       "      <td>01</td>\n",
       "    </tr>\n",
       "    <tr>\n",
       "      <th>3</th>\n",
       "      <td>USW00023174</td>\n",
       "      <td>2014-01-04</td>\n",
       "      <td>18</td>\n",
       "      <td>0</td>\n",
       "      <td>NaN</td>\n",
       "      <td>NaN</td>\n",
       "      <td>136.0</td>\n",
       "      <td>183.0</td>\n",
       "      <td>100.0</td>\n",
       "      <td>LAX</td>\n",
       "      <td>01</td>\n",
       "    </tr>\n",
       "    <tr>\n",
       "      <th>4</th>\n",
       "      <td>USW00023174</td>\n",
       "      <td>2014-01-05</td>\n",
       "      <td>18</td>\n",
       "      <td>0</td>\n",
       "      <td>NaN</td>\n",
       "      <td>NaN</td>\n",
       "      <td>151.0</td>\n",
       "      <td>244.0</td>\n",
       "      <td>83.0</td>\n",
       "      <td>LAX</td>\n",
       "      <td>01</td>\n",
       "    </tr>\n",
       "  </tbody>\n",
       "</table>\n",
       "</div>"
      ],
      "text/plain": [
       "       STATION        DATE  AWND  PRCP  SNOW  SNWD   TAVG   TMAX   TMIN  \\\n",
       "0  USW00023174  2014-01-01    16     0   NaN   NaN  131.0  178.0   78.0   \n",
       "1  USW00023174  2014-01-02    22     0   NaN   NaN  159.0  256.0  100.0   \n",
       "2  USW00023174  2014-01-03    17     0   NaN   NaN  140.0  178.0   83.0   \n",
       "3  USW00023174  2014-01-04    18     0   NaN   NaN  136.0  183.0  100.0   \n",
       "4  USW00023174  2014-01-05    18     0   NaN   NaN  151.0  244.0   83.0   \n",
       "\n",
       "  airport MONTH  \n",
       "0     LAX    01  \n",
       "1     LAX    01  \n",
       "2     LAX    01  \n",
       "3     LAX    01  \n",
       "4     LAX    01  "
      ]
     },
     "execution_count": 50,
     "metadata": {},
     "output_type": "execute_result"
    }
   ],
   "source": [
    "# Extracting the month part from the 'DATE' column\n",
    "weather['MONTH'] = weather['DATE'].apply(lambda x: x.split('-')[1]) \n",
    "weather.head()"
   ]
  },
  {
   "cell_type": "markdown",
   "metadata": {},
   "source": [
    "### Sample output\n",
    "```\n",
    "  STATION     DATE      AWND PRCP SNOW SNWD TAVG TMAX  TMIN airport MONTH\n",
    "0 USW00023174 2014-01-01 16   0   NaN  NaN 131.0 178.0 78.0  LAX    01\n",
    "1 USW00023174 2014-01-02 22   0   NaN  NaN 159.0 256.0 100.0 LAX    01\n",
    "2 USW00023174 2014-01-03 17   0   NaN  NaN 140.0 178.0 83.0  LAX    01\n",
    "3 USW00023174 2014-01-04 18   0   NaN  NaN 136.0 183.0 100.0 LAX    01\n",
    "4 USW00023174 2014-01-05 18   0   NaN  NaN 151.0 244.0 83.0  LAX    01\n",
    "```"
   ]
  },
  {
   "cell_type": "markdown",
   "metadata": {},
   "source": [
    "Analyze and handle the `SNOW` and `SNWD` columns for missing values using `fillna()`. Use the `isna()` function to check the missing values for all the columns."
   ]
  },
  {
   "cell_type": "code",
   "execution_count": 51,
   "metadata": {},
   "outputs": [
    {
     "data": {
      "text/plain": [
       "array([ nan,   0.,   3.,  15.,  56.,  81.,   5.,  91.,  43.,  58.,   8.,\n",
       "        20.,  25.,  41.,  13.,  36.,  18.,  86.,  10., 137.,  46.,  76.,\n",
       "        23.,  97., 152.,  79.,  53.,  74.,  48., 104.,  89.,  30.,  71.,\n",
       "        33., 196., 175., 119., 333., 300.,  51.,  38., 107.,  66.,  61.,\n",
       "       145.,  69., 147., 221.,  28.,  64., 127.,  94., 411., 142., 178.,\n",
       "       163., 130.,  99., 157.,  84., 117.])"
      ]
     },
     "execution_count": 51,
     "metadata": {},
     "output_type": "execute_result"
    }
   ],
   "source": [
    "weather['SNOW'].unique()"
   ]
  },
  {
   "cell_type": "code",
   "execution_count": 52,
   "metadata": {},
   "outputs": [
    {
     "data": {
      "text/plain": [
       "array([ nan,   0.,  30.,  50.,  80., 100., 150., 230., 130., 180., 250.,\n",
       "       200., 280., 300., 330., 360., 460., 430., 410., 380.,  25.,  51.])"
      ]
     },
     "execution_count": 52,
     "metadata": {},
     "output_type": "execute_result"
    }
   ],
   "source": [
    "weather['SNWD'].unique()"
   ]
  },
  {
   "cell_type": "markdown",
   "metadata": {},
   "source": [
    "It is being assumed that NaN values in the SNOW and SNWD columns indicate the absence of snowfall or snow depth, so we will replace these missing values with zero."
   ]
  },
  {
   "cell_type": "code",
   "execution_count": 53,
   "metadata": {
    "scrolled": true
   },
   "outputs": [
    {
     "data": {
      "text/plain": [
       "STATION     0\n",
       "DATE        0\n",
       "AWND        0\n",
       "PRCP        0\n",
       "SNOW        0\n",
       "SNWD        0\n",
       "TAVG       62\n",
       "TMAX       20\n",
       "TMIN       20\n",
       "airport     0\n",
       "MONTH       0\n",
       "dtype: int64"
      ]
     },
     "execution_count": 53,
     "metadata": {},
     "output_type": "execute_result"
    }
   ],
   "source": [
    "weather.SNOW.fillna(0, inplace=True)  \n",
    "weather.SNWD.fillna(0, inplace=True)  \n",
    "weather.isna().sum()"
   ]
  },
  {
   "cell_type": "markdown",
   "metadata": {},
   "source": [
    "**Question**: Print the index of the rows that have missing values for TAVG, TMAX, TMIN.\n",
    "\n",
    "**Hint**: Use the `isna()` function to find the rows that are missing, and then use the list on the idx variable to get the index."
   ]
  },
  {
   "cell_type": "code",
   "execution_count": 54,
   "metadata": {},
   "outputs": [
    {
     "data": {
      "text/plain": [
       "array([    0,     1,     2, ..., 16431, 16432, 16433])"
      ]
     },
     "execution_count": 54,
     "metadata": {},
     "output_type": "execute_result"
    }
   ],
   "source": [
    "idx = np.array([i for i in range(len(weather))])\n",
    "TAVG_idx = idx[weather[\"TAVG\"].isna()]\n",
    "TMAX_idx = idx[weather[\"TMAX\"].isna()]\n",
    "TMIN_idx = idx[weather[\"TMIN\"].isna()]\n",
    "idx"
   ]
  },
  {
   "cell_type": "markdown",
   "metadata": {},
   "source": [
    "### Sample output\n",
    "\n",
    "```\n",
    "array([ 3956,  3957,  3958,  3959,  3960,  3961,  3962,  3963,  3964,\n",
    "        3965,  3966,  3967,  3968,  3969,  3970,  3971,  3972,  3973,\n",
    "        3974,  3975,  3976,  3977,  3978,  3979,  3980,  3981,  3982,\n",
    "        3983,  3984,  3985,  4017,  4018,  4019,  4020,  4021,  4022,\n",
    "        4023,  4024,  4025,  4026,  4027,  4028,  4029,  4030,  4031,\n",
    "        4032,  4033,  4034,  4035,  4036,  4037,  4038,  4039,  4040,\n",
    "        4041,  4042,  4043,  4044,  4045,  4046,  4047, 13420])\n",
    "```"
   ]
  },
  {
   "cell_type": "markdown",
   "metadata": {},
   "source": [
    "You can replace the missing TAVG, TMAX, and TMIN with the average value for a particular station/airport. Because the consecutive rows of TAVG_idx are missing, replacing with a previous value would not be possible. Instead, replace it with the mean. Use the `groupby` function to aggregate the variables with a mean value."
   ]
  },
  {
   "cell_type": "code",
   "execution_count": 55,
   "metadata": {},
   "outputs": [
    {
     "data": {
      "text/html": [
       "<div>\n",
       "<style scoped>\n",
       "    .dataframe tbody tr th:only-of-type {\n",
       "        vertical-align: middle;\n",
       "    }\n",
       "\n",
       "    .dataframe tbody tr th {\n",
       "        vertical-align: top;\n",
       "    }\n",
       "\n",
       "    .dataframe thead th {\n",
       "        text-align: right;\n",
       "    }\n",
       "</style>\n",
       "<table border=\"1\" class=\"dataframe\">\n",
       "  <thead>\n",
       "    <tr style=\"text-align: right;\">\n",
       "      <th></th>\n",
       "      <th>STATION</th>\n",
       "      <th>MONTH</th>\n",
       "      <th>TAVG</th>\n",
       "      <th>TMAX</th>\n",
       "      <th>TMIN</th>\n",
       "    </tr>\n",
       "  </thead>\n",
       "  <tbody>\n",
       "    <tr>\n",
       "      <th>0</th>\n",
       "      <td>USW00003017</td>\n",
       "      <td>01</td>\n",
       "      <td>-2.741935</td>\n",
       "      <td>74.000000</td>\n",
       "      <td>-69.858065</td>\n",
       "    </tr>\n",
       "    <tr>\n",
       "      <th>1</th>\n",
       "      <td>USW00003017</td>\n",
       "      <td>02</td>\n",
       "      <td>11.219858</td>\n",
       "      <td>88.553191</td>\n",
       "      <td>-65.035461</td>\n",
       "    </tr>\n",
       "  </tbody>\n",
       "</table>\n",
       "</div>"
      ],
      "text/plain": [
       "       STATION MONTH       TAVG       TMAX       TMIN\n",
       "0  USW00003017    01  -2.741935  74.000000 -69.858065\n",
       "1  USW00003017    02  11.219858  88.553191 -65.035461"
      ]
     },
     "execution_count": 55,
     "metadata": {},
     "output_type": "execute_result"
    }
   ],
   "source": [
    "# Grouping by \"STATION\" and \"MONTH\" allows us to calculate monthly average values \n",
    "# for TAVG, TMAX, and TMIN specific to each station. This approach ensures that \n",
    "# missing values are filled with averages that reflect both seasonal variation \n",
    "# and the unique climate conditions at each airport station. This makes the \n",
    "# imputation more accurate than using a single average across all data.\n",
    "weather_impute = (weather.groupby([\"STATION\", \"MONTH\"]).agg({\"TAVG\": \"mean\", \"TMAX\": \"mean\", \"TMIN\": \"mean\"}).reset_index())\n",
    "# Display the first few rows to check that the aggregation is successful\n",
    "weather_impute.head(2)"
   ]
  },
  {
   "cell_type": "markdown",
   "metadata": {},
   "source": [
    "Merge the mean data with the weather data."
   ]
  },
  {
   "cell_type": "code",
   "execution_count": 56,
   "metadata": {},
   "outputs": [],
   "source": [
    "### get the yesterday's data\n",
    "weather = pd.merge(weather, weather_impute,  how='left', left_on=['MONTH','STATION'], right_on = ['MONTH','STATION'])\\\n",
    ".rename(columns = {'TAVG_y':'TAVG_AVG',\n",
    "                   'TMAX_y':'TMAX_AVG', \n",
    "                   'TMIN_y':'TMIN_AVG',\n",
    "                   'TAVG_x':'TAVG',\n",
    "                   'TMAX_x':'TMAX', \n",
    "                   'TMIN_x':'TMIN'})"
   ]
  },
  {
   "cell_type": "markdown",
   "metadata": {},
   "source": [
    "Check for missing values again."
   ]
  },
  {
   "cell_type": "code",
   "execution_count": 57,
   "metadata": {},
   "outputs": [
    {
     "data": {
      "text/plain": [
       "STATION     0\n",
       "DATE        0\n",
       "AWND        0\n",
       "PRCP        0\n",
       "SNOW        0\n",
       "SNWD        0\n",
       "TAVG        0\n",
       "TMAX        0\n",
       "TMIN        0\n",
       "airport     0\n",
       "MONTH       0\n",
       "TAVG_AVG    0\n",
       "TMAX_AVG    0\n",
       "TMIN_AVG    0\n",
       "dtype: int64"
      ]
     },
     "execution_count": 57,
     "metadata": {},
     "output_type": "execute_result"
    }
   ],
   "source": [
    "weather.TAVG[TAVG_idx] = weather.TAVG_AVG[TAVG_idx]\n",
    "weather.TMAX[TMAX_idx] = weather.TMAX_AVG[TMAX_idx]\n",
    "weather.TMIN[TMIN_idx] = weather.TMIN_AVG[TMIN_idx]\n",
    "weather.isna().sum()"
   ]
  },
  {
   "cell_type": "markdown",
   "metadata": {},
   "source": [
    "Drop `STATION,MONTH,TAVG_AVG,TMAX_AVG,TMIN_AVG,TMAX,TMIN,SNWD` from the dataset"
   ]
  },
  {
   "cell_type": "code",
   "execution_count": 58,
   "metadata": {},
   "outputs": [],
   "source": [
    "weather.drop(columns=['STATION','MONTH','TAVG_AVG', 'TMAX_AVG', 'TMIN_AVG', 'TMAX' ,'TMIN', 'SNWD'],inplace=True)"
   ]
  },
  {
   "cell_type": "markdown",
   "metadata": {},
   "source": [
    "Add the origin and destination weather conditions to the dataset."
   ]
  },
  {
   "cell_type": "code",
   "execution_count": 59,
   "metadata": {},
   "outputs": [],
   "source": [
    "### Add origin weather conditions\n",
    "data_orig = pd.merge(data_orig, weather,  how='left', left_on=['FlightDate','Origin'], right_on = ['DATE','airport'])\\\n",
    ".rename(columns = {'AWND':'AWND_O','PRCP':'PRCP_O', 'TAVG':'TAVG_O', 'SNOW': 'SNOW_O'})\\\n",
    ".drop(columns=['DATE','airport'])\n",
    "\n",
    "### Add destination weather conditions\n",
    "data_orig = pd.merge(data_orig, weather,  how='left', left_on=['FlightDate','Dest'], right_on = ['DATE','airport'])\\\n",
    ".rename(columns = {'AWND':'AWND_D','PRCP':'PRCP_D', 'TAVG':'TAVG_D', 'SNOW': 'SNOW_D'})\\\n",
    ".drop(columns=['DATE','airport'])"
   ]
  },
  {
   "cell_type": "markdown",
   "metadata": {},
   "source": [
    "**Note**: It is always a good practice to check nulls/NAs after joins."
   ]
  },
  {
   "cell_type": "code",
   "execution_count": 60,
   "metadata": {},
   "outputs": [
    {
     "data": {
      "text/plain": [
       "0"
      ]
     },
     "execution_count": 60,
     "metadata": {},
     "output_type": "execute_result"
    }
   ],
   "source": [
    "sum(data.isna().any())"
   ]
  },
  {
   "cell_type": "code",
   "execution_count": 61,
   "metadata": {},
   "outputs": [
    {
     "data": {
      "text/plain": [
       "Index(['Year', 'Quarter', 'Month', 'DayofMonth', 'DayOfWeek', 'FlightDate',\n",
       "       'Reporting_Airline', 'Origin', 'OriginState', 'Dest', 'DestState',\n",
       "       'CRSDepTime', 'Cancelled', 'Diverted', 'Distance', 'DistanceGroup',\n",
       "       'ArrDelay', 'ArrDelayMinutes', 'is_delay', 'AirTime', 'DepHourofDay',\n",
       "       'is_holiday', 'AWND_O', 'PRCP_O', 'SNOW_O', 'TAVG_O', 'AWND_D',\n",
       "       'PRCP_D', 'SNOW_D', 'TAVG_D'],\n",
       "      dtype='object')"
      ]
     },
     "execution_count": 61,
     "metadata": {},
     "output_type": "execute_result"
    }
   ],
   "source": [
    "data_orig.columns"
   ]
  },
  {
   "cell_type": "markdown",
   "metadata": {},
   "source": [
    "Convert the categorical data into numerical data using one-hot encoding."
   ]
  },
  {
   "cell_type": "code",
   "execution_count": 62,
   "metadata": {},
   "outputs": [],
   "source": [
    "data = data_orig.copy()\n",
    "data = data[['is_delay', 'Year', 'Quarter', 'Month', 'DayofMonth', 'DayOfWeek', \n",
    "       'Reporting_Airline', 'Origin', 'Dest','Distance','DepHourofDay','is_holiday', 'AWND_O', 'PRCP_O',\n",
    "       'TAVG_O', 'AWND_D', 'PRCP_D', 'TAVG_D', 'SNOW_O', 'SNOW_D']]\n",
    "\n",
    "# I have added departure hours of the day as a categorical column here \n",
    "categorical_columns  = ['Year', 'Quarter', 'Month', 'DayofMonth', 'DayOfWeek', \n",
    "       'Reporting_Airline', 'Origin', 'Dest', 'is_holiday', 'DepHourofDay']\n",
    "for c in categorical_columns:\n",
    "    data[c] = data[c].astype('category')"
   ]
  },
  {
   "cell_type": "code",
   "execution_count": 63,
   "metadata": {},
   "outputs": [
    {
     "name": "stdout",
     "output_type": "stream",
     "text": [
      "   is_delay  Year Quarter Month DayofMonth DayOfWeek Reporting_Airline Origin  \\\n",
      "0       0.0  2014       1     1         26         7                DL    ATL   \n",
      "1       0.0  2014       1     1         26         7                DL    DFW   \n",
      "2       0.0  2014       1     1         26         7                DL    ATL   \n",
      "3       0.0  2014       1     1         26         7                DL    ATL   \n",
      "4       0.0  2014       1     1         26         7                DL    PHX   \n",
      "\n",
      "  Dest  Distance DepHourofDay is_holiday  AWND_O  PRCP_O  TAVG_O  AWND_D  \\\n",
      "0  IAH     689.0        19-23      False      33       0    54.0      30   \n",
      "1  ATL     731.0         7-12      False      39       0   136.0      33   \n",
      "2  DEN    1199.0        19-23      False      33       0    54.0      77   \n",
      "3  PHX    1587.0        13-18      False      33       0    54.0      20   \n",
      "4  ATL    1587.0         7-12      False      20       0   165.0      33   \n",
      "\n",
      "   PRCP_D  TAVG_D  SNOW_O  SNOW_D  \n",
      "0       0   130.0     0.0     0.0  \n",
      "1       0    54.0     0.0     0.0  \n",
      "2       0    68.0     0.0     0.0  \n",
      "3       0   165.0     0.0     0.0  \n",
      "4       0    54.0     0.0     0.0  \n"
     ]
    }
   ],
   "source": [
    "# Defining the time ranges (in hours) to categorize 'DepHourofDay' into buckets\n",
    "bins = [0, 6, 12, 18, 24]  # Hour intervals for bucketing: 0-6, 7-12, 13-18, 19-23\n",
    "labels = ['0-6', '7-12', '13-18', '19-23']  # Labels corresponding to each time range\n",
    "# Bucketizing 'DepHourofDay' using defined bins and labels, making it a categorical variable\n",
    "# 'right=False' ensures that each bin includes the lower bound but excludes the upper bound, e.g., 0-6 includes 0 but excludes 6\n",
    "data['DepHourofDay'] = pd.cut(data['DepHourofDay'], bins=bins, labels=labels, right=False)\n",
    "# Displaying the first few rows of the modified dataset to verify that the changes have been applied correctly\n",
    "print(data.head())"
   ]
  },
  {
   "cell_type": "code",
   "execution_count": 64,
   "metadata": {},
   "outputs": [
    {
     "data": {
      "text/html": [
       "<div>\n",
       "<style scoped>\n",
       "    .dataframe tbody tr th:only-of-type {\n",
       "        vertical-align: middle;\n",
       "    }\n",
       "\n",
       "    .dataframe tbody tr th {\n",
       "        vertical-align: top;\n",
       "    }\n",
       "\n",
       "    .dataframe thead th {\n",
       "        text-align: right;\n",
       "    }\n",
       "</style>\n",
       "<table border=\"1\" class=\"dataframe\">\n",
       "  <thead>\n",
       "    <tr style=\"text-align: right;\">\n",
       "      <th></th>\n",
       "      <th>is_delay</th>\n",
       "      <th>Distance</th>\n",
       "      <th>AWND_O</th>\n",
       "      <th>PRCP_O</th>\n",
       "      <th>TAVG_O</th>\n",
       "      <th>AWND_D</th>\n",
       "      <th>PRCP_D</th>\n",
       "      <th>TAVG_D</th>\n",
       "      <th>SNOW_O</th>\n",
       "      <th>SNOW_D</th>\n",
       "      <th>...</th>\n",
       "      <th>Dest_DFW</th>\n",
       "      <th>Dest_IAH</th>\n",
       "      <th>Dest_LAX</th>\n",
       "      <th>Dest_ORD</th>\n",
       "      <th>Dest_PHX</th>\n",
       "      <th>Dest_SFO</th>\n",
       "      <th>is_holiday_True</th>\n",
       "      <th>DepHourofDay_7-12</th>\n",
       "      <th>DepHourofDay_13-18</th>\n",
       "      <th>DepHourofDay_19-23</th>\n",
       "    </tr>\n",
       "  </thead>\n",
       "  <tbody>\n",
       "    <tr>\n",
       "      <th>0</th>\n",
       "      <td>0.0</td>\n",
       "      <td>689.0</td>\n",
       "      <td>33</td>\n",
       "      <td>0</td>\n",
       "      <td>54.0</td>\n",
       "      <td>30</td>\n",
       "      <td>0</td>\n",
       "      <td>130.0</td>\n",
       "      <td>0.0</td>\n",
       "      <td>0.0</td>\n",
       "      <td>...</td>\n",
       "      <td>False</td>\n",
       "      <td>True</td>\n",
       "      <td>False</td>\n",
       "      <td>False</td>\n",
       "      <td>False</td>\n",
       "      <td>False</td>\n",
       "      <td>False</td>\n",
       "      <td>False</td>\n",
       "      <td>False</td>\n",
       "      <td>True</td>\n",
       "    </tr>\n",
       "    <tr>\n",
       "      <th>1</th>\n",
       "      <td>0.0</td>\n",
       "      <td>731.0</td>\n",
       "      <td>39</td>\n",
       "      <td>0</td>\n",
       "      <td>136.0</td>\n",
       "      <td>33</td>\n",
       "      <td>0</td>\n",
       "      <td>54.0</td>\n",
       "      <td>0.0</td>\n",
       "      <td>0.0</td>\n",
       "      <td>...</td>\n",
       "      <td>False</td>\n",
       "      <td>False</td>\n",
       "      <td>False</td>\n",
       "      <td>False</td>\n",
       "      <td>False</td>\n",
       "      <td>False</td>\n",
       "      <td>False</td>\n",
       "      <td>True</td>\n",
       "      <td>False</td>\n",
       "      <td>False</td>\n",
       "    </tr>\n",
       "    <tr>\n",
       "      <th>2</th>\n",
       "      <td>0.0</td>\n",
       "      <td>1199.0</td>\n",
       "      <td>33</td>\n",
       "      <td>0</td>\n",
       "      <td>54.0</td>\n",
       "      <td>77</td>\n",
       "      <td>0</td>\n",
       "      <td>68.0</td>\n",
       "      <td>0.0</td>\n",
       "      <td>0.0</td>\n",
       "      <td>...</td>\n",
       "      <td>False</td>\n",
       "      <td>False</td>\n",
       "      <td>False</td>\n",
       "      <td>False</td>\n",
       "      <td>False</td>\n",
       "      <td>False</td>\n",
       "      <td>False</td>\n",
       "      <td>False</td>\n",
       "      <td>False</td>\n",
       "      <td>True</td>\n",
       "    </tr>\n",
       "    <tr>\n",
       "      <th>3</th>\n",
       "      <td>0.0</td>\n",
       "      <td>1587.0</td>\n",
       "      <td>33</td>\n",
       "      <td>0</td>\n",
       "      <td>54.0</td>\n",
       "      <td>20</td>\n",
       "      <td>0</td>\n",
       "      <td>165.0</td>\n",
       "      <td>0.0</td>\n",
       "      <td>0.0</td>\n",
       "      <td>...</td>\n",
       "      <td>False</td>\n",
       "      <td>False</td>\n",
       "      <td>False</td>\n",
       "      <td>False</td>\n",
       "      <td>True</td>\n",
       "      <td>False</td>\n",
       "      <td>False</td>\n",
       "      <td>False</td>\n",
       "      <td>True</td>\n",
       "      <td>False</td>\n",
       "    </tr>\n",
       "    <tr>\n",
       "      <th>4</th>\n",
       "      <td>0.0</td>\n",
       "      <td>1587.0</td>\n",
       "      <td>20</td>\n",
       "      <td>0</td>\n",
       "      <td>165.0</td>\n",
       "      <td>33</td>\n",
       "      <td>0</td>\n",
       "      <td>54.0</td>\n",
       "      <td>0.0</td>\n",
       "      <td>0.0</td>\n",
       "      <td>...</td>\n",
       "      <td>False</td>\n",
       "      <td>False</td>\n",
       "      <td>False</td>\n",
       "      <td>False</td>\n",
       "      <td>False</td>\n",
       "      <td>False</td>\n",
       "      <td>False</td>\n",
       "      <td>True</td>\n",
       "      <td>False</td>\n",
       "      <td>False</td>\n",
       "    </tr>\n",
       "  </tbody>\n",
       "</table>\n",
       "<p>5 rows × 88 columns</p>\n",
       "</div>"
      ],
      "text/plain": [
       "   is_delay  Distance  AWND_O  PRCP_O  TAVG_O  AWND_D  PRCP_D  TAVG_D  SNOW_O  \\\n",
       "0       0.0     689.0      33       0    54.0      30       0   130.0     0.0   \n",
       "1       0.0     731.0      39       0   136.0      33       0    54.0     0.0   \n",
       "2       0.0    1199.0      33       0    54.0      77       0    68.0     0.0   \n",
       "3       0.0    1587.0      33       0    54.0      20       0   165.0     0.0   \n",
       "4       0.0    1587.0      20       0   165.0      33       0    54.0     0.0   \n",
       "\n",
       "   SNOW_D  ...  Dest_DFW  Dest_IAH  Dest_LAX  Dest_ORD  Dest_PHX  Dest_SFO  \\\n",
       "0     0.0  ...     False      True     False     False     False     False   \n",
       "1     0.0  ...     False     False     False     False     False     False   \n",
       "2     0.0  ...     False     False     False     False     False     False   \n",
       "3     0.0  ...     False     False     False     False      True     False   \n",
       "4     0.0  ...     False     False     False     False     False     False   \n",
       "\n",
       "   is_holiday_True  DepHourofDay_7-12  DepHourofDay_13-18  DepHourofDay_19-23  \n",
       "0            False              False               False                True  \n",
       "1            False               True               False               False  \n",
       "2            False              False               False                True  \n",
       "3            False              False                True               False  \n",
       "4            False               True               False               False  \n",
       "\n",
       "[5 rows x 88 columns]"
      ]
     },
     "execution_count": 64,
     "metadata": {},
     "output_type": "execute_result"
    }
   ],
   "source": [
    "# Perform one-hot encoding on the specified categorical columns and drop the first level for dummy encoding\n",
    "data_dummies = pd.get_dummies(data[categorical_columns], drop_first=True)\n",
    "\n",
    "# Concatenate the encoded columns with the original dataset\n",
    "data = pd.concat([data, data_dummies], axis=1)\n",
    "\n",
    "# Remove the original categorical columns since they are now represented in encoded form\n",
    "data.drop(categorical_columns, axis=1, inplace=True)\n",
    "\n",
    "# Display the first few rows to verify the transformation\n",
    "data.head()"
   ]
  },
  {
   "cell_type": "markdown",
   "metadata": {},
   "source": [
    "### Sample code\n",
    "\n",
    "```\n",
    "data_dummies = pd.get_dummies(data[['Year', 'Quarter', 'Month', 'DayofMonth', 'DayOfWeek', 'Reporting_Airline', 'Origin', 'Dest', 'is_holiday']], drop_first=True)\n",
    "data = pd.concat([data, data_dummies], axis = 1)\n",
    "categorical_columns.remove('is_delay')\n",
    "data.drop(categorical_columns,axis=1, inplace=True)\n",
    "```"
   ]
  },
  {
   "cell_type": "markdown",
   "metadata": {},
   "source": [
    "Check the new columns."
   ]
  },
  {
   "cell_type": "code",
   "execution_count": 65,
   "metadata": {},
   "outputs": [
    {
     "data": {
      "text/plain": [
       "Index(['is_delay', 'Distance', 'AWND_O', 'PRCP_O', 'TAVG_O', 'AWND_D',\n",
       "       'PRCP_D', 'TAVG_D', 'SNOW_O', 'SNOW_D', 'Year_2015', 'Year_2016',\n",
       "       'Year_2017', 'Year_2018', 'Quarter_2', 'Quarter_3', 'Quarter_4',\n",
       "       'Month_2', 'Month_3', 'Month_4', 'Month_5', 'Month_6', 'Month_7',\n",
       "       'Month_8', 'Month_9', 'Month_10', 'Month_11', 'Month_12',\n",
       "       'DayofMonth_2', 'DayofMonth_3', 'DayofMonth_4', 'DayofMonth_5',\n",
       "       'DayofMonth_6', 'DayofMonth_7', 'DayofMonth_8', 'DayofMonth_9',\n",
       "       'DayofMonth_10', 'DayofMonth_11', 'DayofMonth_12', 'DayofMonth_13',\n",
       "       'DayofMonth_14', 'DayofMonth_15', 'DayofMonth_16', 'DayofMonth_17',\n",
       "       'DayofMonth_18', 'DayofMonth_19', 'DayofMonth_20', 'DayofMonth_21',\n",
       "       'DayofMonth_22', 'DayofMonth_23', 'DayofMonth_24', 'DayofMonth_25',\n",
       "       'DayofMonth_26', 'DayofMonth_27', 'DayofMonth_28', 'DayofMonth_29',\n",
       "       'DayofMonth_30', 'DayofMonth_31', 'DayOfWeek_2', 'DayOfWeek_3',\n",
       "       'DayOfWeek_4', 'DayOfWeek_5', 'DayOfWeek_6', 'DayOfWeek_7',\n",
       "       'Reporting_Airline_DL', 'Reporting_Airline_OO', 'Reporting_Airline_UA',\n",
       "       'Reporting_Airline_WN', 'Origin_CLT', 'Origin_DEN', 'Origin_DFW',\n",
       "       'Origin_IAH', 'Origin_LAX', 'Origin_ORD', 'Origin_PHX', 'Origin_SFO',\n",
       "       'Dest_CLT', 'Dest_DEN', 'Dest_DFW', 'Dest_IAH', 'Dest_LAX', 'Dest_ORD',\n",
       "       'Dest_PHX', 'Dest_SFO', 'is_holiday_True', 'DepHourofDay_7-12',\n",
       "       'DepHourofDay_13-18', 'DepHourofDay_19-23'],\n",
       "      dtype='object')"
      ]
     },
     "execution_count": 65,
     "metadata": {},
     "output_type": "execute_result"
    }
   ],
   "source": [
    "data.columns"
   ]
  },
  {
   "cell_type": "markdown",
   "metadata": {},
   "source": [
    "### Sample output\n",
    "\n",
    "```\n",
    "Index(['Distance', 'DepHourofDay', 'is_delay', 'AWND_O', 'PRCP_O', 'TAVG_O',\n",
    "       'AWND_D', 'PRCP_D', 'TAVG_D', 'SNOW_O', 'SNOW_D', 'Year_2015',\n",
    "       'Year_2016', 'Year_2017', 'Year_2018', 'Quarter_2', 'Quarter_3',\n",
    "       'Quarter_4', 'Month_2', 'Month_3', 'Month_4', 'Month_5', 'Month_6',\n",
    "       'Month_7', 'Month_8', 'Month_9', 'Month_10', 'Month_11', 'Month_12',\n",
    "       'DayofMonth_2', 'DayofMonth_3', 'DayofMonth_4', 'DayofMonth_5',\n",
    "       'DayofMonth_6', 'DayofMonth_7', 'DayofMonth_8', 'DayofMonth_9',\n",
    "       'DayofMonth_10', 'DayofMonth_11', 'DayofMonth_12', 'DayofMonth_13',\n",
    "       'DayofMonth_14', 'DayofMonth_15', 'DayofMonth_16', 'DayofMonth_17',\n",
    "       'DayofMonth_18', 'DayofMonth_19', 'DayofMonth_20', 'DayofMonth_21',\n",
    "       'DayofMonth_22', 'DayofMonth_23', 'DayofMonth_24', 'DayofMonth_25',\n",
    "       'DayofMonth_26', 'DayofMonth_27', 'DayofMonth_28', 'DayofMonth_29',\n",
    "       'DayofMonth_30', 'DayofMonth_31', 'DayOfWeek_2', 'DayOfWeek_3',\n",
    "       'DayOfWeek_4', 'DayOfWeek_5', 'DayOfWeek_6', 'DayOfWeek_7',\n",
    "       'Reporting_Airline_DL', 'Reporting_Airline_OO', 'Reporting_Airline_UA',\n",
    "       'Reporting_Airline_WN', 'Origin_CLT', 'Origin_DEN', 'Origin_DFW',\n",
    "       'Origin_IAH', 'Origin_LAX', 'Origin_ORD', 'Origin_PHX', 'Origin_SFO',\n",
    "       'Dest_CLT', 'Dest_DEN', 'Dest_DFW', 'Dest_IAH', 'Dest_LAX', 'Dest_ORD',\n",
    "       'Dest_PHX', 'Dest_SFO', 'is_holiday_1'],\n",
    "      dtype='object')\n",
    "```"
   ]
  },
  {
   "cell_type": "markdown",
   "metadata": {},
   "source": [
    "Rename the `is_delay` column to `target` again. Use the same code as before."
   ]
  },
  {
   "cell_type": "code",
   "execution_count": 66,
   "metadata": {},
   "outputs": [],
   "source": [
    "data.rename(columns={\"is_delay\": \"target\"}, inplace=True) "
   ]
  },
  {
   "cell_type": "code",
   "execution_count": 67,
   "metadata": {},
   "outputs": [
    {
     "name": "stdout",
     "output_type": "stream",
     "text": [
      "New combined CSV file saved to f:\\Jeem Poralekha\\u3265713_DSTS_Assignment_2\\Final Assignment Folder\\combined_csv_v2.csv\n"
     ]
    }
   ],
   "source": [
    "# write code to Save the new combined csv file (combined_csv_v2.csv) to your local computer\n",
    "# note this combined file will be also used in part B\n",
    "\n",
    "# Defining the filename for the new combined CSV file to be saved in base path\n",
    "combined_csv_filename_v2 = os.path.join(base_path, \"combined_csv_v2.csv\")\n",
    "# Saving the DataFrame as a CSV file to the specified location\n",
    "data.to_csv(combined_csv_filename_v2, index=False)\n",
    "# Printing the path where the file has been saved\n",
    "print(f\"New combined CSV file saved to {combined_csv_filename_v2}\")"
   ]
  },
  {
   "cell_type": "markdown",
   "metadata": {},
   "source": [
    "Create the training and testing sets again."
   ]
  },
  {
   "cell_type": "code",
   "execution_count": 68,
   "metadata": {},
   "outputs": [
    {
     "name": "stdout",
     "output_type": "stream",
     "text": [
      "X_train shape: (1308472, 87)\n",
      "X_test shape: (327118, 87)\n",
      "y_train shape: (1308472,)\n",
      "y_test shape: (327118,)\n"
     ]
    }
   ],
   "source": [
    "# Splitting the target variables and the independent variables\n",
    "X = data.drop(columns=['target'])  # Features/Target variables stored as X\n",
    "y = data['target']  # Target Variables stored as y\n",
    "# Splitting into training and testing sets (80% train, 20% test) using the train_test_split function from sikitlearn \n",
    "# Here the stratify=y parameter has been used because y is imbalanced, this ensures that train and test sets have the same proportion of each class as in the original dataset\n",
    "X_train, X_test, y_train, y_test = train_test_split(X, y, test_size=0.2, random_state=42, stratify=y)\n",
    "# Print the shapes of resulting datasets to confirm whether the split has been done properly or not\n",
    "print(f\"X_train shape: {X_train.shape}\")\n",
    "print(f\"X_test shape: {X_test.shape}\")\n",
    "print(f\"y_train shape: {y_train.shape}\")\n",
    "print(f\"y_test shape: {y_test.shape}\")"
   ]
  },
  {
   "cell_type": "markdown",
   "metadata": {},
   "source": [
    "### New baseline classifier\n",
    "\n",
    "Now, see if these new features add any predictive power to the model."
   ]
  },
  {
   "cell_type": "code",
   "execution_count": 69,
   "metadata": {},
   "outputs": [],
   "source": [
    "# Initializing another logistic regression model with a fixed random state for consistency\n",
    "classifier2 = LogisticRegression(random_state=42)\n",
    "# Fitting the new logistic regression model on the training data (X_train, y_train)\n",
    "classifier2.fit(X_train, y_train)\n",
    "# Generating predictions for the test set using the new trained model\n",
    "y_pred2 = classifier2.predict(X_test)"
   ]
  },
  {
   "cell_type": "markdown",
   "metadata": {},
   "source": [
    "Perform the evaluaion as you have done with the previous model and plot/show the same metrics"
   ]
  },
  {
   "cell_type": "code",
   "execution_count": 70,
   "metadata": {},
   "outputs": [
    {
     "data": {
      "image/png": "[encoded data removed]",
      "text/plain": [
       "<Figure size 800x600 with 1 Axes>"
      ]
     },
     "metadata": {},
     "output_type": "display_data"
    },
    {
     "data": {
      "image/png": "[encoded data removed]",
      "text/plain": [
       "<Figure size 640x480 with 1 Axes>"
      ]
     },
     "metadata": {},
     "output_type": "display_data"
    },
    {
     "name": "stdout",
     "output_type": "stream",
     "text": [
      "Accuracy: 0.7908\n",
      "Precision: 0.5206\n",
      "Recall (Sensitivity): 0.0407\n",
      "Specificity: 0.9900\n"
     ]
    }
   ],
   "source": [
    "# Generate the probability predictions for the test set using classifier2\n",
    "y_prob2 = classifier2.predict_proba(X_test)[:, 1] \n",
    "\n",
    "# Plot the confusion matrix for the new predictions\n",
    "plot_confusion_matrix(y_test, y_pred2)\n",
    "\n",
    "# Plot the ROC curve for the new predictions\n",
    "plot_roc(y_test, y_prob2)\n",
    "\n",
    "# Print the performance metrics for the new predictions\n",
    "report_statistics(y_test, y_pred2)"
   ]
  },
  {
   "cell_type": "markdown",
   "metadata": {},
   "source": [
    "### Question: did you notice a difference by adding the extra data on the results?"
   ]
  },
  {
   "cell_type": "markdown",
   "metadata": {},
   "source": [
    "### Comparison of Model Performance with and without Additional Features\n",
    "\n",
    "In this section, we evaluate the impact of adding additional features (weather and holiday indicators) on the model's performance metrics. Below is a table comparing the key metrics between the original model and the improved model with added features.\n",
    "\n",
    "| Metric                   | Model 1 (Original) | Model 2 (With Additional Features) | Difference |\n",
    "|--------------------------|--------------------|-------------------------------------|------------|\n",
    "| **Accuracy**             | 0.7901            | 0.7908                             | +0.0007    |\n",
    "| **Precision**            | 0.5351            | 0.5206                             | -0.0145    |\n",
    "| **Recall (Sensitivity)** | 0.0021            | 0.0407                             | +0.0386    |\n",
    "| **Specificity**          | 0.9995            | 0.9900                             | -0.0095    |\n",
    "| **AUC**                  | 0.63              | 0.63                               | 0.00       |\n",
    "\n",
    "### Observations and Analysis\n",
    "\n",
    "**Accuracy:** \n",
    "- Both models achieve a similar accuracy of around 79%. However, this high accuracy is largely due to the class imbalance in the dataset, where \"No Delay\" cases are dominant. As observed in the first question’s insights, this accuracy is primarily driven by the model’s ability to correctly identify \"No Delay\" instances, which does not necessarily indicate its effectiveness in predicting delays.\n",
    "- The minimal change in accuracy between the models suggests that the additional features did not significantly alter the model’s overall correctness, which is heavily influenced by the predominant \"No Delay\" class.\n",
    "\n",
    "**Precision:** \n",
    "- Precision slightly decreased in Model 2 (from 0.5351 to 0.5206). This means that when Model 2 predicts \"Delay,\" it is correct only about half of the time. The decrease in precision indicates that Model 2 produces more false positives (incorrectly predicting delays) with the added features.\n",
    "- However, this drop in precision may be a trade-off to improve recall, as Model 2 attempts to capture more actual delay cases.\n",
    "\n",
    "**Recall (Sensitivity):** \n",
    "- Recall shows a modest improvement from 0.0021 to 0.0407. Despite this increase, the recall is still very low due to the significant class imbalance. A recall of 0.0407 means that the model still misses the majority of actual delay cases.\n",
    "- This slight increase in recall indicates that Model 2 is somewhat better at capturing delays than Model 1, but the improvement is not substantial. Further handling of class imbalance might be needed to achieve meaningful recall gains.\n",
    "\n",
    "**Specificity:** \n",
    "- Specificity remains high for both models, though it slightly decreases in Model 2 (from 0.9995 to 0.9900). The high specificity indicates that both models are very effective at identifying \"No Delay\" flights, with Model 1 being slightly more conservative in this respect.\n",
    "- The small reduction in specificity in Model 2 reflects the model's shift in focus to capture some delay cases, which slightly impacts its performance on \"No Delay\" cases.\n",
    "\n",
    "**AUC (Area Under the Curve):**\n",
    "- Both models have a similar AUC of 0.63, indicating that the discrimination capability remains the same between the two models. This suggests that the added features have not significantly impacted the model's ability to differentiate between delayed and non-delayed flights.\n",
    "\n",
    "### Conclusion\n",
    "\n",
    "Yes, adding extra data slightly improved the recall (sensitivity), making Model 2 better at identifying delay cases than Model 1. However, the improvement was limited, likely due to the underlying class imbalance, which remains a significant challenge. This suggests that further handling of class imbalance, such as resampling techniques or adjusting class weights, may be necessary to meaningfully improve recall and create a model more suited for predicting delays effectively."
   ]
  },
  {
   "cell_type": "markdown",
   "metadata": {},
   "source": [
    "# Additional Section: In this section the class imbalance will be solved and a new model will be created and then the results for all the models will be compared "
   ]
  },
  {
   "cell_type": "code",
   "execution_count": 71,
   "metadata": {},
   "outputs": [
    {
     "data": {
      "image/png": "[encoded data removed]",
      "text/plain": [
       "<Figure size 800x600 with 1 Axes>"
      ]
     },
     "metadata": {},
     "output_type": "display_data"
    },
    {
     "data": {
      "image/png": "[encoded data removed]",
      "text/plain": [
       "<Figure size 640x480 with 1 Axes>"
      ]
     },
     "metadata": {},
     "output_type": "display_data"
    },
    {
     "name": "stdout",
     "output_type": "stream",
     "text": [
      "Accuracy: 0.5988\n",
      "Precision: 0.6297\n",
      "Recall (Sensitivity): 0.4797\n",
      "Specificity: 0.7180\n"
     ]
    }
   ],
   "source": [
    "# Creating a balanced sample dataset with equal parts \"Delay\" and \"No Delay\" instances\n",
    "# Separating the delay and no delay instances from the main data file \n",
    "delay_instances = data[data['target'] == 1]  # Selecting rows where target is \"Delay\"\n",
    "no_delay_instances = data[data['target'] == 0]  # Selecting rows where target is \"No Delay\"\n",
    "# Undersample the \"No Delay\" instances to match the number of \"Delay\" instances\n",
    "no_delay_sample = no_delay_instances.sample(n=len(delay_instances), random_state=42)\n",
    "# Combine the delay instances with the undersampled no delay instances\n",
    "sampled_data = pd.concat([delay_instances, no_delay_sample], axis=0)\n",
    "#Defining features and target for the sampled data\n",
    "X_sample = sampled_data.drop(columns=['target'])  # Features\n",
    "y_sample = sampled_data['target']  # Target\n",
    "# Splitting the sampled data into training and testing sets (80% train, 20% test)\n",
    "X_train_sample, X_test_sample, y_train_sample, y_test_sample = train_test_split(\n",
    "    X_sample, y_sample, test_size=0.2, random_state=42, stratify=y_sample)\n",
    "# Training a baseline logistic regression model on the sampled dataset\n",
    "log_reg_sample = LogisticRegression(random_state=42)\n",
    "log_reg_sample.fit(X_train_sample, y_train_sample)\n",
    "# Generating predictions and probabilities for the test set\n",
    "y_pred_sample = log_reg_sample.predict(X_test_sample)\n",
    "y_prob_sample = log_reg_sample.predict_proba(X_test_sample)[:, 1]\n",
    "# Evaluating the model using the existing functions\n",
    "# Plot the confusion matrix\n",
    "plot_confusion_matrix(y_test_sample, y_pred_sample)\n",
    "# Plot the ROC curve\n",
    "plot_roc(y_test_sample, y_prob_sample)\n",
    "# Print the performance metrics\n",
    "report_statistics(y_test_sample, y_pred_sample)\n"
   ]
  },
  {
   "cell_type": "markdown",
   "metadata": {},
   "source": [
    "| Metric                   | Initial (Imbalanced Data) | Imbalanced + Weather Features | Sampled (Balanced Data) |\n",
    "|--------------------------|---------------------------|-------------------------------|--------------------------|\n",
    "| **Accuracy**             | 0.7901                    | 0.7908                        | 0.5988                   |\n",
    "| **Precision**            | 0.5351                    | 0.5206                        | 0.6297                   |\n",
    "| **Recall (Sensitivity)** | 0.0021                    | 0.0407                        | 0.4797                   |\n",
    "| **Specificity**          | 0.9995                    | 0.9900                        | 0.7180                   |\n",
    "| **AUC**                  | 0.63                      | 0.63                          | 0.63                     |\n",
    "\n",
    "### Breakdown of All Three Models\n",
    "\n",
    "**Initial Model (Imbalanced Data)**:\n",
    "- The initial model trained on the imbalanced dataset had **high accuracy (79%)** and **very high specificity (99.95%)** but performed poorly in identifying delays, with a **recall of only 0.21%**. This means the model was biased towards predicting \"No Delay\" due to the class imbalance, making it ineffective at capturing the minority \"Delay\" class.\n",
    "\n",
    "**Imbalanced Data with Additional Weather Features**:\n",
    "- Adding weather features provided a slight improvement in **recall** (increased from 0.0021 to 0.0407) and a minor decrease in **specificity**. However, the change in performance was marginal, and the model still struggled with detecting delays. The precision also dropped slightly to 0.5206, suggesting that the model's ability to correctly predict delays worsened marginally. Although weather features added some information, the overwhelming class imbalance still limited the model's effectiveness.\n",
    "\n",
    "**Sampled (Balanced) Data**:\n",
    "- With the sampled dataset, where we balanced the \"Delay\" and \"No Delay\" classes, the model demonstrated a significant improvement in **recall (47.97%)**, indicating that it became much better at identifying actual delays. However, **accuracy** and **specificity** dropped to 59.88% and 71.80%, respectively, due to the balanced focus on both classes. The **AUC** remained the same at 0.63, but the improved recall makes this model better suited for the business goal of identifying delays.\n",
    "\n",
    "- This model represents a more balanced approach and provides more reliable delay predictions, though with a trade-off in overall accuracy.\n",
    "\n",
    "### Conclusion:\n",
    "\n",
    "- **Initial Model**: The worst-performing model, as it fails to detect delays effectively, despite high accuracy. This high accuracy is misleading due to the heavy class imbalance.\n",
    "\n",
    "- **Imbalanced + Weather Features Model**: Slightly improved performance in identifying delays but still insufficient for the business goal. The added weather features did not significantly enhance recall.\n",
    "\n",
    "- **Sampled (Balanced) Model**: The best model in terms of identifying delays, aligning more closely with the business requirement. The balanced dataset improves recall, making it more useful for notifying customers about potential delays.\n",
    "\n",
    "In summary, the **Sampled Model** is the best choice for this scenario, as it balances the need to predict delays more accurately, even though it sacrifices some accuracy and specificity. Balancing the dataset has proven to be the most impactful step in enhancing the model's alignment with the business objective."
   ]
  },
  {
   "cell_type": "markdown",
   "metadata": {},
   "source": [
    "# Step 6: Using Tableau\n",
    "\n",
    "Use Tableau to load the combined_csv_v2.csv file and build a dashboard that show your understanding of the data and business problem. \n",
    "### what to do:\n",
    "1. Load the data into Tableau and build the dashboard\n",
    "2. Share the dashboard on your Tableau public account \n",
    "3. Copy the link of the shared dashboard below\n",
    "\n",
    "Note: The dashboard needs to be self explainable to others, so make it simple and add only the features that you feel heighlight the main question(s) of the prblem statement."
   ]
  },
  {
   "cell_type": "markdown",
   "metadata": {},
   "source": [
    "Tableau - Link for u3265713\n",
    "\n",
    "https://public.tableau.com/views/u3265713_Tableau_Dashboard/Dashboard1?:language=en-GB&publish=yes&:sid=&:redirect=auth&:display_count=n&:origin=viz_share_link"
   ]
  },
  {
   "cell_type": "markdown",
   "metadata": {},
   "source": [
    "## Conclusion\n",
    "\n",
    "You've now gone through at least a couple iterations of training and evaluating your model. It's time to wrap up this project and reflect on what you've learned and what types of steps you might take moving forward (assuming you had more time). Use the cell below to answer some of these and other relevant questions:\n",
    "\n",
    "1. Does your model performance meet your business goal? If not, what are some things you'd like to do differently if you had more time for tuning?\n",
    "2. To what extent did your model improve as you made changes to your dataset? What types of techniques did you employ throughout this project that you felt yielded the greatest improvements in your model?\n",
    "3. What were some of the biggest challenges you encountered throughout this project?\n",
    "4. What were the three most important things you learned about machine learning while completing this project?"
   ]
  },
  {
   "cell_type": "markdown",
   "metadata": {},
   "source": [
    "# 1. Does your model performance meet your business goal? If not, what are some things you'd like to do differently if you had more time for tuning?\n",
    "\n",
    "The final model, trained on a sampled dataset to balance \"Delay\" and \"No Delay\" classes, showed the best improvement in recall (47.97%), making it more effective at identifying actual delays. This is a substantial step up from the initial model, which suffered from high class imbalance. However, even with this improvement, the model still does not fully meet the business goal of reliably predicting delays, as it sacrifices overall accuracy and specificity.\n",
    "\n",
    "If more time were available, I would focus on additional steps to further enhance performance. Hyperparameter tuning could be applied to refine the model’s precision-recall balance. Additionally, experimenting with techniques such as SMOTE (Synthetic Minority Over-sampling Technique) for more controlled resampling, or exploring alternative algorithms that might handle imbalanced data more effectively, could help better align the model with the business objective.\n",
    "\n",
    "\n",
    "**Sources:** \n",
    "\n",
    "James, G., Witten, D., Hastie, T., & Tibshirani, R. (2023). An introduction to statistical learning (2nd ed.). Springer.\n",
    "\n",
    "Müller, A. C., & Guido, S. (2016). Introduction to machine learning with Python: A guide for data scientists. O'Reilly Media.\n"
   ]
  },
  {
   "cell_type": "markdown",
   "metadata": {},
   "source": [
    "# 2. To what extent did your model improve as you made changes to your dataset? What types of techniques did you employ throughout this project that you felt yielded the greatest improvements in your model?\n",
    "\n",
    "\n",
    "The model showed noticeable improvements as adjustments were made to address data imbalances and add relevant features. Initially, the model struggled with extremely low recall, identifying only a fraction of the actual delays, due to the dominance of the \"No Delay\" class. Adding weather-related features resulted in a slight boost in recall, but the impact was limited by the continued imbalance in the dataset.\n",
    "\n",
    "The most significant improvement came from balancing the dataset through sampling, which increased recall to nearly 48%. This approach enabled the model to detect delays more effectively, although it required a trade-off in accuracy and specificity. By focusing on recall, the model’s predictions aligned more closely with the business objective of proactively identifying potential delays.\n",
    "\n",
    "Throughout this project, techniques such as feature engineering (adding weather data) and resampling methods to handle class imbalance proved most impactful. These methods helped shift the model's focus from merely achieving high accuracy to meeting the business need for better delay prediction."
   ]
  },
  {
   "cell_type": "markdown",
   "metadata": {},
   "source": [
    "# 3. What were some of the biggest challenges you encountered throughout this project?\n",
    "\n",
    "\n",
    "One of the biggest challenges was the limited and unstable AWS access provided for this project. The environment frequently crashed while running models, requiring multiple restarts. Additionally, the two-hour time allocation was insufficient, especially as uploading the dataset and setting up a new instance alone took around 15 minutes each time. Despite completing the initial steps of the project early on, these technical issues on AWS created significant delays and added unnecessary difficulty to the process. Ultimately, I was completely banned from using the platform, which prevented me from finalizing the work smoothly. This experience highlighted the importance of reliable, uninterrupted access and sufficient time allocation when working with large datasets and complex models."
   ]
  },
  {
   "cell_type": "markdown",
   "metadata": {},
   "source": [
    "# 4. What were the three most important things you learned about machine learning while completing this project?\n",
    "\n",
    "The Impact of Class Imbalance on Model Performance: This project highlighted how imbalanced datasets can lead to misleadingly high accuracy but poor performance on the minority class—in this case, flight delays. I learned that focusing solely on accuracy is insufficient, especially in scenarios where the business goal centers around detecting rare events. Addressing class imbalance through techniques like resampling is crucial for achieving meaningful, balanced results.\n",
    "\n",
    "The Importance of Choosing the Right Evaluation Metrics: I learned that selecting appropriate evaluation metrics, such as recall and specificity, is essential for understanding model performance in line with business objectives. In this project, recall was more valuable than accuracy for identifying delays, which showed me the value of metrics beyond the conventional accuracy measure, especially in imbalanced datasets.\n",
    "\n",
    "Feature Engineering’s Role in Improving Predictive Power: Adding relevant features, such as weather and holiday indicators, helped improve the model's ability to capture delay patterns. This experience emphasized the importance of exploring domain-specific features that can provide context and enhance a model’s predictive power, even in data-rich scenarios. Feature engineering proved to be a powerful tool for aligning model predictions with real-world conditions."
   ]
  }
 ],
 "metadata": {
  "kernelspec": {
   "display_name": "PRML",
   "language": "python",
   "name": "python3"
  },
  "language_info": {
   "codemirror_mode": {
    "name": "ipython",
    "version": 3
   },
   "file_extension": ".py",
   "mimetype": "text/x-python",
   "name": "python",
   "nbconvert_exporter": "python",
   "pygments_lexer": "ipython3",
   "version": "3.12.5"
  }
 },
 "nbformat": 4,
 "nbformat_minor": 4
}
