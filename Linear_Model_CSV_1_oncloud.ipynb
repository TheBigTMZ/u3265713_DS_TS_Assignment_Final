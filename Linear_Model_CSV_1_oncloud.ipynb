{
 "cells": [
  {
   "cell_type": "markdown",
   "id": "b3a3279a-0e7e-49ce-a965-0563f20e72e5",
   "metadata": {},
   "source": [
    "# Linear Model for csv_v1"
   ]
  },
  {
   "cell_type": "markdown",
   "id": "e4263b57-fc59-40c7-b5ab-43b8827f234c",
   "metadata": {},
   "source": [
    "## This markdown file deals with the creation of Logistic Regression combined_csv_v1"
   ]
  },
  {
   "cell_type": "code",
   "execution_count": 1,
   "id": "95fe22a1-6c5c-41f5-a4e2-4edf04b5e88d",
   "metadata": {
    "tags": []
   },
   "outputs": [
    {
     "name": "stdout",
     "output_type": "stream",
     "text": [
      "sagemaker.config INFO - Not applying SDK defaults from location: /etc/xdg/sagemaker/config.yaml\n",
      "sagemaker.config INFO - Not applying SDK defaults from location: /home/ec2-user/.config/sagemaker/config.yaml\n"
     ]
    }
   ],
   "source": [
    "# importing the required libraries libraries\n",
    "import warnings, requests, zipfile, io\n",
    "\n",
    "warnings.simplefilter(\"ignore\")\n",
    "import pandas as pd\n",
    "from scipy.io import arff\n",
    "\n",
    "import os\n",
    "import boto3\n",
    "import sagemaker\n",
    "from sagemaker.image_uris import retrieve\n",
    "from sklearn.model_selection import train_test_split"
   ]
  },
  {
   "cell_type": "markdown",
   "id": "3b65f1d1-71e0-4e09-81ab-ae7cf69349da",
   "metadata": {},
   "source": [
    "Function: initialize_s3_container\n",
    "\n",
    "This function initializes an S3 bucket in a specified AWS region, creating a new storage container if it does not already exist. The function includes logic to handle both default and custom AWS regions."
   ]
  },
  {
   "cell_type": "code",
   "execution_count": 2,
   "id": "a967c97d-32bf-4d73-97b5-f19beb5c8c15",
   "metadata": {
    "tags": []
   },
   "outputs": [],
   "source": [
    "import logging\n",
    "\n",
    "# import boto3\n",
    "from botocore.exceptions import ClientError\n",
    "\n",
    "def initialize_s3_container(storage_name, locality=None):\n",
    "    \"\"\"\n",
    "    Initialize an S3 storage bucket in a specified AWS region.\n",
    "    If no region is specified, the bucket will default to 'us-east-1'.\n",
    "    \n",
    "    :param storage_name: Name of the bucket to create\n",
    "    :param locality: AWS region for bucket creation, e.g., 'us-west-2'\n",
    "    :return: True if bucket creation succeeds, otherwise False\n",
    "    \"\"\"\n",
    "\n",
    "    try:\n",
    "        if locality is None:\n",
    "            s3_service = boto3.client(\"s3\")\n",
    "            s3_service.create_bucket(Bucket=storage_name)\n",
    "        else:\n",
    "            s3_service = boto3.client(\"s3\", region_name=locality)\n",
    "            config_location = {\"LocationConstraint\": locality}\n",
    "            s3_service.create_bucket(\n",
    "                Bucket=storage_name, CreateBucketConfiguration=config_location\n",
    "            )\n",
    "\n",
    "    except ClientError as error_log:\n",
    "        logging.error(error_log)\n",
    "        return False\n",
    "\n",
    "    print(f\"S3 Bucket: {storage_name} has been successfully created.\")\n",
    "    return True\n"
   ]
  },
  {
   "cell_type": "markdown",
   "id": "e0f5cb60-0904-459c-a565-9442dc2ee96a",
   "metadata": {},
   "source": [
    "# Function: verify_bucket_presence\n",
    "\n",
    "This function checks whether an S3 bucket with a specified name exists in the AWS account. It’s helpful for ensuring that a required bucket is available before performing further operations, such as uploading data."
   ]
  },
  {
   "cell_type": "code",
   "execution_count": 3,
   "id": "50bc8ded-bc7e-44c6-9e59-f497603dc446",
   "metadata": {
    "tags": []
   },
   "outputs": [],
   "source": [
    "# Function to verify if the bucket exists\n",
    "def verify_bucket_presence(storage_identifier):\n",
    "    s3_resource = boto3.client(\"s3\")\n",
    "    try:\n",
    "        s3_resource.head_bucket(Bucket=storage_identifier)\n",
    "        print(f\"Bucket '{storage_identifier}' is already available.\")\n",
    "        return True\n",
    "    except ClientError as error_detected:\n",
    "        # If a 404 error is encountered, the bucket does not exist\n",
    "        if error_detected.response[\"Error\"][\"Code\"] == \"404\":\n",
    "            print(f\"Bucket '{storage_identifier}' is not found.\")\n",
    "            return False\n",
    "        else:\n",
    "            # Raise any other error encountered\n",
    "            raise\n"
   ]
  },
  {
   "cell_type": "markdown",
   "id": "67033f7b-44a9-40f1-8d73-955fb8a05467",
   "metadata": {},
   "source": [
    "# S3 Bucket Setup and Validation\n",
    "\n",
    "In this section, we set up the S3 bucket and check if it already exists. If the bucket does not exist, we create it to ensure that all necessary storage resources are available for our project."
   ]
  },
  {
   "cell_type": "code",
   "execution_count": 8,
   "id": "66b00691-f8b6-48d2-b03c-4582a4e61f3f",
   "metadata": {
    "tags": []
   },
   "outputs": [
    {
     "name": "stdout",
     "output_type": "stream",
     "text": [
      "Bucket 'u3265713-uni-can-dsts-assn1' is not found.\n",
      "S3 Bucket: u3265713-uni-can-dsts-assn1 has been successfully created.\n"
     ]
    }
   ],
   "source": [
    "# Set the S3 bucket name with valid characters\n",
    "s3_container_name = \"u3265713-uni-can-dsts-assn1\"\n",
    "\n",
    "# Fetch the S3 resource\n",
    "s3_instance = boto3.Session().resource(\"s3\")\n",
    "\n",
    "# Check if the bucket exists\n",
    "container_exists = verify_bucket_presence(s3_container_name)\n",
    "\n",
    "# Create the bucket if it doesn't exist\n",
    "if not container_exists:\n",
    "    initialize_s3_container(s3_container_name)\n",
    "\n"
   ]
  },
  {
   "cell_type": "markdown",
   "id": "cbec45c8-2c9d-441d-ac03-b33f533d98f1",
   "metadata": {},
   "source": [
    "# Setting S3 Path Prefix and Uploading CSV Data to S3\n",
    "\n",
    "In this section, we define a prefix for the S3 path and create a function to upload a DataFrame as a CSV file to an S3 bucket. This setup is essential for organizing and storing data in a structured manner within AWS S3."
   ]
  },
  {
   "cell_type": "code",
   "execution_count": 9,
   "id": "73662ece-e4ac-435a-a0e2-9510d51585cd",
   "metadata": {
    "tags": []
   },
   "outputs": [],
   "source": [
    "# Setting the prefix for the S3 path\n",
    "s3_prefix = \"oncloud\"\n",
    "\n",
    "# Function to upload CSV data to AWS S3\n",
    "def upload_csv_to_s3(file_name, subfolder, data_frame):\n",
    "    csv_memory_buffer = io.StringIO()\n",
    "    data_frame.to_csv(csv_memory_buffer, header=False, index=False)\n",
    "    print(s3_instance.Bucket(s3_container_name))\n",
    "    s3_instance.Bucket(s3_container_name).Object(os.path.join(s3_prefix, subfolder, file_name)).put(\n",
    "        Body=csv_memory_buffer.getvalue()\n",
    "    )\n"
   ]
  },
  {
   "cell_type": "markdown",
   "id": "c3e923fa-3205-45d3-a8d6-443302e83938",
   "metadata": {
    "tags": []
   },
   "source": [
    "# Loading the Dataset"
   ]
  },
  {
   "cell_type": "code",
   "execution_count": 11,
   "id": "634d04aa-022a-4802-ae2c-54298061ef0e",
   "metadata": {
    "tags": []
   },
   "outputs": [
    {
     "name": "stdout",
     "output_type": "stream",
     "text": [
      "   target  Distance  Quarter_2  Quarter_3  Quarter_4  Month_2  Month_3  \\\n",
      "0     0.0     689.0      False      False      False    False    False   \n",
      "1     0.0     731.0      False      False      False    False    False   \n",
      "2     0.0    1199.0      False      False      False    False    False   \n",
      "3     0.0    1587.0      False      False      False    False    False   \n",
      "4     0.0    1587.0      False      False      False    False    False   \n",
      "\n",
      "   Month_4  Month_5  Month_6  ...  Dest_DEN  Dest_DFW  Dest_IAH  Dest_LAX  \\\n",
      "0    False    False    False  ...     False     False      True     False   \n",
      "1    False    False    False  ...     False     False     False     False   \n",
      "2    False    False    False  ...      True     False     False     False   \n",
      "3    False    False    False  ...     False     False     False     False   \n",
      "4    False    False    False  ...     False     False     False     False   \n",
      "\n",
      "   Dest_ORD  Dest_PHX  Dest_SFO  DepHourofDay_7-12  DepHourofDay_13-18  \\\n",
      "0     False     False     False              False               False   \n",
      "1     False     False     False               True               False   \n",
      "2     False     False     False              False               False   \n",
      "3     False      True     False              False                True   \n",
      "4     False     False     False               True               False   \n",
      "\n",
      "   DepHourofDay_19-23  \n",
      "0                True  \n",
      "1               False  \n",
      "2                True  \n",
      "3               False  \n",
      "4               False  \n",
      "\n",
      "[5 rows x 75 columns]\n",
      "(1635590, 75)\n"
     ]
    }
   ],
   "source": [
    "# Load the data\n",
    "dataset_v1 = pd.read_csv(\"./combined_csv_v1.csv\")\n",
    "\n",
    "print(dataset_v1.head())\n",
    "print(dataset_v1.shape)\n"
   ]
  },
  {
   "cell_type": "markdown",
   "id": "31aac518-699f-4c8f-8f53-f8b43da215e5",
   "metadata": {},
   "source": [
    "# Creating a Copy of the Dataset"
   ]
  },
  {
   "cell_type": "code",
   "execution_count": 13,
   "id": "f4b99d57-e529-4418-98db-6371b57c2628",
   "metadata": {
    "tags": []
   },
   "outputs": [],
   "source": [
    "# Copying the data \n",
    "df = dataset_v1.copy()"
   ]
  },
  {
   "cell_type": "markdown",
   "id": "f64510eb-b09a-4bbc-9ef8-fe1b92c9d8ec",
   "metadata": {},
   "source": [
    "# Data Transformation: Converting Boolean Values"
   ]
  },
  {
   "cell_type": "code",
   "execution_count": 14,
   "id": "3430b18f-1d35-42ac-8488-f211029af714",
   "metadata": {
    "tags": []
   },
   "outputs": [
    {
     "data": {
      "text/html": [
       "<div>\n",
       "<style scoped>\n",
       "    .dataframe tbody tr th:only-of-type {\n",
       "        vertical-align: middle;\n",
       "    }\n",
       "\n",
       "    .dataframe tbody tr th {\n",
       "        vertical-align: top;\n",
       "    }\n",
       "\n",
       "    .dataframe thead th {\n",
       "        text-align: right;\n",
       "    }\n",
       "</style>\n",
       "<table border=\"1\" class=\"dataframe\">\n",
       "  <thead>\n",
       "    <tr style=\"text-align: right;\">\n",
       "      <th></th>\n",
       "      <th>target</th>\n",
       "      <th>Distance</th>\n",
       "      <th>Quarter_2</th>\n",
       "      <th>Quarter_3</th>\n",
       "      <th>Quarter_4</th>\n",
       "      <th>Month_2</th>\n",
       "      <th>Month_3</th>\n",
       "      <th>Month_4</th>\n",
       "      <th>Month_5</th>\n",
       "      <th>Month_6</th>\n",
       "      <th>...</th>\n",
       "      <th>Dest_DEN</th>\n",
       "      <th>Dest_DFW</th>\n",
       "      <th>Dest_IAH</th>\n",
       "      <th>Dest_LAX</th>\n",
       "      <th>Dest_ORD</th>\n",
       "      <th>Dest_PHX</th>\n",
       "      <th>Dest_SFO</th>\n",
       "      <th>DepHourofDay_7-12</th>\n",
       "      <th>DepHourofDay_13-18</th>\n",
       "      <th>DepHourofDay_19-23</th>\n",
       "    </tr>\n",
       "  </thead>\n",
       "  <tbody>\n",
       "    <tr>\n",
       "      <th>0</th>\n",
       "      <td>0.0</td>\n",
       "      <td>689.0</td>\n",
       "      <td>0</td>\n",
       "      <td>0</td>\n",
       "      <td>0</td>\n",
       "      <td>0</td>\n",
       "      <td>0</td>\n",
       "      <td>0</td>\n",
       "      <td>0</td>\n",
       "      <td>0</td>\n",
       "      <td>...</td>\n",
       "      <td>0</td>\n",
       "      <td>0</td>\n",
       "      <td>1</td>\n",
       "      <td>0</td>\n",
       "      <td>0</td>\n",
       "      <td>0</td>\n",
       "      <td>0</td>\n",
       "      <td>0</td>\n",
       "      <td>0</td>\n",
       "      <td>1</td>\n",
       "    </tr>\n",
       "    <tr>\n",
       "      <th>1</th>\n",
       "      <td>0.0</td>\n",
       "      <td>731.0</td>\n",
       "      <td>0</td>\n",
       "      <td>0</td>\n",
       "      <td>0</td>\n",
       "      <td>0</td>\n",
       "      <td>0</td>\n",
       "      <td>0</td>\n",
       "      <td>0</td>\n",
       "      <td>0</td>\n",
       "      <td>...</td>\n",
       "      <td>0</td>\n",
       "      <td>0</td>\n",
       "      <td>0</td>\n",
       "      <td>0</td>\n",
       "      <td>0</td>\n",
       "      <td>0</td>\n",
       "      <td>0</td>\n",
       "      <td>1</td>\n",
       "      <td>0</td>\n",
       "      <td>0</td>\n",
       "    </tr>\n",
       "    <tr>\n",
       "      <th>2</th>\n",
       "      <td>0.0</td>\n",
       "      <td>1199.0</td>\n",
       "      <td>0</td>\n",
       "      <td>0</td>\n",
       "      <td>0</td>\n",
       "      <td>0</td>\n",
       "      <td>0</td>\n",
       "      <td>0</td>\n",
       "      <td>0</td>\n",
       "      <td>0</td>\n",
       "      <td>...</td>\n",
       "      <td>1</td>\n",
       "      <td>0</td>\n",
       "      <td>0</td>\n",
       "      <td>0</td>\n",
       "      <td>0</td>\n",
       "      <td>0</td>\n",
       "      <td>0</td>\n",
       "      <td>0</td>\n",
       "      <td>0</td>\n",
       "      <td>1</td>\n",
       "    </tr>\n",
       "    <tr>\n",
       "      <th>3</th>\n",
       "      <td>0.0</td>\n",
       "      <td>1587.0</td>\n",
       "      <td>0</td>\n",
       "      <td>0</td>\n",
       "      <td>0</td>\n",
       "      <td>0</td>\n",
       "      <td>0</td>\n",
       "      <td>0</td>\n",
       "      <td>0</td>\n",
       "      <td>0</td>\n",
       "      <td>...</td>\n",
       "      <td>0</td>\n",
       "      <td>0</td>\n",
       "      <td>0</td>\n",
       "      <td>0</td>\n",
       "      <td>0</td>\n",
       "      <td>1</td>\n",
       "      <td>0</td>\n",
       "      <td>0</td>\n",
       "      <td>1</td>\n",
       "      <td>0</td>\n",
       "    </tr>\n",
       "    <tr>\n",
       "      <th>4</th>\n",
       "      <td>0.0</td>\n",
       "      <td>1587.0</td>\n",
       "      <td>0</td>\n",
       "      <td>0</td>\n",
       "      <td>0</td>\n",
       "      <td>0</td>\n",
       "      <td>0</td>\n",
       "      <td>0</td>\n",
       "      <td>0</td>\n",
       "      <td>0</td>\n",
       "      <td>...</td>\n",
       "      <td>0</td>\n",
       "      <td>0</td>\n",
       "      <td>0</td>\n",
       "      <td>0</td>\n",
       "      <td>0</td>\n",
       "      <td>0</td>\n",
       "      <td>0</td>\n",
       "      <td>1</td>\n",
       "      <td>0</td>\n",
       "      <td>0</td>\n",
       "    </tr>\n",
       "  </tbody>\n",
       "</table>\n",
       "<p>5 rows × 75 columns</p>\n",
       "</div>"
      ],
      "text/plain": [
       "   target  Distance  Quarter_2  Quarter_3  Quarter_4  Month_2  Month_3  \\\n",
       "0     0.0     689.0          0          0          0        0        0   \n",
       "1     0.0     731.0          0          0          0        0        0   \n",
       "2     0.0    1199.0          0          0          0        0        0   \n",
       "3     0.0    1587.0          0          0          0        0        0   \n",
       "4     0.0    1587.0          0          0          0        0        0   \n",
       "\n",
       "   Month_4  Month_5  Month_6  ...  Dest_DEN  Dest_DFW  Dest_IAH  Dest_LAX  \\\n",
       "0        0        0        0  ...         0         0         1         0   \n",
       "1        0        0        0  ...         0         0         0         0   \n",
       "2        0        0        0  ...         1         0         0         0   \n",
       "3        0        0        0  ...         0         0         0         0   \n",
       "4        0        0        0  ...         0         0         0         0   \n",
       "\n",
       "   Dest_ORD  Dest_PHX  Dest_SFO  DepHourofDay_7-12  DepHourofDay_13-18  \\\n",
       "0         0         0         0                  0                   0   \n",
       "1         0         0         0                  1                   0   \n",
       "2         0         0         0                  0                   0   \n",
       "3         0         1         0                  0                   1   \n",
       "4         0         0         0                  1                   0   \n",
       "\n",
       "   DepHourofDay_19-23  \n",
       "0                   1  \n",
       "1                   0  \n",
       "2                   1  \n",
       "3                   0  \n",
       "4                   0  \n",
       "\n",
       "[5 rows x 75 columns]"
      ]
     },
     "execution_count": 14,
     "metadata": {},
     "output_type": "execute_result"
    }
   ],
   "source": [
    "# Replacing True/False with 1/0 directly in df\n",
    "df = df.replace({True: 1, False: 0})\n",
    "df.head(5)\n"
   ]
  },
  {
   "cell_type": "markdown",
   "id": "707a6df5-28c8-40bd-9f22-312d620f7e64",
   "metadata": {},
   "source": [
    "# Splitting the dataset"
   ]
  },
  {
   "cell_type": "code",
   "execution_count": 15,
   "id": "86e2a110-00aa-4e77-aba2-c00a8faeffe1",
   "metadata": {
    "tags": []
   },
   "outputs": [],
   "source": [
    "# Split the data into training and a combined testing/validation set (70% train, 30% test/validate)\n",
    "training_data, testing_validation_data = train_test_split(\n",
    "    df, test_size=0.3, random_state=42, stratify=df[\"target\"]\n",
    ")\n",
    "\n",
    "# Further split the testing_validation_data set into separate testing and validation sets (15% each of the original data)\n",
    "testing_data, validation_data = train_test_split(\n",
    "    testing_validation_data,\n",
    "    test_size=0.5,\n",
    "    random_state=42,\n",
    "    stratify=testing_validation_data[\"target\"],\n",
    ")\n"
   ]
  },
  {
   "cell_type": "code",
   "execution_count": 16,
   "id": "fbaa49ec-29b7-41e5-a1e6-a61f4a952770",
   "metadata": {
    "tags": []
   },
   "outputs": [
    {
     "name": "stdout",
     "output_type": "stream",
     "text": [
      "(1144913, 75)\n",
      "(245338, 75)\n",
      "(245339, 75)\n"
     ]
    }
   ],
   "source": [
    "# Printing the shapes of each set \n",
    "print(training_data.shape)\n",
    "print(testing_data.shape)\n",
    "print(validation_data.shape)\n"
   ]
  },
  {
   "cell_type": "markdown",
   "id": "ba63503f-f334-4a4e-a1dd-1bd7a8a5eb16",
   "metadata": {},
   "source": [
    "# Defining File Names for Data Subsets"
   ]
  },
  {
   "cell_type": "code",
   "execution_count": 17,
   "id": "65b609bf-0937-45df-84b2-53d50729bdef",
   "metadata": {
    "tags": []
   },
   "outputs": [],
   "source": [
    "# Set the names of the CSV files for each data subset\n",
    "# These file names will be used to save the training, testing, and validation datasets \n",
    "# as CSV files, allowing for easy upload to S3 and subsequent use in modeling.\n",
    "training_file_name = \"data_v1_train.csv\"      # Filename for the training dataset\n",
    "testing_file_name = \"data_v1_test.csv\"        # Filename for the testing dataset\n",
    "validation_file_name = \"data_v1_validate.csv\" # Filename for the validation dataset\n"
   ]
  },
  {
   "cell_type": "markdown",
   "id": "89b94af7-1c7d-4431-8da1-50584fd1bbcc",
   "metadata": {},
   "source": [
    "# Preparing Data for SageMaker Training\n",
    "\n",
    "The transform_data_for_sagemaker function converts a DataFrame into a SageMaker-compatible format. It separates feature vectors and target labels, storing them in an in-memory binary buffer. This format is optimized for SageMaker’s training processes."
   ]
  },
  {
   "cell_type": "code",
   "execution_count": 19,
   "id": "f7714308-2080-416b-ab16-e5872f6d2b3d",
   "metadata": {
    "tags": []
   },
   "outputs": [],
   "source": [
    "import io\n",
    "import numpy as np\n",
    "import sagemaker.amazon.common as smac\n",
    "\n",
    "# Function to prepare data for SageMaker training\n",
    "# This function converts a dataframe into a format suitable for SageMaker training,\n",
    "# separating features (input data) and labels (target values) and storing them in \n",
    "# an in-memory binary buffer that SageMaker can efficiently use.\n",
    "def transform_data_for_sagemaker(input_df):\n",
    "    # Extract feature vectors by dropping the target column and converting to float32\n",
    "    feature_vectors = input_df.drop(columns=[\"target\"]).values.astype(\"float32\")\n",
    "    # Extract target labels from the target column and convert to float32\n",
    "    target_labels = input_df[\"target\"].values.astype(\"float32\")\n",
    "    # Initialize an in-memory binary stream buffer to hold the transformed data\n",
    "    memory_buffer = io.BytesIO()\n",
    "    # Use SageMaker's utility function to write data in dense tensor format into the buffer\n",
    "    smac.write_numpy_to_dense_tensor(memory_buffer, feature_vectors, target_labels)\n",
    "    # Reset buffer position to the start to allow SageMaker to read from the beginning\n",
    "    memory_buffer.seek(0)\n",
    "    # Return the in-memory buffer ready for SageMaker ingestion\n",
    "    return memory_buffer\n"
   ]
  },
  {
   "cell_type": "code",
   "execution_count": 20,
   "id": "81c63b44-c534-4ac1-9994-d1be6c67c3d7",
   "metadata": {
    "tags": []
   },
   "outputs": [],
   "source": [
    "# Function to upload a data buffer to S3\n",
    "# This function takes an in-memory buffer, S3 bucket, prefix, and data type (e.g., train, test),\n",
    "# and uploads the data in 'recordIO' format to a specified location in the S3 bucket.\n",
    "\n",
    "def upload_buffer_to_s3(data_buffer, s3_bucket, s3_prefix, data_type):\n",
    "    # Set a fixed S3 key (filename) for the data\n",
    "    s3_key_name = \"recordio-pb-data\"\n",
    "    \n",
    "    # Perform the upload to the specified S3 bucket and path\n",
    "    boto3.resource(\"s3\").Bucket(s3_bucket).Object(\n",
    "        os.path.join(s3_prefix, data_type, s3_key_name)\n",
    "    ).upload_fileobj(data_buffer)\n",
    "    \n",
    "    # Construct and print the S3 path where the data has been uploaded\n",
    "    s3_data_path = \"s3://{}/{}/{}/{}\".format(s3_bucket, s3_prefix, data_type, s3_key_name)\n",
    "    print(\"Uploaded {} data to location: {}\".format(data_type, s3_data_path))\n",
    "    \n",
    "    # Return the S3 path for reference\n",
    "    return s3_data_path"
   ]
  },
  {
   "cell_type": "markdown",
   "id": "b3ec9074-a8ee-4a2d-a0f2-7f8c6b49a819",
   "metadata": {},
   "source": [
    "# Uploading Data Buffer to S3"
   ]
  },
  {
   "cell_type": "code",
   "execution_count": 21,
   "id": "9e73fe5e-e571-43f0-b0bd-ece2a6595dee",
   "metadata": {
    "tags": []
   },
   "outputs": [
    {
     "name": "stdout",
     "output_type": "stream",
     "text": [
      "Uploaded train data to location: s3://u3265713-uni-can-dsts-assn1/oncloud/train/recordio-pb-data\n",
      "Uploaded validate data to location: s3://u3265713-uni-can-dsts-assn1/oncloud/validate/recordio-pb-data\n"
     ]
    }
   ],
   "source": [
    "# Prepare training data buffer for SageMaker\n",
    "# Converts the training dataset into a format suitable for SageMaker and stores it in an in-memory buffer\n",
    "training_data_buffer = transform_data_for_sagemaker(training_data)\n",
    "# Upload the training data buffer to S3\n",
    "# This uploads the training buffer to the specified S3 bucket under the prefix path for \"train\" data\n",
    "s3_training_data_path = upload_buffer_to_s3(training_data_buffer, s3_container_name, s3_prefix, \"train\")\n",
    "# Prepare validation data buffer for SageMaker\n",
    "# Converts the validation dataset into a SageMaker-compatible format and stores it in an in-memory buffer\n",
    "validation_data_buffer = transform_data_for_sagemaker(validation_data)\n",
    "# Upload the validation data buffer to S3\n",
    "# This uploads the validation buffer to the specified S3 bucket under the prefix path for \"validate\" data\n",
    "s3_validation_data_path = upload_buffer_to_s3(validation_data_buffer, s3_container_name, s3_prefix, \"validate\")\n"
   ]
  },
  {
   "cell_type": "markdown",
   "id": "070287f6-a670-472a-85fa-7ab285132750",
   "metadata": {},
   "source": [
    "# Setting the S3 Output Location for Training Artifacts"
   ]
  },
  {
   "cell_type": "code",
   "execution_count": 22,
   "id": "65bf56b3-dcd9-4d3a-9ed4-f6c8d2d6a6f9",
   "metadata": {
    "tags": []
   },
   "outputs": [
    {
     "name": "stdout",
     "output_type": "stream",
     "text": [
      "Training artifacts will be uploaded to: s3://u3265713-uni-can-dsts-assn1/oncloud/output\n"
     ]
    }
   ],
   "source": [
    "# Define the S3 output location for training artifacts\n",
    "# This path specifies where SageMaker should store the output artifacts after training is complete.\n",
    "# The output location is set under the specified S3 bucket and prefix, organized in an \"output\" folder.\n",
    "output_artifact_location = \"s3://{}/{}/output\".format(s3_container_name, s3_prefix)\n",
    "# Print the S3 path where training artifacts will be uploaded\n",
    "print(\"Training artifacts will be uploaded to: {}\".format(output_artifact_location))\n"
   ]
  },
  {
   "cell_type": "markdown",
   "id": "f3075ab6-c5cf-4a8c-a57a-0c0749cf528e",
   "metadata": {},
   "source": [
    "# Retrieving the SageMaker Container Image URI"
   ]
  },
  {
   "cell_type": "code",
   "execution_count": 23,
   "id": "c38e220c-4b9f-4c01-a6a1-05d5365cc6a6",
   "metadata": {
    "tags": []
   },
   "outputs": [],
   "source": [
    "from sagemaker.image_uris import retrieve\n",
    "# Retrieve the container image URI for the SageMaker algorithm\n",
    "# This retrieves the URI for the specified algorithm container (linear-learner) in the given AWS region.\n",
    "# The container image is needed to launch the training job on SageMaker using the specified algorithm.\n",
    "model_container_uri = retrieve(\"linear-learner\", \"us-east-1\")\n"
   ]
  },
  {
   "cell_type": "markdown",
   "id": "689cd968-1571-4184-8e0f-b858662a9ea6",
   "metadata": {},
   "source": [
    "# Setting Up and Running the SageMaker Training Job"
   ]
  },
  {
   "cell_type": "code",
   "execution_count": 25,
   "id": "2c8d7df0-1135-47e0-ac51-068e214f8a24",
   "metadata": {
    "tags": []
   },
   "outputs": [
    {
     "name": "stderr",
     "output_type": "stream",
     "text": [
      "WARNING:sagemaker.deprecations:train_instance_count has been renamed in sagemaker>=2.\n",
      "See: https://sagemaker.readthedocs.io/en/stable/v2.html for details.\n",
      "WARNING:sagemaker.deprecations:train_instance_type has been renamed in sagemaker>=2.\n",
      "See: https://sagemaker.readthedocs.io/en/stable/v2.html for details.\n"
     ]
    },
    {
     "name": "stdout",
     "output_type": "stream",
     "text": [
      "\n",
      "2024-11-03 06:01:39 Starting - Starting the training job..\n",
      "2024-11-03 06:01:53 Starting - Preparing the instances for training.....\n",
      "2024-11-03 06:02:25 Downloading - Downloading input data....\n",
      "2024-11-03 06:02:50 Downloading - Downloading the training image........\n",
      "2024-11-03 06:03:35 Training - Training image download completed. Training in progress.........................................................................\n",
      "2024-11-03 06:09:42 Uploading - Uploading generated training model\n",
      "2024-11-03 06:09:50 Completed - Training job completed\n"
     ]
    }
   ],
   "source": [
    "# Create a SageMaker session\n",
    "# This session is initialized with the specified region (us-east-1) to match the region of the S3 bucket.\n",
    "# It will manage the communication with AWS services for the training job.\n",
    "sagemaker_session = sagemaker.Session(boto3.session.Session(region_name=\"us-east-1\"))\n",
    "# Retrieve the IAM role for SageMaker\n",
    "# The role grants SageMaker permissions to access AWS resources such as S3.\n",
    "execution_role = sagemaker.get_execution_role()\n",
    "# Set up the SageMaker Estimator for training a linear model\n",
    "# This estimator is configured with the model container URI, IAM role, instance count, instance type,\n",
    "# output path for training artifacts, and the SageMaker session.\n",
    "linear_estimator = sagemaker.estimator.Estimator(\n",
    "    model_container_uri,            # Container URI for the chosen algorithm (linear-learner)\n",
    "    execution_role,                 # IAM role for SageMaker permissions\n",
    "    train_instance_count=1,         # Number of instances for training (1 in this case)\n",
    "    train_instance_type=\"ml.c5.4xlarge\",  # Instance type for training\n",
    "    output_path=output_artifact_location, # S3 location for output artifacts\n",
    "    sagemaker_session=sagemaker_session  # Session for AWS resource management\n",
    ")\n",
    "# Set hyperparameters for the linear model\n",
    "# Here, we specify the feature dimension and the type of predictor (binary classifier).\n",
    "linear_estimator.set_hyperparameters(feature_dim=74, predictor_type=\"binary_classifier\")\n",
    "# Start the training job on SageMaker\n",
    "# The training data and validation data are passed as input channels to the estimator.\n",
    "# Setting logs=False suppresses detailed logging during training.\n",
    "linear_estimator.fit({\"train\": s3_training_data_path, \"validation\": s3_validation_data_path}, logs=False)\n"
   ]
  },
  {
   "cell_type": "markdown",
   "id": "e73248bc-6373-4c0b-bfe8-0e32614ef024",
   "metadata": {},
   "source": [
    "# Preparing and Uploading Data for Batch Prediction"
   ]
  },
  {
   "cell_type": "code",
   "execution_count": 26,
   "id": "b06f4f48-3f62-4cb6-936c-a1916e33a50d",
   "metadata": {
    "tags": []
   },
   "outputs": [
    {
     "name": "stdout",
     "output_type": "stream",
     "text": [
      "s3.Bucket(name='u3265713-uni-can-dsts-assn1')\n"
     ]
    }
   ],
   "source": [
    "# Prepare the input data for batch prediction\n",
    "# This selects all columns except the target from the test data for predictions.\n",
    "# The data will be saved in a CSV format for batch processing on SageMaker.\n",
    "batch_input_data_df = testing_data.iloc[:, 1:]         # Exclude target column for batch prediction\n",
    "batch_input_file_name = 'batch-input-linear.csv'       # Name for the batch input CSV file\n",
    "\n",
    "# Upload the batch input data CSV to S3\n",
    "# This function uploads the batch prediction input file to a specific S3 location.\n",
    "upload_csv_to_s3(batch_input_file_name, 'batch-input-folder', batch_input_data_df)\n",
    "\n",
    "# Define S3 paths for batch input and output\n",
    "# The batch_output_path specifies where SageMaker should store the prediction results.\n",
    "# The batch_input_path points to the location of the uploaded CSV file in S3.\n",
    "batch_output_path = \"s3://{}/{}/batch-output-linear/\".format(s3_container_name, s3_prefix)\n",
    "batch_input_path = \"s3://{}/{}/batch-input-folder/{}\".format(s3_container_name, s3_prefix, batch_input_file_name)\n"
   ]
  },
  {
   "cell_type": "markdown",
   "id": "092469d8-13d5-40dc-b579-84a2bca8fa95",
   "metadata": {},
   "source": [
    "# Setting Up and Running the Batch Transform Job"
   ]
  },
  {
   "cell_type": "code",
   "execution_count": 27,
   "id": "5a9f92e8-6bfa-48cf-abdb-e16610f99fd8",
   "metadata": {
    "tags": []
   },
   "outputs": [
    {
     "name": "stdout",
     "output_type": "stream",
     "text": [
      ".......................................................................................!\n",
      "\u001b[34mDocker entrypoint called with argument(s): serve\u001b[0m\n",
      "\u001b[34mRunning default environment configuration script\u001b[0m\n",
      "\u001b[34m[11/03/2024 06:20:33 INFO 140106871093056] Memory profiler is not enabled by the environment variable ENABLE_PROFILER.\u001b[0m\n",
      "\u001b[34m/opt/amazon/lib/python3.8/site-packages/mxnet/model.py:97: SyntaxWarning: \"is\" with a literal. Did you mean \"==\"?\n",
      "  if num_device is 1 and 'dist' not in kvstore:\u001b[0m\n",
      "\u001b[34m/opt/amazon/lib/python3.8/site-packages/scipy/optimize/_shgo.py:495: SyntaxWarning: \"is\" with a literal. Did you mean \"==\"?\n",
      "  if cons['type'] is 'ineq':\u001b[0m\n",
      "\u001b[34m/opt/amazon/lib/python3.8/site-packages/scipy/optimize/_shgo.py:743: SyntaxWarning: \"is not\" with a literal. Did you mean \"!=\"?\n",
      "  if len(self.X_min) is not 0:\u001b[0m\n",
      "\u001b[35mDocker entrypoint called with argument(s): serve\u001b[0m\n",
      "\u001b[35mRunning default environment configuration script\u001b[0m\n",
      "\u001b[35m[11/03/2024 06:20:33 INFO 140106871093056] Memory profiler is not enabled by the environment variable ENABLE_PROFILER.\u001b[0m\n",
      "\u001b[35m/opt/amazon/lib/python3.8/site-packages/mxnet/model.py:97: SyntaxWarning: \"is\" with a literal. Did you mean \"==\"?\n",
      "  if num_device is 1 and 'dist' not in kvstore:\u001b[0m\n",
      "\u001b[35m/opt/amazon/lib/python3.8/site-packages/scipy/optimize/_shgo.py:495: SyntaxWarning: \"is\" with a literal. Did you mean \"==\"?\n",
      "  if cons['type'] is 'ineq':\u001b[0m\n",
      "\u001b[35m/opt/amazon/lib/python3.8/site-packages/scipy/optimize/_shgo.py:743: SyntaxWarning: \"is not\" with a literal. Did you mean \"!=\"?\n",
      "  if len(self.X_min) is not 0:\u001b[0m\n",
      "\u001b[34m[11/03/2024 06:20:35 WARNING 140106871093056] Loggers have already been setup.\u001b[0m\n",
      "\u001b[34m[11/03/2024 06:20:35 INFO 140106871093056] loaded entry point class algorithm.serve.server_config:config_api\u001b[0m\n",
      "\u001b[34m[11/03/2024 06:20:35 INFO 140106871093056] loading entry points\u001b[0m\n",
      "\u001b[34m[11/03/2024 06:20:35 INFO 140106871093056] loaded request iterator application/json\u001b[0m\n",
      "\u001b[34m[11/03/2024 06:20:35 INFO 140106871093056] loaded request iterator application/jsonlines\u001b[0m\n",
      "\u001b[34m[11/03/2024 06:20:35 INFO 140106871093056] loaded request iterator application/x-recordio-protobuf\u001b[0m\n",
      "\u001b[34m[11/03/2024 06:20:35 INFO 140106871093056] loaded request iterator text/csv\u001b[0m\n",
      "\u001b[34m[11/03/2024 06:20:35 INFO 140106871093056] loaded response encoder application/json\u001b[0m\n",
      "\u001b[34m[11/03/2024 06:20:35 INFO 140106871093056] loaded response encoder application/jsonlines\u001b[0m\n",
      "\u001b[34m[11/03/2024 06:20:35 INFO 140106871093056] loaded response encoder application/x-recordio-protobuf\u001b[0m\n",
      "\u001b[35m[11/03/2024 06:20:35 WARNING 140106871093056] Loggers have already been setup.\u001b[0m\n",
      "\u001b[35m[11/03/2024 06:20:35 INFO 140106871093056] loaded entry point class algorithm.serve.server_config:config_api\u001b[0m\n",
      "\u001b[35m[11/03/2024 06:20:35 INFO 140106871093056] loading entry points\u001b[0m\n",
      "\u001b[35m[11/03/2024 06:20:35 INFO 140106871093056] loaded request iterator application/json\u001b[0m\n",
      "\u001b[35m[11/03/2024 06:20:35 INFO 140106871093056] loaded request iterator application/jsonlines\u001b[0m\n",
      "\u001b[35m[11/03/2024 06:20:35 INFO 140106871093056] loaded request iterator application/x-recordio-protobuf\u001b[0m\n",
      "\u001b[35m[11/03/2024 06:20:35 INFO 140106871093056] loaded request iterator text/csv\u001b[0m\n",
      "\u001b[35m[11/03/2024 06:20:35 INFO 140106871093056] loaded response encoder application/json\u001b[0m\n",
      "\u001b[35m[11/03/2024 06:20:35 INFO 140106871093056] loaded response encoder application/jsonlines\u001b[0m\n",
      "\u001b[35m[11/03/2024 06:20:35 INFO 140106871093056] loaded response encoder application/x-recordio-protobuf\u001b[0m\n",
      "\u001b[34m[11/03/2024 06:20:35 INFO 140106871093056] loaded response encoder text/csv\u001b[0m\n",
      "\u001b[34m[11/03/2024 06:20:35 INFO 140106871093056] loaded entry point class algorithm:model\u001b[0m\n",
      "\u001b[34m[11/03/2024 06:20:35 INFO 140106871093056] Number of server workers: 16\u001b[0m\n",
      "\u001b[34m[11/03/2024 06:20:35 INFO 140106871093056] loading model...\u001b[0m\n",
      "\u001b[34m[11/03/2024 06:20:35 INFO 140106871093056] ...model loaded.\u001b[0m\n",
      "\u001b[34m[2024-11-03 06:20:36 +0000] [1] [INFO] Starting gunicorn 20.1.0\u001b[0m\n",
      "\u001b[34m[2024-11-03 06:20:36 +0000] [1] [INFO] Listening at: http://0.0.0.0:8080 (1)\u001b[0m\n",
      "\u001b[34m[2024-11-03 06:20:36 +0000] [1] [INFO] Using worker: sync\u001b[0m\n",
      "\u001b[34m[2024-11-03 06:20:36 +0000] [60] [INFO] Booting worker with pid: 60\u001b[0m\n",
      "\u001b[35m[11/03/2024 06:20:35 INFO 140106871093056] loaded response encoder text/csv\u001b[0m\n",
      "\u001b[35m[11/03/2024 06:20:35 INFO 140106871093056] loaded entry point class algorithm:model\u001b[0m\n",
      "\u001b[35m[11/03/2024 06:20:35 INFO 140106871093056] Number of server workers: 16\u001b[0m\n",
      "\u001b[35m[11/03/2024 06:20:35 INFO 140106871093056] loading model...\u001b[0m\n",
      "\u001b[35m[11/03/2024 06:20:35 INFO 140106871093056] ...model loaded.\u001b[0m\n",
      "\u001b[35m[2024-11-03 06:20:36 +0000] [1] [INFO] Starting gunicorn 20.1.0\u001b[0m\n",
      "\u001b[35m[2024-11-03 06:20:36 +0000] [1] [INFO] Listening at: http://0.0.0.0:8080 (1)\u001b[0m\n",
      "\u001b[35m[2024-11-03 06:20:36 +0000] [1] [INFO] Using worker: sync\u001b[0m\n",
      "\u001b[35m[2024-11-03 06:20:36 +0000] [60] [INFO] Booting worker with pid: 60\u001b[0m\n",
      "\u001b[34m[2024-11-03 06:20:36 +0000] [69] [INFO] Booting worker with pid: 69\u001b[0m\n",
      "\u001b[34m[2024-11-03 06:20:36 +0000] [78] [INFO] Booting worker with pid: 78\u001b[0m\n",
      "\u001b[34m[2024-11-03 06:20:36 +0000] [87] [INFO] Booting worker with pid: 87\u001b[0m\n",
      "\u001b[34m[2024-11-03 06:20:36 +0000] [96] [INFO] Booting worker with pid: 96\u001b[0m\n",
      "\u001b[34m#metrics {\"StartTime\": 1730614835.98511, \"EndTime\": 1730614836.3633685, \"Dimensions\": {\"Algorithm\": \"LinearLearnerModel\", \"Host\": \"UNKNOWN\", \"Operation\": \"scoring\"}, \"Metrics\": {\"execution_parameters.count\": {\"sum\": 1.0, \"count\": 1, \"min\": 1, \"max\": 1}}}\u001b[0m\n",
      "\u001b[34m[2024-11-03 06:20:36 +0000] [105] [INFO] Booting worker with pid: 105\u001b[0m\n",
      "\u001b[34m[2024-11-03 06:20:36 +0000] [114] [INFO] Booting worker with pid: 114\u001b[0m\n",
      "\u001b[34m[2024-11-03 06:20:36 +0000] [123] [INFO] Booting worker with pid: 123\u001b[0m\n",
      "\u001b[34m[2024-11-03 06:20:36 +0000] [132] [INFO] Booting worker with pid: 132\u001b[0m\n",
      "\u001b[34m[2024-11-03 06:20:36 +0000] [141] [INFO] Booting worker with pid: 141\u001b[0m\n",
      "\u001b[34m[2024-11-03 06:20:36 +0000] [150] [INFO] Booting worker with pid: 150\u001b[0m\n",
      "\u001b[34m[2024-11-03 06:20:36 +0000] [159] [INFO] Booting worker with pid: 159\u001b[0m\n",
      "\u001b[34m[2024-11-03 06:20:36 +0000] [168] [INFO] Booting worker with pid: 168\u001b[0m\n",
      "\u001b[34m[2024-11-03 06:20:36 +0000] [177] [INFO] Booting worker with pid: 177\u001b[0m\n",
      "\u001b[34m[2024-11-03 06:20:36 +0000] [186] [INFO] Booting worker with pid: 186\u001b[0m\n",
      "\u001b[34m[2024-11-03 06:20:36 +0000] [195] [INFO] Booting worker with pid: 195\u001b[0m\n",
      "\u001b[35m[2024-11-03 06:20:36 +0000] [69] [INFO] Booting worker with pid: 69\u001b[0m\n",
      "\u001b[35m[2024-11-03 06:20:36 +0000] [78] [INFO] Booting worker with pid: 78\u001b[0m\n",
      "\u001b[35m[2024-11-03 06:20:36 +0000] [87] [INFO] Booting worker with pid: 87\u001b[0m\n",
      "\u001b[35m[2024-11-03 06:20:36 +0000] [96] [INFO] Booting worker with pid: 96\u001b[0m\n",
      "\u001b[35m#metrics {\"StartTime\": 1730614835.98511, \"EndTime\": 1730614836.3633685, \"Dimensions\": {\"Algorithm\": \"LinearLearnerModel\", \"Host\": \"UNKNOWN\", \"Operation\": \"scoring\"}, \"Metrics\": {\"execution_parameters.count\": {\"sum\": 1.0, \"count\": 1, \"min\": 1, \"max\": 1}}}\u001b[0m\n",
      "\u001b[35m[2024-11-03 06:20:36 +0000] [105] [INFO] Booting worker with pid: 105\u001b[0m\n",
      "\u001b[35m[2024-11-03 06:20:36 +0000] [114] [INFO] Booting worker with pid: 114\u001b[0m\n",
      "\u001b[35m[2024-11-03 06:20:36 +0000] [123] [INFO] Booting worker with pid: 123\u001b[0m\n",
      "\u001b[35m[2024-11-03 06:20:36 +0000] [132] [INFO] Booting worker with pid: 132\u001b[0m\n",
      "\u001b[35m[2024-11-03 06:20:36 +0000] [141] [INFO] Booting worker with pid: 141\u001b[0m\n",
      "\u001b[35m[2024-11-03 06:20:36 +0000] [150] [INFO] Booting worker with pid: 150\u001b[0m\n",
      "\u001b[35m[2024-11-03 06:20:36 +0000] [159] [INFO] Booting worker with pid: 159\u001b[0m\n",
      "\u001b[35m[2024-11-03 06:20:36 +0000] [168] [INFO] Booting worker with pid: 168\u001b[0m\n",
      "\u001b[35m[2024-11-03 06:20:36 +0000] [177] [INFO] Booting worker with pid: 177\u001b[0m\n",
      "\u001b[35m[2024-11-03 06:20:36 +0000] [186] [INFO] Booting worker with pid: 186\u001b[0m\n",
      "\u001b[35m[2024-11-03 06:20:36 +0000] [195] [INFO] Booting worker with pid: 195\u001b[0m\n",
      "\u001b[34m#metrics {\"StartTime\": 1730614835.98511, \"EndTime\": 1730614837.8311954, \"Dimensions\": {\"Algorithm\": \"LinearLearnerModel\", \"Host\": \"UNKNOWN\", \"Operation\": \"scoring\"}, \"Metrics\": {\"json.encoder.time\": {\"sum\": 115.9672737121582, \"count\": 1, \"min\": 115.9672737121582, \"max\": 115.9672737121582}, \"invocations.count\": {\"sum\": 1.0, \"count\": 1, \"min\": 1, \"max\": 1}}}\u001b[0m\n",
      "\u001b[34m#metrics {\"StartTime\": 1730614835.98511, \"EndTime\": 1730614837.90567, \"Dimensions\": {\"Algorithm\": \"LinearLearnerModel\", \"Host\": \"UNKNOWN\", \"Operation\": \"scoring\"}, \"Metrics\": {\"json.encoder.time\": {\"sum\": 66.22743606567383, \"count\": 1, \"min\": 66.22743606567383, \"max\": 66.22743606567383}, \"invocations.count\": {\"sum\": 1.0, \"count\": 1, \"min\": 1, \"max\": 1}}}\u001b[0m\n",
      "\u001b[34m#metrics {\"StartTime\": 1730614835.98511, \"EndTime\": 1730614837.9099803, \"Dimensions\": {\"Algorithm\": \"LinearLearnerModel\", \"Host\": \"UNKNOWN\", \"Operation\": \"scoring\"}, \"Metrics\": {\"json.encoder.time\": {\"sum\": 63.06910514831543, \"count\": 1, \"min\": 63.06910514831543, \"max\": 63.06910514831543}, \"invocations.count\": {\"sum\": 1.0, \"count\": 1, \"min\": 1, \"max\": 1}}}\u001b[0m\n",
      "\u001b[34m#metrics {\"StartTime\": 1730614835.98511, \"EndTime\": 1730614837.9117017, \"Dimensions\": {\"Algorithm\": \"LinearLearnerModel\", \"Host\": \"UNKNOWN\", \"Operation\": \"scoring\"}, \"Metrics\": {\"json.encoder.time\": {\"sum\": 65.87505340576172, \"count\": 1, \"min\": 65.87505340576172, \"max\": 65.87505340576172}, \"invocations.count\": {\"sum\": 1.0, \"count\": 1, \"min\": 1, \"max\": 1}}}\u001b[0m\n",
      "\u001b[34m#metrics {\"StartTime\": 1730614835.98511, \"EndTime\": 1730614837.91702, \"Dimensions\": {\"Algorithm\": \"LinearLearnerModel\", \"Host\": \"UNKNOWN\", \"Operation\": \"scoring\"}, \"Metrics\": {\"json.encoder.time\": {\"sum\": 66.22982025146484, \"count\": 1, \"min\": 66.22982025146484, \"max\": 66.22982025146484}, \"invocations.count\": {\"sum\": 1.0, \"count\": 1, \"min\": 1, \"max\": 1}}}\u001b[0m\n",
      "\u001b[34m#metrics {\"StartTime\": 1730614835.98511, \"EndTime\": 1730614837.9492066, \"Dimensions\": {\"Algorithm\": \"LinearLearnerModel\", \"Host\": \"UNKNOWN\", \"Operation\": \"scoring\"}, \"Metrics\": {\"json.encoder.time\": {\"sum\": 67.01397895812988, \"count\": 1, \"min\": 67.01397895812988, \"max\": 67.01397895812988}, \"invocations.count\": {\"sum\": 1.0, \"count\": 1, \"min\": 1, \"max\": 1}}}\u001b[0m\n",
      "\u001b[35m#metrics {\"StartTime\": 1730614835.98511, \"EndTime\": 1730614837.8311954, \"Dimensions\": {\"Algorithm\": \"LinearLearnerModel\", \"Host\": \"UNKNOWN\", \"Operation\": \"scoring\"}, \"Metrics\": {\"json.encoder.time\": {\"sum\": 115.9672737121582, \"count\": 1, \"min\": 115.9672737121582, \"max\": 115.9672737121582}, \"invocations.count\": {\"sum\": 1.0, \"count\": 1, \"min\": 1, \"max\": 1}}}\u001b[0m\n",
      "\u001b[35m#metrics {\"StartTime\": 1730614835.98511, \"EndTime\": 1730614837.90567, \"Dimensions\": {\"Algorithm\": \"LinearLearnerModel\", \"Host\": \"UNKNOWN\", \"Operation\": \"scoring\"}, \"Metrics\": {\"json.encoder.time\": {\"sum\": 66.22743606567383, \"count\": 1, \"min\": 66.22743606567383, \"max\": 66.22743606567383}, \"invocations.count\": {\"sum\": 1.0, \"count\": 1, \"min\": 1, \"max\": 1}}}\u001b[0m\n",
      "\u001b[35m#metrics {\"StartTime\": 1730614835.98511, \"EndTime\": 1730614837.9099803, \"Dimensions\": {\"Algorithm\": \"LinearLearnerModel\", \"Host\": \"UNKNOWN\", \"Operation\": \"scoring\"}, \"Metrics\": {\"json.encoder.time\": {\"sum\": 63.06910514831543, \"count\": 1, \"min\": 63.06910514831543, \"max\": 63.06910514831543}, \"invocations.count\": {\"sum\": 1.0, \"count\": 1, \"min\": 1, \"max\": 1}}}\u001b[0m\n",
      "\u001b[35m#metrics {\"StartTime\": 1730614835.98511, \"EndTime\": 1730614837.9117017, \"Dimensions\": {\"Algorithm\": \"LinearLearnerModel\", \"Host\": \"UNKNOWN\", \"Operation\": \"scoring\"}, \"Metrics\": {\"json.encoder.time\": {\"sum\": 65.87505340576172, \"count\": 1, \"min\": 65.87505340576172, \"max\": 65.87505340576172}, \"invocations.count\": {\"sum\": 1.0, \"count\": 1, \"min\": 1, \"max\": 1}}}\u001b[0m\n",
      "\u001b[35m#metrics {\"StartTime\": 1730614835.98511, \"EndTime\": 1730614837.91702, \"Dimensions\": {\"Algorithm\": \"LinearLearnerModel\", \"Host\": \"UNKNOWN\", \"Operation\": \"scoring\"}, \"Metrics\": {\"json.encoder.time\": {\"sum\": 66.22982025146484, \"count\": 1, \"min\": 66.22982025146484, \"max\": 66.22982025146484}, \"invocations.count\": {\"sum\": 1.0, \"count\": 1, \"min\": 1, \"max\": 1}}}\u001b[0m\n",
      "\u001b[35m#metrics {\"StartTime\": 1730614835.98511, \"EndTime\": 1730614837.9492066, \"Dimensions\": {\"Algorithm\": \"LinearLearnerModel\", \"Host\": \"UNKNOWN\", \"Operation\": \"scoring\"}, \"Metrics\": {\"json.encoder.time\": {\"sum\": 67.01397895812988, \"count\": 1, \"min\": 67.01397895812988, \"max\": 67.01397895812988}, \"invocations.count\": {\"sum\": 1.0, \"count\": 1, \"min\": 1, \"max\": 1}}}\u001b[0m\n",
      "\u001b[32m2024-11-03T06:20:36.367:[sagemaker logs]: MaxConcurrentTransforms=16, MaxPayloadInMB=6, BatchStrategy=MULTI_RECORD\u001b[0m\n"
     ]
    }
   ],
   "source": [
    "# Create the transformer object for the Linear Learner model\n",
    "# The transformer handles batch predictions by using the trained model and specified S3 locations for input and output.\n",
    "# We configure the instance count and type for the transform job, as well as data handling strategies.\n",
    "linear_model_transformer = linear_estimator.transformer(\n",
    "    instance_count=1,                       # Number of instances to use for batch transform\n",
    "    instance_type='ml.c5.4xlarge',          # Instance type for the transform job\n",
    "    strategy='MultiRecord',                 # Strategy for combining multiple records into a single batch request\n",
    "    assemble_with='Line',                   # Assembling records by line, suitable for CSV format\n",
    "    output_path=batch_output_path           # S3 path to store the batch prediction results\n",
    ")\n",
    "\n",
    "# Start the batch transform job\n",
    "# This initiates the transform job using the transformer, specifying the input data and content type.\n",
    "linear_model_transformer.transform(\n",
    "    data=batch_input_path,                  # S3 path of input data for batch predictions\n",
    "    data_type='S3Prefix',                   # Type of data in S3 (prefix for files in this case)\n",
    "    content_type='text/csv',                # Content type of input data\n",
    "    split_type='Line',                      # Split records by line (each line represents one data instance)\n",
    "    logs=False                              # Suppress logging during the batch transform job\n",
    ")\n",
    "\n",
    "# Wait for the batch transform job to complete\n",
    "linear_model_transformer.wait()\n"
   ]
  },
  {
   "cell_type": "markdown",
   "id": "a51cd8dd-b307-4f5d-a50c-18a9710a2af1",
   "metadata": {},
   "source": [
    "# Retrieving and Reading Batch Prediction Results from S3"
   ]
  },
  {
   "cell_type": "code",
   "execution_count": 28,
   "id": "b7f72979-76ad-407b-8010-90d6e19d6551",
   "metadata": {
    "tags": []
   },
   "outputs": [
    {
     "data": {
      "text/html": [
       "<div>\n",
       "<style scoped>\n",
       "    .dataframe tbody tr th:only-of-type {\n",
       "        vertical-align: middle;\n",
       "    }\n",
       "\n",
       "    .dataframe tbody tr th {\n",
       "        vertical-align: top;\n",
       "    }\n",
       "\n",
       "    .dataframe thead th {\n",
       "        text-align: right;\n",
       "    }\n",
       "</style>\n",
       "<table border=\"1\" class=\"dataframe\">\n",
       "  <thead>\n",
       "    <tr style=\"text-align: right;\">\n",
       "      <th></th>\n",
       "      <th>class</th>\n",
       "    </tr>\n",
       "  </thead>\n",
       "  <tbody>\n",
       "    <tr>\n",
       "      <th>{\"predicted_label\":0</th>\n",
       "      <td>score:0.20226565003395}</td>\n",
       "    </tr>\n",
       "    <tr>\n",
       "      <th>{\"predicted_label\":0</th>\n",
       "      <td>score:0.20329600572586}</td>\n",
       "    </tr>\n",
       "    <tr>\n",
       "      <th>{\"predicted_label\":0</th>\n",
       "      <td>score:0.188853055238723}</td>\n",
       "    </tr>\n",
       "    <tr>\n",
       "      <th>{\"predicted_label\":0</th>\n",
       "      <td>score:0.200587853789329}</td>\n",
       "    </tr>\n",
       "    <tr>\n",
       "      <th>{\"predicted_label\":0</th>\n",
       "      <td>score:0.203493922948837}</td>\n",
       "    </tr>\n",
       "  </tbody>\n",
       "</table>\n",
       "</div>"
      ],
      "text/plain": [
       "                                         class\n",
       "{\"predicted_label\":0   score:0.20226565003395}\n",
       "{\"predicted_label\":0   score:0.20329600572586}\n",
       "{\"predicted_label\":0  score:0.188853055238723}\n",
       "{\"predicted_label\":0  score:0.200587853789329}\n",
       "{\"predicted_label\":0  score:0.203493922948837}"
      ]
     },
     "execution_count": 28,
     "metadata": {},
     "output_type": "execute_result"
    }
   ],
   "source": [
    "# Fetch and read the batch prediction output from S3\n",
    "# This code retrieves the batch transform output file from S3 and reads it into a DataFrame for further analysis.\n",
    "s3_client = boto3.client('s3')\n",
    "# Define the S3 key for the batch output file\n",
    "# This path points to the output folder and file created by the batch transform job.\n",
    "batch_output_key = \"{}/batch-output-linear/{}\".format(s3_prefix, 'batch-input-linear.csv.out')\n",
    "# Fetch the output object from S3\n",
    "# Retrieves the batch prediction results from the specified S3 bucket and key.\n",
    "output_object = s3_client.get_object(Bucket=s3_container_name, Key=batch_output_key)\n",
    "# Read the prediction results into a DataFrame\n",
    "# Loads the output data from the batch transform job into a DataFrame.\n",
    "# The DataFrame is assigned column name 'class' to represent the predicted classes.\n",
    "predicted_target_df = pd.read_csv(io.BytesIO(output_object['Body'].read()), header=None, names=['class'])\n",
    "# Print or further process the predictions\n",
    "# Display the first few rows of predictions to verify results or for further analysis.\n",
    "predicted_target_df.head(5)\n"
   ]
  },
  {
   "cell_type": "markdown",
   "id": "b96b4314-fcfe-4c58-bb97-8ed77c6d95c7",
   "metadata": {},
   "source": [
    "# Extracting and Processing Prediction Results"
   ]
  },
  {
   "cell_type": "code",
   "execution_count": 29,
   "id": "a0625a19-6f84-45c5-ad1e-27901b397451",
   "metadata": {
    "tags": []
   },
   "outputs": [],
   "source": [
    "# Extract the prediction indices from the DataFrame\n",
    "# This extracts the indices of each prediction result for further processing.\n",
    "predicted_indices = predicted_target_df.index\n",
    "\n",
    "# Example of accessing the last character of the first prediction index\n",
    "# Retrieves the last character from the first index, which might represent a label or identifier.\n",
    "predicted_indices[0][-1]\n",
    "\n",
    "# Extract the middle portion of the first prediction result\n",
    "# Slices the first prediction string to exclude specific characters (used here as an example).\n",
    "predicted_target_df.iloc[0, 0][6:-1]\n",
    "\n",
    "# Define a list of prediction labels based on the indices\n",
    "# Extracts the last character of each index, assuming it represents the prediction label.\n",
    "predicted_labels = [str(pred_index)[-1] for pred_index in predicted_indices]\n",
    "\n",
    "# Define a list of prediction scores based on the DataFrame rows\n",
    "# Extracts the prediction score for each row, excluding specific characters.\n",
    "predicted_scores = [str(row[0])[6:-1] for row in predicted_target_df.itertuples(index=False)]\n",
    "\n",
    "# Convert prediction scores and labels to numeric types\n",
    "# Ensures the extracted scores and labels are in numeric form for further analysis.\n",
    "predicted_scores = pd.to_numeric(predicted_scores)\n",
    "predicted_labels = pd.to_numeric(predicted_labels)\n"
   ]
  },
  {
   "cell_type": "markdown",
   "id": "e8a5ff5c-33ee-406a-94ed-3240d0aba9fb",
   "metadata": {},
   "source": [
    "# Plotting the Confusion Matrix"
   ]
  },
  {
   "cell_type": "code",
   "execution_count": 30,
   "id": "ec7c3d53-735d-4415-8812-849b594ba120",
   "metadata": {
    "tags": []
   },
   "outputs": [
    {
     "name": "stderr",
     "output_type": "stream",
     "text": [
      "WARNING:matplotlib.font_manager:Matplotlib is building the font cache; this may take a moment.\n"
     ]
    }
   ],
   "source": [
    "from sklearn.metrics import confusion_matrix\n",
    "import matplotlib.pyplot as plt\n",
    "import seaborn as sns\n",
    "# Function to plot a confusion matrix\n",
    "# This function generates a heatmap to visualize the confusion matrix,\n",
    "# which helps assess the accuracy of classification by comparing actual and predicted labels.\n",
    "def display_confusion_matrix(actual_labels, predicted_labels):\n",
    "    # Generate the confusion matrix\n",
    "    # The matrix compares actual labels with predicted labels to show true positives, false positives, etc.\n",
    "    confusion_mat = confusion_matrix(actual_labels, predicted_labels)\n",
    "    # Create a heatmap for the confusion matrix\n",
    "    # This provides a visual representation of the matrix for easy interpretation.\n",
    "    sns.heatmap(\n",
    "        confusion_mat,\n",
    "        annot=True,               # Display numerical values within each cell\n",
    "        fmt=\"d\",                  # Format as integer values\n",
    "        cmap=\"Blues\",             # Color scheme for the heatmap\n",
    "        xticklabels=[\"On-Time\", \"Delayed\"],  # Labels for the x-axis (predicted outcomes)\n",
    "        yticklabels=[\"On-Time\", \"Delayed\"],  # Labels for the y-axis (actual outcomes)\n",
    "    )\n",
    "    # Label the plot axes and title\n",
    "    plt.xlabel(\"Predicted Labels\")  # Label for the x-axis\n",
    "    plt.ylabel(\"Actual Labels\")     # Label for the y-axis\n",
    "    plt.title(\"Confusion Matrix\")   # Title of the plot\n",
    "    plt.show()                      # Display the plot"
   ]
  },
  {
   "cell_type": "code",
   "execution_count": 31,
   "id": "354d3aa4-df60-45cf-8085-f1dad6dc434a",
   "metadata": {
    "tags": []
   },
   "outputs": [
    {
     "data": {
      "image/png": "[encoded data removed]",
      "text/plain": [
       "<Figure size 640x480 with 2 Axes>"
      ]
     },
     "metadata": {},
     "output_type": "display_data"
    }
   ],
   "source": [
    "# Display confusion matrix for the test data\n",
    "# This compares the actual test labels with the predicted labels and visualizes the classification performance.\n",
    "# `test.iloc[:, 0]` extracts the actual labels from the test dataset.\n",
    "display_confusion_matrix(\n",
    "    actual_labels=testing_data.iloc[:, 0],  # Actual labels from the first column of test data\n",
    "    predicted_labels=predicted_labels       # Predicted labels obtained from the model\n",
    ")\n"
   ]
  },
  {
   "cell_type": "markdown",
   "id": "e88bb2cd-eb66-447d-8422-beab544d8e8f",
   "metadata": {},
   "source": [
    "# Generating the Classification Report"
   ]
  },
  {
   "cell_type": "code",
   "execution_count": 32,
   "id": "9766c47f-23a9-4317-beb9-ae804341c6c6",
   "metadata": {
    "tags": []
   },
   "outputs": [
    {
     "name": "stdout",
     "output_type": "stream",
     "text": [
      "Classification Report on Test Data\n",
      "              precision    recall  f1-score   support\n",
      "\n",
      "         0.0       0.79      1.00      0.88    193838\n",
      "         1.0       0.53      0.01      0.01     51500\n",
      "\n",
      "    accuracy                           0.79    245338\n",
      "   macro avg       0.66      0.50      0.45    245338\n",
      "weighted avg       0.74      0.79      0.70    245338\n",
      "\n"
     ]
    }
   ],
   "source": [
    "from sklearn.metrics import classification_report\n",
    "\n",
    "# Generate and display the classification report for the test data\n",
    "# This report provides detailed metrics such as precision, recall, and F1-score\n",
    "# for each class, helping assess the performance of the model.\n",
    "print(\"Classification Report on Test Data\")\n",
    "print(classification_report(\n",
    "    testing_data.iloc[:, 0],    # Actual labels from the first column of test data\n",
    "    predicted_labels             # Predicted labels generated by the model\n",
    "))\n"
   ]
  },
  {
   "cell_type": "markdown",
   "id": "003e1965-b81d-479d-bae2-bfc5cd9e0b35",
   "metadata": {},
   "source": [
    "### Accuracy\n",
    "\n",
    "csv_1 Model: 79%\n",
    "csv_2 Model: 79%\n",
    "\n",
    "**Analysis: Both models achieved the same accuracy, indicating similar overall correctness. However, accuracy alone may not provide a complete view, given the class imbalance in the data.**\n",
    "\n",
    "### Precision and Recall by Class\n",
    "\n",
    "Class 0 (On-Time):\n",
    "Precision: csv_1 - 0.79, csv_2 - 0.80\n",
    "Recall: csv_1 - 1.00, csv_2 - 0.99\n",
    "\n",
    "**Analysis: Both models perform well on the \"On-Time\" class, with high precision and recall values, showing reliable prediction for the majority class.**\n",
    "\n",
    "Class 1 (Delayed):\n",
    "Precision: csv_1 - 0.53, csv_2 - 0.56\n",
    "Recall: csv_1 - 0.01, csv_2 - 0.07\n",
    "\n",
    "**Analysis: The csv_2 model demonstrates better performance on the \"Delayed\" class, with both higher precision and significantly better recall compared to csv_1. This indicates that csv_2 is better at identifying delayed instances, although both models struggle with this class.**\n",
    "\n",
    "### F1-Score\n",
    "\n",
    "Macro Average F1-Score:\n",
    "csv_1: 0.45\n",
    "csv_2: 0.50\n",
    "\n",
    "Weighted Average F1-Score:\n",
    "csv_1: 0.70\n",
    "csv_2: 0.72\n",
    "\n",
    "**Analysis: The csv_2 model has slightly higher macro and weighted average F1-scores, indicating a better balance in performance across both classes.**\n",
    "\n",
    "\n",
    "### Conclusion: \n",
    "\n",
    "The model trained on csv_2 is preferable for business needs, as it demonstrates better performance in predicting delayed instances (Class 1). Although both models have similar overall accuracy, the csv_2 model provides improved recall and F1-scores for the delayed class, aligning more closely with the goal of accurately identifying delays."
   ]
  }
 ],
 "metadata": {
  "kernelspec": {
   "display_name": "conda_pytorch_p310",
   "language": "python",
   "name": "conda_pytorch_p310"
  },
  "language_info": {
   "codemirror_mode": {
    "name": "ipython",
    "version": 3
   },
   "file_extension": ".py",
   "mimetype": "text/x-python",
   "name": "python",
   "nbconvert_exporter": "python",
   "pygments_lexer": "ipython3",
   "version": "3.10.14"
  }
 },
 "nbformat": 4,
 "nbformat_minor": 5
}
