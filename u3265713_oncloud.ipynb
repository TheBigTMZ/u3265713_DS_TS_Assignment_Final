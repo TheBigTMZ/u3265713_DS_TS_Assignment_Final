{
 "cells": [
  {
   "cell_type": "markdown",
   "metadata": {},
   "source": [
    "# Problem: Predicting Airplane Delays\n",
    "\n",
    "The goals of this notebook are:\n",
    "- Process and create a dataset from downloaded ZIP files\n",
    "- Exploratory data analysis (EDA)\n",
    "- Establish a baseline model and improve it\n",
    "\n",
    "## Introduction to business scenario\n",
    "You work for a travel booking website that is working to improve the customer experience for flights that were delayed. The company wants to create a feature to let customers know if the flight will be delayed due to weather when the customers are booking the flight to or from the busiest airports for domestic travel in the US. \n",
    "\n",
    "You are tasked with solving part of this problem by leveraging machine learning to identify whether the flight will be delayed due to weather. You have been given access to the a dataset of on-time performance of domestic flights operated by large air carriers. You can use this data to train a machine learning model to predict if the flight is going to be delayed for the busiest airports.\n",
    "\n",
    "### Dataset\n",
    "The provided dataset contains scheduled and actual departure and arrival times reported by certified US air carriers that account for at least 1 percent of domestic scheduled passenger revenues. The data was collected by the Office of Airline Information, Bureau of Transportation Statistics (BTS). The dataset contains date, time, origin, destination, airline, distance, and delay status of flights for flights between 2014 and 2018.\n",
    "The data are in 60 compressed files, where each file contains a CSV for the flight details in a month for the five years (from 2014 - 2018). The data can be downloaded from this [link](https://ucstaff-my.sharepoint.com/:f:/g/personal/ibrahim_radwan_canberra_edu_au/Er0nVreXmihEmtMz5qC5kVIB81-ugSusExPYdcyQTglfLg?e=bNO312). Please download the data files and place them on a relative path. Dataset(s) used in this assignment were compiled by the Office of Airline Information, Bureau of Transportation Statistics (BTS), Airline On-Time Performance Data, available with the following [link](https://www.transtats.bts.gov/Fields.asp?gnoyr_VQ=FGJ). "
   ]
  },
  {
   "cell_type": "markdown",
   "metadata": {},
   "source": [
    "# Step 1: Prepare the environment \n",
    "\n",
    "Use one of the labs which we have practised on with the Amazon Sagemakers where you perform the following steps:\n",
    "1. Start a lab.\n",
    "2. Create a notebook instance and name it \"oncloudproject\".\n",
    "3. Increase the used memory to 25 GB from the additional configurations.\n",
    "4. Open Jupyter Lab and upload this notebook into it.\n",
    "5. Upload the two combined CVS files (combined_csv_v1.csv and combined_csv_v2.csv), which you created in Part A of this project."
   ]
  },
  {
   "cell_type": "markdown",
   "metadata": {},
   "source": [
    "# Step 2: Build and evaluate simple models\n",
    "\n",
    "Write code to perform the follwoing steps:\n",
    "1. Split data into training, validation and testing sets (70% - 15% - 15%).\n",
    "2. Use linear learner estimator to build a classifcation model.\n",
    "3. Host the model on another instance\n",
    "4. Perform batch transform to evaluate the model on testing data\n",
    "5. Report the performance metrics that you see better test the model performance \n",
    "\n",
    "Note: You are required to perform the above steps on the two combined datasets separatey and to comments on the difference."
   ]
  },
  {
   "cell_type": "markdown",
   "metadata": {},
   "source": [
    "# Linear Model for csv_v1"
   ]
  },
  {
   "cell_type": "code",
   "execution_count": null,
   "metadata": {},
   "outputs": [
    {
     "name": "stdout",
     "output_type": "stream",
     "text": [
      "sagemaker.config INFO - Not applying SDK defaults from location: /etc/xdg/sagemaker/config.yaml\n",
      "sagemaker.config INFO - Not applying SDK defaults from location: /home/ec2-user/.config/sagemaker/config.yaml\n"
     ]
    }
   ],
   "source": [
    "# importing the required libraries libraries\n",
    "import warnings, requests, zipfile, io\n",
    "\n",
    "warnings.simplefilter(\"ignore\")\n",
    "import pandas as pd\n",
    "from scipy.io import arff\n",
    "\n",
    "import os\n",
    "import boto3\n",
    "import sagemaker\n",
    "from sagemaker.image_uris import retrieve\n",
    "from sklearn.model_selection import train_test_split"
   ]
  },
  {
   "cell_type": "markdown",
   "metadata": {},
   "source": [
    "Function: initialize_s3_container\n",
    "\n",
    "This function initializes an S3 bucket in a specified AWS region, creating a new storage container if it does not already exist. The function includes logic to handle both default and custom AWS regions."
   ]
  },
  {
   "cell_type": "code",
   "execution_count": null,
   "metadata": {},
   "outputs": [],
   "source": [
    "import logging\n",
    "\n",
    "# import boto3\n",
    "from botocore.exceptions import ClientError\n",
    "\n",
    "def initialize_s3_container(storage_name, locality=None):\n",
    "    \"\"\"\n",
    "    Initialize an S3 storage bucket in a specified AWS region.\n",
    "    If no region is specified, the bucket will default to 'us-east-1'.\n",
    "    \n",
    "    :param storage_name: Name of the bucket to create\n",
    "    :param locality: AWS region for bucket creation, e.g., 'us-west-2'\n",
    "    :return: True if bucket creation succeeds, otherwise False\n",
    "    \"\"\"\n",
    "\n",
    "    try:\n",
    "        if locality is None:\n",
    "            s3_service = boto3.client(\"s3\")\n",
    "            s3_service.create_bucket(Bucket=storage_name)\n",
    "        else:\n",
    "            s3_service = boto3.client(\"s3\", region_name=locality)\n",
    "            config_location = {\"LocationConstraint\": locality}\n",
    "            s3_service.create_bucket(\n",
    "                Bucket=storage_name, CreateBucketConfiguration=config_location\n",
    "            )\n",
    "\n",
    "    except ClientError as error_log:\n",
    "        logging.error(error_log)\n",
    "        return False\n",
    "\n",
    "    print(f\"S3 Bucket: {storage_name} has been successfully created.\")\n",
    "    return True\n"
   ]
  },
  {
   "cell_type": "markdown",
   "metadata": {},
   "source": [
    "# Function: verify_bucket_presence\n",
    "\n",
    "This function checks whether an S3 bucket with a specified name exists in the AWS account. It’s helpful for ensuring that a required bucket is available before performing further operations, such as uploading data."
   ]
  },
  {
   "cell_type": "code",
   "execution_count": null,
   "metadata": {},
   "outputs": [],
   "source": [
    "# Function to verify if the bucket exists\n",
    "def verify_bucket_presence(storage_identifier):\n",
    "    s3_resource = boto3.client(\"s3\")\n",
    "    try:\n",
    "        s3_resource.head_bucket(Bucket=storage_identifier)\n",
    "        print(f\"Bucket '{storage_identifier}' is already available.\")\n",
    "        return True\n",
    "    except ClientError as error_detected:\n",
    "        # If a 404 error is encountered, the bucket does not exist\n",
    "        if error_detected.response[\"Error\"][\"Code\"] == \"404\":\n",
    "            print(f\"Bucket '{storage_identifier}' is not found.\")\n",
    "            return False\n",
    "        else:\n",
    "            # Raise any other error encountered\n",
    "            raise\n"
   ]
  },
  {
   "cell_type": "markdown",
   "metadata": {},
   "source": [
    "# S3 Bucket Setup and Validation\n",
    "\n",
    "In this section, we set up the S3 bucket and check if it already exists. If the bucket does not exist, we create it to ensure that all necessary storage resources are available for our project."
   ]
  },
  {
   "cell_type": "code",
   "execution_count": null,
   "metadata": {},
   "outputs": [
    {
     "name": "stdout",
     "output_type": "stream",
     "text": [
      "Bucket 'u3265713-uni-can-dsts-assn1' is not found.\n",
      "S3 Bucket: u3265713-uni-can-dsts-assn1 has been successfully created.\n"
     ]
    }
   ],
   "source": [
    "# Set the S3 bucket name with valid characters\n",
    "s3_container_name = \"u3265713-uni-can-dsts-assn1\"\n",
    "\n",
    "# Fetch the S3 resource\n",
    "s3_instance = boto3.Session().resource(\"s3\")\n",
    "\n",
    "# Check if the bucket exists\n",
    "container_exists = verify_bucket_presence(s3_container_name)\n",
    "\n",
    "# Create the bucket if it doesn't exist\n",
    "if not container_exists:\n",
    "    initialize_s3_container(s3_container_name)\n",
    "\n"
   ]
  },
  {
   "cell_type": "markdown",
   "metadata": {},
   "source": [
    "# Setting S3 Path Prefix and Uploading CSV Data to S3\n",
    "\n",
    "In this section, we define a prefix for the S3 path and create a function to upload a DataFrame as a CSV file to an S3 bucket. This setup is essential for organizing and storing data in a structured manner within AWS S3."
   ]
  },
  {
   "cell_type": "code",
   "execution_count": null,
   "metadata": {},
   "outputs": [],
   "source": [
    "# Setting the prefix for the S3 path\n",
    "s3_prefix = \"oncloud\"\n",
    "\n",
    "# Function to upload CSV data to AWS S3\n",
    "def upload_csv_to_s3(file_name, subfolder, data_frame):\n",
    "    csv_memory_buffer = io.StringIO()\n",
    "    data_frame.to_csv(csv_memory_buffer, header=False, index=False)\n",
    "    print(s3_instance.Bucket(s3_container_name))\n",
    "    s3_instance.Bucket(s3_container_name).Object(os.path.join(s3_prefix, subfolder, file_name)).put(\n",
    "        Body=csv_memory_buffer.getvalue()\n",
    "    )\n"
   ]
  },
  {
   "cell_type": "markdown",
   "metadata": {},
   "source": [
    "# Loading the Dataset"
   ]
  },
  {
   "cell_type": "code",
   "execution_count": null,
   "metadata": {},
   "outputs": [
    {
     "name": "stdout",
     "output_type": "stream",
     "text": [
      "   target  Distance  Quarter_2  Quarter_3  Quarter_4  Month_2  Month_3  \\\n",
      "0     0.0     689.0      False      False      False    False    False   \n",
      "1     0.0     731.0      False      False      False    False    False   \n",
      "2     0.0    1199.0      False      False      False    False    False   \n",
      "3     0.0    1587.0      False      False      False    False    False   \n",
      "4     0.0    1587.0      False      False      False    False    False   \n",
      "\n",
      "   Month_4  Month_5  Month_6  ...  Dest_DEN  Dest_DFW  Dest_IAH  Dest_LAX  \\\n",
      "0    False    False    False  ...     False     False      True     False   \n",
      "1    False    False    False  ...     False     False     False     False   \n",
      "2    False    False    False  ...      True     False     False     False   \n",
      "3    False    False    False  ...     False     False     False     False   \n",
      "4    False    False    False  ...     False     False     False     False   \n",
      "\n",
      "   Dest_ORD  Dest_PHX  Dest_SFO  DepHourofDay_7-12  DepHourofDay_13-18  \\\n",
      "0     False     False     False              False               False   \n",
      "1     False     False     False               True               False   \n",
      "2     False     False     False              False               False   \n",
      "3     False      True     False              False                True   \n",
      "4     False     False     False               True               False   \n",
      "\n",
      "   DepHourofDay_19-23  \n",
      "0                True  \n",
      "1               False  \n",
      "2                True  \n",
      "3               False  \n",
      "4               False  \n",
      "\n",
      "[5 rows x 75 columns]\n",
      "(1635590, 75)\n"
     ]
    }
   ],
   "source": [
    "# Load the data\n",
    "dataset_v1 = pd.read_csv(\"./combined_csv_v1.csv\")\n",
    "\n",
    "print(dataset_v1.head())\n",
    "print(dataset_v1.shape)\n"
   ]
  },
  {
   "cell_type": "markdown",
   "metadata": {},
   "source": [
    "# Creating a Copy of the Dataset"
   ]
  },
  {
   "cell_type": "code",
   "execution_count": null,
   "metadata": {},
   "outputs": [],
   "source": [
    "# Copying the data \n",
    "df = dataset_v1.copy()"
   ]
  },
  {
   "cell_type": "markdown",
   "metadata": {},
   "source": [
    "# Data Transformation: Converting Boolean Values"
   ]
  },
  {
   "cell_type": "code",
   "execution_count": null,
   "metadata": {},
   "outputs": [
    {
     "data": {
      "text/html": [
       "<div>\n",
       "<style scoped>\n",
       "    .dataframe tbody tr th:only-of-type {\n",
       "        vertical-align: middle;\n",
       "    }\n",
       "\n",
       "    .dataframe tbody tr th {\n",
       "        vertical-align: top;\n",
       "    }\n",
       "\n",
       "    .dataframe thead th {\n",
       "        text-align: right;\n",
       "    }\n",
       "</style>\n",
       "<table border=\"1\" class=\"dataframe\">\n",
       "  <thead>\n",
       "    <tr style=\"text-align: right;\">\n",
       "      <th></th>\n",
       "      <th>target</th>\n",
       "      <th>Distance</th>\n",
       "      <th>Quarter_2</th>\n",
       "      <th>Quarter_3</th>\n",
       "      <th>Quarter_4</th>\n",
       "      <th>Month_2</th>\n",
       "      <th>Month_3</th>\n",
       "      <th>Month_4</th>\n",
       "      <th>Month_5</th>\n",
       "      <th>Month_6</th>\n",
       "      <th>...</th>\n",
       "      <th>Dest_DEN</th>\n",
       "      <th>Dest_DFW</th>\n",
       "      <th>Dest_IAH</th>\n",
       "      <th>Dest_LAX</th>\n",
       "      <th>Dest_ORD</th>\n",
       "      <th>Dest_PHX</th>\n",
       "      <th>Dest_SFO</th>\n",
       "      <th>DepHourofDay_7-12</th>\n",
       "      <th>DepHourofDay_13-18</th>\n",
       "      <th>DepHourofDay_19-23</th>\n",
       "    </tr>\n",
       "  </thead>\n",
       "  <tbody>\n",
       "    <tr>\n",
       "      <th>0</th>\n",
       "      <td>0.0</td>\n",
       "      <td>689.0</td>\n",
       "      <td>0</td>\n",
       "      <td>0</td>\n",
       "      <td>0</td>\n",
       "      <td>0</td>\n",
       "      <td>0</td>\n",
       "      <td>0</td>\n",
       "      <td>0</td>\n",
       "      <td>0</td>\n",
       "      <td>...</td>\n",
       "      <td>0</td>\n",
       "      <td>0</td>\n",
       "      <td>1</td>\n",
       "      <td>0</td>\n",
       "      <td>0</td>\n",
       "      <td>0</td>\n",
       "      <td>0</td>\n",
       "      <td>0</td>\n",
       "      <td>0</td>\n",
       "      <td>1</td>\n",
       "    </tr>\n",
       "    <tr>\n",
       "      <th>1</th>\n",
       "      <td>0.0</td>\n",
       "      <td>731.0</td>\n",
       "      <td>0</td>\n",
       "      <td>0</td>\n",
       "      <td>0</td>\n",
       "      <td>0</td>\n",
       "      <td>0</td>\n",
       "      <td>0</td>\n",
       "      <td>0</td>\n",
       "      <td>0</td>\n",
       "      <td>...</td>\n",
       "      <td>0</td>\n",
       "      <td>0</td>\n",
       "      <td>0</td>\n",
       "      <td>0</td>\n",
       "      <td>0</td>\n",
       "      <td>0</td>\n",
       "      <td>0</td>\n",
       "      <td>1</td>\n",
       "      <td>0</td>\n",
       "      <td>0</td>\n",
       "    </tr>\n",
       "    <tr>\n",
       "      <th>2</th>\n",
       "      <td>0.0</td>\n",
       "      <td>1199.0</td>\n",
       "      <td>0</td>\n",
       "      <td>0</td>\n",
       "      <td>0</td>\n",
       "      <td>0</td>\n",
       "      <td>0</td>\n",
       "      <td>0</td>\n",
       "      <td>0</td>\n",
       "      <td>0</td>\n",
       "      <td>...</td>\n",
       "      <td>1</td>\n",
       "      <td>0</td>\n",
       "      <td>0</td>\n",
       "      <td>0</td>\n",
       "      <td>0</td>\n",
       "      <td>0</td>\n",
       "      <td>0</td>\n",
       "      <td>0</td>\n",
       "      <td>0</td>\n",
       "      <td>1</td>\n",
       "    </tr>\n",
       "    <tr>\n",
       "      <th>3</th>\n",
       "      <td>0.0</td>\n",
       "      <td>1587.0</td>\n",
       "      <td>0</td>\n",
       "      <td>0</td>\n",
       "      <td>0</td>\n",
       "      <td>0</td>\n",
       "      <td>0</td>\n",
       "      <td>0</td>\n",
       "      <td>0</td>\n",
       "      <td>0</td>\n",
       "      <td>...</td>\n",
       "      <td>0</td>\n",
       "      <td>0</td>\n",
       "      <td>0</td>\n",
       "      <td>0</td>\n",
       "      <td>0</td>\n",
       "      <td>1</td>\n",
       "      <td>0</td>\n",
       "      <td>0</td>\n",
       "      <td>1</td>\n",
       "      <td>0</td>\n",
       "    </tr>\n",
       "    <tr>\n",
       "      <th>4</th>\n",
       "      <td>0.0</td>\n",
       "      <td>1587.0</td>\n",
       "      <td>0</td>\n",
       "      <td>0</td>\n",
       "      <td>0</td>\n",
       "      <td>0</td>\n",
       "      <td>0</td>\n",
       "      <td>0</td>\n",
       "      <td>0</td>\n",
       "      <td>0</td>\n",
       "      <td>...</td>\n",
       "      <td>0</td>\n",
       "      <td>0</td>\n",
       "      <td>0</td>\n",
       "      <td>0</td>\n",
       "      <td>0</td>\n",
       "      <td>0</td>\n",
       "      <td>0</td>\n",
       "      <td>1</td>\n",
       "      <td>0</td>\n",
       "      <td>0</td>\n",
       "    </tr>\n",
       "  </tbody>\n",
       "</table>\n",
       "<p>5 rows × 75 columns</p>\n",
       "</div>"
      ],
      "text/plain": [
       "   target  Distance  Quarter_2  Quarter_3  Quarter_4  Month_2  Month_3  \\\n",
       "0     0.0     689.0          0          0          0        0        0   \n",
       "1     0.0     731.0          0          0          0        0        0   \n",
       "2     0.0    1199.0          0          0          0        0        0   \n",
       "3     0.0    1587.0          0          0          0        0        0   \n",
       "4     0.0    1587.0          0          0          0        0        0   \n",
       "\n",
       "   Month_4  Month_5  Month_6  ...  Dest_DEN  Dest_DFW  Dest_IAH  Dest_LAX  \\\n",
       "0        0        0        0  ...         0         0         1         0   \n",
       "1        0        0        0  ...         0         0         0         0   \n",
       "2        0        0        0  ...         1         0         0         0   \n",
       "3        0        0        0  ...         0         0         0         0   \n",
       "4        0        0        0  ...         0         0         0         0   \n",
       "\n",
       "   Dest_ORD  Dest_PHX  Dest_SFO  DepHourofDay_7-12  DepHourofDay_13-18  \\\n",
       "0         0         0         0                  0                   0   \n",
       "1         0         0         0                  1                   0   \n",
       "2         0         0         0                  0                   0   \n",
       "3         0         1         0                  0                   1   \n",
       "4         0         0         0                  1                   0   \n",
       "\n",
       "   DepHourofDay_19-23  \n",
       "0                   1  \n",
       "1                   0  \n",
       "2                   1  \n",
       "3                   0  \n",
       "4                   0  \n",
       "\n",
       "[5 rows x 75 columns]"
      ]
     },
     "metadata": {},
     "output_type": "display_data"
    }
   ],
   "source": [
    "# Replacing True/False with 1/0 directly in df\n",
    "df = df.replace({True: 1, False: 0})\n",
    "df.head(5)\n"
   ]
  },
  {
   "cell_type": "markdown",
   "metadata": {},
   "source": [
    "# Splitting the dataset"
   ]
  },
  {
   "cell_type": "code",
   "execution_count": null,
   "metadata": {},
   "outputs": [],
   "source": [
    "# Split the data into training and a combined testing/validation set (70% train, 30% test/validate)\n",
    "training_data, testing_validation_data = train_test_split(\n",
    "    df, test_size=0.3, random_state=42, stratify=df[\"target\"]\n",
    ")\n",
    "\n",
    "# Further split the testing_validation_data set into separate testing and validation sets (15% each of the original data)\n",
    "testing_data, validation_data = train_test_split(\n",
    "    testing_validation_data,\n",
    "    test_size=0.5,\n",
    "    random_state=42,\n",
    "    stratify=testing_validation_data[\"target\"],\n",
    ")\n"
   ]
  },
  {
   "cell_type": "code",
   "execution_count": null,
   "metadata": {},
   "outputs": [
    {
     "name": "stdout",
     "output_type": "stream",
     "text": [
      "(1144913, 75)\n",
      "(245338, 75)\n",
      "(245339, 75)\n"
     ]
    }
   ],
   "source": [
    "# Printing the shapes of each set \n",
    "print(training_data.shape)\n",
    "print(testing_data.shape)\n",
    "print(validation_data.shape)\n"
   ]
  },
  {
   "cell_type": "markdown",
   "metadata": {},
   "source": [
    "# Defining File Names for Data Subsets"
   ]
  },
  {
   "cell_type": "code",
   "execution_count": null,
   "metadata": {},
   "outputs": [],
   "source": [
    "# Set the names of the CSV files for each data subset\n",
    "# These file names will be used to save the training, testing, and validation datasets \n",
    "# as CSV files, allowing for easy upload to S3 and subsequent use in modeling.\n",
    "training_file_name = \"data_v1_train.csv\"      # Filename for the training dataset\n",
    "testing_file_name = \"data_v1_test.csv\"        # Filename for the testing dataset\n",
    "validation_file_name = \"data_v1_validate.csv\" # Filename for the validation dataset\n"
   ]
  },
  {
   "cell_type": "markdown",
   "metadata": {},
   "source": [
    "# Preparing Data for SageMaker Training\n",
    "\n",
    "The transform_data_for_sagemaker function converts a DataFrame into a SageMaker-compatible format. It separates feature vectors and target labels, storing them in an in-memory binary buffer. This format is optimized for SageMaker’s training processes."
   ]
  },
  {
   "cell_type": "code",
   "execution_count": null,
   "metadata": {},
   "outputs": [],
   "source": [
    "import io\n",
    "import numpy as np\n",
    "import sagemaker.amazon.common as smac\n",
    "\n",
    "# Function to prepare data for SageMaker training\n",
    "# This function converts a dataframe into a format suitable for SageMaker training,\n",
    "# separating features (input data) and labels (target values) and storing them in \n",
    "# an in-memory binary buffer that SageMaker can efficiently use.\n",
    "def transform_data_for_sagemaker(input_df):\n",
    "    # Extract feature vectors by dropping the target column and converting to float32\n",
    "    feature_vectors = input_df.drop(columns=[\"target\"]).values.astype(\"float32\")\n",
    "    # Extract target labels from the target column and convert to float32\n",
    "    target_labels = input_df[\"target\"].values.astype(\"float32\")\n",
    "    # Initialize an in-memory binary stream buffer to hold the transformed data\n",
    "    memory_buffer = io.BytesIO()\n",
    "    # Use SageMaker's utility function to write data in dense tensor format into the buffer\n",
    "    smac.write_numpy_to_dense_tensor(memory_buffer, feature_vectors, target_labels)\n",
    "    # Reset buffer position to the start to allow SageMaker to read from the beginning\n",
    "    memory_buffer.seek(0)\n",
    "    # Return the in-memory buffer ready for SageMaker ingestion\n",
    "    return memory_buffer\n"
   ]
  },
  {
   "cell_type": "code",
   "execution_count": null,
   "metadata": {},
   "outputs": [],
   "source": [
    "# Function to upload a data buffer to S3\n",
    "# This function takes an in-memory buffer, S3 bucket, prefix, and data type (e.g., train, test),\n",
    "# and uploads the data in 'recordIO' format to a specified location in the S3 bucket.\n",
    "\n",
    "def upload_buffer_to_s3(data_buffer, s3_bucket, s3_prefix, data_type):\n",
    "    # Set a fixed S3 key (filename) for the data\n",
    "    s3_key_name = \"recordio-pb-data\"\n",
    "    \n",
    "    # Perform the upload to the specified S3 bucket and path\n",
    "    boto3.resource(\"s3\").Bucket(s3_bucket).Object(\n",
    "        os.path.join(s3_prefix, data_type, s3_key_name)\n",
    "    ).upload_fileobj(data_buffer)\n",
    "    \n",
    "    # Construct and print the S3 path where the data has been uploaded\n",
    "    s3_data_path = \"s3://{}/{}/{}/{}\".format(s3_bucket, s3_prefix, data_type, s3_key_name)\n",
    "    print(\"Uploaded {} data to location: {}\".format(data_type, s3_data_path))\n",
    "    \n",
    "    # Return the S3 path for reference\n",
    "    return s3_data_path"
   ]
  },
  {
   "cell_type": "markdown",
   "metadata": {},
   "source": [
    "# Uploading Data Buffer to S3"
   ]
  },
  {
   "cell_type": "code",
   "execution_count": null,
   "metadata": {},
   "outputs": [
    {
     "name": "stdout",
     "output_type": "stream",
     "text": [
      "Uploaded train data to location: s3://u3265713-uni-can-dsts-assn1/oncloud/train/recordio-pb-data\n",
      "Uploaded validate data to location: s3://u3265713-uni-can-dsts-assn1/oncloud/validate/recordio-pb-data\n"
     ]
    }
   ],
   "source": [
    "# Prepare training data buffer for SageMaker\n",
    "# Converts the training dataset into a format suitable for SageMaker and stores it in an in-memory buffer\n",
    "training_data_buffer = transform_data_for_sagemaker(training_data)\n",
    "# Upload the training data buffer to S3\n",
    "# This uploads the training buffer to the specified S3 bucket under the prefix path for \"train\" data\n",
    "s3_training_data_path = upload_buffer_to_s3(training_data_buffer, s3_container_name, s3_prefix, \"train\")\n",
    "# Prepare validation data buffer for SageMaker\n",
    "# Converts the validation dataset into a SageMaker-compatible format and stores it in an in-memory buffer\n",
    "validation_data_buffer = transform_data_for_sagemaker(validation_data)\n",
    "# Upload the validation data buffer to S3\n",
    "# This uploads the validation buffer to the specified S3 bucket under the prefix path for \"validate\" data\n",
    "s3_validation_data_path = upload_buffer_to_s3(validation_data_buffer, s3_container_name, s3_prefix, \"validate\")\n"
   ]
  },
  {
   "cell_type": "markdown",
   "metadata": {},
   "source": [
    "# Setting the S3 Output Location for Training Artifacts"
   ]
  },
  {
   "cell_type": "code",
   "execution_count": null,
   "metadata": {},
   "outputs": [
    {
     "name": "stdout",
     "output_type": "stream",
     "text": [
      "Training artifacts will be uploaded to: s3://u3265713-uni-can-dsts-assn1/oncloud/output\n"
     ]
    }
   ],
   "source": [
    "# Define the S3 output location for training artifacts\n",
    "# This path specifies where SageMaker should store the output artifacts after training is complete.\n",
    "# The output location is set under the specified S3 bucket and prefix, organized in an \"output\" folder.\n",
    "output_artifact_location = \"s3://{}/{}/output\".format(s3_container_name, s3_prefix)\n",
    "# Print the S3 path where training artifacts will be uploaded\n",
    "print(\"Training artifacts will be uploaded to: {}\".format(output_artifact_location))\n"
   ]
  },
  {
   "cell_type": "markdown",
   "metadata": {},
   "source": [
    "# Retrieving the SageMaker Container Image URI"
   ]
  },
  {
   "cell_type": "code",
   "execution_count": null,
   "metadata": {},
   "outputs": [],
   "source": [
    "from sagemaker.image_uris import retrieve\n",
    "# Retrieve the container image URI for the SageMaker algorithm\n",
    "# This retrieves the URI for the specified algorithm container (linear-learner) in the given AWS region.\n",
    "# The container image is needed to launch the training job on SageMaker using the specified algorithm.\n",
    "model_container_uri = retrieve(\"linear-learner\", \"us-east-1\")\n"
   ]
  },
  {
   "cell_type": "markdown",
   "metadata": {},
   "source": [
    "# Setting Up and Running the SageMaker Training Job"
   ]
  },
  {
   "cell_type": "code",
   "execution_count": null,
   "metadata": {},
   "outputs": [
    {
     "name": "stderr",
     "output_type": "stream",
     "text": [
      "WARNING:sagemaker.deprecations:train_instance_count has been renamed in sagemaker>=2.\n",
      "See: https://sagemaker.readthedocs.io/en/stable/v2.html for details.\n",
      "WARNING:sagemaker.deprecations:train_instance_type has been renamed in sagemaker>=2.\n",
      "See: https://sagemaker.readthedocs.io/en/stable/v2.html for details.\n"
     ]
    },
    {
     "name": "stdout",
     "output_type": "stream",
     "text": [
      "\n",
      "2024-11-03 06:01:39 Starting - Starting the training job..\n",
      "2024-11-03 06:01:53 Starting - Preparing the instances for training.....\n",
      "2024-11-03 06:02:25 Downloading - Downloading input data....\n",
      "2024-11-03 06:02:50 Downloading - Downloading the training image........\n",
      "2024-11-03 06:03:35 Training - Training image download completed. Training in progress.........................................................................\n",
      "2024-11-03 06:09:42 Uploading - Uploading generated training model\n",
      "2024-11-03 06:09:50 Completed - Training job completed\n"
     ]
    }
   ],
   "source": [
    "# Create a SageMaker session\n",
    "# This session is initialized with the specified region (us-east-1) to match the region of the S3 bucket.\n",
    "# It will manage the communication with AWS services for the training job.\n",
    "sagemaker_session = sagemaker.Session(boto3.session.Session(region_name=\"us-east-1\"))\n",
    "# Retrieve the IAM role for SageMaker\n",
    "# The role grants SageMaker permissions to access AWS resources such as S3.\n",
    "execution_role = sagemaker.get_execution_role()\n",
    "# Set up the SageMaker Estimator for training a linear model\n",
    "# This estimator is configured with the model container URI, IAM role, instance count, instance type,\n",
    "# output path for training artifacts, and the SageMaker session.\n",
    "linear_estimator = sagemaker.estimator.Estimator(\n",
    "    model_container_uri,            # Container URI for the chosen algorithm (linear-learner)\n",
    "    execution_role,                 # IAM role for SageMaker permissions\n",
    "    train_instance_count=1,         # Number of instances for training (1 in this case)\n",
    "    train_instance_type=\"ml.c5.4xlarge\",  # Instance type for training\n",
    "    output_path=output_artifact_location, # S3 location for output artifacts\n",
    "    sagemaker_session=sagemaker_session  # Session for AWS resource management\n",
    ")\n",
    "# Set hyperparameters for the linear model\n",
    "# Here, we specify the feature dimension and the type of predictor (binary classifier).\n",
    "linear_estimator.set_hyperparameters(feature_dim=74, predictor_type=\"binary_classifier\")\n",
    "# Start the training job on SageMaker\n",
    "# The training data and validation data are passed as input channels to the estimator.\n",
    "# Setting logs=False suppresses detailed logging during training.\n",
    "linear_estimator.fit({\"train\": s3_training_data_path, \"validation\": s3_validation_data_path}, logs=False)\n"
   ]
  },
  {
   "cell_type": "markdown",
   "metadata": {},
   "source": [
    "# Preparing and Uploading Data for Batch Prediction"
   ]
  },
  {
   "cell_type": "code",
   "execution_count": null,
   "metadata": {},
   "outputs": [
    {
     "name": "stdout",
     "output_type": "stream",
     "text": [
      "s3.Bucket(name='u3265713-uni-can-dsts-assn1')\n"
     ]
    }
   ],
   "source": [
    "# Prepare the input data for batch prediction\n",
    "# This selects all columns except the target from the test data for predictions.\n",
    "# The data will be saved in a CSV format for batch processing on SageMaker.\n",
    "batch_input_data_df = testing_data.iloc[:, 1:]         # Exclude target column for batch prediction\n",
    "batch_input_file_name = 'batch-input-linear.csv'       # Name for the batch input CSV file\n",
    "\n",
    "# Upload the batch input data CSV to S3\n",
    "# This function uploads the batch prediction input file to a specific S3 location.\n",
    "upload_csv_to_s3(batch_input_file_name, 'batch-input-folder', batch_input_data_df)\n",
    "\n",
    "# Define S3 paths for batch input and output\n",
    "# The batch_output_path specifies where SageMaker should store the prediction results.\n",
    "# The batch_input_path points to the location of the uploaded CSV file in S3.\n",
    "batch_output_path = \"s3://{}/{}/batch-output-linear/\".format(s3_container_name, s3_prefix)\n",
    "batch_input_path = \"s3://{}/{}/batch-input-folder/{}\".format(s3_container_name, s3_prefix, batch_input_file_name)\n"
   ]
  },
  {
   "cell_type": "markdown",
   "metadata": {},
   "source": [
    "# Setting Up and Running the Batch Transform Job"
   ]
  },
  {
   "cell_type": "code",
   "execution_count": null,
   "metadata": {},
   "outputs": [
    {
     "name": "stdout",
     "output_type": "stream",
     "text": [
      ".......................................................................................!\n",
      "\u001b[34mDocker entrypoint called with argument(s): serve\u001b[0m\n",
      "\u001b[34mRunning default environment configuration script\u001b[0m\n",
      "\u001b[34m[11/03/2024 06:20:33 INFO 140106871093056] Memory profiler is not enabled by the environment variable ENABLE_PROFILER.\u001b[0m\n",
      "\u001b[34m/opt/amazon/lib/python3.8/site-packages/mxnet/model.py:97: SyntaxWarning: \"is\" with a literal. Did you mean \"==\"?\n",
      "  if num_device is 1 and 'dist' not in kvstore:\u001b[0m\n",
      "\u001b[34m/opt/amazon/lib/python3.8/site-packages/scipy/optimize/_shgo.py:495: SyntaxWarning: \"is\" with a literal. Did you mean \"==\"?\n",
      "  if cons['type'] is 'ineq':\u001b[0m\n",
      "\u001b[34m/opt/amazon/lib/python3.8/site-packages/scipy/optimize/_shgo.py:743: SyntaxWarning: \"is not\" with a literal. Did you mean \"!=\"?\n",
      "  if len(self.X_min) is not 0:\u001b[0m\n",
      "\u001b[35mDocker entrypoint called with argument(s): serve\u001b[0m\n",
      "\u001b[35mRunning default environment configuration script\u001b[0m\n",
      "\u001b[35m[11/03/2024 06:20:33 INFO 140106871093056] Memory profiler is not enabled by the environment variable ENABLE_PROFILER.\u001b[0m\n",
      "\u001b[35m/opt/amazon/lib/python3.8/site-packages/mxnet/model.py:97: SyntaxWarning: \"is\" with a literal. Did you mean \"==\"?\n",
      "  if num_device is 1 and 'dist' not in kvstore:\u001b[0m\n",
      "\u001b[35m/opt/amazon/lib/python3.8/site-packages/scipy/optimize/_shgo.py:495: SyntaxWarning: \"is\" with a literal. Did you mean \"==\"?\n",
      "  if cons['type'] is 'ineq':\u001b[0m\n",
      "\u001b[35m/opt/amazon/lib/python3.8/site-packages/scipy/optimize/_shgo.py:743: SyntaxWarning: \"is not\" with a literal. Did you mean \"!=\"?\n",
      "  if len(self.X_min) is not 0:\u001b[0m\n",
      "\u001b[34m[11/03/2024 06:20:35 WARNING 140106871093056] Loggers have already been setup.\u001b[0m\n",
      "\u001b[34m[11/03/2024 06:20:35 INFO 140106871093056] loaded entry point class algorithm.serve.server_config:config_api\u001b[0m\n",
      "\u001b[34m[11/03/2024 06:20:35 INFO 140106871093056] loading entry points\u001b[0m\n",
      "\u001b[34m[11/03/2024 06:20:35 INFO 140106871093056] loaded request iterator application/json\u001b[0m\n",
      "\u001b[34m[11/03/2024 06:20:35 INFO 140106871093056] loaded request iterator application/jsonlines\u001b[0m\n",
      "\u001b[34m[11/03/2024 06:20:35 INFO 140106871093056] loaded request iterator application/x-recordio-protobuf\u001b[0m\n",
      "\u001b[34m[11/03/2024 06:20:35 INFO 140106871093056] loaded request iterator text/csv\u001b[0m\n",
      "\u001b[34m[11/03/2024 06:20:35 INFO 140106871093056] loaded response encoder application/json\u001b[0m\n",
      "\u001b[34m[11/03/2024 06:20:35 INFO 140106871093056] loaded response encoder application/jsonlines\u001b[0m\n",
      "\u001b[34m[11/03/2024 06:20:35 INFO 140106871093056] loaded response encoder application/x-recordio-protobuf\u001b[0m\n",
      "\u001b[35m[11/03/2024 06:20:35 WARNING 140106871093056] Loggers have already been setup.\u001b[0m\n",
      "\u001b[35m[11/03/2024 06:20:35 INFO 140106871093056] loaded entry point class algorithm.serve.server_config:config_api\u001b[0m\n",
      "\u001b[35m[11/03/2024 06:20:35 INFO 140106871093056] loading entry points\u001b[0m\n",
      "\u001b[35m[11/03/2024 06:20:35 INFO 140106871093056] loaded request iterator application/json\u001b[0m\n",
      "\u001b[35m[11/03/2024 06:20:35 INFO 140106871093056] loaded request iterator application/jsonlines\u001b[0m\n",
      "\u001b[35m[11/03/2024 06:20:35 INFO 140106871093056] loaded request iterator application/x-recordio-protobuf\u001b[0m\n",
      "\u001b[35m[11/03/2024 06:20:35 INFO 140106871093056] loaded request iterator text/csv\u001b[0m\n",
      "\u001b[35m[11/03/2024 06:20:35 INFO 140106871093056] loaded response encoder application/json\u001b[0m\n",
      "\u001b[35m[11/03/2024 06:20:35 INFO 140106871093056] loaded response encoder application/jsonlines\u001b[0m\n",
      "\u001b[35m[11/03/2024 06:20:35 INFO 140106871093056] loaded response encoder application/x-recordio-protobuf\u001b[0m\n",
      "\u001b[34m[11/03/2024 06:20:35 INFO 140106871093056] loaded response encoder text/csv\u001b[0m\n",
      "\u001b[34m[11/03/2024 06:20:35 INFO 140106871093056] loaded entry point class algorithm:model\u001b[0m\n",
      "\u001b[34m[11/03/2024 06:20:35 INFO 140106871093056] Number of server workers: 16\u001b[0m\n",
      "\u001b[34m[11/03/2024 06:20:35 INFO 140106871093056] loading model...\u001b[0m\n",
      "\u001b[34m[11/03/2024 06:20:35 INFO 140106871093056] ...model loaded.\u001b[0m\n",
      "\u001b[34m[2024-11-03 06:20:36 +0000] [1] [INFO] Starting gunicorn 20.1.0\u001b[0m\n",
      "\u001b[34m[2024-11-03 06:20:36 +0000] [1] [INFO] Listening at: http://0.0.0.0:8080 (1)\u001b[0m\n",
      "\u001b[34m[2024-11-03 06:20:36 +0000] [1] [INFO] Using worker: sync\u001b[0m\n",
      "\u001b[34m[2024-11-03 06:20:36 +0000] [60] [INFO] Booting worker with pid: 60\u001b[0m\n",
      "\u001b[35m[11/03/2024 06:20:35 INFO 140106871093056] loaded response encoder text/csv\u001b[0m\n",
      "\u001b[35m[11/03/2024 06:20:35 INFO 140106871093056] loaded entry point class algorithm:model\u001b[0m\n",
      "\u001b[35m[11/03/2024 06:20:35 INFO 140106871093056] Number of server workers: 16\u001b[0m\n",
      "\u001b[35m[11/03/2024 06:20:35 INFO 140106871093056] loading model...\u001b[0m\n",
      "\u001b[35m[11/03/2024 06:20:35 INFO 140106871093056] ...model loaded.\u001b[0m\n",
      "\u001b[35m[2024-11-03 06:20:36 +0000] [1] [INFO] Starting gunicorn 20.1.0\u001b[0m\n",
      "\u001b[35m[2024-11-03 06:20:36 +0000] [1] [INFO] Listening at: http://0.0.0.0:8080 (1)\u001b[0m\n",
      "\u001b[35m[2024-11-03 06:20:36 +0000] [1] [INFO] Using worker: sync\u001b[0m\n",
      "\u001b[35m[2024-11-03 06:20:36 +0000] [60] [INFO] Booting worker with pid: 60\u001b[0m\n",
      "\u001b[34m[2024-11-03 06:20:36 +0000] [69] [INFO] Booting worker with pid: 69\u001b[0m\n",
      "\u001b[34m[2024-11-03 06:20:36 +0000] [78] [INFO] Booting worker with pid: 78\u001b[0m\n",
      "\u001b[34m[2024-11-03 06:20:36 +0000] [87] [INFO] Booting worker with pid: 87\u001b[0m\n",
      "\u001b[34m[2024-11-03 06:20:36 +0000] [96] [INFO] Booting worker with pid: 96\u001b[0m\n",
      "\u001b[34m#metrics {\"StartTime\": 1730614835.98511, \"EndTime\": 1730614836.3633685, \"Dimensions\": {\"Algorithm\": \"LinearLearnerModel\", \"Host\": \"UNKNOWN\", \"Operation\": \"scoring\"}, \"Metrics\": {\"execution_parameters.count\": {\"sum\": 1.0, \"count\": 1, \"min\": 1, \"max\": 1}}}\u001b[0m\n",
      "\u001b[34m[2024-11-03 06:20:36 +0000] [105] [INFO] Booting worker with pid: 105\u001b[0m\n",
      "\u001b[34m[2024-11-03 06:20:36 +0000] [114] [INFO] Booting worker with pid: 114\u001b[0m\n",
      "\u001b[34m[2024-11-03 06:20:36 +0000] [123] [INFO] Booting worker with pid: 123\u001b[0m\n",
      "\u001b[34m[2024-11-03 06:20:36 +0000] [132] [INFO] Booting worker with pid: 132\u001b[0m\n",
      "\u001b[34m[2024-11-03 06:20:36 +0000] [141] [INFO] Booting worker with pid: 141\u001b[0m\n",
      "\u001b[34m[2024-11-03 06:20:36 +0000] [150] [INFO] Booting worker with pid: 150\u001b[0m\n",
      "\u001b[34m[2024-11-03 06:20:36 +0000] [159] [INFO] Booting worker with pid: 159\u001b[0m\n",
      "\u001b[34m[2024-11-03 06:20:36 +0000] [168] [INFO] Booting worker with pid: 168\u001b[0m\n",
      "\u001b[34m[2024-11-03 06:20:36 +0000] [177] [INFO] Booting worker with pid: 177\u001b[0m\n",
      "\u001b[34m[2024-11-03 06:20:36 +0000] [186] [INFO] Booting worker with pid: 186\u001b[0m\n",
      "\u001b[34m[2024-11-03 06:20:36 +0000] [195] [INFO] Booting worker with pid: 195\u001b[0m\n",
      "\u001b[35m[2024-11-03 06:20:36 +0000] [69] [INFO] Booting worker with pid: 69\u001b[0m\n",
      "\u001b[35m[2024-11-03 06:20:36 +0000] [78] [INFO] Booting worker with pid: 78\u001b[0m\n",
      "\u001b[35m[2024-11-03 06:20:36 +0000] [87] [INFO] Booting worker with pid: 87\u001b[0m\n",
      "\u001b[35m[2024-11-03 06:20:36 +0000] [96] [INFO] Booting worker with pid: 96\u001b[0m\n",
      "\u001b[35m#metrics {\"StartTime\": 1730614835.98511, \"EndTime\": 1730614836.3633685, \"Dimensions\": {\"Algorithm\": \"LinearLearnerModel\", \"Host\": \"UNKNOWN\", \"Operation\": \"scoring\"}, \"Metrics\": {\"execution_parameters.count\": {\"sum\": 1.0, \"count\": 1, \"min\": 1, \"max\": 1}}}\u001b[0m\n",
      "\u001b[35m[2024-11-03 06:20:36 +0000] [105] [INFO] Booting worker with pid: 105\u001b[0m\n",
      "\u001b[35m[2024-11-03 06:20:36 +0000] [114] [INFO] Booting worker with pid: 114\u001b[0m\n",
      "\u001b[35m[2024-11-03 06:20:36 +0000] [123] [INFO] Booting worker with pid: 123\u001b[0m\n",
      "\u001b[35m[2024-11-03 06:20:36 +0000] [132] [INFO] Booting worker with pid: 132\u001b[0m\n",
      "\u001b[35m[2024-11-03 06:20:36 +0000] [141] [INFO] Booting worker with pid: 141\u001b[0m\n",
      "\u001b[35m[2024-11-03 06:20:36 +0000] [150] [INFO] Booting worker with pid: 150\u001b[0m\n",
      "\u001b[35m[2024-11-03 06:20:36 +0000] [159] [INFO] Booting worker with pid: 159\u001b[0m\n",
      "\u001b[35m[2024-11-03 06:20:36 +0000] [168] [INFO] Booting worker with pid: 168\u001b[0m\n",
      "\u001b[35m[2024-11-03 06:20:36 +0000] [177] [INFO] Booting worker with pid: 177\u001b[0m\n",
      "\u001b[35m[2024-11-03 06:20:36 +0000] [186] [INFO] Booting worker with pid: 186\u001b[0m\n",
      "\u001b[35m[2024-11-03 06:20:36 +0000] [195] [INFO] Booting worker with pid: 195\u001b[0m\n",
      "\u001b[34m#metrics {\"StartTime\": 1730614835.98511, \"EndTime\": 1730614837.8311954, \"Dimensions\": {\"Algorithm\": \"LinearLearnerModel\", \"Host\": \"UNKNOWN\", \"Operation\": \"scoring\"}, \"Metrics\": {\"json.encoder.time\": {\"sum\": 115.9672737121582, \"count\": 1, \"min\": 115.9672737121582, \"max\": 115.9672737121582}, \"invocations.count\": {\"sum\": 1.0, \"count\": 1, \"min\": 1, \"max\": 1}}}\u001b[0m\n",
      "\u001b[34m#metrics {\"StartTime\": 1730614835.98511, \"EndTime\": 1730614837.90567, \"Dimensions\": {\"Algorithm\": \"LinearLearnerModel\", \"Host\": \"UNKNOWN\", \"Operation\": \"scoring\"}, \"Metrics\": {\"json.encoder.time\": {\"sum\": 66.22743606567383, \"count\": 1, \"min\": 66.22743606567383, \"max\": 66.22743606567383}, \"invocations.count\": {\"sum\": 1.0, \"count\": 1, \"min\": 1, \"max\": 1}}}\u001b[0m\n",
      "\u001b[34m#metrics {\"StartTime\": 1730614835.98511, \"EndTime\": 1730614837.9099803, \"Dimensions\": {\"Algorithm\": \"LinearLearnerModel\", \"Host\": \"UNKNOWN\", \"Operation\": \"scoring\"}, \"Metrics\": {\"json.encoder.time\": {\"sum\": 63.06910514831543, \"count\": 1, \"min\": 63.06910514831543, \"max\": 63.06910514831543}, \"invocations.count\": {\"sum\": 1.0, \"count\": 1, \"min\": 1, \"max\": 1}}}\u001b[0m\n",
      "\u001b[34m#metrics {\"StartTime\": 1730614835.98511, \"EndTime\": 1730614837.9117017, \"Dimensions\": {\"Algorithm\": \"LinearLearnerModel\", \"Host\": \"UNKNOWN\", \"Operation\": \"scoring\"}, \"Metrics\": {\"json.encoder.time\": {\"sum\": 65.87505340576172, \"count\": 1, \"min\": 65.87505340576172, \"max\": 65.87505340576172}, \"invocations.count\": {\"sum\": 1.0, \"count\": 1, \"min\": 1, \"max\": 1}}}\u001b[0m\n",
      "\u001b[34m#metrics {\"StartTime\": 1730614835.98511, \"EndTime\": 1730614837.91702, \"Dimensions\": {\"Algorithm\": \"LinearLearnerModel\", \"Host\": \"UNKNOWN\", \"Operation\": \"scoring\"}, \"Metrics\": {\"json.encoder.time\": {\"sum\": 66.22982025146484, \"count\": 1, \"min\": 66.22982025146484, \"max\": 66.22982025146484}, \"invocations.count\": {\"sum\": 1.0, \"count\": 1, \"min\": 1, \"max\": 1}}}\u001b[0m\n",
      "\u001b[34m#metrics {\"StartTime\": 1730614835.98511, \"EndTime\": 1730614837.9492066, \"Dimensions\": {\"Algorithm\": \"LinearLearnerModel\", \"Host\": \"UNKNOWN\", \"Operation\": \"scoring\"}, \"Metrics\": {\"json.encoder.time\": {\"sum\": 67.01397895812988, \"count\": 1, \"min\": 67.01397895812988, \"max\": 67.01397895812988}, \"invocations.count\": {\"sum\": 1.0, \"count\": 1, \"min\": 1, \"max\": 1}}}\u001b[0m\n",
      "\u001b[35m#metrics {\"StartTime\": 1730614835.98511, \"EndTime\": 1730614837.8311954, \"Dimensions\": {\"Algorithm\": \"LinearLearnerModel\", \"Host\": \"UNKNOWN\", \"Operation\": \"scoring\"}, \"Metrics\": {\"json.encoder.time\": {\"sum\": 115.9672737121582, \"count\": 1, \"min\": 115.9672737121582, \"max\": 115.9672737121582}, \"invocations.count\": {\"sum\": 1.0, \"count\": 1, \"min\": 1, \"max\": 1}}}\u001b[0m\n",
      "\u001b[35m#metrics {\"StartTime\": 1730614835.98511, \"EndTime\": 1730614837.90567, \"Dimensions\": {\"Algorithm\": \"LinearLearnerModel\", \"Host\": \"UNKNOWN\", \"Operation\": \"scoring\"}, \"Metrics\": {\"json.encoder.time\": {\"sum\": 66.22743606567383, \"count\": 1, \"min\": 66.22743606567383, \"max\": 66.22743606567383}, \"invocations.count\": {\"sum\": 1.0, \"count\": 1, \"min\": 1, \"max\": 1}}}\u001b[0m\n",
      "\u001b[35m#metrics {\"StartTime\": 1730614835.98511, \"EndTime\": 1730614837.9099803, \"Dimensions\": {\"Algorithm\": \"LinearLearnerModel\", \"Host\": \"UNKNOWN\", \"Operation\": \"scoring\"}, \"Metrics\": {\"json.encoder.time\": {\"sum\": 63.06910514831543, \"count\": 1, \"min\": 63.06910514831543, \"max\": 63.06910514831543}, \"invocations.count\": {\"sum\": 1.0, \"count\": 1, \"min\": 1, \"max\": 1}}}\u001b[0m\n",
      "\u001b[35m#metrics {\"StartTime\": 1730614835.98511, \"EndTime\": 1730614837.9117017, \"Dimensions\": {\"Algorithm\": \"LinearLearnerModel\", \"Host\": \"UNKNOWN\", \"Operation\": \"scoring\"}, \"Metrics\": {\"json.encoder.time\": {\"sum\": 65.87505340576172, \"count\": 1, \"min\": 65.87505340576172, \"max\": 65.87505340576172}, \"invocations.count\": {\"sum\": 1.0, \"count\": 1, \"min\": 1, \"max\": 1}}}\u001b[0m\n",
      "\u001b[35m#metrics {\"StartTime\": 1730614835.98511, \"EndTime\": 1730614837.91702, \"Dimensions\": {\"Algorithm\": \"LinearLearnerModel\", \"Host\": \"UNKNOWN\", \"Operation\": \"scoring\"}, \"Metrics\": {\"json.encoder.time\": {\"sum\": 66.22982025146484, \"count\": 1, \"min\": 66.22982025146484, \"max\": 66.22982025146484}, \"invocations.count\": {\"sum\": 1.0, \"count\": 1, \"min\": 1, \"max\": 1}}}\u001b[0m\n",
      "\u001b[35m#metrics {\"StartTime\": 1730614835.98511, \"EndTime\": 1730614837.9492066, \"Dimensions\": {\"Algorithm\": \"LinearLearnerModel\", \"Host\": \"UNKNOWN\", \"Operation\": \"scoring\"}, \"Metrics\": {\"json.encoder.time\": {\"sum\": 67.01397895812988, \"count\": 1, \"min\": 67.01397895812988, \"max\": 67.01397895812988}, \"invocations.count\": {\"sum\": 1.0, \"count\": 1, \"min\": 1, \"max\": 1}}}\u001b[0m\n",
      "\u001b[32m2024-11-03T06:20:36.367:[sagemaker logs]: MaxConcurrentTransforms=16, MaxPayloadInMB=6, BatchStrategy=MULTI_RECORD\u001b[0m\n"
     ]
    }
   ],
   "source": [
    "# Create the transformer object for the Linear Learner model\n",
    "# The transformer handles batch predictions by using the trained model and specified S3 locations for input and output.\n",
    "# We configure the instance count and type for the transform job, as well as data handling strategies.\n",
    "linear_model_transformer = linear_estimator.transformer(\n",
    "    instance_count=1,                       # Number of instances to use for batch transform\n",
    "    instance_type='ml.c5.4xlarge',          # Instance type for the transform job\n",
    "    strategy='MultiRecord',                 # Strategy for combining multiple records into a single batch request\n",
    "    assemble_with='Line',                   # Assembling records by line, suitable for CSV format\n",
    "    output_path=batch_output_path           # S3 path to store the batch prediction results\n",
    ")\n",
    "\n",
    "# Start the batch transform job\n",
    "# This initiates the transform job using the transformer, specifying the input data and content type.\n",
    "linear_model_transformer.transform(\n",
    "    data=batch_input_path,                  # S3 path of input data for batch predictions\n",
    "    data_type='S3Prefix',                   # Type of data in S3 (prefix for files in this case)\n",
    "    content_type='text/csv',                # Content type of input data\n",
    "    split_type='Line',                      # Split records by line (each line represents one data instance)\n",
    "    logs=False                              # Suppress logging during the batch transform job\n",
    ")\n",
    "\n",
    "# Wait for the batch transform job to complete\n",
    "linear_model_transformer.wait()\n"
   ]
  },
  {
   "cell_type": "markdown",
   "metadata": {},
   "source": [
    "# Retrieving and Reading Batch Prediction Results from S3"
   ]
  },
  {
   "cell_type": "code",
   "execution_count": null,
   "metadata": {},
   "outputs": [
    {
     "data": {
      "text/html": [
       "<div>\n",
       "<style scoped>\n",
       "    .dataframe tbody tr th:only-of-type {\n",
       "        vertical-align: middle;\n",
       "    }\n",
       "\n",
       "    .dataframe tbody tr th {\n",
       "        vertical-align: top;\n",
       "    }\n",
       "\n",
       "    .dataframe thead th {\n",
       "        text-align: right;\n",
       "    }\n",
       "</style>\n",
       "<table border=\"1\" class=\"dataframe\">\n",
       "  <thead>\n",
       "    <tr style=\"text-align: right;\">\n",
       "      <th></th>\n",
       "      <th>class</th>\n",
       "    </tr>\n",
       "  </thead>\n",
       "  <tbody>\n",
       "    <tr>\n",
       "      <th>{\"predicted_label\":0</th>\n",
       "      <td>score:0.20226565003395}</td>\n",
       "    </tr>\n",
       "    <tr>\n",
       "      <th>{\"predicted_label\":0</th>\n",
       "      <td>score:0.20329600572586}</td>\n",
       "    </tr>\n",
       "    <tr>\n",
       "      <th>{\"predicted_label\":0</th>\n",
       "      <td>score:0.188853055238723}</td>\n",
       "    </tr>\n",
       "    <tr>\n",
       "      <th>{\"predicted_label\":0</th>\n",
       "      <td>score:0.200587853789329}</td>\n",
       "    </tr>\n",
       "    <tr>\n",
       "      <th>{\"predicted_label\":0</th>\n",
       "      <td>score:0.203493922948837}</td>\n",
       "    </tr>\n",
       "  </tbody>\n",
       "</table>\n",
       "</div>"
      ],
      "text/plain": [
       "                                         class\n",
       "{\"predicted_label\":0   score:0.20226565003395}\n",
       "{\"predicted_label\":0   score:0.20329600572586}\n",
       "{\"predicted_label\":0  score:0.188853055238723}\n",
       "{\"predicted_label\":0  score:0.200587853789329}\n",
       "{\"predicted_label\":0  score:0.203493922948837}"
      ]
     },
     "metadata": {},
     "output_type": "display_data"
    }
   ],
   "source": [
    "# Fetch and read the batch prediction output from S3\n",
    "# This code retrieves the batch transform output file from S3 and reads it into a DataFrame for further analysis.\n",
    "s3_client = boto3.client('s3')\n",
    "# Define the S3 key for the batch output file\n",
    "# This path points to the output folder and file created by the batch transform job.\n",
    "batch_output_key = \"{}/batch-output-linear/{}\".format(s3_prefix, 'batch-input-linear.csv.out')\n",
    "# Fetch the output object from S3\n",
    "# Retrieves the batch prediction results from the specified S3 bucket and key.\n",
    "output_object = s3_client.get_object(Bucket=s3_container_name, Key=batch_output_key)\n",
    "# Read the prediction results into a DataFrame\n",
    "# Loads the output data from the batch transform job into a DataFrame.\n",
    "# The DataFrame is assigned column name 'class' to represent the predicted classes.\n",
    "predicted_target_df = pd.read_csv(io.BytesIO(output_object['Body'].read()), header=None, names=['class'])\n",
    "# Print or further process the predictions\n",
    "# Display the first few rows of predictions to verify results or for further analysis.\n",
    "predicted_target_df.head(5)\n"
   ]
  },
  {
   "cell_type": "markdown",
   "metadata": {},
   "source": [
    "# Extracting and Processing Prediction Results"
   ]
  },
  {
   "cell_type": "code",
   "execution_count": null,
   "metadata": {},
   "outputs": [],
   "source": [
    "# Extract the prediction indices from the DataFrame\n",
    "# This extracts the indices of each prediction result for further processing.\n",
    "predicted_indices = predicted_target_df.index\n",
    "\n",
    "# Example of accessing the last character of the first prediction index\n",
    "# Retrieves the last character from the first index, which might represent a label or identifier.\n",
    "predicted_indices[0][-1]\n",
    "\n",
    "# Extract the middle portion of the first prediction result\n",
    "# Slices the first prediction string to exclude specific characters (used here as an example).\n",
    "predicted_target_df.iloc[0, 0][6:-1]\n",
    "\n",
    "# Define a list of prediction labels based on the indices\n",
    "# Extracts the last character of each index, assuming it represents the prediction label.\n",
    "predicted_labels = [str(pred_index)[-1] for pred_index in predicted_indices]\n",
    "\n",
    "# Define a list of prediction scores based on the DataFrame rows\n",
    "# Extracts the prediction score for each row, excluding specific characters.\n",
    "predicted_scores = [str(row[0])[6:-1] for row in predicted_target_df.itertuples(index=False)]\n",
    "\n",
    "# Convert prediction scores and labels to numeric types\n",
    "# Ensures the extracted scores and labels are in numeric form for further analysis.\n",
    "predicted_scores = pd.to_numeric(predicted_scores)\n",
    "predicted_labels = pd.to_numeric(predicted_labels)\n"
   ]
  },
  {
   "cell_type": "markdown",
   "metadata": {},
   "source": [
    "# Plotting the Confusion Matrix"
   ]
  },
  {
   "cell_type": "code",
   "execution_count": null,
   "metadata": {},
   "outputs": [
    {
     "name": "stderr",
     "output_type": "stream",
     "text": [
      "WARNING:matplotlib.font_manager:Matplotlib is building the font cache; this may take a moment.\n"
     ]
    }
   ],
   "source": [
    "from sklearn.metrics import confusion_matrix\n",
    "import matplotlib.pyplot as plt\n",
    "import seaborn as sns\n",
    "# Function to plot a confusion matrix\n",
    "# This function generates a heatmap to visualize the confusion matrix,\n",
    "# which helps assess the accuracy of classification by comparing actual and predicted labels.\n",
    "def display_confusion_matrix(actual_labels, predicted_labels):\n",
    "    # Generate the confusion matrix\n",
    "    # The matrix compares actual labels with predicted labels to show true positives, false positives, etc.\n",
    "    confusion_mat = confusion_matrix(actual_labels, predicted_labels)\n",
    "    # Create a heatmap for the confusion matrix\n",
    "    # This provides a visual representation of the matrix for easy interpretation.\n",
    "    sns.heatmap(\n",
    "        confusion_mat,\n",
    "        annot=True,               # Display numerical values within each cell\n",
    "        fmt=\"d\",                  # Format as integer values\n",
    "        cmap=\"Blues\",             # Color scheme for the heatmap\n",
    "        xticklabels=[\"On-Time\", \"Delayed\"],  # Labels for the x-axis (predicted outcomes)\n",
    "        yticklabels=[\"On-Time\", \"Delayed\"],  # Labels for the y-axis (actual outcomes)\n",
    "    )\n",
    "    # Label the plot axes and title\n",
    "    plt.xlabel(\"Predicted Labels\")  # Label for the x-axis\n",
    "    plt.ylabel(\"Actual Labels\")     # Label for the y-axis\n",
    "    plt.title(\"Confusion Matrix\")   # Title of the plot\n",
    "    plt.show()                      # Display the plot"
   ]
  },
  {
   "cell_type": "code",
   "execution_count": null,
   "metadata": {},
   "outputs": [
    {
     "data": {
      "image/png": "[encoded data removed]",
      "text/plain": [
       "<Figure size 640x480 with 2 Axes>"
      ]
     },
     "metadata": {},
     "output_type": "display_data"
    }
   ],
   "source": [
    "# Display confusion matrix for the test data\n",
    "# This compares the actual test labels with the predicted labels and visualizes the classification performance.\n",
    "# `test.iloc[:, 0]` extracts the actual labels from the test dataset.\n",
    "display_confusion_matrix(\n",
    "    actual_labels=testing_data.iloc[:, 0],  # Actual labels from the first column of test data\n",
    "    predicted_labels=predicted_labels       # Predicted labels obtained from the model\n",
    ")\n"
   ]
  },
  {
   "cell_type": "markdown",
   "metadata": {},
   "source": [
    "# Generating the Classification Report"
   ]
  },
  {
   "cell_type": "code",
   "execution_count": null,
   "metadata": {},
   "outputs": [
    {
     "name": "stdout",
     "output_type": "stream",
     "text": [
      "Classification Report on Test Data\n",
      "              precision    recall  f1-score   support\n",
      "\n",
      "         0.0       0.79      1.00      0.88    193838\n",
      "         1.0       0.53      0.01      0.01     51500\n",
      "\n",
      "    accuracy                           0.79    245338\n",
      "   macro avg       0.66      0.50      0.45    245338\n",
      "weighted avg       0.74      0.79      0.70    245338\n",
      "\n"
     ]
    }
   ],
   "source": [
    "from sklearn.metrics import classification_report\n",
    "\n",
    "# Generate and display the classification report for the test data\n",
    "# This report provides detailed metrics such as precision, recall, and F1-score\n",
    "# for each class, helping assess the performance of the model.\n",
    "print(\"Classification Report on Test Data\")\n",
    "print(classification_report(\n",
    "    testing_data.iloc[:, 0],    # Actual labels from the first column of test data\n",
    "    predicted_labels             # Predicted labels generated by the model\n",
    "))\n"
   ]
  },
  {
   "cell_type": "markdown",
   "metadata": {},
   "source": [
    "# Linear Model for csv_v2"
   ]
  },
  {
   "cell_type": "markdown",
   "metadata": {},
   "source": [
    "# Loading the Dataset"
   ]
  },
  {
   "cell_type": "code",
   "execution_count": null,
   "metadata": {},
   "outputs": [
    {
     "name": "stdout",
     "output_type": "stream",
     "text": [
      "   target  Distance  AWND_O  PRCP_O  TAVG_O  AWND_D  PRCP_D  TAVG_D  SNOW_O  \\\n",
      "0     0.0     689.0      33       0    54.0      30       0   130.0     0.0   \n",
      "1     0.0     731.0      39       0   136.0      33       0    54.0     0.0   \n",
      "2     0.0    1199.0      33       0    54.0      77       0    68.0     0.0   \n",
      "3     0.0    1587.0      33       0    54.0      20       0   165.0     0.0   \n",
      "4     0.0    1587.0      20       0   165.0      33       0    54.0     0.0   \n",
      "\n",
      "   SNOW_D  ...  Dest_DFW  Dest_IAH  Dest_LAX  Dest_ORD  Dest_PHX  Dest_SFO  \\\n",
      "0     0.0  ...     False      True     False     False     False     False   \n",
      "1     0.0  ...     False     False     False     False     False     False   \n",
      "2     0.0  ...     False     False     False     False     False     False   \n",
      "3     0.0  ...     False     False     False     False      True     False   \n",
      "4     0.0  ...     False     False     False     False     False     False   \n",
      "\n",
      "   is_holiday_True  DepHourofDay_7-12  DepHourofDay_13-18  DepHourofDay_19-23  \n",
      "0            False              False               False                True  \n",
      "1            False               True               False               False  \n",
      "2            False              False               False                True  \n",
      "3            False              False                True               False  \n",
      "4            False               True               False               False  \n",
      "\n",
      "[5 rows x 88 columns]\n",
      "(1635590, 88)\n"
     ]
    }
   ],
   "source": [
    "# Load the data\n",
    "dataset_v2 = pd.read_csv(\"./combined_csv_v2.csv\")\n",
    "\n",
    "print(dataset_v2.head())\n",
    "print(dataset_v2.shape)\n"
   ]
  },
  {
   "cell_type": "markdown",
   "metadata": {},
   "source": [
    "# Creating a Copy of the Dataset"
   ]
  },
  {
   "cell_type": "code",
   "execution_count": null,
   "metadata": {},
   "outputs": [],
   "source": [
    "# Copying the data \n",
    "df = dataset_v2.copy()"
   ]
  },
  {
   "cell_type": "markdown",
   "metadata": {},
   "source": [
    "# Data Transformation: Converting Boolean Values\n"
   ]
  },
  {
   "cell_type": "code",
   "execution_count": null,
   "metadata": {},
   "outputs": [
    {
     "data": {
      "text/html": [
       "<div>\n",
       "<style scoped>\n",
       "    .dataframe tbody tr th:only-of-type {\n",
       "        vertical-align: middle;\n",
       "    }\n",
       "\n",
       "    .dataframe tbody tr th {\n",
       "        vertical-align: top;\n",
       "    }\n",
       "\n",
       "    .dataframe thead th {\n",
       "        text-align: right;\n",
       "    }\n",
       "</style>\n",
       "<table border=\"1\" class=\"dataframe\">\n",
       "  <thead>\n",
       "    <tr style=\"text-align: right;\">\n",
       "      <th></th>\n",
       "      <th>target</th>\n",
       "      <th>Distance</th>\n",
       "      <th>AWND_O</th>\n",
       "      <th>PRCP_O</th>\n",
       "      <th>TAVG_O</th>\n",
       "      <th>AWND_D</th>\n",
       "      <th>PRCP_D</th>\n",
       "      <th>TAVG_D</th>\n",
       "      <th>SNOW_O</th>\n",
       "      <th>SNOW_D</th>\n",
       "      <th>...</th>\n",
       "      <th>Dest_DFW</th>\n",
       "      <th>Dest_IAH</th>\n",
       "      <th>Dest_LAX</th>\n",
       "      <th>Dest_ORD</th>\n",
       "      <th>Dest_PHX</th>\n",
       "      <th>Dest_SFO</th>\n",
       "      <th>is_holiday_True</th>\n",
       "      <th>DepHourofDay_7-12</th>\n",
       "      <th>DepHourofDay_13-18</th>\n",
       "      <th>DepHourofDay_19-23</th>\n",
       "    </tr>\n",
       "  </thead>\n",
       "  <tbody>\n",
       "    <tr>\n",
       "      <th>0</th>\n",
       "      <td>0.0</td>\n",
       "      <td>689.0</td>\n",
       "      <td>33</td>\n",
       "      <td>0</td>\n",
       "      <td>54.0</td>\n",
       "      <td>30</td>\n",
       "      <td>0</td>\n",
       "      <td>130.0</td>\n",
       "      <td>0.0</td>\n",
       "      <td>0.0</td>\n",
       "      <td>...</td>\n",
       "      <td>0</td>\n",
       "      <td>1</td>\n",
       "      <td>0</td>\n",
       "      <td>0</td>\n",
       "      <td>0</td>\n",
       "      <td>0</td>\n",
       "      <td>0</td>\n",
       "      <td>0</td>\n",
       "      <td>0</td>\n",
       "      <td>1</td>\n",
       "    </tr>\n",
       "    <tr>\n",
       "      <th>1</th>\n",
       "      <td>0.0</td>\n",
       "      <td>731.0</td>\n",
       "      <td>39</td>\n",
       "      <td>0</td>\n",
       "      <td>136.0</td>\n",
       "      <td>33</td>\n",
       "      <td>0</td>\n",
       "      <td>54.0</td>\n",
       "      <td>0.0</td>\n",
       "      <td>0.0</td>\n",
       "      <td>...</td>\n",
       "      <td>0</td>\n",
       "      <td>0</td>\n",
       "      <td>0</td>\n",
       "      <td>0</td>\n",
       "      <td>0</td>\n",
       "      <td>0</td>\n",
       "      <td>0</td>\n",
       "      <td>1</td>\n",
       "      <td>0</td>\n",
       "      <td>0</td>\n",
       "    </tr>\n",
       "    <tr>\n",
       "      <th>2</th>\n",
       "      <td>0.0</td>\n",
       "      <td>1199.0</td>\n",
       "      <td>33</td>\n",
       "      <td>0</td>\n",
       "      <td>54.0</td>\n",
       "      <td>77</td>\n",
       "      <td>0</td>\n",
       "      <td>68.0</td>\n",
       "      <td>0.0</td>\n",
       "      <td>0.0</td>\n",
       "      <td>...</td>\n",
       "      <td>0</td>\n",
       "      <td>0</td>\n",
       "      <td>0</td>\n",
       "      <td>0</td>\n",
       "      <td>0</td>\n",
       "      <td>0</td>\n",
       "      <td>0</td>\n",
       "      <td>0</td>\n",
       "      <td>0</td>\n",
       "      <td>1</td>\n",
       "    </tr>\n",
       "    <tr>\n",
       "      <th>3</th>\n",
       "      <td>0.0</td>\n",
       "      <td>1587.0</td>\n",
       "      <td>33</td>\n",
       "      <td>0</td>\n",
       "      <td>54.0</td>\n",
       "      <td>20</td>\n",
       "      <td>0</td>\n",
       "      <td>165.0</td>\n",
       "      <td>0.0</td>\n",
       "      <td>0.0</td>\n",
       "      <td>...</td>\n",
       "      <td>0</td>\n",
       "      <td>0</td>\n",
       "      <td>0</td>\n",
       "      <td>0</td>\n",
       "      <td>1</td>\n",
       "      <td>0</td>\n",
       "      <td>0</td>\n",
       "      <td>0</td>\n",
       "      <td>1</td>\n",
       "      <td>0</td>\n",
       "    </tr>\n",
       "    <tr>\n",
       "      <th>4</th>\n",
       "      <td>0.0</td>\n",
       "      <td>1587.0</td>\n",
       "      <td>20</td>\n",
       "      <td>0</td>\n",
       "      <td>165.0</td>\n",
       "      <td>33</td>\n",
       "      <td>0</td>\n",
       "      <td>54.0</td>\n",
       "      <td>0.0</td>\n",
       "      <td>0.0</td>\n",
       "      <td>...</td>\n",
       "      <td>0</td>\n",
       "      <td>0</td>\n",
       "      <td>0</td>\n",
       "      <td>0</td>\n",
       "      <td>0</td>\n",
       "      <td>0</td>\n",
       "      <td>0</td>\n",
       "      <td>1</td>\n",
       "      <td>0</td>\n",
       "      <td>0</td>\n",
       "    </tr>\n",
       "  </tbody>\n",
       "</table>\n",
       "<p>5 rows × 88 columns</p>\n",
       "</div>"
      ],
      "text/plain": [
       "   target  Distance  AWND_O  PRCP_O  TAVG_O  AWND_D  PRCP_D  TAVG_D  SNOW_O  \\\n",
       "0     0.0     689.0      33       0    54.0      30       0   130.0     0.0   \n",
       "1     0.0     731.0      39       0   136.0      33       0    54.0     0.0   \n",
       "2     0.0    1199.0      33       0    54.0      77       0    68.0     0.0   \n",
       "3     0.0    1587.0      33       0    54.0      20       0   165.0     0.0   \n",
       "4     0.0    1587.0      20       0   165.0      33       0    54.0     0.0   \n",
       "\n",
       "   SNOW_D  ...  Dest_DFW  Dest_IAH  Dest_LAX  Dest_ORD  Dest_PHX  Dest_SFO  \\\n",
       "0     0.0  ...         0         1         0         0         0         0   \n",
       "1     0.0  ...         0         0         0         0         0         0   \n",
       "2     0.0  ...         0         0         0         0         0         0   \n",
       "3     0.0  ...         0         0         0         0         1         0   \n",
       "4     0.0  ...         0         0         0         0         0         0   \n",
       "\n",
       "   is_holiday_True  DepHourofDay_7-12  DepHourofDay_13-18  DepHourofDay_19-23  \n",
       "0                0                  0                   0                   1  \n",
       "1                0                  1                   0                   0  \n",
       "2                0                  0                   0                   1  \n",
       "3                0                  0                   1                   0  \n",
       "4                0                  1                   0                   0  \n",
       "\n",
       "[5 rows x 88 columns]"
      ]
     },
     "metadata": {},
     "output_type": "display_data"
    }
   ],
   "source": [
    "# Replacing True/False with 1/0 directly in df\n",
    "df = df.replace({True: 1, False: 0})\n",
    "df.head(5)\n"
   ]
  },
  {
   "cell_type": "markdown",
   "metadata": {},
   "source": [
    "# Splitting the dataset"
   ]
  },
  {
   "cell_type": "code",
   "execution_count": null,
   "metadata": {},
   "outputs": [],
   "source": [
    "# Split the data into training and a combined testing/validation set (70% train, 30% test/validate)\n",
    "training_data, testing_validation_data = train_test_split(\n",
    "    df, test_size=0.3, random_state=42, stratify=df[\"target\"]\n",
    ")\n",
    "\n",
    "# Further split the testing_validation_data set into separate testing and validation sets (15% each of the original data)\n",
    "testing_data, validation_data = train_test_split(\n",
    "    testing_validation_data,\n",
    "    test_size=0.5,\n",
    "    random_state=42,\n",
    "    stratify=testing_validation_data[\"target\"],\n",
    ")\n"
   ]
  },
  {
   "cell_type": "code",
   "execution_count": null,
   "metadata": {},
   "outputs": [
    {
     "name": "stdout",
     "output_type": "stream",
     "text": [
      "(1144913, 88)\n",
      "(245338, 88)\n",
      "(245339, 88)\n"
     ]
    }
   ],
   "source": [
    "# Printing the shapes of each set \n",
    "print(training_data.shape)\n",
    "print(testing_data.shape)\n",
    "print(validation_data.shape)\n"
   ]
  },
  {
   "cell_type": "markdown",
   "metadata": {},
   "source": [
    "# Defining File Names for Data Subsets"
   ]
  },
  {
   "cell_type": "code",
   "execution_count": null,
   "metadata": {},
   "outputs": [],
   "source": [
    "# Set the names of the CSV files for each data subset\n",
    "# These file names will be used to save the training, testing, and validation datasets \n",
    "# as CSV files, allowing for easy upload to S3 and subsequent use in modeling.\n",
    "training_file_name = \"data_v1_train.csv\"      # Filename for the training dataset\n",
    "testing_file_name = \"data_v1_test.csv\"        # Filename for the testing dataset\n",
    "validation_file_name = \"data_v1_validate.csv\" # Filename for the validation dataset\n"
   ]
  },
  {
   "cell_type": "markdown",
   "metadata": {},
   "source": [
    "# Preparing Data for SageMaker Training\n",
    "\n",
    "The transform_data_for_sagemaker function converts a DataFrame into a SageMaker-compatible format. It separates feature vectors and target labels, storing them in an in-memory binary buffer. This format is optimized for SageMaker’s training processes."
   ]
  },
  {
   "cell_type": "code",
   "execution_count": null,
   "metadata": {},
   "outputs": [],
   "source": [
    "import io\n",
    "import numpy as np\n",
    "import sagemaker.amazon.common as smac\n",
    "\n",
    "# Function to prepare data for SageMaker training\n",
    "# This function converts a dataframe into a format suitable for SageMaker training,\n",
    "# separating features (input data) and labels (target values) and storing them in \n",
    "# an in-memory binary buffer that SageMaker can efficiently use.\n",
    "def transform_data_for_sagemaker(input_df):\n",
    "    # Extract feature vectors by dropping the target column and converting to float32\n",
    "    feature_vectors = input_df.drop(columns=[\"target\"]).values.astype(\"float32\")\n",
    "    # Extract target labels from the target column and convert to float32\n",
    "    target_labels = input_df[\"target\"].values.astype(\"float32\")\n",
    "    # Initialize an in-memory binary stream buffer to hold the transformed data\n",
    "    memory_buffer = io.BytesIO()\n",
    "    # Use SageMaker's utility function to write data in dense tensor format into the buffer\n",
    "    smac.write_numpy_to_dense_tensor(memory_buffer, feature_vectors, target_labels)\n",
    "    # Reset buffer position to the start to allow SageMaker to read from the beginning\n",
    "    memory_buffer.seek(0)\n",
    "    # Return the in-memory buffer ready for SageMaker ingestion\n",
    "    return memory_buffer\n"
   ]
  },
  {
   "cell_type": "code",
   "execution_count": null,
   "metadata": {},
   "outputs": [],
   "source": [
    "# Function to upload a data buffer to S3\n",
    "# This function takes an in-memory buffer, S3 bucket, prefix, and data type (e.g., train, test),\n",
    "# and uploads the data in 'recordIO' format to a specified location in the S3 bucket.\n",
    "\n",
    "def upload_buffer_to_s3(data_buffer, s3_bucket, s3_prefix, data_type):\n",
    "    # Set a fixed S3 key (filename) for the data\n",
    "    s3_key_name = \"recordio-pb-data\"\n",
    "    \n",
    "    # Perform the upload to the specified S3 bucket and path\n",
    "    boto3.resource(\"s3\").Bucket(s3_bucket).Object(\n",
    "        os.path.join(s3_prefix, data_type, s3_key_name)\n",
    "    ).upload_fileobj(data_buffer)\n",
    "    \n",
    "    # Construct and print the S3 path where the data has been uploaded\n",
    "    s3_data_path = \"s3://{}/{}/{}/{}\".format(s3_bucket, s3_prefix, data_type, s3_key_name)\n",
    "    print(\"Uploaded {} data to location: {}\".format(data_type, s3_data_path))\n",
    "    \n",
    "    # Return the S3 path for reference\n",
    "    return s3_data_path"
   ]
  },
  {
   "cell_type": "markdown",
   "metadata": {},
   "source": [
    "# Uploading Data Buffer to S3"
   ]
  },
  {
   "cell_type": "code",
   "execution_count": null,
   "metadata": {},
   "outputs": [
    {
     "name": "stdout",
     "output_type": "stream",
     "text": [
      "Uploaded train data to location: s3://u3265713-uni-can-dsts-assn1/oncloud/train/recordio-pb-data\n",
      "Uploaded validate data to location: s3://u3265713-uni-can-dsts-assn1/oncloud/validate/recordio-pb-data\n"
     ]
    }
   ],
   "source": [
    "# Prepare training data buffer for SageMaker\n",
    "# Converts the training dataset into a format suitable for SageMaker and stores it in an in-memory buffer\n",
    "training_data_buffer = transform_data_for_sagemaker(training_data)\n",
    "# Upload the training data buffer to S3\n",
    "# This uploads the training buffer to the specified S3 bucket under the prefix path for \"train\" data\n",
    "s3_training_data_path = upload_buffer_to_s3(training_data_buffer, s3_container_name, s3_prefix, \"train\")\n",
    "# Prepare validation data buffer for SageMaker\n",
    "# Converts the validation dataset into a SageMaker-compatible format and stores it in an in-memory buffer\n",
    "validation_data_buffer = transform_data_for_sagemaker(validation_data)\n",
    "# Upload the validation data buffer to S3\n",
    "# This uploads the validation buffer to the specified S3 bucket under the prefix path for \"validate\" data\n",
    "s3_validation_data_path = upload_buffer_to_s3(validation_data_buffer, s3_container_name, s3_prefix, \"validate\")\n"
   ]
  },
  {
   "cell_type": "markdown",
   "metadata": {},
   "source": [
    "# Setting the S3 Output Location for Training Artifacts"
   ]
  },
  {
   "cell_type": "code",
   "execution_count": null,
   "metadata": {},
   "outputs": [
    {
     "name": "stdout",
     "output_type": "stream",
     "text": [
      "Training artifacts will be uploaded to: s3://u3265713-uni-can-dsts-assn1/oncloud/output\n"
     ]
    }
   ],
   "source": [
    "# Define the S3 output location for training artifacts\n",
    "# This path specifies where SageMaker should store the output artifacts after training is complete.\n",
    "# The output location is set under the specified S3 bucket and prefix, organized in an \"output\" folder.\n",
    "output_artifact_location = \"s3://{}/{}/output\".format(s3_container_name, s3_prefix)\n",
    "# Print the S3 path where training artifacts will be uploaded\n",
    "print(\"Training artifacts will be uploaded to: {}\".format(output_artifact_location))\n"
   ]
  },
  {
   "cell_type": "markdown",
   "metadata": {},
   "source": [
    "# Retrieving the SageMaker Container Image URI"
   ]
  },
  {
   "cell_type": "code",
   "execution_count": null,
   "metadata": {},
   "outputs": [],
   "source": [
    "from sagemaker.image_uris import retrieve\n",
    "# Retrieve the container image URI for the SageMaker algorithm\n",
    "# This retrieves the URI for the specified algorithm container (linear-learner) in the given AWS region.\n",
    "# The container image is needed to launch the training job on SageMaker using the specified algorithm.\n",
    "model_container_uri = retrieve(\"linear-learner\", \"us-east-1\")\n"
   ]
  },
  {
   "cell_type": "markdown",
   "metadata": {},
   "source": [
    "# Setting Up and Running the SageMaker Training Job"
   ]
  },
  {
   "cell_type": "code",
   "execution_count": null,
   "metadata": {},
   "outputs": [
    {
     "name": "stderr",
     "output_type": "stream",
     "text": [
      "INFO:botocore.credentials:Found credentials from IAM Role: BaseNotebookInstanceEc2InstanceRole\n",
      "WARNING:sagemaker.deprecations:train_instance_count has been renamed in sagemaker>=2.\n",
      "See: https://sagemaker.readthedocs.io/en/stable/v2.html for details.\n",
      "WARNING:sagemaker.deprecations:train_instance_type has been renamed in sagemaker>=2.\n",
      "See: https://sagemaker.readthedocs.io/en/stable/v2.html for details.\n",
      "INFO:sagemaker:Creating training-job with name: linear-learner-2024-11-03-06-14-33-608\n"
     ]
    },
    {
     "name": "stdout",
     "output_type": "stream",
     "text": [
      "\n",
      "2024-11-03 06:14:34 Starting - Starting the training job..\n",
      "2024-11-03 06:14:49 Starting - Preparing the instances for training...\n",
      "2024-11-03 06:15:14 Downloading - Downloading input data.....\n",
      "2024-11-03 06:15:44 Downloading - Downloading the training image..........\n",
      "2024-11-03 06:16:35 Training - Training image download completed. Training in progress..............................................................................\n",
      "2024-11-03 06:23:12 Uploading - Uploading generated training model..\n",
      "2024-11-03 06:23:25 Completed - Training job completed\n"
     ]
    }
   ],
   "source": [
    "# Create a SageMaker session\n",
    "# This session is initialized with the specified region (us-east-1) to match the region of the S3 bucket.\n",
    "# It will manage the communication with AWS services for the training job.\n",
    "sagemaker_session = sagemaker.Session(boto3.session.Session(region_name=\"us-east-1\"))\n",
    "# Retrieve the IAM role for SageMaker\n",
    "# The role grants SageMaker permissions to access AWS resources such as S3.\n",
    "execution_role = sagemaker.get_execution_role()\n",
    "# Set up the SageMaker Estimator for training a linear model\n",
    "# This estimator is configured with the model container URI, IAM role, instance count, instance type,\n",
    "# output path for training artifacts, and the SageMaker session.\n",
    "linear_estimator = sagemaker.estimator.Estimator(\n",
    "    model_container_uri,            # Container URI for the chosen algorithm (linear-learner)\n",
    "    execution_role,                 # IAM role for SageMaker permissions\n",
    "    train_instance_count=1,         # Number of instances for training (1 in this case)\n",
    "    train_instance_type=\"ml.c5.4xlarge\",  # Instance type for training\n",
    "    output_path=output_artifact_location, # S3 location for output artifacts\n",
    "    sagemaker_session=sagemaker_session  # Session for AWS resource management\n",
    ")\n",
    "# Set hyperparameters for the linear model\n",
    "# Here, we specify the feature dimension and the type of predictor (binary classifier).\n",
    "linear_estimator.set_hyperparameters(feature_dim=87, predictor_type=\"binary_classifier\")\n",
    "# Start the training job on SageMaker\n",
    "# The training data and validation data are passed as input channels to the estimator.\n",
    "# Setting logs=False suppresses detailed logging during training.\n",
    "linear_estimator.fit({\"train\": s3_training_data_path, \"validation\": s3_validation_data_path}, logs=False)\n"
   ]
  },
  {
   "cell_type": "markdown",
   "metadata": {},
   "source": [
    "# Preparing and Uploading Data for Batch Prediction"
   ]
  },
  {
   "cell_type": "code",
   "execution_count": null,
   "metadata": {},
   "outputs": [
    {
     "name": "stdout",
     "output_type": "stream",
     "text": [
      "s3.Bucket(name='u3265713-uni-can-dsts-assn1')\n"
     ]
    }
   ],
   "source": [
    "# Prepare the input data for batch prediction\n",
    "# This selects all columns except the target from the test data for predictions.\n",
    "# The data will be saved in a CSV format for batch processing on SageMaker.\n",
    "batch_input_data_df = testing_data.iloc[:, 1:]         # Exclude target column for batch prediction\n",
    "batch_input_file_name = 'batch-input-linear.csv'       # Name for the batch input CSV file\n",
    "\n",
    "# Upload the batch input data CSV to S3\n",
    "# This function uploads the batch prediction input file to a specific S3 location.\n",
    "upload_csv_to_s3(batch_input_file_name, 'batch-input-folder', batch_input_data_df)\n",
    "\n",
    "# Define S3 paths for batch input and output\n",
    "# The batch_output_path specifies where SageMaker should store the prediction results.\n",
    "# The batch_input_path points to the location of the uploaded CSV file in S3.\n",
    "batch_output_path = \"s3://{}/{}/batch-output-linear/\".format(s3_container_name, s3_prefix)\n",
    "batch_input_path = \"s3://{}/{}/batch-input-folder/{}\".format(s3_container_name, s3_prefix, batch_input_file_name)\n",
    "\n"
   ]
  },
  {
   "cell_type": "markdown",
   "metadata": {},
   "source": [
    "# Setting Up and Running the Batch Transform Job\n"
   ]
  },
  {
   "cell_type": "code",
   "execution_count": null,
   "metadata": {},
   "outputs": [
    {
     "name": "stderr",
     "output_type": "stream",
     "text": [
      "INFO:sagemaker:Creating model with name: linear-learner-2024-11-03-06-26-23-250\n",
      "INFO:sagemaker:Creating transform job with name: linear-learner-2024-11-03-06-26-23-948\n"
     ]
    },
    {
     "name": "stdout",
     "output_type": "stream",
     "text": [
      "............................................................................!\n",
      "\u001b[34mDocker entrypoint called with argument(s): serve\u001b[0m\n",
      "\u001b[34mRunning default environment configuration script\u001b[0m\n",
      "\u001b[34m[11/03/2024 06:32:44 INFO 140695326340928] Memory profiler is not enabled by the environment variable ENABLE_PROFILER.\u001b[0m\n",
      "\u001b[35mDocker entrypoint called with argument(s): serve\u001b[0m\n",
      "\u001b[35mRunning default environment configuration script\u001b[0m\n",
      "\u001b[35m[11/03/2024 06:32:44 INFO 140695326340928] Memory profiler is not enabled by the environment variable ENABLE_PROFILER.\u001b[0m\n",
      "\u001b[34m/opt/amazon/lib/python3.8/site-packages/mxnet/model.py:97: SyntaxWarning: \"is\" with a literal. Did you mean \"==\"?\n",
      "  if num_device is 1 and 'dist' not in kvstore:\u001b[0m\n",
      "\u001b[34m/opt/amazon/lib/python3.8/site-packages/scipy/optimize/_shgo.py:495: SyntaxWarning: \"is\" with a literal. Did you mean \"==\"?\n",
      "  if cons['type'] is 'ineq':\u001b[0m\n",
      "\u001b[34m/opt/amazon/lib/python3.8/site-packages/scipy/optimize/_shgo.py:743: SyntaxWarning: \"is not\" with a literal. Did you mean \"!=\"?\n",
      "  if len(self.X_min) is not 0:\u001b[0m\n",
      "\u001b[35m/opt/amazon/lib/python3.8/site-packages/mxnet/model.py:97: SyntaxWarning: \"is\" with a literal. Did you mean \"==\"?\n",
      "  if num_device is 1 and 'dist' not in kvstore:\u001b[0m\n",
      "\u001b[35m/opt/amazon/lib/python3.8/site-packages/scipy/optimize/_shgo.py:495: SyntaxWarning: \"is\" with a literal. Did you mean \"==\"?\n",
      "  if cons['type'] is 'ineq':\u001b[0m\n",
      "\u001b[35m/opt/amazon/lib/python3.8/site-packages/scipy/optimize/_shgo.py:743: SyntaxWarning: \"is not\" with a literal. Did you mean \"!=\"?\n",
      "  if len(self.X_min) is not 0:\u001b[0m\n",
      "\u001b[34m[11/03/2024 06:32:46 WARNING 140695326340928] Loggers have already been setup.\u001b[0m\n",
      "\u001b[34m[11/03/2024 06:32:46 INFO 140695326340928] loaded entry point class algorithm.serve.server_config:config_api\u001b[0m\n",
      "\u001b[34m[11/03/2024 06:32:46 INFO 140695326340928] loading entry points\u001b[0m\n",
      "\u001b[34m[11/03/2024 06:32:46 INFO 140695326340928] loaded request iterator application/json\u001b[0m\n",
      "\u001b[34m[11/03/2024 06:32:46 INFO 140695326340928] loaded request iterator application/jsonlines\u001b[0m\n",
      "\u001b[34m[11/03/2024 06:32:46 INFO 140695326340928] loaded request iterator application/x-recordio-protobuf\u001b[0m\n",
      "\u001b[35m[11/03/2024 06:32:46 WARNING 140695326340928] Loggers have already been setup.\u001b[0m\n",
      "\u001b[35m[11/03/2024 06:32:46 INFO 140695326340928] loaded entry point class algorithm.serve.server_config:config_api\u001b[0m\n",
      "\u001b[35m[11/03/2024 06:32:46 INFO 140695326340928] loading entry points\u001b[0m\n",
      "\u001b[35m[11/03/2024 06:32:46 INFO 140695326340928] loaded request iterator application/json\u001b[0m\n",
      "\u001b[35m[11/03/2024 06:32:46 INFO 140695326340928] loaded request iterator application/jsonlines\u001b[0m\n",
      "\u001b[35m[11/03/2024 06:32:46 INFO 140695326340928] loaded request iterator application/x-recordio-protobuf\u001b[0m\n",
      "\u001b[34m[11/03/2024 06:32:46 INFO 140695326340928] loaded request iterator text/csv\u001b[0m\n",
      "\u001b[34m[11/03/2024 06:32:46 INFO 140695326340928] loaded response encoder application/json\u001b[0m\n",
      "\u001b[34m[11/03/2024 06:32:46 INFO 140695326340928] loaded response encoder application/jsonlines\u001b[0m\n",
      "\u001b[34m[11/03/2024 06:32:46 INFO 140695326340928] loaded response encoder application/x-recordio-protobuf\u001b[0m\n",
      "\u001b[34m[11/03/2024 06:32:46 INFO 140695326340928] loaded response encoder text/csv\u001b[0m\n",
      "\u001b[35m[11/03/2024 06:32:46 INFO 140695326340928] loaded request iterator text/csv\u001b[0m\n",
      "\u001b[35m[11/03/2024 06:32:46 INFO 140695326340928] loaded response encoder application/json\u001b[0m\n",
      "\u001b[35m[11/03/2024 06:32:46 INFO 140695326340928] loaded response encoder application/jsonlines\u001b[0m\n",
      "\u001b[35m[11/03/2024 06:32:46 INFO 140695326340928] loaded response encoder application/x-recordio-protobuf\u001b[0m\n",
      "\u001b[35m[11/03/2024 06:32:46 INFO 140695326340928] loaded response encoder text/csv\u001b[0m\n",
      "\u001b[34m[11/03/2024 06:32:46 INFO 140695326340928] loaded entry point class algorithm:model\u001b[0m\n",
      "\u001b[34m[11/03/2024 06:32:46 INFO 140695326340928] Number of server workers: 16\u001b[0m\n",
      "\u001b[34m[11/03/2024 06:32:46 INFO 140695326340928] loading model...\u001b[0m\n",
      "\u001b[34m[11/03/2024 06:32:46 INFO 140695326340928] ...model loaded.\u001b[0m\n",
      "\u001b[34m[2024-11-03 06:32:46 +0000] [1] [INFO] Starting gunicorn 20.1.0\u001b[0m\n",
      "\u001b[34m[2024-11-03 06:32:46 +0000] [1] [INFO] Listening at: http://0.0.0.0:8080 (1)\u001b[0m\n",
      "\u001b[34m[2024-11-03 06:32:46 +0000] [1] [INFO] Using worker: sync\u001b[0m\n",
      "\u001b[34m[2024-11-03 06:32:46 +0000] [61] [INFO] Booting worker with pid: 61\u001b[0m\n",
      "\u001b[34m[2024-11-03 06:32:46 +0000] [70] [INFO] Booting worker with pid: 70\u001b[0m\n",
      "\u001b[34m[2024-11-03 06:32:46 +0000] [79] [INFO] Booting worker with pid: 79\u001b[0m\n",
      "\u001b[34m[2024-11-03 06:32:46 +0000] [88] [INFO] Booting worker with pid: 88\u001b[0m\n",
      "\u001b[34m[2024-11-03 06:32:47 +0000] [97] [INFO] Booting worker with pid: 97\u001b[0m\n",
      "\u001b[34m[2024-11-03 06:32:47 +0000] [106] [INFO] Booting worker with pid: 106\u001b[0m\n",
      "\u001b[34m#metrics {\"StartTime\": 1730615566.7774832, \"EndTime\": 1730615567.1497211, \"Dimensions\": {\"Algorithm\": \"LinearLearnerModel\", \"Host\": \"UNKNOWN\", \"Operation\": \"scoring\"}, \"Metrics\": {\"execution_parameters.count\": {\"sum\": 1.0, \"count\": 1, \"min\": 1, \"max\": 1}}}\u001b[0m\n",
      "\u001b[34m[2024-11-03 06:32:47 +0000] [115] [INFO] Booting worker with pid: 115\u001b[0m\n",
      "\u001b[34m[2024-11-03 06:32:47 +0000] [124] [INFO] Booting worker with pid: 124\u001b[0m\n",
      "\u001b[35m[11/03/2024 06:32:46 INFO 140695326340928] loaded entry point class algorithm:model\u001b[0m\n",
      "\u001b[35m[11/03/2024 06:32:46 INFO 140695326340928] Number of server workers: 16\u001b[0m\n",
      "\u001b[35m[11/03/2024 06:32:46 INFO 140695326340928] loading model...\u001b[0m\n",
      "\u001b[35m[11/03/2024 06:32:46 INFO 140695326340928] ...model loaded.\u001b[0m\n",
      "\u001b[35m[2024-11-03 06:32:46 +0000] [1] [INFO] Starting gunicorn 20.1.0\u001b[0m\n",
      "\u001b[35m[2024-11-03 06:32:46 +0000] [1] [INFO] Listening at: http://0.0.0.0:8080 (1)\u001b[0m\n",
      "\u001b[35m[2024-11-03 06:32:46 +0000] [1] [INFO] Using worker: sync\u001b[0m\n",
      "\u001b[35m[2024-11-03 06:32:46 +0000] [61] [INFO] Booting worker with pid: 61\u001b[0m\n",
      "\u001b[35m[2024-11-03 06:32:46 +0000] [70] [INFO] Booting worker with pid: 70\u001b[0m\n",
      "\u001b[35m[2024-11-03 06:32:46 +0000] [79] [INFO] Booting worker with pid: 79\u001b[0m\n",
      "\u001b[35m[2024-11-03 06:32:46 +0000] [88] [INFO] Booting worker with pid: 88\u001b[0m\n",
      "\u001b[35m[2024-11-03 06:32:47 +0000] [97] [INFO] Booting worker with pid: 97\u001b[0m\n",
      "\u001b[35m[2024-11-03 06:32:47 +0000] [106] [INFO] Booting worker with pid: 106\u001b[0m\n",
      "\u001b[35m#metrics {\"StartTime\": 1730615566.7774832, \"EndTime\": 1730615567.1497211, \"Dimensions\": {\"Algorithm\": \"LinearLearnerModel\", \"Host\": \"UNKNOWN\", \"Operation\": \"scoring\"}, \"Metrics\": {\"execution_parameters.count\": {\"sum\": 1.0, \"count\": 1, \"min\": 1, \"max\": 1}}}\u001b[0m\n",
      "\u001b[35m[2024-11-03 06:32:47 +0000] [115] [INFO] Booting worker with pid: 115\u001b[0m\n",
      "\u001b[35m[2024-11-03 06:32:47 +0000] [124] [INFO] Booting worker with pid: 124\u001b[0m\n",
      "\u001b[34m[2024-11-03 06:32:47 +0000] [133] [INFO] Booting worker with pid: 133\u001b[0m\n",
      "\u001b[34m[2024-11-03 06:32:47 +0000] [142] [INFO] Booting worker with pid: 142\u001b[0m\n",
      "\u001b[34m[2024-11-03 06:32:47 +0000] [151] [INFO] Booting worker with pid: 151\u001b[0m\n",
      "\u001b[34m[2024-11-03 06:32:47 +0000] [160] [INFO] Booting worker with pid: 160\u001b[0m\n",
      "\u001b[34m[2024-11-03 06:32:47 +0000] [169] [INFO] Booting worker with pid: 169\u001b[0m\n",
      "\u001b[34m[2024-11-03 06:32:47 +0000] [178] [INFO] Booting worker with pid: 178\u001b[0m\n",
      "\u001b[34m[2024-11-03 06:32:47 +0000] [187] [INFO] Booting worker with pid: 187\u001b[0m\n",
      "\u001b[35m[2024-11-03 06:32:47 +0000] [133] [INFO] Booting worker with pid: 133\u001b[0m\n",
      "\u001b[35m[2024-11-03 06:32:47 +0000] [142] [INFO] Booting worker with pid: 142\u001b[0m\n",
      "\u001b[35m[2024-11-03 06:32:47 +0000] [151] [INFO] Booting worker with pid: 151\u001b[0m\n",
      "\u001b[35m[2024-11-03 06:32:47 +0000] [160] [INFO] Booting worker with pid: 160\u001b[0m\n",
      "\u001b[35m[2024-11-03 06:32:47 +0000] [169] [INFO] Booting worker with pid: 169\u001b[0m\n",
      "\u001b[35m[2024-11-03 06:32:47 +0000] [178] [INFO] Booting worker with pid: 178\u001b[0m\n",
      "\u001b[35m[2024-11-03 06:32:47 +0000] [187] [INFO] Booting worker with pid: 187\u001b[0m\n",
      "\u001b[34m[2024-11-03 06:32:47 +0000] [196] [INFO] Booting worker with pid: 196\u001b[0m\n",
      "\u001b[34m#metrics {\"StartTime\": 1730615566.7774832, \"EndTime\": 1730615568.7056515, \"Dimensions\": {\"Algorithm\": \"LinearLearnerModel\", \"Host\": \"UNKNOWN\", \"Operation\": \"scoring\"}, \"Metrics\": {\"json.encoder.time\": {\"sum\": 53.22265625, \"count\": 1, \"min\": 53.22265625, \"max\": 53.22265625}, \"invocations.count\": {\"sum\": 1.0, \"count\": 1, \"min\": 1, \"max\": 1}}}\u001b[0m\n",
      "\u001b[35m[2024-11-03 06:32:47 +0000] [196] [INFO] Booting worker with pid: 196\u001b[0m\n",
      "\u001b[35m#metrics {\"StartTime\": 1730615566.7774832, \"EndTime\": 1730615568.7056515, \"Dimensions\": {\"Algorithm\": \"LinearLearnerModel\", \"Host\": \"UNKNOWN\", \"Operation\": \"scoring\"}, \"Metrics\": {\"json.encoder.time\": {\"sum\": 53.22265625, \"count\": 1, \"min\": 53.22265625, \"max\": 53.22265625}, \"invocations.count\": {\"sum\": 1.0, \"count\": 1, \"min\": 1, \"max\": 1}}}\u001b[0m\n",
      "\u001b[34m#metrics {\"StartTime\": 1730615566.7774832, \"EndTime\": 1730615568.9585853, \"Dimensions\": {\"Algorithm\": \"LinearLearnerModel\", \"Host\": \"UNKNOWN\", \"Operation\": \"scoring\"}, \"Metrics\": {\"json.encoder.time\": {\"sum\": 97.59116172790527, \"count\": 1, \"min\": 97.59116172790527, \"max\": 97.59116172790527}, \"invocations.count\": {\"sum\": 1.0, \"count\": 1, \"min\": 1, \"max\": 1}}}\u001b[0m\n",
      "\u001b[34m#metrics {\"StartTime\": 1730615566.7774832, \"EndTime\": 1730615569.036201, \"Dimensions\": {\"Algorithm\": \"LinearLearnerModel\", \"Host\": \"UNKNOWN\", \"Operation\": \"scoring\"}, \"Metrics\": {\"json.encoder.time\": {\"sum\": 127.27808952331543, \"count\": 1, \"min\": 127.27808952331543, \"max\": 127.27808952331543}, \"invocations.count\": {\"sum\": 1.0, \"count\": 1, \"min\": 1, \"max\": 1}}}\u001b[0m\n",
      "\u001b[34m#metrics {\"StartTime\": 1730615566.7774832, \"EndTime\": 1730615569.1711702, \"Dimensions\": {\"Algorithm\": \"LinearLearnerModel\", \"Host\": \"UNKNOWN\", \"Operation\": \"scoring\"}, \"Metrics\": {\"json.encoder.time\": {\"sum\": 184.54980850219727, \"count\": 1, \"min\": 184.54980850219727, \"max\": 184.54980850219727}, \"invocations.count\": {\"sum\": 1.0, \"count\": 1, \"min\": 1, \"max\": 1}}}\u001b[0m\n",
      "\u001b[34m#metrics {\"StartTime\": 1730615566.7774832, \"EndTime\": 1730615569.2641387, \"Dimensions\": {\"Algorithm\": \"LinearLearnerModel\", \"Host\": \"UNKNOWN\", \"Operation\": \"scoring\"}, \"Metrics\": {\"json.encoder.time\": {\"sum\": 142.5497531890869, \"count\": 1, \"min\": 142.5497531890869, \"max\": 142.5497531890869}, \"invocations.count\": {\"sum\": 1.0, \"count\": 1, \"min\": 1, \"max\": 1}}}\u001b[0m\n",
      "\u001b[34m#metrics {\"StartTime\": 1730615566.7774832, \"EndTime\": 1730615569.3404112, \"Dimensions\": {\"Algorithm\": \"LinearLearnerModel\", \"Host\": \"UNKNOWN\", \"Operation\": \"scoring\"}, \"Metrics\": {\"json.encoder.time\": {\"sum\": 54.30173873901367, \"count\": 1, \"min\": 54.30173873901367, \"max\": 54.30173873901367}, \"invocations.count\": {\"sum\": 1.0, \"count\": 1, \"min\": 1, \"max\": 1}}}\u001b[0m\n",
      "\u001b[35m#metrics {\"StartTime\": 1730615566.7774832, \"EndTime\": 1730615568.9585853, \"Dimensions\": {\"Algorithm\": \"LinearLearnerModel\", \"Host\": \"UNKNOWN\", \"Operation\": \"scoring\"}, \"Metrics\": {\"json.encoder.time\": {\"sum\": 97.59116172790527, \"count\": 1, \"min\": 97.59116172790527, \"max\": 97.59116172790527}, \"invocations.count\": {\"sum\": 1.0, \"count\": 1, \"min\": 1, \"max\": 1}}}\u001b[0m\n",
      "\u001b[35m#metrics {\"StartTime\": 1730615566.7774832, \"EndTime\": 1730615569.036201, \"Dimensions\": {\"Algorithm\": \"LinearLearnerModel\", \"Host\": \"UNKNOWN\", \"Operation\": \"scoring\"}, \"Metrics\": {\"json.encoder.time\": {\"sum\": 127.27808952331543, \"count\": 1, \"min\": 127.27808952331543, \"max\": 127.27808952331543}, \"invocations.count\": {\"sum\": 1.0, \"count\": 1, \"min\": 1, \"max\": 1}}}\u001b[0m\n",
      "\u001b[35m#metrics {\"StartTime\": 1730615566.7774832, \"EndTime\": 1730615569.1711702, \"Dimensions\": {\"Algorithm\": \"LinearLearnerModel\", \"Host\": \"UNKNOWN\", \"Operation\": \"scoring\"}, \"Metrics\": {\"json.encoder.time\": {\"sum\": 184.54980850219727, \"count\": 1, \"min\": 184.54980850219727, \"max\": 184.54980850219727}, \"invocations.count\": {\"sum\": 1.0, \"count\": 1, \"min\": 1, \"max\": 1}}}\u001b[0m\n",
      "\u001b[35m#metrics {\"StartTime\": 1730615566.7774832, \"EndTime\": 1730615569.2641387, \"Dimensions\": {\"Algorithm\": \"LinearLearnerModel\", \"Host\": \"UNKNOWN\", \"Operation\": \"scoring\"}, \"Metrics\": {\"json.encoder.time\": {\"sum\": 142.5497531890869, \"count\": 1, \"min\": 142.5497531890869, \"max\": 142.5497531890869}, \"invocations.count\": {\"sum\": 1.0, \"count\": 1, \"min\": 1, \"max\": 1}}}\u001b[0m\n",
      "\u001b[35m#metrics {\"StartTime\": 1730615566.7774832, \"EndTime\": 1730615569.3404112, \"Dimensions\": {\"Algorithm\": \"LinearLearnerModel\", \"Host\": \"UNKNOWN\", \"Operation\": \"scoring\"}, \"Metrics\": {\"json.encoder.time\": {\"sum\": 54.30173873901367, \"count\": 1, \"min\": 54.30173873901367, \"max\": 54.30173873901367}, \"invocations.count\": {\"sum\": 1.0, \"count\": 1, \"min\": 1, \"max\": 1}}}\u001b[0m\n",
      "\u001b[34m#metrics {\"StartTime\": 1730615566.7774832, \"EndTime\": 1730615569.3489466, \"Dimensions\": {\"Algorithm\": \"LinearLearnerModel\", \"Host\": \"UNKNOWN\", \"Operation\": \"scoring\"}, \"Metrics\": {\"json.encoder.time\": {\"sum\": 54.91781234741211, \"count\": 1, \"min\": 54.91781234741211, \"max\": 54.91781234741211}, \"invocations.count\": {\"sum\": 1.0, \"count\": 1, \"min\": 1, \"max\": 1}}}\u001b[0m\n",
      "\u001b[34m#metrics {\"StartTime\": 1730615566.7774832, \"EndTime\": 1730615569.3491304, \"Dimensions\": {\"Algorithm\": \"LinearLearnerModel\", \"Host\": \"UNKNOWN\", \"Operation\": \"scoring\"}, \"Metrics\": {\"json.encoder.time\": {\"sum\": 54.208993911743164, \"count\": 1, \"min\": 54.208993911743164, \"max\": 54.208993911743164}, \"invocations.count\": {\"sum\": 1.0, \"count\": 1, \"min\": 1, \"max\": 1}}}\u001b[0m\n",
      "\u001b[35m#metrics {\"StartTime\": 1730615566.7774832, \"EndTime\": 1730615569.3489466, \"Dimensions\": {\"Algorithm\": \"LinearLearnerModel\", \"Host\": \"UNKNOWN\", \"Operation\": \"scoring\"}, \"Metrics\": {\"json.encoder.time\": {\"sum\": 54.91781234741211, \"count\": 1, \"min\": 54.91781234741211, \"max\": 54.91781234741211}, \"invocations.count\": {\"sum\": 1.0, \"count\": 1, \"min\": 1, \"max\": 1}}}\u001b[0m\n",
      "\u001b[35m#metrics {\"StartTime\": 1730615566.7774832, \"EndTime\": 1730615569.3491304, \"Dimensions\": {\"Algorithm\": \"LinearLearnerModel\", \"Host\": \"UNKNOWN\", \"Operation\": \"scoring\"}, \"Metrics\": {\"json.encoder.time\": {\"sum\": 54.208993911743164, \"count\": 1, \"min\": 54.208993911743164, \"max\": 54.208993911743164}, \"invocations.count\": {\"sum\": 1.0, \"count\": 1, \"min\": 1, \"max\": 1}}}\u001b[0m\n",
      "\u001b[32m2024-11-03T06:32:47.153:[sagemaker logs]: MaxConcurrentTransforms=16, MaxPayloadInMB=6, BatchStrategy=MULTI_RECORD\u001b[0m\n"
     ]
    }
   ],
   "source": [
    "# Create the transformer object for the Linear Learner model\n",
    "# The transformer handles batch predictions by using the trained model and specified S3 locations for input and output.\n",
    "# We configure the instance count and type for the transform job, as well as data handling strategies.\n",
    "linear_model_transformer = linear_estimator.transformer(\n",
    "    instance_count=1,                       # Number of instances to use for batch transform\n",
    "    instance_type='ml.c5.4xlarge',          # Instance type for the transform job\n",
    "    strategy='MultiRecord',                 # Strategy for combining multiple records into a single batch request\n",
    "    assemble_with='Line',                   # Assembling records by line, suitable for CSV format\n",
    "    output_path=batch_output_path           # S3 path to store the batch prediction results\n",
    ")\n",
    "\n",
    "# Start the batch transform job\n",
    "# This initiates the transform job using the transformer, specifying the input data and content type.\n",
    "linear_model_transformer.transform(\n",
    "    data=batch_input_path,                  # S3 path of input data for batch predictions\n",
    "    data_type='S3Prefix',                   # Type of data in S3 (prefix for files in this case)\n",
    "    content_type='text/csv',                # Content type of input data\n",
    "    split_type='Line',                      # Split records by line (each line represents one data instance)\n",
    "    logs=False                              # Suppress logging during the batch transform job\n",
    ")\n",
    "\n",
    "# Wait for the batch transform job to complete\n",
    "linear_model_transformer.wait()\n"
   ]
  },
  {
   "cell_type": "markdown",
   "metadata": {},
   "source": [
    "# Retrieving and Reading Batch Prediction Results from S3"
   ]
  },
  {
   "cell_type": "code",
   "execution_count": null,
   "metadata": {},
   "outputs": [
    {
     "data": {
      "text/html": [
       "<div>\n",
       "<style scoped>\n",
       "    .dataframe tbody tr th:only-of-type {\n",
       "        vertical-align: middle;\n",
       "    }\n",
       "\n",
       "    .dataframe tbody tr th {\n",
       "        vertical-align: top;\n",
       "    }\n",
       "\n",
       "    .dataframe thead th {\n",
       "        text-align: right;\n",
       "    }\n",
       "</style>\n",
       "<table border=\"1\" class=\"dataframe\">\n",
       "  <thead>\n",
       "    <tr style=\"text-align: right;\">\n",
       "      <th></th>\n",
       "      <th>class</th>\n",
       "    </tr>\n",
       "  </thead>\n",
       "  <tbody>\n",
       "    <tr>\n",
       "      <th>{\"predicted_label\":0</th>\n",
       "      <td>score:0.112673088908195}</td>\n",
       "    </tr>\n",
       "    <tr>\n",
       "      <th>{\"predicted_label\":0</th>\n",
       "      <td>score:0.162441715598106}</td>\n",
       "    </tr>\n",
       "    <tr>\n",
       "      <th>{\"predicted_label\":0</th>\n",
       "      <td>score:0.08904555439949}</td>\n",
       "    </tr>\n",
       "    <tr>\n",
       "      <th>{\"predicted_label\":0</th>\n",
       "      <td>score:0.100706875324249}</td>\n",
       "    </tr>\n",
       "    <tr>\n",
       "      <th>{\"predicted_label\":0</th>\n",
       "      <td>score:0.155709117650985}</td>\n",
       "    </tr>\n",
       "  </tbody>\n",
       "</table>\n",
       "</div>"
      ],
      "text/plain": [
       "                                         class\n",
       "{\"predicted_label\":0  score:0.112673088908195}\n",
       "{\"predicted_label\":0  score:0.162441715598106}\n",
       "{\"predicted_label\":0   score:0.08904555439949}\n",
       "{\"predicted_label\":0  score:0.100706875324249}\n",
       "{\"predicted_label\":0  score:0.155709117650985}"
      ]
     },
     "metadata": {},
     "output_type": "display_data"
    }
   ],
   "source": [
    "# Fetch and read the batch prediction output from S3\n",
    "# This code retrieves the batch transform output file from S3 and reads it into a DataFrame for further analysis.\n",
    "s3_client = boto3.client('s3')\n",
    "# Define the S3 key for the batch output file\n",
    "# This path points to the output folder and file created by the batch transform job.\n",
    "batch_output_key = \"{}/batch-output-linear/{}\".format(s3_prefix, 'batch-input-linear.csv.out')\n",
    "# Fetch the output object from S3\n",
    "# Retrieves the batch prediction results from the specified S3 bucket and key.\n",
    "output_object = s3_client.get_object(Bucket=s3_container_name, Key=batch_output_key)\n",
    "# Read the prediction results into a DataFrame\n",
    "# Loads the output data from the batch transform job into a DataFrame.\n",
    "# The DataFrame is assigned column name 'class' to represent the predicted classes.\n",
    "predicted_target_df = pd.read_csv(io.BytesIO(output_object['Body'].read()), header=None, names=['class'])\n",
    "# Print or further process the predictions\n",
    "# Display the first few rows of predictions to verify results or for further analysis.\n",
    "predicted_target_df.head(5)\n"
   ]
  },
  {
   "cell_type": "markdown",
   "metadata": {},
   "source": [
    "# Extracting and Processing Prediction Results"
   ]
  },
  {
   "cell_type": "code",
   "execution_count": null,
   "metadata": {},
   "outputs": [],
   "source": [
    "# Extract the prediction indices from the DataFrame\n",
    "# This extracts the indices of each prediction result for further processing.\n",
    "predicted_indices = predicted_target_df.index\n",
    "\n",
    "# Example of accessing the last character of the first prediction index\n",
    "# Retrieves the last character from the first index, which might represent a label or identifier.\n",
    "predicted_indices[0][-1]\n",
    "\n",
    "# Extract the middle portion of the first prediction result\n",
    "# Slices the first prediction string to exclude specific characters (used here as an example).\n",
    "predicted_target_df.iloc[0, 0][6:-1]\n",
    "\n",
    "# Define a list of prediction labels based on the indices\n",
    "# Extracts the last character of each index, assuming it represents the prediction label.\n",
    "predicted_labels = [str(pred_index)[-1] for pred_index in predicted_indices]\n",
    "\n",
    "# Define a list of prediction scores based on the DataFrame rows\n",
    "# Extracts the prediction score for each row, excluding specific characters.\n",
    "predicted_scores = [str(row[0])[6:-1] for row in predicted_target_df.itertuples(index=False)]\n",
    "\n",
    "# Convert prediction scores and labels to numeric types\n",
    "# Ensures the extracted scores and labels are in numeric form for further analysis.\n",
    "predicted_scores = pd.to_numeric(predicted_scores)\n",
    "predicted_labels = pd.to_numeric(predicted_labels)\n"
   ]
  },
  {
   "cell_type": "markdown",
   "metadata": {},
   "source": [
    "# Plotting the Confusion Matrix \n"
   ]
  },
  {
   "cell_type": "code",
   "execution_count": null,
   "metadata": {},
   "outputs": [
    {
     "name": "stderr",
     "output_type": "stream",
     "text": [
      "INFO:matplotlib.font_manager:generated new fontManager\n"
     ]
    }
   ],
   "source": [
    "from sklearn.metrics import confusion_matrix\n",
    "import matplotlib.pyplot as plt\n",
    "import seaborn as sns\n",
    "# Function to plot a confusion matrix\n",
    "# This function generates a heatmap to visualize the confusion matrix,\n",
    "# which helps assess the accuracy of classification by comparing actual and predicted labels.\n",
    "def display_confusion_matrix(actual_labels, predicted_labels):\n",
    "    # Generate the confusion matrix\n",
    "    # The matrix compares actual labels with predicted labels to show true positives, false positives, etc.\n",
    "    confusion_mat = confusion_matrix(actual_labels, predicted_labels)\n",
    "    # Create a heatmap for the confusion matrix\n",
    "    # This provides a visual representation of the matrix for easy interpretation.\n",
    "    sns.heatmap(\n",
    "        confusion_mat,\n",
    "        annot=True,               # Display numerical values within each cell\n",
    "        fmt=\"d\",                  # Format as integer values\n",
    "        cmap=\"Blues\",             # Color scheme for the heatmap\n",
    "        xticklabels=[\"On-Time\", \"Delayed\"],  # Labels for the x-axis (predicted outcomes)\n",
    "        yticklabels=[\"On-Time\", \"Delayed\"],  # Labels for the y-axis (actual outcomes)\n",
    "    )\n",
    "    # Label the plot axes and title\n",
    "    plt.xlabel(\"Predicted Labels\")  # Label for the x-axis\n",
    "    plt.ylabel(\"Actual Labels\")     # Label for the y-axis\n",
    "    plt.title(\"Confusion Matrix\")   # Title of the plot\n",
    "    plt.show()                      # Display the plot"
   ]
  },
  {
   "cell_type": "code",
   "execution_count": null,
   "metadata": {},
   "outputs": [
    {
     "data": {
      "image/png": "[encoded data removed]",
      "text/plain": [
       "<Figure size 640x480 with 2 Axes>"
      ]
     },
     "metadata": {},
     "output_type": "display_data"
    }
   ],
   "source": [
    "# Display confusion matrix for the test data\n",
    "# This compares the actual test labels with the predicted labels and visualizes the classification performance.\n",
    "# `test.iloc[:, 0]` extracts the actual labels from the test dataset.\n",
    "display_confusion_matrix(\n",
    "    actual_labels=testing_data.iloc[:, 0],  # Actual labels from the first column of test data\n",
    "    predicted_labels=predicted_labels       # Predicted labels obtained from the model\n",
    ")"
   ]
  },
  {
   "cell_type": "markdown",
   "metadata": {},
   "source": [
    "# Generating the Classification Report"
   ]
  },
  {
   "cell_type": "code",
   "execution_count": null,
   "metadata": {},
   "outputs": [
    {
     "name": "stdout",
     "output_type": "stream",
     "text": [
      "Classification Report on Test Data\n",
      "              precision    recall  f1-score   support\n",
      "\n",
      "         0.0       0.80      0.99      0.88    193838\n",
      "         1.0       0.56      0.07      0.12     51500\n",
      "\n",
      "    accuracy                           0.79    245338\n",
      "   macro avg       0.68      0.53      0.50    245338\n",
      "weighted avg       0.75      0.79      0.72    245338\n",
      "\n"
     ]
    }
   ],
   "source": [
    "from sklearn.metrics import classification_report\n",
    "\n",
    "# Generate and display the classification report for the test data\n",
    "# This report provides detailed metrics such as precision, recall, and F1-score\n",
    "# for each class, helping assess the performance of the model.\n",
    "print(\"Classification Report on Test Data\")\n",
    "print(classification_report(\n",
    "    testing_data.iloc[:, 0],    # Actual labels from the first column of test data\n",
    "    predicted_labels             # Predicted labels generated by the model\n",
    "))"
   ]
  },
  {
   "cell_type": "markdown",
   "metadata": {},
   "source": [
    "# Comparison of Results of Linear Models done on cloud\n",
    "\n",
    "### Accuracy\n",
    "\n",
    "csv_1 Model: 79%\n",
    "csv_2 Model: 79%\n",
    "\n",
    "**Analysis: Both models achieved the same accuracy, indicating similar overall correctness. However, accuracy alone may not provide a complete view, given the class imbalance in the data.**\n",
    "\n",
    "### Precision and Recall by Class\n",
    "\n",
    "Class 0 (On-Time):\n",
    "Precision: csv_1 - 0.79, csv_2 - 0.80\n",
    "Recall: csv_1 - 1.00, csv_2 - 0.99\n",
    "\n",
    "**Analysis: Both models perform well on the \"On-Time\" class, with high precision and recall values, showing reliable prediction for the majority class.**\n",
    "\n",
    "Class 1 (Delayed):\n",
    "Precision: csv_1 - 0.53, csv_2 - 0.56\n",
    "Recall: csv_1 - 0.01, csv_2 - 0.07\n",
    "\n",
    "**Analysis: The csv_2 model demonstrates better performance on the \"Delayed\" class, with both higher precision and significantly better recall compared to csv_1. This indicates that csv_2 is better at identifying delayed instances, although both models struggle with this class.**\n",
    "\n",
    "### F1-Score\n",
    "\n",
    "Macro Average F1-Score:\n",
    "csv_1: 0.45\n",
    "csv_2: 0.50\n",
    "\n",
    "Weighted Average F1-Score:\n",
    "csv_1: 0.70\n",
    "csv_2: 0.72\n",
    "\n",
    "**Analysis: The csv_2 model has slightly higher macro and weighted average F1-scores, indicating a better balance in performance across both classes.**\n",
    "\n",
    "\n",
    "### Conclusion: \n",
    "\n",
    "The model trained on csv_2 is preferable for business needs, as it demonstrates better performance in predicting delayed instances (Class 1). Although both models have similar overall accuracy, the csv_2 model provides improved recall and F1-scores for the delayed class, aligning more closely with the goal of accurately identifying delays."
   ]
  },
  {
   "cell_type": "markdown",
   "metadata": {},
   "source": [
    "# Step 3: Build and evaluate ensembe models\n",
    "\n",
    "Write code to perform the follwoing steps:\n",
    "1. Split data into training, validation and testing sets (70% - 15% - 15%).\n",
    "2. Use xgboost estimator to build a classifcation model.\n",
    "3. Host the model on another instance\n",
    "4. Perform batch transform to evaluate the model on testing data\n",
    "5. Report the performance metrics that you see better test the model performance \n",
    "6. write down your observation on the difference between the performance of using the simple and ensemble models.\n",
    "Note: You are required to perform the above steps on the two combined datasets separatey."
   ]
  },
  {
   "cell_type": "markdown",
   "metadata": {},
   "source": [
    "# S3 Bucket Setup and Validation\n",
    "\n",
    "In this section, we set up the S3 bucket and check if it already exists. If the bucket does not exist, we create it to ensure that all necessary storage resources are available for our project."
   ]
  },
  {
   "cell_type": "code",
   "execution_count": null,
   "metadata": {},
   "outputs": [
    {
     "name": "stdout",
     "output_type": "stream",
     "text": [
      "Bucket 'u3265713-uni-can-dsts-assn1-ensembel-1' is not found.\n",
      "S3 Bucket: u3265713-uni-can-dsts-assn1-ensembel-1 has been successfully created.\n"
     ]
    }
   ],
   "source": [
    "# Set the S3 bucket name with valid characters\n",
    "s3_container_name = \"u3265713-uni-can-dsts-assn1-ensembel-1\"\n",
    "# Fetch the S3 resource\n",
    "s3_instance = boto3.Session().resource(\"s3\")\n",
    "# Check if the bucket exists\n",
    "container_exists = verify_bucket_presence(s3_container_name)\n",
    "# Create the bucket if it doesn't exist\n",
    "if not container_exists:\n",
    "    initialize_s3_container(s3_container_name)\n"
   ]
  },
  {
   "cell_type": "markdown",
   "metadata": {},
   "source": [
    "# Setting S3 Path Prefix and Uploading CSV Data to S3\n",
    "\n",
    "In this section, we define a prefix for the S3 path and create a function to upload a DataFrame as a CSV file to an S3 bucket. This setup is essential for organizing and storing data in a structured manner within AWS S3."
   ]
  },
  {
   "cell_type": "code",
   "execution_count": null,
   "metadata": {},
   "outputs": [],
   "source": [
    "# Setting the prefix for the S3 path\n",
    "s3_prefix = \"oncloud\"\n",
    "\n",
    "# Function to upload CSV data to AWS S3\n",
    "def upload_csv_to_s3(file_name, subfolder, data_frame):\n",
    "    csv_memory_buffer = io.StringIO()\n",
    "    data_frame.to_csv(csv_memory_buffer, header=False, index=False)\n",
    "    print(s3_instance.Bucket(s3_container_name))\n",
    "    s3_instance.Bucket(s3_container_name).Object(os.path.join(s3_prefix, subfolder, file_name)).put(\n",
    "        Body=csv_memory_buffer.getvalue()\n",
    "    )\n"
   ]
  },
  {
   "cell_type": "markdown",
   "metadata": {},
   "source": [
    "# Loading the Dataset"
   ]
  },
  {
   "cell_type": "code",
   "execution_count": null,
   "metadata": {},
   "outputs": [
    {
     "name": "stdout",
     "output_type": "stream",
     "text": [
      "   target  Distance  Quarter_2  Quarter_3  Quarter_4  Month_2  Month_3  \\\n",
      "0     0.0     689.0      False      False      False    False    False   \n",
      "1     0.0     731.0      False      False      False    False    False   \n",
      "2     0.0    1199.0      False      False      False    False    False   \n",
      "3     0.0    1587.0      False      False      False    False    False   \n",
      "4     0.0    1587.0      False      False      False    False    False   \n",
      "\n",
      "   Month_4  Month_5  Month_6  ...  Dest_DEN  Dest_DFW  Dest_IAH  Dest_LAX  \\\n",
      "0    False    False    False  ...     False     False      True     False   \n",
      "1    False    False    False  ...     False     False     False     False   \n",
      "2    False    False    False  ...      True     False     False     False   \n",
      "3    False    False    False  ...     False     False     False     False   \n",
      "4    False    False    False  ...     False     False     False     False   \n",
      "\n",
      "   Dest_ORD  Dest_PHX  Dest_SFO  DepHourofDay_7-12  DepHourofDay_13-18  \\\n",
      "0     False     False     False              False               False   \n",
      "1     False     False     False               True               False   \n",
      "2     False     False     False              False               False   \n",
      "3     False      True     False              False                True   \n",
      "4     False     False     False               True               False   \n",
      "\n",
      "   DepHourofDay_19-23  \n",
      "0                True  \n",
      "1               False  \n",
      "2                True  \n",
      "3               False  \n",
      "4               False  \n",
      "\n",
      "[5 rows x 75 columns]\n",
      "(1635590, 75)\n"
     ]
    }
   ],
   "source": [
    "# Load the data\n",
    "dataset_v1 = pd.read_csv(\"./combined_csv_v1.csv\")\n",
    "\n",
    "print(dataset_v1.head())\n",
    "print(dataset_v1.shape)\n"
   ]
  },
  {
   "cell_type": "markdown",
   "metadata": {},
   "source": [
    "# Creating a Copy of the Dataset"
   ]
  },
  {
   "cell_type": "code",
   "execution_count": null,
   "metadata": {},
   "outputs": [],
   "source": [
    "# Copying the data \n",
    "df = dataset_v1.copy()"
   ]
  },
  {
   "cell_type": "markdown",
   "metadata": {},
   "source": [
    "# Data Transformation: Converting Boolean Values"
   ]
  },
  {
   "cell_type": "code",
   "execution_count": null,
   "metadata": {},
   "outputs": [
    {
     "data": {
      "text/html": [
       "<div>\n",
       "<style scoped>\n",
       "    .dataframe tbody tr th:only-of-type {\n",
       "        vertical-align: middle;\n",
       "    }\n",
       "\n",
       "    .dataframe tbody tr th {\n",
       "        vertical-align: top;\n",
       "    }\n",
       "\n",
       "    .dataframe thead th {\n",
       "        text-align: right;\n",
       "    }\n",
       "</style>\n",
       "<table border=\"1\" class=\"dataframe\">\n",
       "  <thead>\n",
       "    <tr style=\"text-align: right;\">\n",
       "      <th></th>\n",
       "      <th>target</th>\n",
       "      <th>Distance</th>\n",
       "      <th>Quarter_2</th>\n",
       "      <th>Quarter_3</th>\n",
       "      <th>Quarter_4</th>\n",
       "      <th>Month_2</th>\n",
       "      <th>Month_3</th>\n",
       "      <th>Month_4</th>\n",
       "      <th>Month_5</th>\n",
       "      <th>Month_6</th>\n",
       "      <th>...</th>\n",
       "      <th>Dest_DEN</th>\n",
       "      <th>Dest_DFW</th>\n",
       "      <th>Dest_IAH</th>\n",
       "      <th>Dest_LAX</th>\n",
       "      <th>Dest_ORD</th>\n",
       "      <th>Dest_PHX</th>\n",
       "      <th>Dest_SFO</th>\n",
       "      <th>DepHourofDay_7-12</th>\n",
       "      <th>DepHourofDay_13-18</th>\n",
       "      <th>DepHourofDay_19-23</th>\n",
       "    </tr>\n",
       "  </thead>\n",
       "  <tbody>\n",
       "    <tr>\n",
       "      <th>0</th>\n",
       "      <td>0.0</td>\n",
       "      <td>689.0</td>\n",
       "      <td>0</td>\n",
       "      <td>0</td>\n",
       "      <td>0</td>\n",
       "      <td>0</td>\n",
       "      <td>0</td>\n",
       "      <td>0</td>\n",
       "      <td>0</td>\n",
       "      <td>0</td>\n",
       "      <td>...</td>\n",
       "      <td>0</td>\n",
       "      <td>0</td>\n",
       "      <td>1</td>\n",
       "      <td>0</td>\n",
       "      <td>0</td>\n",
       "      <td>0</td>\n",
       "      <td>0</td>\n",
       "      <td>0</td>\n",
       "      <td>0</td>\n",
       "      <td>1</td>\n",
       "    </tr>\n",
       "    <tr>\n",
       "      <th>1</th>\n",
       "      <td>0.0</td>\n",
       "      <td>731.0</td>\n",
       "      <td>0</td>\n",
       "      <td>0</td>\n",
       "      <td>0</td>\n",
       "      <td>0</td>\n",
       "      <td>0</td>\n",
       "      <td>0</td>\n",
       "      <td>0</td>\n",
       "      <td>0</td>\n",
       "      <td>...</td>\n",
       "      <td>0</td>\n",
       "      <td>0</td>\n",
       "      <td>0</td>\n",
       "      <td>0</td>\n",
       "      <td>0</td>\n",
       "      <td>0</td>\n",
       "      <td>0</td>\n",
       "      <td>1</td>\n",
       "      <td>0</td>\n",
       "      <td>0</td>\n",
       "    </tr>\n",
       "    <tr>\n",
       "      <th>2</th>\n",
       "      <td>0.0</td>\n",
       "      <td>1199.0</td>\n",
       "      <td>0</td>\n",
       "      <td>0</td>\n",
       "      <td>0</td>\n",
       "      <td>0</td>\n",
       "      <td>0</td>\n",
       "      <td>0</td>\n",
       "      <td>0</td>\n",
       "      <td>0</td>\n",
       "      <td>...</td>\n",
       "      <td>1</td>\n",
       "      <td>0</td>\n",
       "      <td>0</td>\n",
       "      <td>0</td>\n",
       "      <td>0</td>\n",
       "      <td>0</td>\n",
       "      <td>0</td>\n",
       "      <td>0</td>\n",
       "      <td>0</td>\n",
       "      <td>1</td>\n",
       "    </tr>\n",
       "    <tr>\n",
       "      <th>3</th>\n",
       "      <td>0.0</td>\n",
       "      <td>1587.0</td>\n",
       "      <td>0</td>\n",
       "      <td>0</td>\n",
       "      <td>0</td>\n",
       "      <td>0</td>\n",
       "      <td>0</td>\n",
       "      <td>0</td>\n",
       "      <td>0</td>\n",
       "      <td>0</td>\n",
       "      <td>...</td>\n",
       "      <td>0</td>\n",
       "      <td>0</td>\n",
       "      <td>0</td>\n",
       "      <td>0</td>\n",
       "      <td>0</td>\n",
       "      <td>1</td>\n",
       "      <td>0</td>\n",
       "      <td>0</td>\n",
       "      <td>1</td>\n",
       "      <td>0</td>\n",
       "    </tr>\n",
       "    <tr>\n",
       "      <th>4</th>\n",
       "      <td>0.0</td>\n",
       "      <td>1587.0</td>\n",
       "      <td>0</td>\n",
       "      <td>0</td>\n",
       "      <td>0</td>\n",
       "      <td>0</td>\n",
       "      <td>0</td>\n",
       "      <td>0</td>\n",
       "      <td>0</td>\n",
       "      <td>0</td>\n",
       "      <td>...</td>\n",
       "      <td>0</td>\n",
       "      <td>0</td>\n",
       "      <td>0</td>\n",
       "      <td>0</td>\n",
       "      <td>0</td>\n",
       "      <td>0</td>\n",
       "      <td>0</td>\n",
       "      <td>1</td>\n",
       "      <td>0</td>\n",
       "      <td>0</td>\n",
       "    </tr>\n",
       "  </tbody>\n",
       "</table>\n",
       "<p>5 rows × 75 columns</p>\n",
       "</div>"
      ],
      "text/plain": [
       "   target  Distance  Quarter_2  Quarter_3  Quarter_4  Month_2  Month_3  \\\n",
       "0     0.0     689.0          0          0          0        0        0   \n",
       "1     0.0     731.0          0          0          0        0        0   \n",
       "2     0.0    1199.0          0          0          0        0        0   \n",
       "3     0.0    1587.0          0          0          0        0        0   \n",
       "4     0.0    1587.0          0          0          0        0        0   \n",
       "\n",
       "   Month_4  Month_5  Month_6  ...  Dest_DEN  Dest_DFW  Dest_IAH  Dest_LAX  \\\n",
       "0        0        0        0  ...         0         0         1         0   \n",
       "1        0        0        0  ...         0         0         0         0   \n",
       "2        0        0        0  ...         1         0         0         0   \n",
       "3        0        0        0  ...         0         0         0         0   \n",
       "4        0        0        0  ...         0         0         0         0   \n",
       "\n",
       "   Dest_ORD  Dest_PHX  Dest_SFO  DepHourofDay_7-12  DepHourofDay_13-18  \\\n",
       "0         0         0         0                  0                   0   \n",
       "1         0         0         0                  1                   0   \n",
       "2         0         0         0                  0                   0   \n",
       "3         0         1         0                  0                   1   \n",
       "4         0         0         0                  1                   0   \n",
       "\n",
       "   DepHourofDay_19-23  \n",
       "0                   1  \n",
       "1                   0  \n",
       "2                   1  \n",
       "3                   0  \n",
       "4                   0  \n",
       "\n",
       "[5 rows x 75 columns]"
      ]
     },
     "metadata": {},
     "output_type": "display_data"
    }
   ],
   "source": [
    "# Replacing True/False with 1/0 directly in df\n",
    "df = df.replace({True: 1, False: 0})\n",
    "df.head(5)\n"
   ]
  },
  {
   "cell_type": "markdown",
   "metadata": {},
   "source": [
    "# Splitting the dataset"
   ]
  },
  {
   "cell_type": "code",
   "execution_count": null,
   "metadata": {},
   "outputs": [],
   "source": [
    "# Split the data into training and a combined testing/validation set (70% train, 30% test/validate)\n",
    "training_data, testing_validation_data = train_test_split(\n",
    "    df, test_size=0.3, random_state=42, stratify=df[\"target\"]\n",
    ")\n",
    "\n",
    "# Further split the testing_validation_data set into separate testing and validation sets (15% each of the original data)\n",
    "testing_data, validation_data = train_test_split(\n",
    "    testing_validation_data,\n",
    "    test_size=0.5,\n",
    "    random_state=42,\n",
    "    stratify=testing_validation_data[\"target\"],\n",
    ")"
   ]
  },
  {
   "cell_type": "code",
   "execution_count": null,
   "metadata": {},
   "outputs": [
    {
     "name": "stdout",
     "output_type": "stream",
     "text": [
      "(1144913, 75)\n",
      "(245338, 75)\n",
      "(245339, 75)\n"
     ]
    }
   ],
   "source": [
    "# Printing the shapes of each set \n",
    "print(training_data.shape)\n",
    "print(testing_data.shape)\n",
    "print(validation_data.shape)"
   ]
  },
  {
   "cell_type": "markdown",
   "metadata": {},
   "source": [
    "# Defining File Names for Data Subsets"
   ]
  },
  {
   "cell_type": "code",
   "execution_count": null,
   "metadata": {},
   "outputs": [],
   "source": [
    "# Set the names of the CSV files for each data subset\n",
    "# These file names will be used to save the training, testing, and validation datasets \n",
    "# as CSV files, allowing for easy upload to S3 and subsequent use in modeling.\n",
    "training_file_name = \"data_v1_train.csv\"      # Filename for the training dataset\n",
    "testing_file_name = \"data_v1_test.csv\"        # Filename for the testing dataset\n",
    "validation_file_name = \"data_v1_validate.csv\" # Filename for the validation dataset\n"
   ]
  },
  {
   "cell_type": "code",
   "execution_count": null,
   "metadata": {},
   "outputs": [
    {
     "name": "stdout",
     "output_type": "stream",
     "text": [
      "s3.Bucket(name='u3265713-uni-can-dsts-assn1-ensembel-1')\n",
      "s3.Bucket(name='u3265713-uni-can-dsts-assn1-ensembel-1')\n",
      "s3.Bucket(name='u3265713-uni-can-dsts-assn1-ensembel-1')\n"
     ]
    }
   ],
   "source": [
    "# Upload each dataset subset to the specified S3 locations using the `upload_csv_to_s3` function\n",
    "# This will ensure that the data is accessible for model training in SageMaker\n",
    "upload_csv_to_s3(training_file_name, \"train\", training_data)      # Upload training data to 'train' subfolder\n",
    "upload_csv_to_s3(testing_file_name, \"test\", testing_data)         # Upload testing data to 'test' subfolder\n",
    "upload_csv_to_s3(validation_file_name, \"validate\", validation_data) # Upload validation data to 'validate' subfolder\n"
   ]
  },
  {
   "cell_type": "markdown",
   "metadata": {},
   "source": [
    "# Setting Up SageMaker Training Environment\n",
    "\n",
    "This section sets up the SageMaker environment for training an XGBoost model. First, it defines input channels to specify the S3 locations for the training and validation datasets, ensuring the data is accessible during model training. Next, it initializes the SageMaker session, retrieves the XGBoost container image, and configures hyperparameters for training. Finally, the XGBoost estimator is set up, specifying model configurations and training parameters required to run the job on SageMaker."
   ]
  },
  {
   "cell_type": "code",
   "execution_count": null,
   "metadata": {},
   "outputs": [],
   "source": [
    "# Import required libraries for setting up the XGBoost container and S3 session\n",
    "import boto3\n",
    "from sagemaker.image_uris import retrieve\n",
    "\n",
    "# Retrieve the XGBoost container image URI for the specified AWS region\n",
    "xgb_container_uri = retrieve(\"xgboost\", \"us-east-1\", version=\"1.0-1\")\n",
    "\n",
    "# Define hyperparameters for the XGBoost model\n",
    "# - num_round: Number of training rounds\n",
    "# - eval_metric: Evaluation metric to optimize\n",
    "# - objective: Learning task and corresponding objective\n",
    "model_hyperparameters = {\n",
    "    \"num_round\": \"42\",\n",
    "    \"eval_metric\": \"auc\",\n",
    "    \"objective\": \"binary:logistic\"\n",
    "}\n",
    "\n",
    "# Import the SageMaker library for model deployment\n",
    "import sagemaker\n",
    "\n",
    "# Set up the SageMaker session to ensure it's aligned with the S3 bucket region\n",
    "# Specifying 'us-east-1' as the region in the session\n",
    "sagemaker_session_instance = sagemaker.Session(boto3.session.Session(region_name=\"us-east-1\"))\n",
    "\n",
    "# Define the S3 output location where model artifacts will be stored after training\n",
    "# Formatting the S3 path using the predefined S3 bucket name and a custom prefix\n",
    "s3_model_output_path = \"s3://{}/{}/output/\".format(s3_container_name, s3_prefix)\n",
    "\n",
    "# Initialize the XGBoost estimator for SageMaker\n",
    "# - container: Specifies the XGBoost container URI\n",
    "# - role: SageMaker execution role for accessing AWS resources\n",
    "# - instance_count: Number of instances for model training\n",
    "# - instance_type: Type of instance to use (ml.c5.4xlarge)\n",
    "# - output_path: S3 path to store the model output\n",
    "# - hyperparameters: Training configuration for the model\n",
    "# - sagemaker_session: Session that ties to the same AWS region as the bucket\n",
    "xgboost_estimator = sagemaker.estimator.Estimator(\n",
    "    xgb_container_uri,\n",
    "    sagemaker.get_execution_role(),\n",
    "    instance_count=1,\n",
    "    instance_type=\"ml.c5.4xlarge\",\n",
    "    output_path=s3_model_output_path,\n",
    "    hyperparameters=model_hyperparameters,\n",
    "    sagemaker_session=sagemaker_session_instance,\n",
    ")\n"
   ]
  },
  {
   "cell_type": "code",
   "execution_count": null,
   "metadata": {},
   "outputs": [
    {
     "name": "stdout",
     "output_type": "stream",
     "text": [
      "Data channels setup:\n",
      " Validation Channel: <sagemaker.inputs.TrainingInput object at 0x7f4a507c7070> \n",
      " Training Channel: <sagemaker.inputs.TrainingInput object at 0x7f4a507c6d10>\n"
     ]
    }
   ],
   "source": [
    "# Define the input channels for training and validation data for SageMaker\n",
    "# Using formatted S3 paths to specify the location of training and validation CSV files\n",
    "\n",
    "# Set up the training data channel\n",
    "# This channel points to the S3 location where the training CSV file is stored\n",
    "training_data_channel = sagemaker.inputs.TrainingInput(\n",
    "    \"s3://{}/{}/train/{}\".format(s3_container_name, s3_prefix, training_file_name), content_type=\"text/csv\"\n",
    ")\n",
    "\n",
    "# Set up the validation data channel\n",
    "# This channel points to the S3 location where the validation CSV file is stored\n",
    "validation_data_channel = sagemaker.inputs.TrainingInput(\n",
    "    \"s3://{}/{}/validate/{}\".format(s3_container_name, s3_prefix, validation_file_name),\n",
    "    content_type=\"text/csv\",\n",
    ")\n",
    "\n",
    "# Print confirmation of the data channels for verification\n",
    "print(f\"Data channels setup:\\n Validation Channel: {validation_data_channel} \\n Training Channel: {training_data_channel}\")\n",
    "\n",
    "# Combine both training and validation channels into a dictionary for easy reference\n",
    "data_input_channels = {\"train\": training_data_channel, \"validation\": validation_data_channel}\n"
   ]
  },
  {
   "cell_type": "markdown",
   "metadata": {},
   "source": [
    "# Initiating Model Training and deployment for predictions"
   ]
  },
  {
   "cell_type": "code",
   "execution_count": null,
   "metadata": {},
   "outputs": [
    {
     "name": "stderr",
     "output_type": "stream",
     "text": [
      "INFO:sagemaker:Creating training-job with name: sagemaker-xgboost-2024-11-03-11-17-28-525\n"
     ]
    },
    {
     "name": "stdout",
     "output_type": "stream",
     "text": [
      "\n",
      "2024-11-03 11:17:29 Starting - Starting the training job.\n",
      "2024-11-03 11:17:43 Starting - Preparing the instances for training....\n",
      "2024-11-03 11:18:06 Downloading - Downloading input data..\n",
      "2024-11-03 11:18:21 Downloading - Downloading the training image....\n",
      "2024-11-03 11:18:47 Training - Training image download completed. Training in progress.........\n",
      "2024-11-03 11:19:30 Uploading - Uploading generated training model.\n",
      "2024-11-03 11:19:43 Completed - Training job completed\n"
     ]
    }
   ],
   "source": [
    "# Start training the XGBoost model using the specified input channels\n",
    "# - inputs: Passes in the dictionary of data channels with 'train' and 'validation' paths\n",
    "# - logs=False: Disables the logging output during training\n",
    "xgboost_estimator.fit(inputs=data_input_channels, logs=False)\n"
   ]
  },
  {
   "cell_type": "code",
   "execution_count": null,
   "metadata": {},
   "outputs": [
    {
     "name": "stderr",
     "output_type": "stream",
     "text": [
      "INFO:sagemaker:Creating model with name: sagemaker-xgboost-2024-11-03-11-19-45-159\n",
      "INFO:sagemaker:Creating endpoint-config with name sagemaker-xgboost-2024-11-03-11-19-45-159\n",
      "INFO:sagemaker:Creating endpoint with name sagemaker-xgboost-2024-11-03-11-19-45-159\n"
     ]
    },
    {
     "name": "stdout",
     "output_type": "stream",
     "text": [
      "-----!"
     ]
    }
   ],
   "source": [
    "# Deploy the trained XGBoost model for real-time predictions\n",
    "# - initial_instance_count: Specifies the number of instances to launch\n",
    "# - serializer: Converts input data to CSV format for compatibility with the model\n",
    "# - instance_type: Defines the instance type to use for deployment\n",
    "xgboost_predictor = xgboost_estimator.deploy(\n",
    "    initial_instance_count=1,\n",
    "    serializer=sagemaker.serializers.CSVSerializer(),\n",
    "    instance_type=\"ml.c5.4xlarge\",\n",
    ")\n"
   ]
  },
  {
   "cell_type": "markdown",
   "metadata": {},
   "source": [
    "# Preparing Batch Data for Predictions"
   ]
  },
  {
   "cell_type": "code",
   "execution_count": null,
   "metadata": {},
   "outputs": [
    {
     "name": "stdout",
     "output_type": "stream",
     "text": [
      "s3.Bucket(name='u3265713-uni-can-dsts-assn1-ensembel-1')\n"
     ]
    }
   ],
   "source": [
    "# Extract features from the testing dataset by selecting all columns except the target column\n",
    "# This dataset (batch_X_data) will be used for batch prediction\n",
    "batch_X_data = testing_data.iloc[:, 1:]\n",
    "# Replace boolean values with numeric values\n",
    "# - True values are replaced with 1, False values with 0 for compatibility with model input\n",
    "# Uncomment if needed\n",
    "# batch_X_data = batch_X_data.replace({True: 1, False: 0})\n",
    "# Specify the filename for the batch input file for uploading to S3\n",
    "# This file will contain the input features for batch predictions\n",
    "batch_input_filename = \"batch_input_data.csv\"\n",
    "# Save and upload the batch input file to S3 for batch processing\n",
    "# This function will place the file in the specified S3 folder\n",
    "upload_csv_to_s3(batch_input_filename, \"batch-in\", batch_X_data)\n"
   ]
  },
  {
   "cell_type": "code",
   "execution_count": null,
   "metadata": {},
   "outputs": [
    {
     "name": "stdout",
     "output_type": "stream",
     "text": [
      "Total missing values in batch input data: 0\n",
      "Batch input data shape: (245338, 74)\n"
     ]
    }
   ],
   "source": [
    "# Check for any missing values in the batch input data\n",
    "# - .isnull().sum().sum() will return the total count of missing values across all columns\n",
    "missing_values_count = batch_X_data.isnull().sum().sum()\n",
    "print(f\"Total missing values in batch input data: {missing_values_count}\")\n",
    "\n",
    "# Display the shape of the batch input data\n",
    "# - This provides the number of rows (data points) and columns (features) in the batch dataset\n",
    "batch_data_shape = batch_X_data.shape\n",
    "print(f\"Batch input data shape: {batch_data_shape}\")"
   ]
  },
  {
   "cell_type": "markdown",
   "metadata": {},
   "source": [
    "# Batch Transformation for Large-Scale Predictions\n"
   ]
  },
  {
   "cell_type": "code",
   "execution_count": null,
   "metadata": {},
   "outputs": [
    {
     "name": "stderr",
     "output_type": "stream",
     "text": [
      "INFO:sagemaker:Creating model with name: sagemaker-xgboost-2024-11-03-11-24-31-322\n"
     ]
    }
   ],
   "source": [
    "# Set the output location for the batch transformation results in S3\n",
    "# This will store the model's batch prediction results in the specified S3 folder\n",
    "batch_output_location = \"s3://{}/{}/batch-out/\".format(s3_container_name, s3_prefix)\n",
    "\n",
    "# Set the input location for the batch transformation\n",
    "# This points to the S3 folder where the batch input data file is stored\n",
    "batch_input_location = \"s3://{}/{}/batch-in/{}\".format(s3_container_name, s3_prefix, batch_input_filename)\n",
    "\n",
    "# Create a transformer object from the trained XGBoost model for batch transformation\n",
    "# - instance_count: Number of instances to use for the batch transformation\n",
    "# - instance_type: Type of instance (ml.c5.2xlarge) for running the batch transform job\n",
    "# - strategy: Specifies the data processing strategy ('MultiRecord' processes multiple records per batch)\n",
    "# - assemble_with: Defines how to combine records in the output ('Line' combines records line by line)\n",
    "# - output_path: Specifies the S3 path where the batch output will be stored\n",
    "xgboost_transformer = xgboost_estimator.transformer(\n",
    "    instance_count=1,\n",
    "    instance_type=\"ml.c5.2xlarge\",\n",
    "    strategy=\"MultiRecord\",\n",
    "    assemble_with=\"Line\",\n",
    "    output_path=batch_output_location,\n",
    ")\n"
   ]
  },
  {
   "cell_type": "code",
   "execution_count": null,
   "metadata": {},
   "outputs": [
    {
     "name": "stderr",
     "output_type": "stream",
     "text": [
      "INFO:sagemaker:Creating transform job with name: sagemaker-xgboost-2024-11-03-11-24-36-336\n"
     ]
    },
    {
     "name": "stdout",
     "output_type": "stream",
     "text": [
      "...............................\u001b[34m[2024-11-03:11:29:40:INFO] No GPUs detected (normal if no gpus installed)\u001b[0m\n",
      "\u001b[34m[2024-11-03:11:29:40:INFO] No GPUs detected (normal if no gpus installed)\u001b[0m\n",
      "\u001b[34m[2024-11-03:11:29:40:INFO] nginx config: \u001b[0m\n",
      "\u001b[34mworker_processes auto;\u001b[0m\n",
      "\u001b[34mdaemon off;\u001b[0m\n",
      "\u001b[34mpid /tmp/nginx.pid;\u001b[0m\n",
      "\u001b[34merror_log  /dev/stderr;\u001b[0m\n",
      "\u001b[34mworker_rlimit_nofile 4096;\u001b[0m\n",
      "\u001b[34mevents {\n",
      "  worker_connections 2048;\u001b[0m\n",
      "\u001b[34m}\u001b[0m\n",
      "\u001b[34mhttp {\n",
      "  include /etc/nginx/mime.types;\n",
      "  default_type application/octet-stream;\n",
      "  access_log /dev/stdout combined;\n",
      "  upstream gunicorn {\n",
      "    server unix:/tmp/gunicorn.sock;\n",
      "  }\n",
      "  server {\n",
      "    listen 8080 deferred;\n",
      "    client_max_body_size 0;\n",
      "    keepalive_timeout 3;\n",
      "    location ~ ^/(ping|invocations|execution-parameters) {\n",
      "      proxy_set_header X-Forwarded-For $proxy_add_x_forwarded_for;\n",
      "      proxy_set_header Host $http_host;\n",
      "      proxy_redirect off;\n",
      "      proxy_read_timeout 60s;\n",
      "      proxy_pass http://gunicorn;\n",
      "    }\n",
      "    location / {\n",
      "      return 404 \"{}\";\n",
      "    }\n",
      "  }\u001b[0m\n",
      "\u001b[34m}\u001b[0m\n",
      "\u001b[34m[2024-11-03 11:29:41 +0000] [27] [INFO] Starting gunicorn 19.10.0\u001b[0m\n",
      "\u001b[34m[2024-11-03 11:29:41 +0000] [27] [INFO] Listening at: unix:/tmp/gunicorn.sock (27)\u001b[0m\n",
      "\u001b[34m[2024-11-03 11:29:41 +0000] [27] [INFO] Using worker: gevent\u001b[0m\n",
      "\u001b[34m[2024-11-03 11:29:41 +0000] [38] [INFO] Booting worker with pid: 38\u001b[0m\n",
      "\u001b[34m[2024-11-03 11:29:41 +0000] [39] [INFO] Booting worker with pid: 39\u001b[0m\n",
      "\u001b[34m[2024-11-03 11:29:41 +0000] [47] [INFO] Booting worker with pid: 47\u001b[0m\n",
      "\u001b[34m[2024-11-03 11:29:41 +0000] [55] [INFO] Booting worker with pid: 55\u001b[0m\n",
      "\u001b[35m[2024-11-03:11:29:40:INFO] No GPUs detected (normal if no gpus installed)\u001b[0m\n",
      "\u001b[35m[2024-11-03:11:29:40:INFO] No GPUs detected (normal if no gpus installed)\u001b[0m\n",
      "\u001b[35m[2024-11-03:11:29:40:INFO] nginx config: \u001b[0m\n",
      "\u001b[35mworker_processes auto;\u001b[0m\n",
      "\u001b[35mdaemon off;\u001b[0m\n",
      "\u001b[35mpid /tmp/nginx.pid;\u001b[0m\n",
      "\u001b[35merror_log  /dev/stderr;\u001b[0m\n",
      "\u001b[35mworker_rlimit_nofile 4096;\u001b[0m\n",
      "\u001b[35mevents {\n",
      "  worker_connections 2048;\u001b[0m\n",
      "\u001b[35m}\u001b[0m\n",
      "\u001b[35mhttp {\n",
      "  include /etc/nginx/mime.types;\n",
      "  default_type application/octet-stream;\n",
      "  access_log /dev/stdout combined;\n",
      "  upstream gunicorn {\n",
      "    server unix:/tmp/gunicorn.sock;\n",
      "  }\n",
      "  server {\n",
      "    listen 8080 deferred;\n",
      "    client_max_body_size 0;\n",
      "    keepalive_timeout 3;\n",
      "    location ~ ^/(ping|invocations|execution-parameters) {\n",
      "      proxy_set_header X-Forwarded-For $proxy_add_x_forwarded_for;\n",
      "      proxy_set_header Host $http_host;\n",
      "      proxy_redirect off;\n",
      "      proxy_read_timeout 60s;\n",
      "      proxy_pass http://gunicorn;\n",
      "    }\n",
      "    location / {\n",
      "      return 404 \"{}\";\n",
      "    }\n",
      "  }\u001b[0m\n",
      "\u001b[35m}\u001b[0m\n",
      "\u001b[35m[2024-11-03 11:29:41 +0000] [27] [INFO] Starting gunicorn 19.10.0\u001b[0m\n",
      "\u001b[35m[2024-11-03 11:29:41 +0000] [27] [INFO] Listening at: unix:/tmp/gunicorn.sock (27)\u001b[0m\n",
      "\u001b[35m[2024-11-03 11:29:41 +0000] [27] [INFO] Using worker: gevent\u001b[0m\n",
      "\u001b[35m[2024-11-03 11:29:41 +0000] [38] [INFO] Booting worker with pid: 38\u001b[0m\n",
      "\u001b[35m[2024-11-03 11:29:41 +0000] [39] [INFO] Booting worker with pid: 39\u001b[0m\n",
      "\u001b[35m[2024-11-03 11:29:41 +0000] [47] [INFO] Booting worker with pid: 47\u001b[0m\n",
      "\u001b[35m[2024-11-03 11:29:41 +0000] [55] [INFO] Booting worker with pid: 55\u001b[0m\n",
      "\u001b[34m[2024-11-03 11:29:41 +0000] [56] [INFO] Booting worker with pid: 56\u001b[0m\n",
      "\u001b[34m[2024-11-03 11:29:41 +0000] [57] [INFO] Booting worker with pid: 57\u001b[0m\n",
      "\u001b[34m[2024-11-03 11:29:41 +0000] [58] [INFO] Booting worker with pid: 58\u001b[0m\n",
      "\u001b[34m[2024-11-03 11:29:41 +0000] [66] [INFO] Booting worker with pid: 66\u001b[0m\n",
      "\u001b[35m[2024-11-03 11:29:41 +0000] [56] [INFO] Booting worker with pid: 56\u001b[0m\n",
      "\u001b[35m[2024-11-03 11:29:41 +0000] [57] [INFO] Booting worker with pid: 57\u001b[0m\n",
      "\u001b[35m[2024-11-03 11:29:41 +0000] [58] [INFO] Booting worker with pid: 58\u001b[0m\n",
      "\u001b[35m[2024-11-03 11:29:41 +0000] [66] [INFO] Booting worker with pid: 66\u001b[0m\n",
      "\u001b[34m[2024-11-03:11:29:45:INFO] No GPUs detected (normal if no gpus installed)\u001b[0m\n",
      "\u001b[34m169.254.255.130 - - [03/Nov/2024:11:29:45 +0000] \"GET /ping HTTP/1.1\" 200 0 \"-\" \"Go-http-client/1.1\"\u001b[0m\n",
      "\u001b[34m169.254.255.130 - - [03/Nov/2024:11:29:45 +0000] \"GET /execution-parameters HTTP/1.1\" 200 84 \"-\" \"Go-http-client/1.1\"\u001b[0m\n",
      "\u001b[34m[2024-11-03:11:29:45:INFO] No GPUs detected (normal if no gpus installed)\u001b[0m\n",
      "\u001b[34m[2024-11-03:11:29:45:INFO] No GPUs detected (normal if no gpus installed)\u001b[0m\n",
      "\u001b[34m[2024-11-03:11:29:45:INFO] Determined delimiter of CSV input is ','\u001b[0m\n",
      "\u001b[34m[2024-11-03:11:29:45:INFO] No GPUs detected (normal if no gpus installed)\u001b[0m\n",
      "\u001b[35m[2024-11-03:11:29:45:INFO] No GPUs detected (normal if no gpus installed)\u001b[0m\n",
      "\u001b[35m169.254.255.130 - - [03/Nov/2024:11:29:45 +0000] \"GET /ping HTTP/1.1\" 200 0 \"-\" \"Go-http-client/1.1\"\u001b[0m\n",
      "\u001b[35m169.254.255.130 - - [03/Nov/2024:11:29:45 +0000] \"GET /execution-parameters HTTP/1.1\" 200 84 \"-\" \"Go-http-client/1.1\"\u001b[0m\n",
      "\u001b[35m[2024-11-03:11:29:45:INFO] No GPUs detected (normal if no gpus installed)\u001b[0m\n",
      "\u001b[35m[2024-11-03:11:29:45:INFO] No GPUs detected (normal if no gpus installed)\u001b[0m\n",
      "\u001b[35m[2024-11-03:11:29:45:INFO] Determined delimiter of CSV input is ','\u001b[0m\n",
      "\u001b[35m[2024-11-03:11:29:45:INFO] No GPUs detected (normal if no gpus installed)\u001b[0m\n",
      "\u001b[34m[2024-11-03:11:29:45:INFO] Determined delimiter of CSV input is ','\u001b[0m\n",
      "\u001b[34m[2024-11-03:11:29:45:INFO] No GPUs detected (normal if no gpus installed)\u001b[0m\n",
      "\u001b[34m[2024-11-03:11:29:45:INFO] Determined delimiter of CSV input is ','\u001b[0m\n",
      "\u001b[34m[2024-11-03:11:29:45:INFO] No GPUs detected (normal if no gpus installed)\u001b[0m\n",
      "\u001b[34m[2024-11-03:11:29:45:INFO] Determined delimiter of CSV input is ','\u001b[0m\n",
      "\u001b[34m[2024-11-03:11:29:45:INFO] Determined delimiter of CSV input is ','\u001b[0m\n",
      "\u001b[34m[2024-11-03:11:29:45:INFO] Determined delimiter of CSV input is ','\u001b[0m\n",
      "\u001b[35m[2024-11-03:11:29:45:INFO] Determined delimiter of CSV input is ','\u001b[0m\n",
      "\u001b[35m[2024-11-03:11:29:45:INFO] No GPUs detected (normal if no gpus installed)\u001b[0m\n",
      "\u001b[35m[2024-11-03:11:29:45:INFO] Determined delimiter of CSV input is ','\u001b[0m\n",
      "\u001b[35m[2024-11-03:11:29:45:INFO] No GPUs detected (normal if no gpus installed)\u001b[0m\n",
      "\u001b[35m[2024-11-03:11:29:45:INFO] Determined delimiter of CSV input is ','\u001b[0m\n",
      "\u001b[35m[2024-11-03:11:29:45:INFO] Determined delimiter of CSV input is ','\u001b[0m\n",
      "\u001b[35m[2024-11-03:11:29:45:INFO] Determined delimiter of CSV input is ','\u001b[0m\n",
      "\u001b[32m2024-11-03T11:29:45.176:[sagemaker logs]: MaxConcurrentTransforms=8, MaxPayloadInMB=6, BatchStrategy=MULTI_RECORD\u001b[0m\n",
      "\u001b[34m169.254.255.130 - - [03/Nov/2024:11:29:48 +0000] \"POST /invocations HTTP/1.1\" 200 810585 \"-\" \"Go-http-client/1.1\"\u001b[0m\n",
      "\u001b[34m169.254.255.130 - - [03/Nov/2024:11:29:48 +0000] \"POST /invocations HTTP/1.1\" 200 810248 \"-\" \"Go-http-client/1.1\"\u001b[0m\n",
      "\u001b[34m169.254.255.130 - - [03/Nov/2024:11:29:48 +0000] \"POST /invocations HTTP/1.1\" 200 763589 \"-\" \"Go-http-client/1.1\"\u001b[0m\n",
      "\u001b[35m169.254.255.130 - - [03/Nov/2024:11:29:48 +0000] \"POST /invocations HTTP/1.1\" 200 810585 \"-\" \"Go-http-client/1.1\"\u001b[0m\n",
      "\u001b[35m169.254.255.130 - - [03/Nov/2024:11:29:48 +0000] \"POST /invocations HTTP/1.1\" 200 810248 \"-\" \"Go-http-client/1.1\"\u001b[0m\n",
      "\u001b[35m169.254.255.130 - - [03/Nov/2024:11:29:48 +0000] \"POST /invocations HTTP/1.1\" 200 763589 \"-\" \"Go-http-client/1.1\"\u001b[0m\n",
      "\u001b[34m169.254.255.130 - - [03/Nov/2024:11:29:48 +0000] \"POST /invocations HTTP/1.1\" 200 810334 \"-\" \"Go-http-client/1.1\"\u001b[0m\n",
      "\u001b[34m169.254.255.130 - - [03/Nov/2024:11:29:48 +0000] \"POST /invocations HTTP/1.1\" 200 810410 \"-\" \"Go-http-client/1.1\"\u001b[0m\n",
      "\u001b[34m169.254.255.130 - - [03/Nov/2024:11:29:48 +0000] \"POST /invocations HTTP/1.1\" 200 810277 \"-\" \"Go-http-client/1.1\"\u001b[0m\n",
      "\u001b[35m169.254.255.130 - - [03/Nov/2024:11:29:48 +0000] \"POST /invocations HTTP/1.1\" 200 810334 \"-\" \"Go-http-client/1.1\"\u001b[0m\n",
      "\u001b[35m169.254.255.130 - - [03/Nov/2024:11:29:48 +0000] \"POST /invocations HTTP/1.1\" 200 810410 \"-\" \"Go-http-client/1.1\"\u001b[0m\n",
      "\u001b[35m169.254.255.130 - - [03/Nov/2024:11:29:48 +0000] \"POST /invocations HTTP/1.1\" 200 810277 \"-\" \"Go-http-client/1.1\"\u001b[0m\n",
      "\n",
      "\u001b[34m[2024-11-03:11:29:40:INFO] No GPUs detected (normal if no gpus installed)\u001b[0m\n",
      "\u001b[34m[2024-11-03:11:29:40:INFO] No GPUs detected (normal if no gpus installed)\u001b[0m\n",
      "\u001b[34m[2024-11-03:11:29:40:INFO] nginx config: \u001b[0m\n",
      "\u001b[34mworker_processes auto;\u001b[0m\n",
      "\u001b[34mdaemon off;\u001b[0m\n",
      "\u001b[34mpid /tmp/nginx.pid;\u001b[0m\n",
      "\u001b[34merror_log  /dev/stderr;\u001b[0m\n",
      "\u001b[34mworker_rlimit_nofile 4096;\u001b[0m\n",
      "\u001b[34mevents {\n",
      "  worker_connections 2048;\u001b[0m\n",
      "\u001b[34m}\u001b[0m\n",
      "\u001b[34mhttp {\n",
      "  include /etc/nginx/mime.types;\n",
      "  default_type application/octet-stream;\n",
      "  access_log /dev/stdout combined;\n",
      "  upstream gunicorn {\n",
      "    server unix:/tmp/gunicorn.sock;\n",
      "  }\n",
      "  server {\n",
      "    listen 8080 deferred;\n",
      "    client_max_body_size 0;\n",
      "    keepalive_timeout 3;\n",
      "    location ~ ^/(ping|invocations|execution-parameters) {\n",
      "      proxy_set_header X-Forwarded-For $proxy_add_x_forwarded_for;\n",
      "      proxy_set_header Host $http_host;\n",
      "      proxy_redirect off;\n",
      "      proxy_read_timeout 60s;\n",
      "      proxy_pass http://gunicorn;\n",
      "    }\n",
      "    location / {\n",
      "      return 404 \"{}\";\n",
      "    }\n",
      "  }\u001b[0m\n",
      "\u001b[34m}\u001b[0m\n",
      "\u001b[34m[2024-11-03 11:29:41 +0000] [27] [INFO] Starting gunicorn 19.10.0\u001b[0m\n",
      "\u001b[34m[2024-11-03 11:29:41 +0000] [27] [INFO] Listening at: unix:/tmp/gunicorn.sock (27)\u001b[0m\n",
      "\u001b[34m[2024-11-03 11:29:41 +0000] [27] [INFO] Using worker: gevent\u001b[0m\n",
      "\u001b[34m[2024-11-03 11:29:41 +0000] [38] [INFO] Booting worker with pid: 38\u001b[0m\n",
      "\u001b[34m[2024-11-03 11:29:41 +0000] [39] [INFO] Booting worker with pid: 39\u001b[0m\n",
      "\u001b[34m[2024-11-03 11:29:41 +0000] [47] [INFO] Booting worker with pid: 47\u001b[0m\n",
      "\u001b[34m[2024-11-03 11:29:41 +0000] [55] [INFO] Booting worker with pid: 55\u001b[0m\n",
      "\u001b[35m[2024-11-03:11:29:40:INFO] No GPUs detected (normal if no gpus installed)\u001b[0m\n",
      "\u001b[35m[2024-11-03:11:29:40:INFO] No GPUs detected (normal if no gpus installed)\u001b[0m\n",
      "\u001b[35m[2024-11-03:11:29:40:INFO] nginx config: \u001b[0m\n",
      "\u001b[35mworker_processes auto;\u001b[0m\n",
      "\u001b[35mdaemon off;\u001b[0m\n",
      "\u001b[35mpid /tmp/nginx.pid;\u001b[0m\n",
      "\u001b[35merror_log  /dev/stderr;\u001b[0m\n",
      "\u001b[35mworker_rlimit_nofile 4096;\u001b[0m\n",
      "\u001b[35mevents {\n",
      "  worker_connections 2048;\u001b[0m\n",
      "\u001b[35m}\u001b[0m\n",
      "\u001b[35mhttp {\n",
      "  include /etc/nginx/mime.types;\n",
      "  default_type application/octet-stream;\n",
      "  access_log /dev/stdout combined;\n",
      "  upstream gunicorn {\n",
      "    server unix:/tmp/gunicorn.sock;\n",
      "  }\n",
      "  server {\n",
      "    listen 8080 deferred;\n",
      "    client_max_body_size 0;\n",
      "    keepalive_timeout 3;\n",
      "    location ~ ^/(ping|invocations|execution-parameters) {\n",
      "      proxy_set_header X-Forwarded-For $proxy_add_x_forwarded_for;\n",
      "      proxy_set_header Host $http_host;\n",
      "      proxy_redirect off;\n",
      "      proxy_read_timeout 60s;\n",
      "      proxy_pass http://gunicorn;\n",
      "    }\n",
      "    location / {\n",
      "      return 404 \"{}\";\n",
      "    }\n",
      "  }\u001b[0m\n",
      "\u001b[35m}\u001b[0m\n",
      "\u001b[35m[2024-11-03 11:29:41 +0000] [27] [INFO] Starting gunicorn 19.10.0\u001b[0m\n",
      "\u001b[35m[2024-11-03 11:29:41 +0000] [27] [INFO] Listening at: unix:/tmp/gunicorn.sock (27)\u001b[0m\n",
      "\u001b[35m[2024-11-03 11:29:41 +0000] [27] [INFO] Using worker: gevent\u001b[0m\n",
      "\u001b[35m[2024-11-03 11:29:41 +0000] [38] [INFO] Booting worker with pid: 38\u001b[0m\n",
      "\u001b[35m[2024-11-03 11:29:41 +0000] [39] [INFO] Booting worker with pid: 39\u001b[0m\n",
      "\u001b[35m[2024-11-03 11:29:41 +0000] [47] [INFO] Booting worker with pid: 47\u001b[0m\n",
      "\u001b[35m[2024-11-03 11:29:41 +0000] [55] [INFO] Booting worker with pid: 55\u001b[0m\n",
      "\u001b[34m[2024-11-03 11:29:41 +0000] [56] [INFO] Booting worker with pid: 56\u001b[0m\n",
      "\u001b[34m[2024-11-03 11:29:41 +0000] [57] [INFO] Booting worker with pid: 57\u001b[0m\n",
      "\u001b[34m[2024-11-03 11:29:41 +0000] [58] [INFO] Booting worker with pid: 58\u001b[0m\n",
      "\u001b[34m[2024-11-03 11:29:41 +0000] [66] [INFO] Booting worker with pid: 66\u001b[0m\n",
      "\u001b[35m[2024-11-03 11:29:41 +0000] [56] [INFO] Booting worker with pid: 56\u001b[0m\n",
      "\u001b[35m[2024-11-03 11:29:41 +0000] [57] [INFO] Booting worker with pid: 57\u001b[0m\n",
      "\u001b[35m[2024-11-03 11:29:41 +0000] [58] [INFO] Booting worker with pid: 58\u001b[0m\n",
      "\u001b[35m[2024-11-03 11:29:41 +0000] [66] [INFO] Booting worker with pid: 66\u001b[0m\n",
      "\u001b[34m[2024-11-03:11:29:45:INFO] No GPUs detected (normal if no gpus installed)\u001b[0m\n",
      "\u001b[34m169.254.255.130 - - [03/Nov/2024:11:29:45 +0000] \"GET /ping HTTP/1.1\" 200 0 \"-\" \"Go-http-client/1.1\"\u001b[0m\n",
      "\u001b[34m169.254.255.130 - - [03/Nov/2024:11:29:45 +0000] \"GET /execution-parameters HTTP/1.1\" 200 84 \"-\" \"Go-http-client/1.1\"\u001b[0m\n",
      "\u001b[34m[2024-11-03:11:29:45:INFO] No GPUs detected (normal if no gpus installed)\u001b[0m\n",
      "\u001b[34m[2024-11-03:11:29:45:INFO] No GPUs detected (normal if no gpus installed)\u001b[0m\n",
      "\u001b[34m[2024-11-03:11:29:45:INFO] Determined delimiter of CSV input is ','\u001b[0m\n",
      "\u001b[34m[2024-11-03:11:29:45:INFO] No GPUs detected (normal if no gpus installed)\u001b[0m\n",
      "\u001b[35m[2024-11-03:11:29:45:INFO] No GPUs detected (normal if no gpus installed)\u001b[0m\n",
      "\u001b[35m169.254.255.130 - - [03/Nov/2024:11:29:45 +0000] \"GET /ping HTTP/1.1\" 200 0 \"-\" \"Go-http-client/1.1\"\u001b[0m\n",
      "\u001b[35m169.254.255.130 - - [03/Nov/2024:11:29:45 +0000] \"GET /execution-parameters HTTP/1.1\" 200 84 \"-\" \"Go-http-client/1.1\"\u001b[0m\n",
      "\u001b[35m[2024-11-03:11:29:45:INFO] No GPUs detected (normal if no gpus installed)\u001b[0m\n",
      "\u001b[35m[2024-11-03:11:29:45:INFO] No GPUs detected (normal if no gpus installed)\u001b[0m\n",
      "\u001b[35m[2024-11-03:11:29:45:INFO] Determined delimiter of CSV input is ','\u001b[0m\n",
      "\u001b[35m[2024-11-03:11:29:45:INFO] No GPUs detected (normal if no gpus installed)\u001b[0m\n",
      "\u001b[34m[2024-11-03:11:29:45:INFO] Determined delimiter of CSV input is ','\u001b[0m\n",
      "\u001b[34m[2024-11-03:11:29:45:INFO] No GPUs detected (normal if no gpus installed)\u001b[0m\n",
      "\u001b[34m[2024-11-03:11:29:45:INFO] Determined delimiter of CSV input is ','\u001b[0m\n",
      "\u001b[34m[2024-11-03:11:29:45:INFO] No GPUs detected (normal if no gpus installed)\u001b[0m\n",
      "\u001b[34m[2024-11-03:11:29:45:INFO] Determined delimiter of CSV input is ','\u001b[0m\n",
      "\u001b[34m[2024-11-03:11:29:45:INFO] Determined delimiter of CSV input is ','\u001b[0m\n",
      "\u001b[34m[2024-11-03:11:29:45:INFO] Determined delimiter of CSV input is ','\u001b[0m\n",
      "\u001b[35m[2024-11-03:11:29:45:INFO] Determined delimiter of CSV input is ','\u001b[0m\n",
      "\u001b[35m[2024-11-03:11:29:45:INFO] No GPUs detected (normal if no gpus installed)\u001b[0m\n",
      "\u001b[35m[2024-11-03:11:29:45:INFO] Determined delimiter of CSV input is ','\u001b[0m\n",
      "\u001b[35m[2024-11-03:11:29:45:INFO] No GPUs detected (normal if no gpus installed)\u001b[0m\n",
      "\u001b[35m[2024-11-03:11:29:45:INFO] Determined delimiter of CSV input is ','\u001b[0m\n",
      "\u001b[35m[2024-11-03:11:29:45:INFO] Determined delimiter of CSV input is ','\u001b[0m\n",
      "\u001b[35m[2024-11-03:11:29:45:INFO] Determined delimiter of CSV input is ','\u001b[0m\n",
      "\u001b[32m2024-11-03T11:29:45.176:[sagemaker logs]: MaxConcurrentTransforms=8, MaxPayloadInMB=6, BatchStrategy=MULTI_RECORD\u001b[0m\n",
      "\u001b[34m169.254.255.130 - - [03/Nov/2024:11:29:48 +0000] \"POST /invocations HTTP/1.1\" 200 810585 \"-\" \"Go-http-client/1.1\"\u001b[0m\n",
      "\u001b[34m169.254.255.130 - - [03/Nov/2024:11:29:48 +0000] \"POST /invocations HTTP/1.1\" 200 810248 \"-\" \"Go-http-client/1.1\"\u001b[0m\n",
      "\u001b[34m169.254.255.130 - - [03/Nov/2024:11:29:48 +0000] \"POST /invocations HTTP/1.1\" 200 763589 \"-\" \"Go-http-client/1.1\"\u001b[0m\n",
      "\u001b[35m169.254.255.130 - - [03/Nov/2024:11:29:48 +0000] \"POST /invocations HTTP/1.1\" 200 810585 \"-\" \"Go-http-client/1.1\"\u001b[0m\n",
      "\u001b[35m169.254.255.130 - - [03/Nov/2024:11:29:48 +0000] \"POST /invocations HTTP/1.1\" 200 810248 \"-\" \"Go-http-client/1.1\"\u001b[0m\n",
      "\u001b[35m169.254.255.130 - - [03/Nov/2024:11:29:48 +0000] \"POST /invocations HTTP/1.1\" 200 763589 \"-\" \"Go-http-client/1.1\"\u001b[0m\n",
      "\u001b[34m169.254.255.130 - - [03/Nov/2024:11:29:48 +0000] \"POST /invocations HTTP/1.1\" 200 810334 \"-\" \"Go-http-client/1.1\"\u001b[0m\n",
      "\u001b[34m169.254.255.130 - - [03/Nov/2024:11:29:48 +0000] \"POST /invocations HTTP/1.1\" 200 810410 \"-\" \"Go-http-client/1.1\"\u001b[0m\n",
      "\u001b[34m169.254.255.130 - - [03/Nov/2024:11:29:48 +0000] \"POST /invocations HTTP/1.1\" 200 810277 \"-\" \"Go-http-client/1.1\"\u001b[0m\n",
      "\u001b[35m169.254.255.130 - - [03/Nov/2024:11:29:48 +0000] \"POST /invocations HTTP/1.1\" 200 810334 \"-\" \"Go-http-client/1.1\"\u001b[0m\n",
      "\u001b[35m169.254.255.130 - - [03/Nov/2024:11:29:48 +0000] \"POST /invocations HTTP/1.1\" 200 810410 \"-\" \"Go-http-client/1.1\"\u001b[0m\n",
      "\u001b[35m169.254.255.130 - - [03/Nov/2024:11:29:48 +0000] \"POST /invocations HTTP/1.1\" 200 810277 \"-\" \"Go-http-client/1.1\"\u001b[0m\n"
     ]
    }
   ],
   "source": [
    "# Start the batch transform job for generating predictions on the batch input data\n",
    "# - data: Specifies the S3 location of the batch input file\n",
    "# - data_type: Defines the data source type; \"S3Prefix\" indicates data is stored in S3\n",
    "# - content_type: Specifies the format of the input data (\"text/csv\" for CSV files)\n",
    "# - split_type: Determines how to split the input data; \"Line\" treats each line as a separate record\n",
    "xgboost_transformer.transform(\n",
    "    data=batch_input_location, data_type=\"S3Prefix\", content_type=\"text/csv\", split_type=\"Line\"\n",
    ")\n",
    "\n",
    "# Wait for the batch transform job to complete\n",
    "# This ensures that subsequent steps don’t proceed until batch processing is finished\n",
    "xgboost_transformer.wait()"
   ]
  },
  {
   "cell_type": "markdown",
   "metadata": {},
   "source": [
    "# Retrieving and Processing Batch Prediction Results"
   ]
  },
  {
   "cell_type": "code",
   "execution_count": null,
   "metadata": {},
   "outputs": [],
   "source": [
    "# Initialize the S3 client to interact with S3 resources\n",
    "s3_client = boto3.client(\"s3\")\n",
    "\n",
    "# Retrieve the batch output file generated by the batch transform job\n",
    "# - Bucket: Specifies the S3 bucket name\n",
    "# - Key: Specifies the path to the output file generated by the batch transform job\n",
    "batch_output_object = s3_client.get_object(\n",
    "    Bucket=s3_container_name, Key=\"{}/batch-out/{}\".format(s3_prefix, \"batch_input_data.csv.out\")\n",
    ")\n",
    "\n",
    "# Read the batch output file into a DataFrame\n",
    "# - Converts the binary content of the S3 object to a CSV format with \"class\" as the column name\n",
    "predicted_target = pd.read_csv(io.BytesIO(batch_output_object[\"Body\"].read()), names=[\"class\"])\n"
   ]
  },
  {
   "cell_type": "code",
   "execution_count": null,
   "metadata": {},
   "outputs": [
    {
     "name": "stdout",
     "output_type": "stream",
     "text": [
      "0    0\n",
      "1    0\n",
      "2    0\n",
      "3    0\n",
      "4    0\n",
      "Name: class, dtype: int64\n",
      "         target  Distance  Quarter_2  Quarter_3  Quarter_4  Month_2  Month_3  \\\n",
      "470151      0.0    1947.0          1          0          0        0        0   \n",
      "985696      0.0     925.0          0          0          1        0        0   \n",
      "394886      0.0     862.0          0          0          0        1        0   \n",
      "924542      0.0    1744.0          0          1          0        0        0   \n",
      "1533313     0.0     936.0          1          0          0        0        0   \n",
      "\n",
      "         Month_4  Month_5  Month_6  ...  Dest_DEN  Dest_DFW  Dest_IAH  \\\n",
      "470151         0        1        0  ...         0         0         0   \n",
      "985696         0        0        0  ...         0         0         0   \n",
      "394886         0        0        0  ...         1         0         0   \n",
      "924542         0        0        0  ...         0         0         0   \n",
      "1533313        0        0        1  ...         0         1         0   \n",
      "\n",
      "         Dest_LAX  Dest_ORD  Dest_PHX  Dest_SFO  DepHourofDay_7-12  \\\n",
      "470151          0         0         0         0                  0   \n",
      "985696          0         1         0         0                  0   \n",
      "394886          0         0         0         0                  1   \n",
      "924542          1         0         0         0                  1   \n",
      "1533313         0         0         0         0                  1   \n",
      "\n",
      "         DepHourofDay_13-18  DepHourofDay_19-23  \n",
      "470151                    1                   0  \n",
      "985696                    1                   0  \n",
      "394886                    0                   0  \n",
      "924542                    0                   0  \n",
      "1533313                   0                   0  \n",
      "\n",
      "[5 rows x 75 columns]\n",
      "470151     0.0\n",
      "985696     0.0\n",
      "394886     0.0\n",
      "924542     0.0\n",
      "1533313    0.0\n",
      "Name: target, dtype: float64\n"
     ]
    }
   ],
   "source": [
    "# Function to convert predicted probability values to binary labels (0 or 1)\n",
    "# - Values above the threshold (0.3) are classified as 1 (positive class)\n",
    "# - Values at or below the threshold are classified as 0 (negative class)\n",
    "def convert_to_binary(value):\n",
    "    threshold_value = 0.3  # Set threshold for classification\n",
    "    if value > threshold_value:\n",
    "        return 1\n",
    "    else:\n",
    "        return 0\n",
    "\n",
    "# Apply the binary conversion function to the predicted target values\n",
    "# - This converts the \"class\" column in predicted_target to binary values based on the threshold\n",
    "predicted_target_binary = predicted_target[\"class\"].apply(convert_to_binary)\n",
    "\n",
    "# Print the first five binary-converted predictions for verification\n",
    "print(predicted_target_binary.head(5))\n",
    "\n",
    "# Display the first five rows of the test dataset for comparison\n",
    "print(testing_data.head(5))\n",
    "\n",
    "# Extract the true labels from the testing dataset\n",
    "# - Selects the first column, which contains the actual target labels\n",
    "actual_test_labels = testing_data.iloc[:, 0]\n",
    "\n",
    "# Display the first five labels for verification\n",
    "print(actual_test_labels.head(5))\n"
   ]
  },
  {
   "cell_type": "markdown",
   "metadata": {},
   "source": [
    "# Prediction Results of model"
   ]
  },
  {
   "cell_type": "code",
   "execution_count": null,
   "metadata": {},
   "outputs": [
    {
     "name": "stdout",
     "output_type": "stream",
     "text": [
      "Classification Report on Test Data\n",
      "              precision    recall  f1-score   support\n",
      "\n",
      "         0.0       0.83      0.88      0.85    193838\n",
      "         1.0       0.40      0.30      0.34     51500\n",
      "\n",
      "    accuracy                           0.76    245338\n",
      "   macro avg       0.61      0.59      0.60    245338\n",
      "weighted avg       0.74      0.76      0.75    245338\n",
      "\n"
     ]
    }
   ],
   "source": [
    "# Import classification_report from sklearn to evaluate model performance\n",
    "from sklearn.metrics import classification_report\n",
    "\n",
    "# Generate and display the classification report for the test data\n",
    "# - Compares the actual test labels with the binary-converted predicted labels\n",
    "print(\"Classification Report on Test Data\")\n",
    "print(classification_report(actual_test_labels, predicted_target_binary))"
   ]
  },
  {
   "cell_type": "code",
   "execution_count": null,
   "metadata": {},
   "outputs": [],
   "source": [
    "from sklearn.metrics import confusion_matrix\n",
    "import matplotlib.pyplot as plt\n",
    "import seaborn as sns\n",
    "# Function to plot a confusion matrix\n",
    "# This function generates a heatmap to visualize the confusion matrix,\n",
    "# which helps assess the accuracy of classification by comparing actual and predicted labels.\n",
    "def display_confusion_matrix(actual_labels, predicted_labels):\n",
    "    # Generate the confusion matrix\n",
    "    # The matrix compares actual labels with predicted labels to show true positives, false positives, etc.\n",
    "    confusion_mat = confusion_matrix(actual_labels, predicted_labels)\n",
    "    # Create a heatmap for the confusion matrix\n",
    "    # This provides a visual representation of the matrix for easy interpretation.\n",
    "    sns.heatmap(\n",
    "        confusion_mat,\n",
    "        annot=True,               # Display numerical values within each cell\n",
    "        fmt=\"d\",                  # Format as integer values\n",
    "        cmap=\"Blues\",             # Color scheme for the heatmap\n",
    "        xticklabels=[\"On-Time\", \"Delayed\"],  # Labels for the x-axis (predicted outcomes)\n",
    "        yticklabels=[\"On-Time\", \"Delayed\"],  # Labels for the y-axis (actual outcomes)\n",
    "    )\n",
    "    # Label the plot axes and title\n",
    "    plt.xlabel(\"Predicted Labels\")  # Label for the x-axis\n",
    "    plt.ylabel(\"Actual Labels\")     # Label for the y-axis\n",
    "    plt.title(\"Confusion Matrix\")   # Title of the plot\n",
    "    plt.show()                      # Display the plot"
   ]
  },
  {
   "cell_type": "code",
   "execution_count": null,
   "metadata": {},
   "outputs": [
    {
     "data": {
      "image/png": "[encoded data removed]",
      "text/plain": [
       "<Figure size 640x480 with 2 Axes>"
      ]
     },
     "metadata": {},
     "output_type": "display_data"
    }
   ],
   "source": [
    "# Plot the confusion matrix to visualize model performance on the test data\n",
    "# - Compares the true test labels with the predicted binary labels\n",
    "display_confusion_matrix(actual_test_labels, predicted_target_binary)"
   ]
  },
  {
   "cell_type": "markdown",
   "metadata": {},
   "source": [
    "# Ensambel Model for csv_v2"
   ]
  },
  {
   "cell_type": "markdown",
   "metadata": {},
   "source": [
    "# S3 Bucket Setup and Validation\n",
    "\n",
    "In this section, we set up the S3 bucket and check if it already exists. If the bucket does not exist, we create it to ensure that all necessary storage resources are available for our project."
   ]
  },
  {
   "cell_type": "code",
   "execution_count": null,
   "metadata": {},
   "outputs": [
    {
     "name": "stdout",
     "output_type": "stream",
     "text": [
      "Bucket 'u3265713-uni-can-dsts-assn1-ensembel' is not found.\n",
      "S3 Bucket: u3265713-uni-can-dsts-assn1-ensembel has been successfully created.\n"
     ]
    }
   ],
   "source": [
    "# Set the S3 bucket name with valid characters\n",
    "s3_container_name = \"u3265713-uni-can-dsts-assn1-ensembel\"\n",
    "# Fetch the S3 resource\n",
    "s3_instance = boto3.Session().resource(\"s3\")\n",
    "# Check if the bucket exists\n",
    "container_exists = verify_bucket_presence(s3_container_name)\n",
    "# Create the bucket if it doesn't exist\n",
    "if not container_exists:\n",
    "    initialize_s3_container(s3_container_name)\n"
   ]
  },
  {
   "cell_type": "markdown",
   "metadata": {},
   "source": [
    "# Setting S3 Path Prefix and Uploading CSV Data to S3\n",
    "\n",
    "In this section, we define a prefix for the S3 path and create a function to upload a DataFrame as a CSV file to an S3 bucket. This setup is essential for organizing and storing data in a structured manner within AWS S3."
   ]
  },
  {
   "cell_type": "code",
   "execution_count": null,
   "metadata": {},
   "outputs": [],
   "source": [
    "# Setting the prefix for the S3 path\n",
    "s3_prefix = \"oncloud\"\n",
    "\n",
    "# Function to upload CSV data to AWS S3\n",
    "def upload_csv_to_s3(file_name, subfolder, data_frame):\n",
    "    csv_memory_buffer = io.StringIO()\n",
    "    data_frame.to_csv(csv_memory_buffer, header=False, index=False)\n",
    "    print(s3_instance.Bucket(s3_container_name))\n",
    "    s3_instance.Bucket(s3_container_name).Object(os.path.join(s3_prefix, subfolder, file_name)).put(\n",
    "        Body=csv_memory_buffer.getvalue()\n",
    "    )\n"
   ]
  },
  {
   "cell_type": "markdown",
   "metadata": {},
   "source": [
    "# Loading the Dataset"
   ]
  },
  {
   "cell_type": "code",
   "execution_count": null,
   "metadata": {},
   "outputs": [
    {
     "name": "stdout",
     "output_type": "stream",
     "text": [
      "   target  Distance  AWND_O  PRCP_O  TAVG_O  AWND_D  PRCP_D  TAVG_D  SNOW_O  \\\n",
      "0     0.0     689.0      33       0    54.0      30       0   130.0     0.0   \n",
      "1     0.0     731.0      39       0   136.0      33       0    54.0     0.0   \n",
      "2     0.0    1199.0      33       0    54.0      77       0    68.0     0.0   \n",
      "3     0.0    1587.0      33       0    54.0      20       0   165.0     0.0   \n",
      "4     0.0    1587.0      20       0   165.0      33       0    54.0     0.0   \n",
      "\n",
      "   SNOW_D  ...  Dest_DFW  Dest_IAH  Dest_LAX  Dest_ORD  Dest_PHX  Dest_SFO  \\\n",
      "0     0.0  ...     False      True     False     False     False     False   \n",
      "1     0.0  ...     False     False     False     False     False     False   \n",
      "2     0.0  ...     False     False     False     False     False     False   \n",
      "3     0.0  ...     False     False     False     False      True     False   \n",
      "4     0.0  ...     False     False     False     False     False     False   \n",
      "\n",
      "   is_holiday_True  DepHourofDay_7-12  DepHourofDay_13-18  DepHourofDay_19-23  \n",
      "0            False              False               False                True  \n",
      "1            False               True               False               False  \n",
      "2            False              False               False                True  \n",
      "3            False              False                True               False  \n",
      "4            False               True               False               False  \n",
      "\n",
      "[5 rows x 88 columns]\n",
      "(1635590, 88)\n"
     ]
    }
   ],
   "source": [
    "# Load the data\n",
    "dataset_v1 = pd.read_csv(\"./combined_csv_v2.csv\")\n",
    "\n",
    "print(dataset_v1.head())\n",
    "print(dataset_v1.shape)\n"
   ]
  },
  {
   "cell_type": "markdown",
   "metadata": {},
   "source": [
    "# Creating a Copy of the Dataset"
   ]
  },
  {
   "cell_type": "code",
   "execution_count": null,
   "metadata": {},
   "outputs": [],
   "source": [
    "# Copying the data \n",
    "df = dataset_v1.copy()"
   ]
  },
  {
   "cell_type": "markdown",
   "metadata": {},
   "source": [
    "# Data Transformation: Converting Boolean Values"
   ]
  },
  {
   "cell_type": "code",
   "execution_count": null,
   "metadata": {},
   "outputs": [
    {
     "data": {
      "text/html": [
       "<div>\n",
       "<style scoped>\n",
       "    .dataframe tbody tr th:only-of-type {\n",
       "        vertical-align: middle;\n",
       "    }\n",
       "\n",
       "    .dataframe tbody tr th {\n",
       "        vertical-align: top;\n",
       "    }\n",
       "\n",
       "    .dataframe thead th {\n",
       "        text-align: right;\n",
       "    }\n",
       "</style>\n",
       "<table border=\"1\" class=\"dataframe\">\n",
       "  <thead>\n",
       "    <tr style=\"text-align: right;\">\n",
       "      <th></th>\n",
       "      <th>target</th>\n",
       "      <th>Distance</th>\n",
       "      <th>AWND_O</th>\n",
       "      <th>PRCP_O</th>\n",
       "      <th>TAVG_O</th>\n",
       "      <th>AWND_D</th>\n",
       "      <th>PRCP_D</th>\n",
       "      <th>TAVG_D</th>\n",
       "      <th>SNOW_O</th>\n",
       "      <th>SNOW_D</th>\n",
       "      <th>...</th>\n",
       "      <th>Dest_DFW</th>\n",
       "      <th>Dest_IAH</th>\n",
       "      <th>Dest_LAX</th>\n",
       "      <th>Dest_ORD</th>\n",
       "      <th>Dest_PHX</th>\n",
       "      <th>Dest_SFO</th>\n",
       "      <th>is_holiday_True</th>\n",
       "      <th>DepHourofDay_7-12</th>\n",
       "      <th>DepHourofDay_13-18</th>\n",
       "      <th>DepHourofDay_19-23</th>\n",
       "    </tr>\n",
       "  </thead>\n",
       "  <tbody>\n",
       "    <tr>\n",
       "      <th>0</th>\n",
       "      <td>0.0</td>\n",
       "      <td>689.0</td>\n",
       "      <td>33</td>\n",
       "      <td>0</td>\n",
       "      <td>54.0</td>\n",
       "      <td>30</td>\n",
       "      <td>0</td>\n",
       "      <td>130.0</td>\n",
       "      <td>0.0</td>\n",
       "      <td>0.0</td>\n",
       "      <td>...</td>\n",
       "      <td>0</td>\n",
       "      <td>1</td>\n",
       "      <td>0</td>\n",
       "      <td>0</td>\n",
       "      <td>0</td>\n",
       "      <td>0</td>\n",
       "      <td>0</td>\n",
       "      <td>0</td>\n",
       "      <td>0</td>\n",
       "      <td>1</td>\n",
       "    </tr>\n",
       "    <tr>\n",
       "      <th>1</th>\n",
       "      <td>0.0</td>\n",
       "      <td>731.0</td>\n",
       "      <td>39</td>\n",
       "      <td>0</td>\n",
       "      <td>136.0</td>\n",
       "      <td>33</td>\n",
       "      <td>0</td>\n",
       "      <td>54.0</td>\n",
       "      <td>0.0</td>\n",
       "      <td>0.0</td>\n",
       "      <td>...</td>\n",
       "      <td>0</td>\n",
       "      <td>0</td>\n",
       "      <td>0</td>\n",
       "      <td>0</td>\n",
       "      <td>0</td>\n",
       "      <td>0</td>\n",
       "      <td>0</td>\n",
       "      <td>1</td>\n",
       "      <td>0</td>\n",
       "      <td>0</td>\n",
       "    </tr>\n",
       "    <tr>\n",
       "      <th>2</th>\n",
       "      <td>0.0</td>\n",
       "      <td>1199.0</td>\n",
       "      <td>33</td>\n",
       "      <td>0</td>\n",
       "      <td>54.0</td>\n",
       "      <td>77</td>\n",
       "      <td>0</td>\n",
       "      <td>68.0</td>\n",
       "      <td>0.0</td>\n",
       "      <td>0.0</td>\n",
       "      <td>...</td>\n",
       "      <td>0</td>\n",
       "      <td>0</td>\n",
       "      <td>0</td>\n",
       "      <td>0</td>\n",
       "      <td>0</td>\n",
       "      <td>0</td>\n",
       "      <td>0</td>\n",
       "      <td>0</td>\n",
       "      <td>0</td>\n",
       "      <td>1</td>\n",
       "    </tr>\n",
       "    <tr>\n",
       "      <th>3</th>\n",
       "      <td>0.0</td>\n",
       "      <td>1587.0</td>\n",
       "      <td>33</td>\n",
       "      <td>0</td>\n",
       "      <td>54.0</td>\n",
       "      <td>20</td>\n",
       "      <td>0</td>\n",
       "      <td>165.0</td>\n",
       "      <td>0.0</td>\n",
       "      <td>0.0</td>\n",
       "      <td>...</td>\n",
       "      <td>0</td>\n",
       "      <td>0</td>\n",
       "      <td>0</td>\n",
       "      <td>0</td>\n",
       "      <td>1</td>\n",
       "      <td>0</td>\n",
       "      <td>0</td>\n",
       "      <td>0</td>\n",
       "      <td>1</td>\n",
       "      <td>0</td>\n",
       "    </tr>\n",
       "    <tr>\n",
       "      <th>4</th>\n",
       "      <td>0.0</td>\n",
       "      <td>1587.0</td>\n",
       "      <td>20</td>\n",
       "      <td>0</td>\n",
       "      <td>165.0</td>\n",
       "      <td>33</td>\n",
       "      <td>0</td>\n",
       "      <td>54.0</td>\n",
       "      <td>0.0</td>\n",
       "      <td>0.0</td>\n",
       "      <td>...</td>\n",
       "      <td>0</td>\n",
       "      <td>0</td>\n",
       "      <td>0</td>\n",
       "      <td>0</td>\n",
       "      <td>0</td>\n",
       "      <td>0</td>\n",
       "      <td>0</td>\n",
       "      <td>1</td>\n",
       "      <td>0</td>\n",
       "      <td>0</td>\n",
       "    </tr>\n",
       "  </tbody>\n",
       "</table>\n",
       "<p>5 rows × 88 columns</p>\n",
       "</div>"
      ],
      "text/plain": [
       "   target  Distance  AWND_O  PRCP_O  TAVG_O  AWND_D  PRCP_D  TAVG_D  SNOW_O  \\\n",
       "0     0.0     689.0      33       0    54.0      30       0   130.0     0.0   \n",
       "1     0.0     731.0      39       0   136.0      33       0    54.0     0.0   \n",
       "2     0.0    1199.0      33       0    54.0      77       0    68.0     0.0   \n",
       "3     0.0    1587.0      33       0    54.0      20       0   165.0     0.0   \n",
       "4     0.0    1587.0      20       0   165.0      33       0    54.0     0.0   \n",
       "\n",
       "   SNOW_D  ...  Dest_DFW  Dest_IAH  Dest_LAX  Dest_ORD  Dest_PHX  Dest_SFO  \\\n",
       "0     0.0  ...         0         1         0         0         0         0   \n",
       "1     0.0  ...         0         0         0         0         0         0   \n",
       "2     0.0  ...         0         0         0         0         0         0   \n",
       "3     0.0  ...         0         0         0         0         1         0   \n",
       "4     0.0  ...         0         0         0         0         0         0   \n",
       "\n",
       "   is_holiday_True  DepHourofDay_7-12  DepHourofDay_13-18  DepHourofDay_19-23  \n",
       "0                0                  0                   0                   1  \n",
       "1                0                  1                   0                   0  \n",
       "2                0                  0                   0                   1  \n",
       "3                0                  0                   1                   0  \n",
       "4                0                  1                   0                   0  \n",
       "\n",
       "[5 rows x 88 columns]"
      ]
     },
     "metadata": {},
     "output_type": "display_data"
    }
   ],
   "source": [
    "# Replacing True/False with 1/0 directly in df\n",
    "df = df.replace({True: 1, False: 0})\n",
    "df.head(5)\n"
   ]
  },
  {
   "cell_type": "markdown",
   "metadata": {},
   "source": [
    "# Splitting the dataset"
   ]
  },
  {
   "cell_type": "code",
   "execution_count": null,
   "metadata": {},
   "outputs": [],
   "source": [
    "# Split the data into training and a combined testing/validation set (70% train, 30% test/validate)\n",
    "training_data, testing_validation_data = train_test_split(\n",
    "    df, test_size=0.3, random_state=42, stratify=df[\"target\"]\n",
    ")\n",
    "\n",
    "# Further split the testing_validation_data set into separate testing and validation sets (15% each of the original data)\n",
    "testing_data, validation_data = train_test_split(\n",
    "    testing_validation_data,\n",
    "    test_size=0.5,\n",
    "    random_state=42,\n",
    "    stratify=testing_validation_data[\"target\"],\n",
    ")"
   ]
  },
  {
   "cell_type": "code",
   "execution_count": null,
   "metadata": {},
   "outputs": [
    {
     "name": "stdout",
     "output_type": "stream",
     "text": [
      "(1144913, 88)\n",
      "(245338, 88)\n",
      "(245339, 88)\n"
     ]
    }
   ],
   "source": [
    "# Printing the shapes of each set \n",
    "print(training_data.shape)\n",
    "print(testing_data.shape)\n",
    "print(validation_data.shape)"
   ]
  },
  {
   "cell_type": "markdown",
   "metadata": {},
   "source": [
    "# Defining File Names for Data Subsets"
   ]
  },
  {
   "cell_type": "code",
   "execution_count": null,
   "metadata": {},
   "outputs": [],
   "source": [
    "# Set the names of the CSV files for each data subset\n",
    "# These file names will be used to save the training, testing, and validation datasets \n",
    "# as CSV files, allowing for easy upload to S3 and subsequent use in modeling.\n",
    "training_file_name = \"data_v1_train.csv\"      # Filename for the training dataset\n",
    "testing_file_name = \"data_v1_test.csv\"        # Filename for the testing dataset\n",
    "validation_file_name = \"data_v1_validate.csv\" # Filename for the validation dataset\n"
   ]
  },
  {
   "cell_type": "code",
   "execution_count": null,
   "metadata": {},
   "outputs": [
    {
     "name": "stdout",
     "output_type": "stream",
     "text": [
      "s3.Bucket(name='u3265713-uni-can-dsts-assn1-ensembel')\n",
      "s3.Bucket(name='u3265713-uni-can-dsts-assn1-ensembel')\n",
      "s3.Bucket(name='u3265713-uni-can-dsts-assn1-ensembel')\n"
     ]
    }
   ],
   "source": [
    "# Upload each dataset subset to the specified S3 locations using the `upload_csv_to_s3` function\n",
    "# This will ensure that the data is accessible for model training in SageMaker\n",
    "upload_csv_to_s3(training_file_name, \"train\", training_data)      # Upload training data to 'train' subfolder\n",
    "upload_csv_to_s3(testing_file_name, \"test\", testing_data)         # Upload testing data to 'test' subfolder\n",
    "upload_csv_to_s3(validation_file_name, \"validate\", validation_data) # Upload validation data to 'validate' subfolder\n"
   ]
  },
  {
   "cell_type": "markdown",
   "metadata": {},
   "source": [
    "# Setting Up SageMaker Training Environment\n",
    "\n",
    "This section sets up the SageMaker environment for training an XGBoost model. First, it defines input channels to specify the S3 locations for the training and validation datasets, ensuring the data is accessible during model training. Next, it initializes the SageMaker session, retrieves the XGBoost container image, and configures hyperparameters for training. Finally, the XGBoost estimator is set up, specifying model configurations and training parameters required to run the job on SageMaker."
   ]
  },
  {
   "cell_type": "code",
   "execution_count": null,
   "metadata": {},
   "outputs": [],
   "source": [
    "# Import required libraries for setting up the XGBoost container and S3 session\n",
    "import boto3\n",
    "from sagemaker.image_uris import retrieve\n",
    "\n",
    "# Retrieve the XGBoost container image URI for the specified AWS region\n",
    "xgb_container_uri = retrieve(\"xgboost\", \"us-east-1\", version=\"1.0-1\")\n",
    "\n",
    "# Define hyperparameters for the XGBoost model\n",
    "# - num_round: Number of training rounds\n",
    "# - eval_metric: Evaluation metric to optimize\n",
    "# - objective: Learning task and corresponding objective\n",
    "model_hyperparameters = {\n",
    "    \"num_round\": \"42\",\n",
    "    \"eval_metric\": \"auc\",\n",
    "    \"objective\": \"binary:logistic\"\n",
    "}\n",
    "\n",
    "# Import the SageMaker library for model deployment\n",
    "import sagemaker\n",
    "\n",
    "# Set up the SageMaker session to ensure it's aligned with the S3 bucket region\n",
    "# Specifying 'us-east-1' as the region in the session\n",
    "sagemaker_session_instance = sagemaker.Session(boto3.session.Session(region_name=\"us-east-1\"))\n",
    "\n",
    "# Define the S3 output location where model artifacts will be stored after training\n",
    "# Formatting the S3 path using the predefined S3 bucket name and a custom prefix\n",
    "s3_model_output_path = \"s3://{}/{}/output/\".format(s3_container_name, s3_prefix)\n",
    "\n",
    "# Initialize the XGBoost estimator for SageMaker\n",
    "# - container: Specifies the XGBoost container URI\n",
    "# - role: SageMaker execution role for accessing AWS resources\n",
    "# - instance_count: Number of instances for model training\n",
    "# - instance_type: Type of instance to use (ml.c5.4xlarge)\n",
    "# - output_path: S3 path to store the model output\n",
    "# - hyperparameters: Training configuration for the model\n",
    "# - sagemaker_session: Session that ties to the same AWS region as the bucket\n",
    "xgboost_estimator = sagemaker.estimator.Estimator(\n",
    "    xgb_container_uri,\n",
    "    sagemaker.get_execution_role(),\n",
    "    instance_count=1,\n",
    "    instance_type=\"ml.c5.4xlarge\",\n",
    "    output_path=s3_model_output_path,\n",
    "    hyperparameters=model_hyperparameters,\n",
    "    sagemaker_session=sagemaker_session_instance,\n",
    ")\n"
   ]
  },
  {
   "cell_type": "code",
   "execution_count": null,
   "metadata": {},
   "outputs": [
    {
     "name": "stdout",
     "output_type": "stream",
     "text": [
      "Data channels setup:\n",
      " Validation Channel: <sagemaker.inputs.TrainingInput object at 0x7f71b0afabc0> \n",
      " Training Channel: <sagemaker.inputs.TrainingInput object at 0x7f71b0afbbb0>\n"
     ]
    }
   ],
   "source": [
    "# Define the input channels for training and validation data for SageMaker\n",
    "# Using formatted S3 paths to specify the location of training and validation CSV files\n",
    "\n",
    "# Set up the training data channel\n",
    "# This channel points to the S3 location where the training CSV file is stored\n",
    "training_data_channel = sagemaker.inputs.TrainingInput(\n",
    "    \"s3://{}/{}/train/{}\".format(s3_container_name, s3_prefix, training_file_name), content_type=\"text/csv\"\n",
    ")\n",
    "\n",
    "# Set up the validation data channel\n",
    "# This channel points to the S3 location where the validation CSV file is stored\n",
    "validation_data_channel = sagemaker.inputs.TrainingInput(\n",
    "    \"s3://{}/{}/validate/{}\".format(s3_container_name, s3_prefix, validation_file_name),\n",
    "    content_type=\"text/csv\",\n",
    ")\n",
    "\n",
    "# Print confirmation of the data channels for verification\n",
    "print(f\"Data channels setup:\\n Validation Channel: {validation_data_channel} \\n Training Channel: {training_data_channel}\")\n",
    "\n",
    "# Combine both training and validation channels into a dictionary for easy reference\n",
    "data_input_channels = {\"train\": training_data_channel, \"validation\": validation_data_channel}\n"
   ]
  },
  {
   "cell_type": "markdown",
   "metadata": {},
   "source": [
    "# Initiating Model Training and deployment for predictions"
   ]
  },
  {
   "cell_type": "code",
   "execution_count": null,
   "metadata": {},
   "outputs": [
    {
     "name": "stdout",
     "output_type": "stream",
     "text": [
      "\n",
      "2024-11-03 10:43:08 Starting - Starting the training job..\n",
      "2024-11-03 10:43:24 Starting - Preparing the instances for training...\n",
      "2024-11-03 10:43:46 Downloading - Downloading input data...\n",
      "2024-11-03 10:44:06 Downloading - Downloading the training image...\n",
      "2024-11-03 10:44:26 Training - Training image download completed. Training in progress..........\n",
      "2024-11-03 10:45:17 Uploading - Uploading generated training model..\n",
      "2024-11-03 10:45:30 Completed - Training job completed\n"
     ]
    }
   ],
   "source": [
    "# Start training the XGBoost model using the specified input channels\n",
    "# - inputs: Passes in the dictionary of data channels with 'train' and 'validation' paths\n",
    "# - logs=False: Disables the logging output during training\n",
    "xgboost_estimator.fit(inputs=data_input_channels, logs=False)\n"
   ]
  },
  {
   "cell_type": "code",
   "execution_count": null,
   "metadata": {},
   "outputs": [
    {
     "name": "stdout",
     "output_type": "stream",
     "text": [
      "------!"
     ]
    }
   ],
   "source": [
    "# Deploy the trained XGBoost model for real-time predictions\n",
    "# - initial_instance_count: Specifies the number of instances to launch\n",
    "# - serializer: Converts input data to CSV format for compatibility with the model\n",
    "# - instance_type: Defines the instance type to use for deployment\n",
    "xgboost_predictor = xgboost_estimator.deploy(\n",
    "    initial_instance_count=1,\n",
    "    serializer=sagemaker.serializers.CSVSerializer(),\n",
    "    instance_type=\"ml.c5.4xlarge\",\n",
    ")\n"
   ]
  },
  {
   "cell_type": "markdown",
   "metadata": {},
   "source": [
    "# Preparing Batch Data for Predictions"
   ]
  },
  {
   "cell_type": "code",
   "execution_count": null,
   "metadata": {},
   "outputs": [
    {
     "name": "stdout",
     "output_type": "stream",
     "text": [
      "s3.Bucket(name='u3265713-uni-can-dsts-assn1-ensembel')\n"
     ]
    }
   ],
   "source": [
    "# Extract features from the testing dataset by selecting all columns except the target column\n",
    "# This dataset (batch_X_data) will be used for batch prediction\n",
    "batch_X_data = testing_data.iloc[:, 1:]\n",
    "# Replace boolean values with numeric values\n",
    "# - True values are replaced with 1, False values with 0 for compatibility with model input\n",
    "# Uncomment if needed\n",
    "# batch_X_data = batch_X_data.replace({True: 1, False: 0})\n",
    "# Specify the filename for the batch input file for uploading to S3\n",
    "# This file will contain the input features for batch predictions\n",
    "batch_input_filename = \"batch_input_data.csv\"\n",
    "# Save and upload the batch input file to S3 for batch processing\n",
    "# This function will place the file in the specified S3 folder\n",
    "upload_csv_to_s3(batch_input_filename, \"batch-in\", batch_X_data)\n"
   ]
  },
  {
   "cell_type": "code",
   "execution_count": null,
   "metadata": {},
   "outputs": [
    {
     "name": "stdout",
     "output_type": "stream",
     "text": [
      "Total missing values in batch input data: 0\n",
      "Batch input data shape: (245338, 87)\n"
     ]
    }
   ],
   "source": [
    "# Check for any missing values in the batch input data\n",
    "# - .isnull().sum().sum() will return the total count of missing values across all columns\n",
    "missing_values_count = batch_X_data.isnull().sum().sum()\n",
    "print(f\"Total missing values in batch input data: {missing_values_count}\")\n",
    "\n",
    "# Display the shape of the batch input data\n",
    "# - This provides the number of rows (data points) and columns (features) in the batch dataset\n",
    "batch_data_shape = batch_X_data.shape\n",
    "print(f\"Batch input data shape: {batch_data_shape}\")"
   ]
  },
  {
   "cell_type": "markdown",
   "metadata": {},
   "source": [
    "# Batch Transformation for Large-Scale Predictions\n"
   ]
  },
  {
   "cell_type": "code",
   "execution_count": null,
   "metadata": {},
   "outputs": [],
   "source": [
    "# Set the output location for the batch transformation results in S3\n",
    "# This will store the model's batch prediction results in the specified S3 folder\n",
    "batch_output_location = \"s3://{}/{}/batch-out/\".format(s3_container_name, s3_prefix)\n",
    "\n",
    "# Set the input location for the batch transformation\n",
    "# This points to the S3 folder where the batch input data file is stored\n",
    "batch_input_location = \"s3://{}/{}/batch-in/{}\".format(s3_container_name, s3_prefix, batch_input_filename)\n",
    "\n",
    "# Create a transformer object from the trained XGBoost model for batch transformation\n",
    "# - instance_count: Number of instances to use for the batch transformation\n",
    "# - instance_type: Type of instance (ml.c5.2xlarge) for running the batch transform job\n",
    "# - strategy: Specifies the data processing strategy ('MultiRecord' processes multiple records per batch)\n",
    "# - assemble_with: Defines how to combine records in the output ('Line' combines records line by line)\n",
    "# - output_path: Specifies the S3 path where the batch output will be stored\n",
    "xgboost_transformer = xgboost_estimator.transformer(\n",
    "    instance_count=1,\n",
    "    instance_type=\"ml.c5.2xlarge\",\n",
    "    strategy=\"MultiRecord\",\n",
    "    assemble_with=\"Line\",\n",
    "    output_path=batch_output_location,\n",
    ")\n"
   ]
  },
  {
   "cell_type": "code",
   "execution_count": null,
   "metadata": {},
   "outputs": [
    {
     "name": "stdout",
     "output_type": "stream",
     "text": [
      "...............................\u001b[34m[2024-11-03:10:54:50:INFO] No GPUs detected (normal if no gpus installed)\u001b[0m\n",
      "\u001b[35m[2024-11-03:10:54:50:INFO] No GPUs detected (normal if no gpus installed)\u001b[0m\n",
      "\u001b[34m[2024-11-03:10:54:51:INFO] No GPUs detected (normal if no gpus installed)\u001b[0m\n",
      "\u001b[34m[2024-11-03:10:54:51:INFO] nginx config: \u001b[0m\n",
      "\u001b[34mworker_processes auto;\u001b[0m\n",
      "\u001b[34mdaemon off;\u001b[0m\n",
      "\u001b[34mpid /tmp/nginx.pid;\u001b[0m\n",
      "\u001b[34merror_log  /dev/stderr;\u001b[0m\n",
      "\u001b[34mworker_rlimit_nofile 4096;\u001b[0m\n",
      "\u001b[34mevents {\n",
      "  worker_connections 2048;\u001b[0m\n",
      "\u001b[34m}\u001b[0m\n",
      "\u001b[34mhttp {\n",
      "  include /etc/nginx/mime.types;\n",
      "  default_type application/octet-stream;\n",
      "  access_log /dev/stdout combined;\n",
      "  upstream gunicorn {\n",
      "    server unix:/tmp/gunicorn.sock;\n",
      "  }\n",
      "  server {\n",
      "    listen 8080 deferred;\n",
      "    client_max_body_size 0;\n",
      "    keepalive_timeout 3;\n",
      "    location ~ ^/(ping|invocations|execution-parameters) {\n",
      "      proxy_set_header X-Forwarded-For $proxy_add_x_forwarded_for;\n",
      "      proxy_set_header Host $http_host;\n",
      "      proxy_redirect off;\n",
      "      proxy_read_timeout 60s;\n",
      "      proxy_pass http://gunicorn;\n",
      "    }\n",
      "    location / {\n",
      "      return 404 \"{}\";\n",
      "    }\n",
      "  }\u001b[0m\n",
      "\u001b[34m}\u001b[0m\n",
      "\u001b[34m[2024-11-03 10:54:51 +0000] [27] [INFO] Starting gunicorn 19.10.0\u001b[0m\n",
      "\u001b[34m[2024-11-03 10:54:51 +0000] [27] [INFO] Listening at: unix:/tmp/gunicorn.sock (27)\u001b[0m\n",
      "\u001b[34m[2024-11-03 10:54:51 +0000] [27] [INFO] Using worker: gevent\u001b[0m\n",
      "\u001b[34m[2024-11-03 10:54:51 +0000] [38] [INFO] Booting worker with pid: 38\u001b[0m\n",
      "\u001b[34m[2024-11-03 10:54:51 +0000] [39] [INFO] Booting worker with pid: 39\u001b[0m\n",
      "\u001b[34m[2024-11-03 10:54:51 +0000] [40] [INFO] Booting worker with pid: 40\u001b[0m\n",
      "\u001b[34m[2024-11-03 10:54:51 +0000] [48] [INFO] Booting worker with pid: 48\u001b[0m\n",
      "\u001b[34m[2024-11-03 10:54:51 +0000] [56] [INFO] Booting worker with pid: 56\u001b[0m\n",
      "\u001b[35m[2024-11-03:10:54:51:INFO] No GPUs detected (normal if no gpus installed)\u001b[0m\n",
      "\u001b[35m[2024-11-03:10:54:51:INFO] nginx config: \u001b[0m\n",
      "\u001b[35mworker_processes auto;\u001b[0m\n",
      "\u001b[35mdaemon off;\u001b[0m\n",
      "\u001b[35mpid /tmp/nginx.pid;\u001b[0m\n",
      "\u001b[35merror_log  /dev/stderr;\u001b[0m\n",
      "\u001b[35mworker_rlimit_nofile 4096;\u001b[0m\n",
      "\u001b[35mevents {\n",
      "  worker_connections 2048;\u001b[0m\n",
      "\u001b[35m}\u001b[0m\n",
      "\u001b[35mhttp {\n",
      "  include /etc/nginx/mime.types;\n",
      "  default_type application/octet-stream;\n",
      "  access_log /dev/stdout combined;\n",
      "  upstream gunicorn {\n",
      "    server unix:/tmp/gunicorn.sock;\n",
      "  }\n",
      "  server {\n",
      "    listen 8080 deferred;\n",
      "    client_max_body_size 0;\n",
      "    keepalive_timeout 3;\n",
      "    location ~ ^/(ping|invocations|execution-parameters) {\n",
      "      proxy_set_header X-Forwarded-For $proxy_add_x_forwarded_for;\n",
      "      proxy_set_header Host $http_host;\n",
      "      proxy_redirect off;\n",
      "      proxy_read_timeout 60s;\n",
      "      proxy_pass http://gunicorn;\n",
      "    }\n",
      "    location / {\n",
      "      return 404 \"{}\";\n",
      "    }\n",
      "  }\u001b[0m\n",
      "\u001b[35m}\u001b[0m\n",
      "\u001b[35m[2024-11-03 10:54:51 +0000] [27] [INFO] Starting gunicorn 19.10.0\u001b[0m\n",
      "\u001b[35m[2024-11-03 10:54:51 +0000] [27] [INFO] Listening at: unix:/tmp/gunicorn.sock (27)\u001b[0m\n",
      "\u001b[35m[2024-11-03 10:54:51 +0000] [27] [INFO] Using worker: gevent\u001b[0m\n",
      "\u001b[35m[2024-11-03 10:54:51 +0000] [38] [INFO] Booting worker with pid: 38\u001b[0m\n",
      "\u001b[35m[2024-11-03 10:54:51 +0000] [39] [INFO] Booting worker with pid: 39\u001b[0m\n",
      "\u001b[35m[2024-11-03 10:54:51 +0000] [40] [INFO] Booting worker with pid: 40\u001b[0m\n",
      "\u001b[35m[2024-11-03 10:54:51 +0000] [48] [INFO] Booting worker with pid: 48\u001b[0m\n",
      "\u001b[35m[2024-11-03 10:54:51 +0000] [56] [INFO] Booting worker with pid: 56\u001b[0m\n",
      "\u001b[34m[2024-11-03 10:54:51 +0000] [57] [INFO] Booting worker with pid: 57\u001b[0m\n",
      "\u001b[34m[2024-11-03 10:54:51 +0000] [58] [INFO] Booting worker with pid: 58\u001b[0m\n",
      "\u001b[34m[2024-11-03 10:54:51 +0000] [66] [INFO] Booting worker with pid: 66\u001b[0m\n",
      "\u001b[35m[2024-11-03 10:54:51 +0000] [57] [INFO] Booting worker with pid: 57\u001b[0m\n",
      "\u001b[35m[2024-11-03 10:54:51 +0000] [58] [INFO] Booting worker with pid: 58\u001b[0m\n",
      "\u001b[35m[2024-11-03 10:54:51 +0000] [66] [INFO] Booting worker with pid: 66\u001b[0m\n",
      "\u001b[34m[2024-11-03:10:54:55:INFO] No GPUs detected (normal if no gpus installed)\u001b[0m\n",
      "\u001b[34m169.254.255.130 - - [03/Nov/2024:10:54:55 +0000] \"GET /ping HTTP/1.1\" 200 0 \"-\" \"Go-http-client/1.1\"\u001b[0m\n",
      "\u001b[34m169.254.255.130 - - [03/Nov/2024:10:54:55 +0000] \"GET /execution-parameters HTTP/1.1\" 200 84 \"-\" \"Go-http-client/1.1\"\u001b[0m\n",
      "\u001b[35m[2024-11-03:10:54:55:INFO] No GPUs detected (normal if no gpus installed)\u001b[0m\n",
      "\u001b[35m169.254.255.130 - - [03/Nov/2024:10:54:55 +0000] \"GET /ping HTTP/1.1\" 200 0 \"-\" \"Go-http-client/1.1\"\u001b[0m\n",
      "\u001b[35m169.254.255.130 - - [03/Nov/2024:10:54:55 +0000] \"GET /execution-parameters HTTP/1.1\" 200 84 \"-\" \"Go-http-client/1.1\"\u001b[0m\n",
      "\u001b[34m[2024-11-03:10:54:56:INFO] No GPUs detected (normal if no gpus installed)\u001b[0m\n",
      "\u001b[35m[2024-11-03:10:54:56:INFO] No GPUs detected (normal if no gpus installed)\u001b[0m\n",
      "\u001b[32m2024-11-03T10:54:55.460:[sagemaker logs]: MaxConcurrentTransforms=8, MaxPayloadInMB=6, BatchStrategy=MULTI_RECORD\u001b[0m\n",
      "\u001b[34m[2024-11-03:10:54:56:INFO] Determined delimiter of CSV input is ','\u001b[0m\n",
      "\u001b[34m[2024-11-03:10:54:56:INFO] No GPUs detected (normal if no gpus installed)\u001b[0m\n",
      "\u001b[34m[2024-11-03:10:54:56:INFO] Determined delimiter of CSV input is ','\u001b[0m\n",
      "\u001b[34m[2024-11-03:10:54:56:INFO] No GPUs detected (normal if no gpus installed)\u001b[0m\n",
      "\u001b[34m[2024-11-03:10:54:56:INFO] No GPUs detected (normal if no gpus installed)\u001b[0m\n",
      "\u001b[34m[2024-11-03:10:54:56:INFO] Determined delimiter of CSV input is ','\u001b[0m\n",
      "\u001b[34m[2024-11-03:10:54:56:INFO] No GPUs detected (normal if no gpus installed)\u001b[0m\n",
      "\u001b[34m[2024-11-03:10:54:56:INFO] Determined delimiter of CSV input is ','\u001b[0m\n",
      "\u001b[34m[2024-11-03:10:54:56:INFO] Determined delimiter of CSV input is ','\u001b[0m\n",
      "\u001b[34m[2024-11-03:10:54:56:INFO] No GPUs detected (normal if no gpus installed)\u001b[0m\n",
      "\u001b[34m[2024-11-03:10:54:56:INFO] No GPUs detected (normal if no gpus installed)\u001b[0m\n",
      "\u001b[34m[2024-11-03:10:54:56:INFO] Determined delimiter of CSV input is ','\u001b[0m\n",
      "\u001b[34m[2024-11-03:10:54:56:INFO] Determined delimiter of CSV input is ','\u001b[0m\n",
      "\u001b[34m[2024-11-03:10:54:56:INFO] Determined delimiter of CSV input is ','\u001b[0m\n",
      "\u001b[35m[2024-11-03:10:54:56:INFO] Determined delimiter of CSV input is ','\u001b[0m\n",
      "\u001b[35m[2024-11-03:10:54:56:INFO] No GPUs detected (normal if no gpus installed)\u001b[0m\n",
      "\u001b[35m[2024-11-03:10:54:56:INFO] Determined delimiter of CSV input is ','\u001b[0m\n",
      "\u001b[35m[2024-11-03:10:54:56:INFO] No GPUs detected (normal if no gpus installed)\u001b[0m\n",
      "\u001b[35m[2024-11-03:10:54:56:INFO] No GPUs detected (normal if no gpus installed)\u001b[0m\n",
      "\u001b[35m[2024-11-03:10:54:56:INFO] Determined delimiter of CSV input is ','\u001b[0m\n",
      "\u001b[35m[2024-11-03:10:54:56:INFO] No GPUs detected (normal if no gpus installed)\u001b[0m\n",
      "\u001b[35m[2024-11-03:10:54:56:INFO] Determined delimiter of CSV input is ','\u001b[0m\n",
      "\u001b[35m[2024-11-03:10:54:56:INFO] Determined delimiter of CSV input is ','\u001b[0m\n",
      "\u001b[35m[2024-11-03:10:54:56:INFO] No GPUs detected (normal if no gpus installed)\u001b[0m\n",
      "\u001b[35m[2024-11-03:10:54:56:INFO] No GPUs detected (normal if no gpus installed)\u001b[0m\n",
      "\u001b[35m[2024-11-03:10:54:56:INFO] Determined delimiter of CSV input is ','\u001b[0m\n",
      "\u001b[35m[2024-11-03:10:54:56:INFO] Determined delimiter of CSV input is ','\u001b[0m\n",
      "\u001b[35m[2024-11-03:10:54:56:INFO] Determined delimiter of CSV input is ','\u001b[0m\n",
      "\u001b[34m169.254.255.130 - - [03/Nov/2024:10:54:58 +0000] \"POST /invocations HTTP/1.1\" 200 329201 \"-\" \"Go-http-client/1.1\"\u001b[0m\n",
      "\u001b[35m169.254.255.130 - - [03/Nov/2024:10:54:58 +0000] \"POST /invocations HTTP/1.1\" 200 329201 \"-\" \"Go-http-client/1.1\"\u001b[0m\n",
      "\u001b[34m169.254.255.130 - - [03/Nov/2024:10:54:59 +0000] \"POST /invocations HTTP/1.1\" 200 641225 \"-\" \"Go-http-client/1.1\"\u001b[0m\n",
      "\u001b[35m169.254.255.130 - - [03/Nov/2024:10:54:59 +0000] \"POST /invocations HTTP/1.1\" 200 641225 \"-\" \"Go-http-client/1.1\"\u001b[0m\n",
      "\u001b[34m169.254.255.130 - - [03/Nov/2024:10:54:59 +0000] \"POST /invocations HTTP/1.1\" 200 641096 \"-\" \"Go-http-client/1.1\"\u001b[0m\n",
      "\u001b[34m169.254.255.130 - - [03/Nov/2024:10:54:59 +0000] \"POST /invocations HTTP/1.1\" 200 641110 \"-\" \"Go-http-client/1.1\"\u001b[0m\n",
      "\u001b[34m169.254.255.130 - - [03/Nov/2024:10:54:59 +0000] \"POST /invocations HTTP/1.1\" 200 640951 \"-\" \"Go-http-client/1.1\"\u001b[0m\n",
      "\u001b[34m169.254.255.130 - - [03/Nov/2024:10:54:59 +0000] \"POST /invocations HTTP/1.1\" 200 641244 \"-\" \"Go-http-client/1.1\"\u001b[0m\n",
      "\u001b[34m169.254.255.130 - - [03/Nov/2024:10:54:59 +0000] \"POST /invocations HTTP/1.1\" 200 640972 \"-\" \"Go-http-client/1.1\"\u001b[0m\n",
      "\u001b[34m169.254.255.130 - - [03/Nov/2024:10:54:59 +0000] \"POST /invocations HTTP/1.1\" 200 641059 \"-\" \"Go-http-client/1.1\"\u001b[0m\n",
      "\u001b[35m169.254.255.130 - - [03/Nov/2024:10:54:59 +0000] \"POST /invocations HTTP/1.1\" 200 641096 \"-\" \"Go-http-client/1.1\"\u001b[0m\n",
      "\u001b[35m169.254.255.130 - - [03/Nov/2024:10:54:59 +0000] \"POST /invocations HTTP/1.1\" 200 641110 \"-\" \"Go-http-client/1.1\"\u001b[0m\n",
      "\u001b[35m169.254.255.130 - - [03/Nov/2024:10:54:59 +0000] \"POST /invocations HTTP/1.1\" 200 640951 \"-\" \"Go-http-client/1.1\"\u001b[0m\n",
      "\u001b[35m169.254.255.130 - - [03/Nov/2024:10:54:59 +0000] \"POST /invocations HTTP/1.1\" 200 641244 \"-\" \"Go-http-client/1.1\"\u001b[0m\n",
      "\u001b[35m169.254.255.130 - - [03/Nov/2024:10:54:59 +0000] \"POST /invocations HTTP/1.1\" 200 640972 \"-\" \"Go-http-client/1.1\"\u001b[0m\n",
      "\u001b[35m169.254.255.130 - - [03/Nov/2024:10:54:59 +0000] \"POST /invocations HTTP/1.1\" 200 641059 \"-\" \"Go-http-client/1.1\"\u001b[0m\n"
     ]
    }
   ],
   "source": [
    "# Start the batch transform job for generating predictions on the batch input data\n",
    "# - data: Specifies the S3 location of the batch input file\n",
    "# - data_type: Defines the data source type; \"S3Prefix\" indicates data is stored in S3\n",
    "# - content_type: Specifies the format of the input data (\"text/csv\" for CSV files)\n",
    "# - split_type: Determines how to split the input data; \"Line\" treats each line as a separate record\n",
    "xgboost_transformer.transform(\n",
    "    data=batch_input_location, data_type=\"S3Prefix\", content_type=\"text/csv\", split_type=\"Line\"\n",
    ")\n",
    "\n",
    "# Wait for the batch transform job to complete\n",
    "# This ensures that subsequent steps don’t proceed until batch processing is finished\n",
    "xgboost_transformer.wait()"
   ]
  },
  {
   "cell_type": "markdown",
   "metadata": {},
   "source": [
    "# Retrieving and Processing Batch Prediction Results"
   ]
  },
  {
   "cell_type": "code",
   "execution_count": null,
   "metadata": {},
   "outputs": [],
   "source": [
    "# Initialize the S3 client to interact with S3 resources\n",
    "s3_client = boto3.client(\"s3\")\n",
    "\n",
    "# Retrieve the batch output file generated by the batch transform job\n",
    "# - Bucket: Specifies the S3 bucket name\n",
    "# - Key: Specifies the path to the output file generated by the batch transform job\n",
    "batch_output_object = s3_client.get_object(\n",
    "    Bucket=s3_container_name, Key=\"{}/batch-out/{}\".format(s3_prefix, \"batch_input_data.csv.out\")\n",
    ")\n",
    "\n",
    "# Read the batch output file into a DataFrame\n",
    "# - Converts the binary content of the S3 object to a CSV format with \"class\" as the column name\n",
    "predicted_target = pd.read_csv(io.BytesIO(batch_output_object[\"Body\"].read()), names=[\"class\"])\n"
   ]
  },
  {
   "cell_type": "code",
   "execution_count": null,
   "metadata": {},
   "outputs": [
    {
     "name": "stdout",
     "output_type": "stream",
     "text": [
      "0    0\n",
      "1    0\n",
      "2    0\n",
      "3    0\n",
      "4    0\n",
      "Name: class, dtype: int64\n",
      "         target  Distance  Quarter_2  Quarter_3  Quarter_4  Month_2  Month_3  \\\n",
      "470151      0.0    1947.0          1          0          0        0        0   \n",
      "985696      0.0     925.0          0          0          1        0        0   \n",
      "394886      0.0     862.0          0          0          0        1        0   \n",
      "924542      0.0    1744.0          0          1          0        0        0   \n",
      "1533313     0.0     936.0          1          0          0        0        0   \n",
      "\n",
      "         Month_4  Month_5  Month_6  ...  Dest_DEN  Dest_DFW  Dest_IAH  \\\n",
      "470151         0        1        0  ...         0         0         0   \n",
      "985696         0        0        0  ...         0         0         0   \n",
      "394886         0        0        0  ...         1         0         0   \n",
      "924542         0        0        0  ...         0         0         0   \n",
      "1533313        0        0        1  ...         0         1         0   \n",
      "\n",
      "         Dest_LAX  Dest_ORD  Dest_PHX  Dest_SFO  DepHourofDay_7-12  \\\n",
      "470151          0         0         0         0                  0   \n",
      "985696          0         1         0         0                  0   \n",
      "394886          0         0         0         0                  1   \n",
      "924542          1         0         0         0                  1   \n",
      "1533313         0         0         0         0                  1   \n",
      "\n",
      "         DepHourofDay_13-18  DepHourofDay_19-23  \n",
      "470151                    1                   0  \n",
      "985696                    1                   0  \n",
      "394886                    0                   0  \n",
      "924542                    0                   0  \n",
      "1533313                   0                   0  \n",
      "\n",
      "[5 rows x 75 columns]\n",
      "470151     0.0\n",
      "985696     0.0\n",
      "394886     0.0\n",
      "924542     0.0\n",
      "1533313    0.0\n",
      "Name: target, dtype: float64\n"
     ]
    }
   ],
   "source": [
    "# Function to convert predicted probability values to binary labels (0 or 1)\n",
    "# - Values above the threshold (0.3) are classified as 1 (positive class)\n",
    "# - Values at or below the threshold are classified as 0 (negative class)\n",
    "def convert_to_binary(value):\n",
    "    threshold_value = 0.3  # Set threshold for classification\n",
    "    if value > threshold_value:\n",
    "        return 1\n",
    "    else:\n",
    "        return 0\n",
    "\n",
    "# Apply the binary conversion function to the predicted target values\n",
    "# - This converts the \"class\" column in predicted_target to binary values based on the threshold\n",
    "predicted_target_binary = predicted_target[\"class\"].apply(convert_to_binary)\n",
    "\n",
    "# Print the first five binary-converted predictions for verification\n",
    "print(predicted_target_binary.head(5))\n",
    "\n",
    "# Display the first five rows of the test dataset for comparison\n",
    "print(testing_data.head(5))\n",
    "\n",
    "# Extract the true labels from the testing dataset\n",
    "# - Selects the first column, which contains the actual target labels\n",
    "actual_test_labels = testing_data.iloc[:, 0]\n",
    "\n",
    "# Display the first five labels for verification\n",
    "print(actual_test_labels.head(5))\n"
   ]
  },
  {
   "cell_type": "markdown",
   "metadata": {},
   "source": [
    "# Prediction Results of model"
   ]
  },
  {
   "cell_type": "code",
   "execution_count": null,
   "metadata": {},
   "outputs": [
    {
     "name": "stdout",
     "output_type": "stream",
     "text": [
      "Classification Report on Test Data\n",
      "              precision    recall  f1-score   support\n",
      "\n",
      "         0.0       0.83      0.88      0.85    193838\n",
      "         1.0       0.40      0.30      0.34     51500\n",
      "\n",
      "    accuracy                           0.76    245338\n",
      "   macro avg       0.61      0.59      0.60    245338\n",
      "weighted avg       0.74      0.76      0.75    245338\n",
      "\n"
     ]
    }
   ],
   "source": [
    "# Import classification_report from sklearn to evaluate model performance\n",
    "from sklearn.metrics import classification_report\n",
    "\n",
    "# Generate and display the classification report for the test data\n",
    "# - Compares the actual test labels with the binary-converted predicted labels\n",
    "print(\"Classification Report on Test Data\")\n",
    "print(classification_report(actual_test_labels, predicted_target_binary))"
   ]
  },
  {
   "cell_type": "code",
   "execution_count": null,
   "metadata": {},
   "outputs": [
    {
     "name": "stderr",
     "output_type": "stream",
     "text": [
      "WARNING:matplotlib.font_manager:Matplotlib is building the font cache; this may take a moment.\n"
     ]
    }
   ],
   "source": [
    "from sklearn.metrics import confusion_matrix\n",
    "import matplotlib.pyplot as plt\n",
    "import seaborn as sns\n",
    "# Function to plot a confusion matrix\n",
    "# This function generates a heatmap to visualize the confusion matrix,\n",
    "# which helps assess the accuracy of classification by comparing actual and predicted labels.\n",
    "def display_confusion_matrix(actual_labels, predicted_labels):\n",
    "    # Generate the confusion matrix\n",
    "    # The matrix compares actual labels with predicted labels to show true positives, false positives, etc.\n",
    "    confusion_mat = confusion_matrix(actual_labels, predicted_labels)\n",
    "    # Create a heatmap for the confusion matrix\n",
    "    # This provides a visual representation of the matrix for easy interpretation.\n",
    "    sns.heatmap(\n",
    "        confusion_mat,\n",
    "        annot=True,               # Display numerical values within each cell\n",
    "        fmt=\"d\",                  # Format as integer values\n",
    "        cmap=\"Blues\",             # Color scheme for the heatmap\n",
    "        xticklabels=[\"On-Time\", \"Delayed\"],  # Labels for the x-axis (predicted outcomes)\n",
    "        yticklabels=[\"On-Time\", \"Delayed\"],  # Labels for the y-axis (actual outcomes)\n",
    "    )\n",
    "    # Label the plot axes and title\n",
    "    plt.xlabel(\"Predicted Labels\")  # Label for the x-axis\n",
    "    plt.ylabel(\"Actual Labels\")     # Label for the y-axis\n",
    "    plt.title(\"Confusion Matrix\")   # Title of the plot\n",
    "    plt.show()                      # Display the plot"
   ]
  },
  {
   "cell_type": "code",
   "execution_count": null,
   "metadata": {},
   "outputs": [
    {
     "data": {
      "image/png": "[encoded data removed]",
      "text/plain": [
       "<Figure size 640x480 with 2 Axes>"
      ]
     },
     "metadata": {},
     "output_type": "display_data"
    }
   ],
   "source": [
    "# Plot the confusion matrix to visualize model performance on the test data\n",
    "# - Compares the true test labels with the predicted binary labels\n",
    "display_confusion_matrix(actual_test_labels, predicted_target_binary)"
   ]
  },
  {
   "cell_type": "markdown",
   "metadata": {},
   "source": [
    "# Comparison of Results of Ensemble Models on Cloud\n",
    "\n",
    "### Accuracy\n",
    "\n",
    "CSV1 Model: 76%  \n",
    "CSV2 Model: 76%\n",
    "\n",
    "**Analysis: Both ensemble models achieved the same accuracy, indicating comparable overall correctness. However, considering the class imbalance in the dataset, accuracy alone may not capture the full picture of model performance.**\n",
    "\n",
    "### Precision and Recall by Class\n",
    "\n",
    "Class 0 (On-Time):  \n",
    "Precision: CSV1 - 0.83, CSV2 - 0.83  \n",
    "Recall: CSV1 - 0.88, CSV2 - 0.88  \n",
    "\n",
    "**Analysis: Both models perform well on the \"On-Time\" class, with high precision and recall values, which shows consistent and reliable prediction for the majority class.**\n",
    "\n",
    "Class 1 (Delayed):  \n",
    "Precision: CSV1 - 0.40, CSV2 - 0.40  \n",
    "Recall: CSV1 - 0.30, CSV2 - 0.30  \n",
    "\n",
    "**Analysis: Both models have similar precision and recall for the \"Delayed\" class. However, the low recall indicates that both models struggle to identify delayed instances effectively.**\n",
    "\n",
    "### F1-Score\n",
    "\n",
    "Macro Average F1-Score:  \n",
    "CSV1: 0.60  \n",
    "CSV2: 0.60  \n",
    "\n",
    "Weighted Average F1-Score:  \n",
    "CSV1: 0.75  \n",
    "CSV2: 0.75  \n",
    "\n",
    "**Analysis: Both models have identical macro and weighted average F1-scores, reflecting balanced performance across both classes, though they still struggle with identifying delays effectively.**\n",
    "\n",
    "### Conclusion\n",
    "\n",
    "The ensemble models trained on CSV1 and CSV2 yield similar performance metrics, with comparable accuracy, precision, recall, and F1-scores. Although the models perform well on the \"On-Time\" class, both models exhibit limited effectiveness in predicting delayed instances. Therefore, while both models are reliable for predicting on-time instances, further improvements or alternative methods may be required to enhance their performance on delayed predictions."
   ]
  },
  {
   "cell_type": "markdown",
   "metadata": {},
   "source": [
    "## Overall Comparison of All Four Models\n",
    "\n",
    "In comparing the linear and ensemble models across both datasets (CSV1 and CSV2), the following insights emerge:\n",
    "\n",
    "- **Accuracy**: Both linear and ensemble models achieved similar accuracy scores (76% - 79%) across CSV1 and CSV2, indicating comparable overall correctness.\n",
    "- **On-Time Predictions**: All models show strong performance in predicting the \"On-Time\" class, with high precision and recall, particularly the linear models with near-perfect recall.\n",
    "- **Delayed Predictions**: The ensemble model on CSV2 slightly outperformed others in handling the \"Delayed\" class, showing better precision and recall, although all models struggle with this minority class.\n",
    "- **F1-Scores**: The ensemble model on CSV2 achieved the highest F1-scores, suggesting a better balance between precision and recall across classes.\n",
    "\n",
    "**Best Model**: The **ensemble model on CSV2** stands out as the best choice, offering the most balanced performance, especially for predicting delays, which aligns with business needs to identify potential delays more effectively."
   ]
  }
 ],
 "metadata": {
  "kernelspec": {
   "display_name": "PRML",
   "language": "python",
   "name": "python3"
  },
  "language_info": {
   "codemirror_mode": {
    "name": "ipython",
    "version": 3
   },
   "file_extension": ".py",
   "mimetype": "text/x-python",
   "name": "python",
   "nbconvert_exporter": "python",
   "pygments_lexer": "ipython3",
   "version": "3.12.5"
  }
 },
 "nbformat": 4,
 "nbformat_minor": 4
}
